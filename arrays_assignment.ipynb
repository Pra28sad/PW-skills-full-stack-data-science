{
 "cells": [
  {
   "cell_type": "markdown",
   "id": "0fa20416",
   "metadata": {},
   "source": [
    "### 1. Given an array, check if it contains any duplicates or not ."
   ]
  },
  {
   "cell_type": "markdown",
   "id": "369d27a2",
   "metadata": {},
   "source": [
    "###   arr = [1, 2, 4, 2, 5, 9]  \n",
    "###   Output = True"
   ]
  },
  {
   "cell_type": "code",
   "execution_count": 48,
   "id": "24328725",
   "metadata": {},
   "outputs": [
    {
     "name": "stdout",
     "output_type": "stream",
     "text": [
      "Output = True\n"
     ]
    }
   ],
   "source": [
    "### creating function \n",
    "def check_duplicates(arr):\n",
    "    lst = []\n",
    "    for i in arr:\n",
    "        if i not in lst:\n",
    "            lst.append(i)\n",
    "            \n",
    "        else:\n",
    "            return f\"Output = {True}\"\n",
    "        \n",
    "    return f\"Output = {False}\"\n",
    "\n",
    "### driver code\n",
    "\n",
    "arr = [1,2,4,2,5,9]\n",
    "print(check_duplicates(arr))\n",
    "\n",
    "## time complexity is:  O(n)\n",
    "## space complexity is: O(n)"
   ]
  },
  {
   "cell_type": "markdown",
   "id": "8ef34860",
   "metadata": {},
   "source": [
    "### 2. Given an array and an integer k, rotate the array to the right by k steps.\n",
    "### arr = [1, 2, 3, 4, 5, 6, 7] k = 3\n",
    "### Output = [5, 6, 7, 1, 2, 3, 4]"
   ]
  },
  {
   "cell_type": "code",
   "execution_count": 47,
   "id": "b9414e06",
   "metadata": {},
   "outputs": [
    {
     "name": "stdout",
     "output_type": "stream",
     "text": [
      "Output = [5, 6, 7, 1, 2, 3, 4]\n"
     ]
    }
   ],
   "source": [
    "### creating function\n",
    "\n",
    "def rotate_arr(arr,k):\n",
    "    for i in range(k):\n",
    "        if arr[i]==k: \n",
    "            arr = arr[k+1:]+arr[:k+1]      \n",
    "\n",
    "    return f\"Output = {arr}\"\n",
    "    \n",
    "### driver code\n",
    "\n",
    "arr = [1,2,3,4,5,6,7]\n",
    "k = 3\n",
    "print(rotate_arr(arr,k))\n",
    "\n",
    "\n",
    "## time complexity is:  O(n)\n",
    "## space complexity is: O(1)\n"
   ]
  },
  {
   "cell_type": "markdown",
   "id": "edc52309",
   "metadata": {},
   "source": [
    "### 3. Reverse the given array in-place, means without using any extra data structure.\n",
    "### arr = [2, 4, 5, 7, 9, 12]\n",
    "### Output = [12, 9, 7, 5, 4, 2]"
   ]
  },
  {
   "cell_type": "code",
   "execution_count": 45,
   "id": "d2898d49",
   "metadata": {},
   "outputs": [
    {
     "name": "stdout",
     "output_type": "stream",
     "text": [
      "Output = [12, 9, 7, 5, 4, 2]\n"
     ]
    }
   ],
   "source": [
    "### creating function\n",
    "\n",
    "def reverse_arr(arr):\n",
    "    n = len(arr)\n",
    "    for i in range(n//2):\n",
    "        temp = arr[i]\n",
    "        arr[i] = arr[n-i-1]\n",
    "        arr[n-i-1] = temp\n",
    "        \n",
    "    return f\"Output = {arr}\"\n",
    "\n",
    "### driver code\n",
    "\n",
    "arr = [2,4,5,7,9,12]\n",
    "print(reverse_arr(arr))\n",
    "\n",
    "## time complexity is : O(n)\n",
    "## space complexity is : O(1)"
   ]
  },
  {
   "cell_type": "markdown",
   "id": "1266ffea",
   "metadata": {},
   "source": [
    "### 4. Given an array of integers, find the maximum element in an array\n",
    "### arr = [10, 5, 20, 8, 15]\n",
    "### Output = 20"
   ]
  },
  {
   "cell_type": "code",
   "execution_count": 46,
   "id": "4e8a87b2",
   "metadata": {},
   "outputs": [
    {
     "name": "stdout",
     "output_type": "stream",
     "text": [
      "Output = 20\n"
     ]
    }
   ],
   "source": [
    "## creating function\n",
    "\n",
    "def maximum_no_arr(arr):\n",
    "    maximum = 0\n",
    "    for i in arr:\n",
    "        if i>maximum:\n",
    "            maximum = i\n",
    "            \n",
    "    return f\"Output = {maximum}\"\n",
    "\n",
    "## driver code\n",
    "arr = [10,5,20,8,15]\n",
    "print(maximum_no_arr(arr))\n",
    "\n",
    "### time complexity is : O(n)\n",
    "### space complexity is : O(1)"
   ]
  },
  {
   "cell_type": "markdown",
   "id": "5208d92b",
   "metadata": {},
   "source": [
    "### 5. Given a sorted array, remove the duplicate element without using any extra data structure.\n",
    "### arr = [1, 1, 2, 2, 2, 3, 3, 4, 4, 4, 5, 5]\n",
    "### Output = [1, 2, 3, 4, 5]"
   ]
  },
  {
   "cell_type": "code",
   "execution_count": 4,
   "id": "de7d86d9",
   "metadata": {
    "scrolled": true
   },
   "outputs": [
    {
     "name": "stdout",
     "output_type": "stream",
     "text": [
      "Output = [1, 2, 3, 4, 5]\n"
     ]
    }
   ],
   "source": [
    "def remove_duplicate(arr):\n",
    "    s = 1\n",
    "    while s < len(arr):\n",
    "        if arr[s] == arr[s - 1]:\n",
    "            arr.pop(s)\n",
    "        else:\n",
    "            s += 1\n",
    "    return arr\n",
    "\n",
    "# Driver code\n",
    "arr = [1, 1, 2, 2, 2, 3, 3, 4, 4, 4, 5, 5]\n",
    "print(f\"Output = {remove_duplicate(arr)}\")\n",
    "\n",
    "### time complexity is : O(n)\n",
    "### space complexity is : O(1)"
   ]
  },
  {
   "cell_type": "code",
   "execution_count": null,
   "id": "b4b28220",
   "metadata": {},
   "outputs": [],
   "source": []
  },
  {
   "cell_type": "code",
   "execution_count": null,
   "id": "4f93a6d5",
   "metadata": {},
   "outputs": [],
   "source": []
  }
 ],
 "metadata": {
  "kernelspec": {
   "display_name": "Python 3 (ipykernel)",
   "language": "python",
   "name": "python3"
  },
  "language_info": {
   "codemirror_mode": {
    "name": "ipython",
    "version": 3
   },
   "file_extension": ".py",
   "mimetype": "text/x-python",
   "name": "python",
   "nbconvert_exporter": "python",
   "pygments_lexer": "ipython3",
   "version": "3.11.5"
  }
 },
 "nbformat": 4,
 "nbformat_minor": 5
}
