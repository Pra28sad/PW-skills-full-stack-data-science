{
 "cells": [
  {
   "cell_type": "markdown",
   "id": "410f2253",
   "metadata": {},
   "source": [
    "## For Loop :-"
   ]
  },
  {
   "cell_type": "markdown",
   "id": "190b78c9",
   "metadata": {},
   "source": [
    "### 1)Write a Python program to print numbers from 1 to 10 using a for loop.\n"
   ]
  },
  {
   "cell_type": "code",
   "execution_count": 4,
   "id": "762e3175",
   "metadata": {},
   "outputs": [
    {
     "name": "stdout",
     "output_type": "stream",
     "text": [
      "1 2 3 4 5 6 7 8 9 10 "
     ]
    }
   ],
   "source": [
    "def test(n):\n",
    "    for i in range(1,n+1):\n",
    "        print(i,end=\" \")\n",
    "test(10)"
   ]
  },
  {
   "cell_type": "markdown",
   "id": "44f7f05c",
   "metadata": {},
   "source": [
    "### 2)Explain the difference between a for loop and a while loop in Python."
   ]
  },
  {
   "cell_type": "markdown",
   "id": "974834ae",
   "metadata": {},
   "source": [
    "difference of for loop and while loop:\n",
    "           \n",
    "           the main difference is --> A for loop is used when you want to iterate over a block of code. You specify the range or sequence to iterate over, and the loop will automatically take care of the iteration for you.\n",
    "           \n",
    "           on the other hand, a while loop is used when you want to repeat a block of code until a certain condition that needs to be true for the loop to continue, and the loop will keep running until the condition becomes false.\n",
    "           \n",
    "           So in summary , for loops are great when you know the number of iterations in advance, while while loops are usefull when you want to repeat a block of code untill a specific condition is satisfied."
   ]
  },
  {
   "cell_type": "markdown",
   "id": "0cf24374",
   "metadata": {},
   "source": [
    "### 3)Write a Python program to calculate the sum of all numbers from 1 to 100 using a for loop."
   ]
  },
  {
   "cell_type": "code",
   "execution_count": 5,
   "id": "307e3458",
   "metadata": {},
   "outputs": [
    {
     "name": "stdout",
     "output_type": "stream",
     "text": [
      "enter number : 100\n",
      "The sum of all numbers from 100 to 1 is : 5050\n"
     ]
    }
   ],
   "source": [
    "def test(n):\n",
    "    s = 0\n",
    "    for i in range(1,n+1):\n",
    "        s += i\n",
    "    return s\n",
    "\n",
    "n = int(input(\"enter number : \"))\n",
    "\n",
    "result = test(n)\n",
    "\n",
    "print(f\"The sum of all numbers from {n} to 1 is : {result}\")\n",
    "        "
   ]
  },
  {
   "cell_type": "markdown",
   "id": "c310654d",
   "metadata": {},
   "source": [
    "### 4)How do you iterate through a list using a for loop in Python?"
   ]
  },
  {
   "cell_type": "code",
   "execution_count": 7,
   "id": "abcba520",
   "metadata": {},
   "outputs": [
    {
     "name": "stdout",
     "output_type": "stream",
     "text": [
      "1\n",
      "pw\n",
      "skills\n",
      "10000\n"
     ]
    }
   ],
   "source": [
    "def iter_list(lst):\n",
    "    for i in lst:\n",
    "        print(i)\n",
    "\n",
    "        \n",
    "lst = [1,\"pw\",\"skills\",10000]\n",
    "\n",
    "iter_list(lst)\n",
    "        "
   ]
  },
  {
   "cell_type": "markdown",
   "id": "f21ac83b",
   "metadata": {},
   "source": [
    "### 5)Write a Python program to find the product of all elements in a list using a for loop."
   ]
  },
  {
   "cell_type": "code",
   "execution_count": 8,
   "id": "7b9cb560",
   "metadata": {},
   "outputs": [
    {
     "name": "stdout",
     "output_type": "stream",
     "text": [
      "The sum of all numbers in list  is : 160\n"
     ]
    }
   ],
   "source": [
    "def test(lst):\n",
    "    s = 1\n",
    "    for i in lst:\n",
    "        s *= i\n",
    "    return s\n",
    "\n",
    "lst = [1,2,4,5,4]\n",
    "\n",
    "result = test(lst)\n",
    "\n",
    "print(f\"The product of all numbers in list  is : {result}\")\n",
    "        "
   ]
  },
  {
   "cell_type": "markdown",
   "id": "c92ef00d",
   "metadata": {},
   "source": [
    "### 6)Create a Python program that prints all even numbers from 1 to 20 using a for loop."
   ]
  },
  {
   "cell_type": "code",
   "execution_count": 11,
   "id": "21641355",
   "metadata": {},
   "outputs": [
    {
     "name": "stdout",
     "output_type": "stream",
     "text": [
      "2 4 6 8 10 12 14 16 18 20 "
     ]
    }
   ],
   "source": [
    "def even_num(n1,n2):\n",
    "    for i in range(n1,n2+1):\n",
    "        if i % 2 == 0 :\n",
    "            print(i,end= \" \")\n",
    "            \n",
    "n1 = 1\n",
    "n2 = 20\n",
    "\n",
    "even_num(n1,n2)"
   ]
  },
  {
   "cell_type": "markdown",
   "id": "c4794b12",
   "metadata": {},
   "source": [
    "### 7)Write a Python program that calculates the factorial of a number using a for loop.\n"
   ]
  },
  {
   "cell_type": "code",
   "execution_count": 12,
   "id": "b2342ef0",
   "metadata": {},
   "outputs": [
    {
     "name": "stdout",
     "output_type": "stream",
     "text": [
      "enter required factoial number : 5\n"
     ]
    },
    {
     "data": {
      "text/plain": [
       "'the factorial of 5 is : 120'"
      ]
     },
     "execution_count": 12,
     "metadata": {},
     "output_type": "execute_result"
    }
   ],
   "source": [
    "def factorial(n):\n",
    "    fact = 1\n",
    "    for i in range(1,n+1):\n",
    "        fact *= i\n",
    "        \n",
    "    return f\"the factorial of {n} is : {fact}\"\n",
    "\n",
    "factorial(int(input(\"enter required factoial number : \")))"
   ]
  },
  {
   "cell_type": "markdown",
   "id": "05b526b0",
   "metadata": {},
   "source": [
    "### 8)How can you iterate through the characters of a string using a for loop in Python?"
   ]
  },
  {
   "cell_type": "code",
   "execution_count": 13,
   "id": "f675ab0e",
   "metadata": {},
   "outputs": [
    {
     "name": "stdout",
     "output_type": "stream",
     "text": [
      "p\n",
      "w\n",
      "s\n",
      "k\n",
      "i\n",
      "l\n",
      "l\n",
      "s\n"
     ]
    }
   ],
   "source": [
    "def iterate(string):\n",
    "    for i in string:\n",
    "        print(i)\n",
    "iterate(\"pwskills\")"
   ]
  },
  {
   "cell_type": "markdown",
   "id": "dc672fd2",
   "metadata": {},
   "source": [
    "### 9)Write a Python program to find the largest number in a list using a for loop."
   ]
  },
  {
   "cell_type": "code",
   "execution_count": 15,
   "id": "b51e7240",
   "metadata": {},
   "outputs": [
    {
     "data": {
      "text/plain": [
       "'The greater of given list is : 9 '"
      ]
     },
     "execution_count": 15,
     "metadata": {},
     "output_type": "execute_result"
    }
   ],
   "source": [
    "def large(lst):\n",
    "    \"\"\"this function is used to find greater value of given list\"\"\"\n",
    "    greater = 0\n",
    "    for i in lst:\n",
    "        if i > greater :\n",
    "            greater = i\n",
    "    return f\"The greater of given list is : {greater} \"\n",
    "\n",
    "large([5,7,2,6,9])"
   ]
  },
  {
   "cell_type": "markdown",
   "id": "63435423",
   "metadata": {},
   "source": [
    "### 10)Create a Python program that prints the Fibonacci sequence up to a specified limit using a for loop."
   ]
  },
  {
   "cell_type": "code",
   "execution_count": 21,
   "id": "5c94e2b1",
   "metadata": {},
   "outputs": [
    {
     "name": "stdout",
     "output_type": "stream",
     "text": [
      "enter number for fibonacci series : 10\n",
      "0 1 1 2 3 5 8 "
     ]
    }
   ],
   "source": [
    "def fibonacci(n):\n",
    "    a,b =0,1\n",
    "    while a < n:\n",
    "        \n",
    "        print(a,end = \" \")\n",
    "        a,b = b,a+b\n",
    "            \n",
    "fibonacci(int(input(\"enter number for fibonacci series : \")))  \n",
    "    "
   ]
  },
  {
   "cell_type": "markdown",
   "id": "3ae094eb",
   "metadata": {},
   "source": [
    "### 11)Write a Python program to count the number of vowels in a given string using a for loop."
   ]
  },
  {
   "cell_type": "code",
   "execution_count": 24,
   "id": "54fcf283",
   "metadata": {},
   "outputs": [
    {
     "data": {
      "text/plain": [
       "'The count of vowels in given string is : 2'"
      ]
     },
     "execution_count": 24,
     "metadata": {},
     "output_type": "execute_result"
    }
   ],
   "source": [
    "def vowels_in_string(string):\n",
    "    count = 0\n",
    "    for i in string:\n",
    "        if i.lower() in \"aeiou\":\n",
    "            \n",
    "            count += 1\n",
    "            \n",
    "    return f\"The count of vowels in given string is : {count}\"\n",
    "\n",
    "vowels_in_string(\"Prasad\")"
   ]
  },
  {
   "cell_type": "markdown",
   "id": "4a73aa90",
   "metadata": {},
   "source": [
    "### 12)Create a Python program that generates a multiplication table for a given number using a for loop."
   ]
  },
  {
   "cell_type": "code",
   "execution_count": 25,
   "id": "ca9448c0",
   "metadata": {},
   "outputs": [
    {
     "name": "stdout",
     "output_type": "stream",
     "text": [
      "Enter a number for the multiplication table: 5\n",
      "Multiplication Table for 5:\n",
      "5 x 1 = 5\n",
      "5 x 2 = 10\n",
      "5 x 3 = 15\n",
      "5 x 4 = 20\n",
      "5 x 5 = 25\n",
      "5 x 6 = 30\n",
      "5 x 7 = 35\n",
      "5 x 8 = 40\n",
      "5 x 9 = 45\n",
      "5 x 10 = 50\n"
     ]
    }
   ],
   "source": [
    "def multiplication_table(number):\n",
    "    print(f\"Multiplication Table for {number}:\")\n",
    "\n",
    "    for i in range(1, 11):\n",
    "        result = number * i\n",
    "        print(f\"{number} x {i} = {result}\")\n",
    "\n",
    "user_number = int(input(\"Enter a number for the multiplication table: \"))\n",
    "multiplication_table(user_number)"
   ]
  },
  {
   "cell_type": "markdown",
   "id": "40ae58be",
   "metadata": {},
   "source": [
    "### 13)Write a Python program to reverse a list using a for loop."
   ]
  },
  {
   "cell_type": "code",
   "execution_count": 27,
   "id": "32a837f6",
   "metadata": {},
   "outputs": [
    {
     "name": "stdout",
     "output_type": "stream",
     "text": [
      "3 4 6 34 5 1 "
     ]
    }
   ],
   "source": [
    "def rev(lst):\n",
    "    \n",
    "    for i in range(1,len(lst)+1):\n",
    "        print(lst[-i],end=\" \")\n",
    "\n",
    "rev([1,5,34,6,4,3])"
   ]
  },
  {
   "cell_type": "markdown",
   "id": "1e950485",
   "metadata": {},
   "source": [
    "### 14)Write a Python program to find the common elements between two lists using a for loop."
   ]
  },
  {
   "cell_type": "code",
   "execution_count": 31,
   "id": "8214a1ef",
   "metadata": {},
   "outputs": [
    {
     "name": "stdout",
     "output_type": "stream",
     "text": [
      "2 5 6 "
     ]
    }
   ],
   "source": [
    "def common_elements(lst1,lst2):\n",
    "    for i in lst1:\n",
    "        if i in lst2 :\n",
    "            print(i,end = \" \")\n",
    "            \n",
    "common_elements([1,2,4,5,6],[8,6,2,5,3])"
   ]
  },
  {
   "cell_type": "markdown",
   "id": "9b9291bb",
   "metadata": {},
   "source": [
    "### 15)Explain how to use a for loop to iterate through the keys and values of a dictionary in Python."
   ]
  },
  {
   "cell_type": "code",
   "execution_count": 33,
   "id": "be8d5687",
   "metadata": {},
   "outputs": [
    {
     "name": "stdout",
     "output_type": "stream",
     "text": [
      "Key: a, Value: 1\n",
      "Key: b, Value: 2\n",
      "Key: c, Value: 3\n"
     ]
    }
   ],
   "source": [
    "def dictionary(dict_1):\n",
    "\n",
    "    for key, value in dict_1.items():\n",
    "        print(f\"Key: {key}, Value: {value}\")\n",
    "\n",
    "dict_1 = {'a': 1, 'b': 2, 'c': 3}\n",
    "\n",
    "dictionary(dict_1)"
   ]
  },
  {
   "cell_type": "markdown",
   "id": "eeb4b45f",
   "metadata": {},
   "source": [
    "### 16)Write a Python program to find the GCD (Greatest Common Divisor) of two numbers using a for loop."
   ]
  },
  {
   "cell_type": "code",
   "execution_count": 34,
   "id": "1a473de6",
   "metadata": {},
   "outputs": [
    {
     "name": "stdout",
     "output_type": "stream",
     "text": [
      "Enter the first number: 10\n",
      "Enter the second number: 20\n",
      "The GCD of 10 and 20 is: 10\n"
     ]
    }
   ],
   "source": [
    "def find_gcd(num1, num2):\n",
    "    # Ensure that num1 is greater than or equal to num2\n",
    "    if num1 < num2:\n",
    "        num1, num2 = num2, num1\n",
    "\n",
    "    # Using a for loop to iterate from 1 to the smaller of the two numbers\n",
    "    for i in range(1, num2 + 1):\n",
    "        if (num1 % i == 0) and (num2 % i == 0):\n",
    "            gcd = i\n",
    "\n",
    "    return gcd\n",
    "\n",
    "# Example usage:\n",
    "number1 = int(input(\"Enter the first number: \"))\n",
    "number2 = int(input(\"Enter the second number: \"))\n",
    "\n",
    "result = find_gcd(number1, number2)\n",
    "\n",
    "print(f\"The GCD of {number1} and {number2} is: {result}\")\n"
   ]
  },
  {
   "cell_type": "markdown",
   "id": "63171e64",
   "metadata": {},
   "source": [
    "### 17)Create a Python program that checks if a string is a palindrome using a for loop."
   ]
  },
  {
   "cell_type": "code",
   "execution_count": 39,
   "id": "ba283a8d",
   "metadata": {},
   "outputs": [
    {
     "name": "stdout",
     "output_type": "stream",
     "text": [
      "Enter a string to check if it's a palindrome: madam\n",
      "madam is a palindrome.\n"
     ]
    }
   ],
   "source": [
    "def is_palindrome(string):\n",
    "    rev_str = string[::-1]\n",
    "    \n",
    "    for i in range(len(string)):\n",
    "        if string[i] != rev_str[i]:\n",
    "            return False\n",
    "\n",
    "    return True\n",
    "\n",
    "user_input = input(\"Enter a string to check if it's a palindrome: \")\n",
    "\n",
    "if is_palindrome(user_input):\n",
    "    print(f\"{user_input} is a palindrome.\")\n",
    "else:\n",
    "    print(f\"{user_input} is not a palindrome.\")\n"
   ]
  },
  {
   "cell_type": "markdown",
   "id": "5db83bca",
   "metadata": {},
   "source": [
    "### 18)Write a Python program to remove duplicates from a list using a for loop."
   ]
  },
  {
   "cell_type": "code",
   "execution_count": 46,
   "id": "f1d65803",
   "metadata": {},
   "outputs": [
    {
     "name": "stdout",
     "output_type": "stream",
     "text": [
      "[2, 4, 6, 8, 9]\n"
     ]
    }
   ],
   "source": [
    "def remove_dup(lst):\n",
    "    unique_list = []\n",
    "    for i in lst:\n",
    "        if i not in unique_list:\n",
    "            unique_list.append(i)\n",
    "    return unique_list\n",
    "\n",
    "result = remove_dup([2, 4, 6, 6, 8, 2, 4, 9])\n",
    "print(result)\n"
   ]
  },
  {
   "cell_type": "markdown",
   "id": "357bac4f",
   "metadata": {},
   "source": [
    "### 19)Create a Python program that counts the number of words in a sentence using a for loop."
   ]
  },
  {
   "cell_type": "code",
   "execution_count": 48,
   "id": "31dc43b5",
   "metadata": {},
   "outputs": [
    {
     "name": "stdout",
     "output_type": "stream",
     "text": [
      "the count words of given sentence is : 26\n"
     ]
    }
   ],
   "source": [
    "def count_words(sentence):\n",
    "    count = 0\n",
    "    for i in sentence:\n",
    "        if i != \" \":\n",
    "            count += 1\n",
    "    return count\n",
    "\n",
    "sen = \"the most useful content is here\"\n",
    "print(f\"the count words of given sentence is : {count_words(sen)}\")"
   ]
  },
  {
   "cell_type": "markdown",
   "id": "e1e90672",
   "metadata": {},
   "source": [
    "### 20)Write a Python program to find the sum of all odd numbers from 1 to 50 using a for loop."
   ]
  },
  {
   "cell_type": "code",
   "execution_count": 51,
   "id": "05365617",
   "metadata": {},
   "outputs": [
    {
     "data": {
      "text/plain": [
       "'The total is : 625'"
      ]
     },
     "execution_count": 51,
     "metadata": {},
     "output_type": "execute_result"
    }
   ],
   "source": [
    "def sum_odd(n1,n2):\n",
    "    total = 0\n",
    "    for i in range(n1,n2+1):\n",
    "        if i % 2 != 0 :\n",
    "            \n",
    "            total += i\n",
    "    return f\"The total is : {total}\"\n",
    "\n",
    "sum_odd(1,50)"
   ]
  },
  {
   "cell_type": "markdown",
   "id": "1a5a2a16",
   "metadata": {},
   "source": [
    "### 21)Write a Python program that checks if a given year is a leap year using a for loop."
   ]
  },
  {
   "cell_type": "code",
   "execution_count": 53,
   "id": "0f3bc950",
   "metadata": {},
   "outputs": [
    {
     "name": "stdout",
     "output_type": "stream",
     "text": [
      "Enter a year to check if it's a leap year: 2024\n",
      "2024 is a leap year.\n"
     ]
    }
   ],
   "source": [
    "def is_leap_year(year):\n",
    "    \n",
    "    if (year % 4 == 0 and year % 100 != 0) or (year % 400 == 0):\n",
    "        return True\n",
    "    else:\n",
    "        return False\n",
    "\n",
    "\n",
    "user_input = int(input(\"Enter a year to check if it's a leap year: \"))\n",
    "\n",
    "if is_leap_year(user_input):\n",
    "    print(f\"{user_input} is a leap year.\")\n",
    "else:\n",
    "    print(f\"{user_input} is not a leap year.\")\n"
   ]
  },
  {
   "cell_type": "markdown",
   "id": "037bdcf0",
   "metadata": {},
   "source": [
    "### 22)Create a Python program that calculates the square root of a number using a for loop."
   ]
  },
  {
   "cell_type": "code",
   "execution_count": 55,
   "id": "8dfa5b07",
   "metadata": {},
   "outputs": [
    {
     "name": "stdout",
     "output_type": "stream",
     "text": [
      "Enter a number to calculate its square root: 5\n",
      "The square root of 5.0 is approximately: 2.24\n"
     ]
    }
   ],
   "source": [
    "def sq_root(num, iterations=100):\n",
    "    # Initial guess for the square root\n",
    "    guess = num / 2.0\n",
    "\n",
    "    # Using a for loop for a fixed number of iterations\n",
    "    for _ in range(iterations):\n",
    "        guess = 0.5 * (guess + num / guess)\n",
    "\n",
    "    return guess\n",
    "\n",
    "# Example usage:\n",
    "user_input = float(input(\"Enter a number to calculate its square root: \"))\n",
    "result = sq_root(user_input)\n",
    "\n",
    "print(f\"The square root of {user_input} is approximately: {result:.2f}\")\n"
   ]
  },
  {
   "cell_type": "markdown",
   "id": "69a413e8",
   "metadata": {},
   "source": [
    "### 23)Write a Python program to find the LCM (Least Common Multiple) of two numbers using a for loop."
   ]
  },
  {
   "cell_type": "code",
   "execution_count": 56,
   "id": "a1be3e9d",
   "metadata": {},
   "outputs": [
    {
     "name": "stdout",
     "output_type": "stream",
     "text": [
      "Enter the first number: 12\n",
      "Enter the second number: 15\n",
      "The LCM of 12 and 15 is: 60\n"
     ]
    }
   ],
   "source": [
    "def find_lcm(num1, num2):\n",
    "    # Find the maximum of the two numbers\n",
    "    max_num = max(num1, num2)\n",
    "\n",
    "    # Using a for loop to iterate from the maximum number up to the product of the two numbers\n",
    "    for lcm in range(max_num, num1 * num2 + 1, max_num):\n",
    "        if lcm % num1 == 0 and lcm % num2 == 0:\n",
    "            return lcm\n",
    "\n",
    "# Example usage:\n",
    "number1 = int(input(\"Enter the first number: \"))\n",
    "number2 = int(input(\"Enter the second number: \"))\n",
    "\n",
    "result = find_lcm(number1, number2)\n",
    "\n",
    "print(f\"The LCM of {number1} and {number2} is: {result}\")\n"
   ]
  },
  {
   "cell_type": "markdown",
   "id": "8044e44f",
   "metadata": {},
   "source": [
    "## If else :"
   ]
  },
  {
   "cell_type": "markdown",
   "id": "56772c0f",
   "metadata": {},
   "source": [
    "### 1)Write a Python program to check if a number is positive, negative, or zero using an if-else statement."
   ]
  },
  {
   "cell_type": "code",
   "execution_count": 1,
   "id": "681bc805",
   "metadata": {},
   "outputs": [
    {
     "name": "stdout",
     "output_type": "stream",
     "text": [
      "Enter number to check : 5\n",
      "positive\n"
     ]
    }
   ],
   "source": [
    "def check(n):\n",
    "    if n < 0 :\n",
    "        print(\"negetive\")\n",
    "    elif n > 0 :\n",
    "        print(\"positive\")\n",
    "    else:\n",
    "        print(\"Zero\")\n",
    "        \n",
    "check(int(input(\"Enter number to check : \")))"
   ]
  },
  {
   "cell_type": "markdown",
   "id": "87faeaff",
   "metadata": {},
   "source": [
    "### 2)Create a Python program that checks if a given number is even or odd using an if-else statement."
   ]
  },
  {
   "cell_type": "code",
   "execution_count": 2,
   "id": "baafd7b0",
   "metadata": {},
   "outputs": [
    {
     "name": "stdout",
     "output_type": "stream",
     "text": [
      "Enter number : 5\n",
      "Odd\n"
     ]
    }
   ],
   "source": [
    "def check(n):\n",
    "    if n % 2 == 0:\n",
    "        print(\"Even\")\n",
    "    else:\n",
    "        print(\"Odd\")\n",
    "        \n",
    "check(int(input(\"Enter number : \")))"
   ]
  },
  {
   "cell_type": "markdown",
   "id": "1151a189",
   "metadata": {},
   "source": [
    "### 3)How can you use nested if-else statements in Python, and provide an example?"
   ]
  },
  {
   "cell_type": "markdown",
   "id": "b9f997d5",
   "metadata": {},
   "source": [
    "Nested if else statements are nothing but a if else statement inside if else ..these are mostly used in complex decision structure time"
   ]
  },
  {
   "cell_type": "code",
   "execution_count": 8,
   "id": "6ecdc89a",
   "metadata": {},
   "outputs": [
    {
     "name": "stdout",
     "output_type": "stream",
     "text": [
      "enter age to play cricket : 18\n",
      "enter skill which you know the best bat / bowl / no : bat\n",
      "okey you will go 2nd down.\n"
     ]
    }
   ],
   "source": [
    "#example on nested if-else statement\n",
    "\n",
    "age = int(input(\"enter age to play cricket : \"))\n",
    "\n",
    "if age <= 19 : \n",
    "    \n",
    "    skill = input(\"enter skill which you know the best bat / bowl / no : \") \n",
    "    \n",
    "    if (skill == \"bat\") or (skill == \"batting\") :\n",
    "        \n",
    "        print(\"okey you will go 2nd down.\")\n",
    "        \n",
    "    elif (skill == \"bowl\") or (skill ==  \"bowlling\") :\n",
    "        \n",
    "        print(\"okey , you will have to bowl the 2 overs .\")\n",
    "        \n",
    "    else :\n",
    "        print(\"sorry, bro nxt time better luck.\")\n",
    "        \n",
    "else:\n",
    "    \n",
    "    print(\"sorry , you cant play ...this is kid zone . \")\n",
    "    "
   ]
  },
  {
   "cell_type": "markdown",
   "id": "dddd3198",
   "metadata": {},
   "source": [
    "### 4)Write a Python program to determine the largest of three numbers using if-else."
   ]
  },
  {
   "cell_type": "code",
   "execution_count": 12,
   "id": "cacf2acb",
   "metadata": {},
   "outputs": [
    {
     "name": "stdout",
     "output_type": "stream",
     "text": [
      "6 -- > is greater than 4 and 2.\n"
     ]
    }
   ],
   "source": [
    "def largestnum(n1,n2,n3):\n",
    "    if n1 > n2 and n1 > n3 :\n",
    "        print(f\"{n1} -- > is greater than {n2} and {n3}.\")\n",
    "    elif n2  > n1 and n2 > n3:\n",
    "        print(f\"{n2} -- > is greater than {n1} and {n3}.\")\n",
    "    else:\n",
    "        print(f\"{n3} -- > is greater than {n1} and {n2}.\")\n",
    "        \n",
    "a,b,c = 4,6,2\n",
    "\n",
    "largestnum(a,b,c)"
   ]
  },
  {
   "cell_type": "markdown",
   "id": "5618b417",
   "metadata": {},
   "source": [
    "### 5)Write a Python program that calculates the absolute value of a number using if-else."
   ]
  },
  {
   "cell_type": "code",
   "execution_count": 13,
   "id": "8f251911",
   "metadata": {},
   "outputs": [
    {
     "name": "stdout",
     "output_type": "stream",
     "text": [
      "7\n"
     ]
    }
   ],
   "source": [
    "def absolute(n):\n",
    "    if n < 0 :\n",
    "        return -n\n",
    "    else:\n",
    "        return n \n",
    "    \n",
    "print(absolute(-7))"
   ]
  },
  {
   "cell_type": "markdown",
   "id": "ff946cbf",
   "metadata": {},
   "source": [
    "### 6)Create a Python program that checks if a given character is a vowel or consonant using if-else."
   ]
  },
  {
   "cell_type": "code",
   "execution_count": 15,
   "id": "3dc4861e",
   "metadata": {},
   "outputs": [
    {
     "name": "stdout",
     "output_type": "stream",
     "text": [
      "this is consonant.\n"
     ]
    }
   ],
   "source": [
    "def check(c):\n",
    "    if c.lower() in \"aeiou\" :\n",
    "        print(\"this is vowel\")\n",
    "    else:\n",
    "        print(\"this is consonant.\")\n",
    "        \n",
    "check(\"c\")"
   ]
  },
  {
   "cell_type": "markdown",
   "id": "6954cf93",
   "metadata": {},
   "source": [
    "### 7)Write a Python program to determine if a user is eligible to vote based on their age using if-else."
   ]
  },
  {
   "cell_type": "code",
   "execution_count": 16,
   "id": "8848945a",
   "metadata": {},
   "outputs": [
    {
     "name": "stdout",
     "output_type": "stream",
     "text": [
      "enter age: 19\n",
      "Your eligible for vote.\n"
     ]
    }
   ],
   "source": [
    "def check(age):\n",
    "    if age >= 18:\n",
    "        print(\"Your eligible for vote.\")\n",
    "        \n",
    "    else:\n",
    "        print(\"you are not eligible for vote.\")\n",
    "        \n",
    "check(int(input(\"enter age: \")))"
   ]
  },
  {
   "cell_type": "markdown",
   "id": "d087e52f",
   "metadata": {},
   "source": [
    "### 8)Create a Python program that calculates the discount amount based on the purchase amount using if-else."
   ]
  },
  {
   "cell_type": "code",
   "execution_count": 17,
   "id": "f12f3e61",
   "metadata": {},
   "outputs": [
    {
     "name": "stdout",
     "output_type": "stream",
     "text": [
      "Enter the purchase amount: $1098\n",
      "Original Amount: $1098.00\n",
      "Discount Rate: 10.00%\n",
      "Discount Amount: $109.80\n",
      "Final Amount: $988.20\n"
     ]
    }
   ],
   "source": [
    "def discount(purchase_amount):\n",
    "    if purchase_amount < 100:\n",
    "        print(\"No discount for you.\")\n",
    "    elif purchase_amount < 500:\n",
    "        discount_rate = 0.02  # 2% discount for purchases between 100 and 499\n",
    "        calculate_and_display_discount(purchase_amount, discount_rate)\n",
    "    elif purchase_amount < 1000:\n",
    "        discount_rate = 0.05  # 5% discount for purchases between 500 and 999\n",
    "        calculate_and_display_discount(purchase_amount, discount_rate)\n",
    "    else:\n",
    "        discount_rate = 0.1   # 10% discount for purchases of 1000 or more\n",
    "        calculate_and_display_discount(purchase_amount, discount_rate)\n",
    "\n",
    "def calculate_and_display_discount(amount, rate):\n",
    "    discount_amount = amount * rate\n",
    "    final_amount = amount - discount_amount\n",
    "\n",
    "    print(f\"Original Amount: ${amount:.2f}\")\n",
    "    print(f\"Discount Rate: {rate * 100:.2f}%\")\n",
    "    print(f\"Discount Amount: ${discount_amount:.2f}\")\n",
    "    print(f\"Final Amount: ${final_amount:.2f}\")\n",
    "\n",
    "# Example usage:\n",
    "purchase_amount = float(input(\"Enter the purchase amount: $\"))\n",
    "discount(purchase_amount)\n"
   ]
  },
  {
   "cell_type": "markdown",
   "id": "64c86dd0",
   "metadata": {},
   "source": [
    "### 9)Write a Python program to check if a number is within a specified range using if-else."
   ]
  },
  {
   "cell_type": "code",
   "execution_count": 18,
   "id": "4c4e4184",
   "metadata": {},
   "outputs": [
    {
     "name": "stdout",
     "output_type": "stream",
     "text": [
      "Enter a number: 20\n",
      "20.0 is within the specified range [10, 50].\n"
     ]
    }
   ],
   "source": [
    "def check_number_in_range(number, lower_limit, upper_limit):\n",
    "    if lower_limit <= number <= upper_limit:\n",
    "        print(f\"{number} is within the specified range [{lower_limit}, {upper_limit}].\")\n",
    "    else:\n",
    "        print(f\"{number} is outside the specified range [{lower_limit}, {upper_limit}].\")\n",
    "\n",
    "lower_limit = 10\n",
    "upper_limit = 50\n",
    "\n",
    "user_input = float(input(\"Enter a number: \"))\n",
    "check_number_in_range(user_input, lower_limit, upper_limit)\n"
   ]
  },
  {
   "cell_type": "markdown",
   "id": "61963b59",
   "metadata": {},
   "source": [
    "### 10)Create a Python program that determines the grade of a student based on their score using if-else."
   ]
  },
  {
   "cell_type": "code",
   "execution_count": 19,
   "id": "d58046db",
   "metadata": {},
   "outputs": [
    {
     "name": "stdout",
     "output_type": "stream",
     "text": [
      "Enter the student's score: 80\n",
      "The student's grade is: B\n"
     ]
    }
   ],
   "source": [
    "def determine_grade(score):\n",
    "    if 90 <= score <= 100:\n",
    "        return 'A'\n",
    "    elif 80 <= score < 90:\n",
    "        return 'B'\n",
    "    elif 70 <= score < 80:\n",
    "        return 'C'\n",
    "    elif 60 <= score < 70:\n",
    "        return 'D'\n",
    "    elif 0 <= score < 60:\n",
    "        return 'F'\n",
    "    else:\n",
    "        return 'Invalid score. Please enter a score between 0 and 100.'\n",
    "\n",
    "score = float(input(\"Enter the student's score: \"))\n",
    "grade = determine_grade(score)\n",
    "print(f\"The student's grade is: {grade}\")\n"
   ]
  },
  {
   "cell_type": "markdown",
   "id": "7424e03b",
   "metadata": {},
   "source": [
    "### 11)Write a Python program to check if a string is empty or not using if-else."
   ]
  },
  {
   "cell_type": "code",
   "execution_count": 28,
   "id": "7696fea5",
   "metadata": {},
   "outputs": [
    {
     "name": "stdout",
     "output_type": "stream",
     "text": [
      "Enter a string : prasad\n",
      "The string is not empty.\n"
     ]
    }
   ],
   "source": [
    "def check_empty_string(input_string):\n",
    "    if not input_string:\n",
    "        print(\"The string is empty.\")\n",
    "    else:\n",
    "        print(\"The string is not empty.\")\n",
    "\n",
    "user_input = input(\"Enter a string : \")\n",
    "check_empty_string(user_input)\n"
   ]
  },
  {
   "cell_type": "markdown",
   "id": "074aadfa",
   "metadata": {},
   "source": [
    "### 12)Create a Python program that identifies the type of a triangle (e.g., equilateral, isosceles, or scalene) based on input values using if-else.\n"
   ]
  },
  {
   "cell_type": "code",
   "execution_count": 29,
   "id": "7c5c8831",
   "metadata": {},
   "outputs": [
    {
     "name": "stdout",
     "output_type": "stream",
     "text": [
      "Enter the length of the first side: 20\n",
      "Enter the length of the second side: 30\n",
      "Enter the length of the third side: 40\n",
      "The triangle is a Scalene Triangle.\n"
     ]
    }
   ],
   "source": [
    "def identify_triangle_type(side1, side2, side3):\n",
    "    if side1 == side2 == side3:\n",
    "        return \"Equilateral Triangle\"\n",
    "    elif side1 == side2 or side1 == side3 or side2 == side3:\n",
    "        return \"Isosceles Triangle\"\n",
    "    else:\n",
    "        return \"Scalene Triangle\"\n",
    "\n",
    "side1 = float(input(\"Enter the length of the first side: \"))\n",
    "side2 = float(input(\"Enter the length of the second side: \"))\n",
    "side3 = float(input(\"Enter the length of the third side: \"))\n",
    "\n",
    "triangle_type = identify_triangle_type(side1, side2, side3)\n",
    "print(f\"The triangle is a {triangle_type}.\")\n"
   ]
  },
  {
   "cell_type": "markdown",
   "id": "70762f75",
   "metadata": {},
   "source": [
    "### 13)Write a Python program to determine the day of the week based on a user-provided number using if-else.\n"
   ]
  },
  {
   "cell_type": "code",
   "execution_count": 30,
   "id": "255455d4",
   "metadata": {},
   "outputs": [
    {
     "name": "stdout",
     "output_type": "stream",
     "text": [
      "Enter a number representing the day of the week (1-7): 5\n",
      "The day of the week is: Friday\n"
     ]
    }
   ],
   "source": [
    "def determine_day_of_week(day_number):\n",
    "    if day_number == 1:\n",
    "        return \"Monday\"\n",
    "    elif day_number == 2:\n",
    "        return \"Tuesday\"\n",
    "    elif day_number == 3:\n",
    "        return \"Wednesday\"\n",
    "    elif day_number == 4:\n",
    "        return \"Thursday\"\n",
    "    elif day_number == 5:\n",
    "        return \"Friday\"\n",
    "    elif day_number == 6:\n",
    "        return \"Saturday\"\n",
    "    elif day_number == 7:\n",
    "        return \"Sunday\"\n",
    "    else:\n",
    "        return \"Invalid day number. Please enter a number between 1 and 7.\"\n",
    "\n",
    "user_input = int(input(\"Enter a number representing the day of the week (1-7): \"))\n",
    "day_of_week = determine_day_of_week(user_input)\n",
    "print(f\"The day of the week is: {day_of_week}\")\n"
   ]
  },
  {
   "cell_type": "markdown",
   "id": "3e848e3b",
   "metadata": {},
   "source": [
    "### 14)Create a Python program that checks if a given year is a leap year using both if-else and a function."
   ]
  },
  {
   "cell_type": "code",
   "execution_count": 1,
   "id": "efaf6c2a",
   "metadata": {},
   "outputs": [
    {
     "name": "stdout",
     "output_type": "stream",
     "text": [
      "Enter a year: 2024\n",
      "2024 is a leap year.\n"
     ]
    }
   ],
   "source": [
    "def is_leap_year(year):\n",
    "    if year % 4 == 0:\n",
    "        if year % 100 == 0:\n",
    "            if year % 400 == 0:\n",
    "                return True\n",
    "            else:\n",
    "                return False\n",
    "        else:\n",
    "            return True\n",
    "    else:\n",
    "        return False\n",
    "year = int(input(\"Enter a year: \"))\n",
    "if is_leap_year(year):\n",
    "    print(f\"{year} is a leap year.\")\n",
    "else:\n",
    "    print(f\"{year} is not a leap year.\")\n"
   ]
  },
  {
   "cell_type": "markdown",
   "id": "84d5b736",
   "metadata": {},
   "source": [
    "### 15)How do you use the \"assert\" statement in Python to add debugging checks within if-else blocks?"
   ]
  },
  {
   "cell_type": "code",
   "execution_count": 8,
   "id": "c901d597",
   "metadata": {},
   "outputs": [
    {
     "name": "stdout",
     "output_type": "stream",
     "text": [
      "AssertionError: x should be greater than 20\n"
     ]
    }
   ],
   "source": [
    "try:\n",
    "    x = 10\n",
    "    assert x > 20, \"x should be greater than 20\"\n",
    "except AssertionError as e:\n",
    "    print(f\"AssertionError: {e}\")\n"
   ]
  },
  {
   "cell_type": "markdown",
   "id": "79e9a810",
   "metadata": {},
   "source": [
    "### 16)Create a Python program that determines the eligibility of a person for a senior citizen discount based on age using if-else."
   ]
  },
  {
   "cell_type": "code",
   "execution_count": 10,
   "id": "5710e027",
   "metadata": {},
   "outputs": [
    {
     "name": "stdout",
     "output_type": "stream",
     "text": [
      "Enter your age: 65\n",
      "Congratulations! You are eligible for a senior citizen discount.\n"
     ]
    }
   ],
   "source": [
    "def check_senior_discount(age):\n",
    "    if age >= 60:\n",
    "        print(\"Congratulations! You are eligible for a senior citizen discount.\")\n",
    "    else:\n",
    "        print(\"Sorry, you are not eligible for a senior citizen discount.\")\n",
    "\n",
    "\n",
    "age = int(input(\"Enter your age: \"))\n",
    "check_senior_discount(age)\n",
    "\n"
   ]
  },
  {
   "cell_type": "markdown",
   "id": "d1c37ea1",
   "metadata": {},
   "source": [
    "### 17)Write a Python program to categorize a given character as uppercase, lowercase, or neither using if-else."
   ]
  },
  {
   "cell_type": "code",
   "execution_count": 13,
   "id": "7b24f0f0",
   "metadata": {},
   "outputs": [
    {
     "name": "stdout",
     "output_type": "stream",
     "text": [
      "The given character is lowercase.\n"
     ]
    }
   ],
   "source": [
    "def categorize(character):\n",
    "    if character.islower():\n",
    "        print(\"The given character is lowercase.\")\n",
    "    elif character.isupper():\n",
    "        print(\"The given character is uppercase.\")\n",
    "    else:\n",
    "        print(\"The given character is neither uppercase nor lowercase.\")\n",
    "\n",
    "categorize(\"c\")\n"
   ]
  },
  {
   "cell_type": "markdown",
   "id": "73d35587",
   "metadata": {},
   "source": [
    "### 18)Write a Python program to determine the roots of a quadratic equation using if-else."
   ]
  },
  {
   "cell_type": "code",
   "execution_count": 14,
   "id": "d89fe5f9",
   "metadata": {},
   "outputs": [
    {
     "name": "stdout",
     "output_type": "stream",
     "text": [
      "Enter the coefficient of x^2 (a): 2\n",
      "Enter the coefficient of x (b): 2\n",
      "Enter the constant term (c): 1\n",
      "The roots are complex: -0.5 + 0.5i and -0.5 - 0.5i\n"
     ]
    }
   ],
   "source": [
    "import math\n",
    "\n",
    "def quadratic_roots(a, b, c):\n",
    "    \n",
    "    discriminant = b**2 - 4*a*c\n",
    "    \n",
    "    if discriminant > 0:\n",
    "        root1 = (-b + math.sqrt(discriminant)) / (2*a)\n",
    "        root2 = (-b - math.sqrt(discriminant)) / (2*a)\n",
    "        print(f\"The roots are real and different: {root1} and {root2}\")\n",
    "\n",
    "    elif discriminant == 0:\n",
    "        root = -b / (2*a)\n",
    "        print(f\"The root is real and equal: {root}\")\n",
    "   \n",
    "    else:\n",
    "        real_part = -b / (2*a)\n",
    "        imaginary_part = math.sqrt(abs(discriminant)) / (2*a)\n",
    "        print(f\"The roots are complex: {real_part} + {imaginary_part}i and {real_part} - {imaginary_part}i\")\n",
    "\n",
    "\n",
    "a = float(input(\"Enter the coefficient of x^2 (a): \"))\n",
    "b = float(input(\"Enter the coefficient of x (b): \"))\n",
    "c = float(input(\"Enter the constant term (c): \"))\n",
    "\n",
    "quadratic_roots(a, b, c)\n"
   ]
  },
  {
   "cell_type": "markdown",
   "id": "bd622bce",
   "metadata": {},
   "source": [
    "### 19)Create a Python program that checks if a given year is a century year or not using if-else."
   ]
  },
  {
   "cell_type": "code",
   "execution_count": 17,
   "id": "ef0d5423",
   "metadata": {},
   "outputs": [
    {
     "name": "stdout",
     "output_type": "stream",
     "text": [
      "enter year number : 2000\n",
      "2000 is a century year.\n"
     ]
    }
   ],
   "source": [
    "def is_century_year(yr):\n",
    "    if yr % 100 == 0:\n",
    "        print(f\"{yr} is a century year.\")\n",
    "        \n",
    "    else:\n",
    "        print(f\"{yr} is not a century year.\")\n",
    "        \n",
    "yr = int(input(\"enter year number : \"))\n",
    "\n",
    "is_century_year(yr)\n",
    "    \n"
   ]
  },
  {
   "cell_type": "markdown",
   "id": "7facb15d",
   "metadata": {},
   "source": [
    "### 20)Write a Python program to determine if a given number is a perfect square using if-else."
   ]
  },
  {
   "cell_type": "code",
   "execution_count": 22,
   "id": "1a35e8e3",
   "metadata": {},
   "outputs": [
    {
     "name": "stdout",
     "output_type": "stream",
     "text": [
      "Enter a number: 25\n",
      "25 is a perfect square.\n"
     ]
    }
   ],
   "source": [
    "def is_perfect_square(number):\n",
    "    square_root = int(number**0.5)\n",
    "    if square_root**2 == number:\n",
    "        print(f\"{number} is a perfect square.\")\n",
    "    else:\n",
    "        print(f\"{number} is not a perfect square.\")\n",
    "\n",
    "number = int(input(\"Enter a number: \"))\n",
    "is_perfect_square(number)\n"
   ]
  },
  {
   "cell_type": "markdown",
   "id": "c4b9525f",
   "metadata": {},
   "source": [
    "### 21)Explain the purpose of the \"continue\" and \"break\" statements within if-else loops."
   ]
  },
  {
   "cell_type": "raw",
   "id": "8e1da80e",
   "metadata": {},
   "source": [
    "The main purpose of continue and break statements is : \n",
    "\n",
    "The \"continue statement\" is used to skip the rest of the code inside a loop for the current iteration and move on to the next iteration.\n",
    "When encountered, it immediately stops the current iteration and goes to the next one.\n",
    "The primary use case for continue is to skip certain iterations based on a condition without exiting the entire loop.\n",
    "\n",
    "The \"break\" statement is used to exit a loop prematurely, regardless of whether the loop condition is still true or not.\n",
    "When encountered, it terminates the entire loop and transfers control to the next statement after the loop.\n",
    "\n",
    "The primary use case for break is to exit a loop based on a certain condition."
   ]
  },
  {
   "cell_type": "code",
   "execution_count": 23,
   "id": "d18c7ba6",
   "metadata": {},
   "outputs": [
    {
     "name": "stdout",
     "output_type": "stream",
     "text": [
      "1\n",
      "2\n",
      "4\n",
      "5\n"
     ]
    }
   ],
   "source": [
    "#continue\n",
    "for i in range(1, 6):\n",
    "    if i == 3:\n",
    "        continue  # Skip iteration when i is 3\n",
    "    print(i)\n"
   ]
  },
  {
   "cell_type": "code",
   "execution_count": 24,
   "id": "92becd9c",
   "metadata": {},
   "outputs": [
    {
     "name": "stdout",
     "output_type": "stream",
     "text": [
      "1\n",
      "2\n"
     ]
    }
   ],
   "source": [
    "#break\n",
    "for i in range(1, 6):\n",
    "    if i == 3:\n",
    "        break  # break iteration when i is 3\n",
    "    print(i)"
   ]
  },
  {
   "cell_type": "markdown",
   "id": "96b60cf0",
   "metadata": {},
   "source": [
    "### 22)Create a Python program that calculates the BMI (Body Mass Index) of a person based on their weight and height using if-else."
   ]
  },
  {
   "cell_type": "code",
   "execution_count": 25,
   "id": "8c5da85a",
   "metadata": {},
   "outputs": [
    {
     "name": "stdout",
     "output_type": "stream",
     "text": [
      "Enter weight in kilograms: 68\n",
      "Enter height in centimeters: 180\n",
      "Your BMI is: 20.99\n",
      "Interpretation: Normal weight\n"
     ]
    }
   ],
   "source": [
    "def calculate_bmi(weight, height):\n",
    "    \n",
    "    height_in_meters = height / 100\n",
    "    bmi = weight / (height_in_meters ** 2)\n",
    "\n",
    "    return bmi\n",
    "\n",
    "def interpret_bmi(bmi):\n",
    "    if bmi < 18.5:\n",
    "        return \"Underweight\"\n",
    "    elif 18.5 <= bmi < 24.9:\n",
    "        return \"Normal weight\"\n",
    "    elif 25 <= bmi < 29.9:\n",
    "        return \"Overweight\"\n",
    "    else:\n",
    "        return \"Obese\"\n",
    "\n",
    "\n",
    "weight = float(input(\"Enter weight in kilograms: \"))\n",
    "height = float(input(\"Enter height in centimeters: \"))\n",
    "\n",
    "bmi = calculate_bmi(weight, height)\n",
    "interpretation = interpret_bmi(bmi)\n",
    "\n",
    "print(f\"Your BMI is: {bmi:.2f}\")\n",
    "print(f\"Interpretation: {interpretation}\")\n",
    "\n"
   ]
  },
  {
   "cell_type": "markdown",
   "id": "81fa16dc",
   "metadata": {},
   "source": [
    "### 23)How can you use the \"filter()\" function with if-else statements to filter elements from a list?"
   ]
  },
  {
   "cell_type": "code",
   "execution_count": 27,
   "id": "e2761677",
   "metadata": {},
   "outputs": [
    {
     "name": "stdout",
     "output_type": "stream",
     "text": [
      "Original list: [2, 5, 6, 8, 1]\n",
      "Filtered even numbers: [2, 6, 8]\n"
     ]
    }
   ],
   "source": [
    "def is_even(num):\n",
    "    return num % 2 == 0\n",
    "\n",
    "lst = [2, 5, 6, 8, 1]\n",
    "\n",
    "filtered_even_numbers = filter(is_even, lst)\n",
    "\n",
    "even_numbers_list = list(filtered_even_numbers)\n",
    "\n",
    "print(\"Original list:\", lst)\n",
    "print(\"Filtered even numbers:\", even_numbers_list)\n"
   ]
  },
  {
   "cell_type": "markdown",
   "id": "83799095",
   "metadata": {},
   "source": [
    "### 24)Write a Python program to determine if a given number is prime or not using if-else."
   ]
  },
  {
   "cell_type": "code",
   "execution_count": 33,
   "id": "9e72e50d",
   "metadata": {},
   "outputs": [
    {
     "name": "stdout",
     "output_type": "stream",
     "text": [
      "Given number is prime.\n"
     ]
    }
   ],
   "source": [
    "def is_prime(num):\n",
    "    if num <= 1:\n",
    "        return False  \n",
    "    else:\n",
    "        for i in range(2, int(num**0.5) + 1):\n",
    "            if num % i == 0:\n",
    "                return False  \n",
    "        return True  \n",
    "    \n",
    "result = is_prime(5)\n",
    "\n",
    "if result:\n",
    "    print(\"Given number is prime.\")\n",
    "else:\n",
    "    print(\"Given number is not prime.\")\n"
   ]
  },
  {
   "cell_type": "markdown",
   "id": "f1df7bfe",
   "metadata": {},
   "source": [
    "## Map :-"
   ]
  },
  {
   "cell_type": "markdown",
   "id": "e0f89682",
   "metadata": {},
   "source": [
    "### 1)Explain the purpose of the `map()` function in Python and provide an example of how it can be used to apply a function to each element of an iterable.\n"
   ]
  },
  {
   "cell_type": "raw",
   "id": "db75964d",
   "metadata": {},
   "source": [
    "The map() function in Python is a built-in function that is used to apply a given function to all the items in an iterable (such as a list) and returns an iterator that produces the results. It takes two arguments: the function to apply and the iterable to apply it to.\n",
    "\n",
    "The basic syntax of the map() function is as follows:\n",
    "\n",
    "map(function, iterable, ...)\n",
    "\n"
   ]
  },
  {
   "cell_type": "code",
   "execution_count": 36,
   "id": "b42500ad",
   "metadata": {},
   "outputs": [
    {
     "name": "stdout",
     "output_type": "stream",
     "text": [
      "[4, 5, 6, 7, 8, 9]\n"
     ]
    }
   ],
   "source": [
    "#example for mapped function\n",
    "def mapfunction(num):\n",
    "    return num+2\n",
    "\n",
    "lst = [2,3,4,5,6,7]\n",
    "\n",
    "mappedList = map(mapfunction,lst)\n",
    "\n",
    "result = list(mappedList)\n",
    "\n",
    "print(result)"
   ]
  },
  {
   "cell_type": "markdown",
   "id": "2d4f7608",
   "metadata": {},
   "source": [
    "### 2)Write a Python program that uses the `map()` function to square each element of a list of numbers.\n"
   ]
  },
  {
   "cell_type": "code",
   "execution_count": 37,
   "id": "92a9b1af",
   "metadata": {},
   "outputs": [
    {
     "name": "stdout",
     "output_type": "stream",
     "text": [
      "[4, 9, 16, 25, 36, 49]\n"
     ]
    }
   ],
   "source": [
    "def squarring(num):\n",
    "    return num**2\n",
    "\n",
    "lst = [2,3,4,5,6,7]\n",
    "\n",
    "mappedList = map(squarring,lst)\n",
    "\n",
    "result = list(mappedList)\n",
    "\n",
    "print(result)"
   ]
  },
  {
   "cell_type": "markdown",
   "id": "9b6cdd82",
   "metadata": {},
   "source": [
    "### 3)How does the `map()` function differ from a list comprehension in Python, and when would you choose one over the other?"
   ]
  },
  {
   "cell_type": "raw",
   "id": "120db824",
   "metadata": {},
   "source": [
    "Both map() and list comprehensions in Python are used to apply a function to each element of an iterable. However, they differ in terms of syntax, readability, and use cases.\n",
    "\n",
    "`map()` function :\n",
    "\n",
    "-> syntax:\n",
    "          map(function,iterable,....)\n",
    "          this function takes one or more iterable arguments.\n",
    "          \n",
    "-> return Type :\n",
    "          it returns an iterator, so often need to convert it           to a list or another iterable type.\n",
    "          \n",
    "-> use case : \n",
    "          useful when you want to apply a function to each             element of one or more iterables.\n",
    "          \n",
    "List Comprehension:\n",
    "-> syntax:\n",
    "          [expression for item in iterable if condition]\n",
    "          The list comprehension syntax is more compact and             resembles the mathematical set-builder notation.\n",
    "          \n",
    "-> return Type :\n",
    "          it returns a new list\n",
    "          \n",
    "-> use case : \n",
    "          useful when you want to create a new list based on           an existing iterable.\n",
    "          more concise when the operation is simple.\n",
    "          "
   ]
  },
  {
   "cell_type": "code",
   "execution_count": 1,
   "id": "9fb85921",
   "metadata": {},
   "outputs": [
    {
     "name": "stdout",
     "output_type": "stream",
     "text": [
      "this is map() result : [1, 4, 9, 16, 25]\n",
      "this is List comprehension result : [1, 4, 9, 16, 25]\n"
     ]
    }
   ],
   "source": [
    "def square(x):\n",
    "    return x**2\n",
    "\n",
    "numbers = [1, 2, 3, 4, 5]\n",
    "\n",
    "squarred_numbers = list(map(square, numbers))\n",
    "\n",
    "print(f\"this is map() result : {squarred_numbers}\")\n",
    "\n",
    "squared_numbers = [x**2 for x in numbers]\n",
    "print(f\"this is List comprehension result : {squared_numbers}\")"
   ]
  },
  {
   "cell_type": "markdown",
   "id": "fd8d8ce0",
   "metadata": {},
   "source": [
    "### 4)Create a Python program that uses the `map()` function to convert a list of names to uppercase."
   ]
  },
  {
   "cell_type": "code",
   "execution_count": 42,
   "id": "719cd23b",
   "metadata": {},
   "outputs": [
    {
     "name": "stdout",
     "output_type": "stream",
     "text": [
      "['PRASAD', 'MOHIT', 'DINESH', 'DILEEP', 'PAVAN', 'JOGI']\n"
     ]
    }
   ],
   "source": [
    "def upp(string):\n",
    "    return string.upper()\n",
    "\n",
    "lst = [\"Prasad\",\"mohit\",\"dinesh\",\"dileep\",\"pavan\",\"jogi\"]\n",
    "\n",
    "upper_list = map(upp,lst)\n",
    "\n",
    "result = list(upper_list)\n",
    "\n",
    "print(result)"
   ]
  },
  {
   "cell_type": "markdown",
   "id": "4396005a",
   "metadata": {},
   "source": [
    "### 5)Write a Python program that uses the `map()` function to calculate the length of each word in a list of strings."
   ]
  },
  {
   "cell_type": "code",
   "execution_count": 43,
   "id": "7e8f434e",
   "metadata": {},
   "outputs": [
    {
     "name": "stdout",
     "output_type": "stream",
     "text": [
      "[6, 5, 6, 6, 5, 4]\n"
     ]
    }
   ],
   "source": [
    "def length(string):\n",
    "    return len(string)\n",
    "\n",
    "lst = [\"Prasad\",\"mohit\",\"dinesh\",\"dileep\",\"pavan\",\"jogi\"]\n",
    "\n",
    "length_list = map(length,lst)\n",
    "\n",
    "result = list(length_list)\n",
    "\n",
    "print(result)"
   ]
  },
  {
   "cell_type": "markdown",
   "id": "e1f92bd7",
   "metadata": {},
   "source": [
    "### 6)How can you use the `map()` function to apply a custom function to elements of multiple lists simultaneously in Python?\n"
   ]
  },
  {
   "cell_type": "code",
   "execution_count": 45,
   "id": "ecaf1de6",
   "metadata": {},
   "outputs": [
    {
     "name": "stdout",
     "output_type": "stream",
     "text": [
      "['PrasadDileepNarendra', 'mohitPavanShanmuk', 'dineshJogiKachodi']\n"
     ]
    }
   ],
   "source": [
    "def length(string1,string2,string3):\n",
    "    return string1+string2+string3\n",
    "\n",
    "lst1 = [\"Prasad\",\"mohit\",\"dinesh\"]\n",
    "lst2 = [\"Dileep\",\"Pavan\",\"Jogi\"]\n",
    "lst3 = [\"Narendra\",\"Shanmuk\",\"Kachodi\"]\n",
    "\n",
    "result_list = map(length,lst1,lst2,lst3)\n",
    "\n",
    "result = list(result_list)\n",
    "\n",
    "print(result)"
   ]
  },
  {
   "cell_type": "markdown",
   "id": "c02d2704",
   "metadata": {},
   "source": [
    "### 7)Create a Python program that uses `map()` to convert a list of temperatures from Celsius to Fahrenheit.\n"
   ]
  },
  {
   "cell_type": "code",
   "execution_count": 46,
   "id": "f3daf2a4",
   "metadata": {},
   "outputs": [
    {
     "name": "stdout",
     "output_type": "stream",
     "text": [
      "Celsius Temperatures: [0, 10, 20, 30, 40]\n",
      "Fahrenheit Temperatures: [32.0, 50.0, 68.0, 86.0, 104.0]\n"
     ]
    }
   ],
   "source": [
    "def celsius_to_fahrenheit(celsius):\n",
    "    # Conversion formula: Fahrenheit = (Celsius * 9/5) + 32\n",
    "    return (celsius * 9/5) + 32\n",
    "\n",
    "# Example list of temperatures in Celsius\n",
    "celsius_temperatures = [0, 10, 20, 30, 40]\n",
    "\n",
    "# Use map to apply the conversion function to each Celsius temperature\n",
    "fahrenheit_temperatures = list(map(celsius_to_fahrenheit, celsius_temperatures))\n",
    "\n",
    "# Print the result\n",
    "print(\"Celsius Temperatures:\", celsius_temperatures)\n",
    "print(\"Fahrenheit Temperatures:\", fahrenheit_temperatures)\n"
   ]
  },
  {
   "cell_type": "markdown",
   "id": "5b879d59",
   "metadata": {},
   "source": [
    "### 8)Write a Python program that uses the `map()` function to round each element of a list of floating-point numbers to the nearest integer."
   ]
  },
  {
   "cell_type": "code",
   "execution_count": 47,
   "id": "79c389a7",
   "metadata": {},
   "outputs": [
    {
     "name": "stdout",
     "output_type": "stream",
     "text": [
      "[2, 3, 3, 4, 7, 6]\n"
     ]
    }
   ],
   "source": [
    "def rou(num):\n",
    "    return round(num)\n",
    "\n",
    "lst = [2.45,2.9887,3.23,3.67,6.78,6.02]\n",
    "\n",
    "result = list(map(rou,lst))\n",
    "\n",
    "print(result)"
   ]
  },
  {
   "cell_type": "markdown",
   "id": "e5d92be2",
   "metadata": {},
   "source": [
    "## Reduce :-\n"
   ]
  },
  {
   "cell_type": "markdown",
   "id": "14087e1e",
   "metadata": {},
   "source": [
    "### 1)What is the `reduce()` function in Python, and what module should you import to use it? Provide an example of its basic usage."
   ]
  },
  {
   "cell_type": "raw",
   "id": "f9bea670",
   "metadata": {},
   "source": [
    "The reduce() function in python is part of the functools module. it is used to apply a binary function cumulatively to the items in an iterable, from left to right, so as to reduce the iterable to a single accumulated result.\n"
   ]
  },
  {
   "cell_type": "code",
   "execution_count": 3,
   "id": "28749815",
   "metadata": {},
   "outputs": [
    {
     "name": "stdout",
     "output_type": "stream",
     "text": [
      "15\n"
     ]
    }
   ],
   "source": [
    "#example\n",
    "from functools import reduce\n",
    "\n",
    "def add(x,y):\n",
    "    return x+y\n",
    "\n",
    "numbers = [1,2,3,4,5]\n",
    "\n",
    "result = reduce(add,numbers)\n",
    "\n",
    "print(result)"
   ]
  },
  {
   "cell_type": "markdown",
   "id": "d725c555",
   "metadata": {},
   "source": [
    "### 2)Write a Python program that uses the `reduce()` function to find the product of all elements in a list."
   ]
  },
  {
   "cell_type": "code",
   "execution_count": 5,
   "id": "e6a57d89",
   "metadata": {},
   "outputs": [
    {
     "name": "stdout",
     "output_type": "stream",
     "text": [
      "120\n"
     ]
    }
   ],
   "source": [
    "from functools import reduce\n",
    "\n",
    "def multi(x,y):\n",
    "    return x*y\n",
    "\n",
    "numbers = [1,2,3,4,5]\n",
    "\n",
    "result = reduce(multi,numbers)\n",
    "\n",
    "print(result)"
   ]
  },
  {
   "cell_type": "markdown",
   "id": "5ef64f5b",
   "metadata": {},
   "source": [
    "### 3)Create a Python program that uses `reduce()` to find the maximum element in a list of numbers."
   ]
  },
  {
   "cell_type": "code",
   "execution_count": 8,
   "id": "18a87448",
   "metadata": {},
   "outputs": [
    {
     "name": "stdout",
     "output_type": "stream",
     "text": [
      "10\n"
     ]
    }
   ],
   "source": [
    "from functools import reduce\n",
    "\n",
    "def maximum(x,y):\n",
    "    if x>y:\n",
    "        return x\n",
    "    else:\n",
    "        return y\n",
    "\n",
    "numbers = [1,2,10,4,5]\n",
    "\n",
    "result = reduce(maximum,numbers)\n",
    "\n",
    "print(result)"
   ]
  },
  {
   "cell_type": "markdown",
   "id": "3806e885",
   "metadata": {},
   "source": [
    "### 4)How can you use the `reduce()` function to concatenate a list of strings into a single string?"
   ]
  },
  {
   "cell_type": "code",
   "execution_count": 9,
   "id": "db8816d5",
   "metadata": {},
   "outputs": [
    {
     "name": "stdout",
     "output_type": "stream",
     "text": [
      "PrasadDileepMohitDineshPavan\n"
     ]
    }
   ],
   "source": [
    "from functools import reduce\n",
    "\n",
    "def single_string(s1,s2):\n",
    "    return s1+s2\n",
    "\n",
    "lst = [\"Prasad\",\"Dileep\",\"Mohit\",\"Dinesh\",\"Pavan\"]\n",
    "\n",
    "result = reduce(single_string,lst)\n",
    "\n",
    "print(result)"
   ]
  },
  {
   "cell_type": "markdown",
   "id": "1f08d763",
   "metadata": {},
   "source": [
    "### 5)Write a Python program that calculates the factorial of a number using the `reduce()` function."
   ]
  },
  {
   "cell_type": "code",
   "execution_count": 11,
   "id": "832dfc5d",
   "metadata": {},
   "outputs": [
    {
     "name": "stdout",
     "output_type": "stream",
     "text": [
      "enter number: 5\n",
      "the factorial of 5 is : 120\n"
     ]
    }
   ],
   "source": [
    "from functools import reduce\n",
    "\n",
    "def multiply(n1,n2):\n",
    "    return n1 * n2\n",
    "\n",
    "def factorial(num):\n",
    "    lst = [i for i in range(1,num+1)]\n",
    "    return reduce(multiply,lst)\n",
    "\n",
    "number = int(input(\"enter number: \"))\n",
    "\n",
    "if number >= 0 :\n",
    "    result = factorial(number)\n",
    "    print(f\"the factorial of {number} is : {result}\")\n",
    "    \n",
    "else:\n",
    "    print(\"factorial is not defined for negetive numbers.\")\n",
    "    "
   ]
  },
  {
   "cell_type": "markdown",
   "id": "b9cf9612",
   "metadata": {},
   "source": [
    "### 6)Create a Python program that uses `reduce()` to find the GCD (Greatest Common Divisor) of a list of numbers."
   ]
  },
  {
   "cell_type": "code",
   "execution_count": 3,
   "id": "d666126d",
   "metadata": {},
   "outputs": [
    {
     "name": "stdout",
     "output_type": "stream",
     "text": [
      "The GCD of [24, 36, 48, 60] is: 12\n"
     ]
    }
   ],
   "source": [
    "from functools import reduce\n",
    "from math import gcd\n",
    "\n",
    "def find_gcd(numbers):\n",
    "    # Use reduce() to find the GCD of a list of numbers\n",
    "    result_gcd = reduce(gcd, numbers)\n",
    "    return result_gcd\n",
    "\n",
    "# Example usage:\n",
    "numbers_list = [24, 36, 48, 60]\n",
    "result = find_gcd(numbers_list)\n",
    "\n",
    "print(f\"The GCD of {numbers_list} is: {result}\")\n"
   ]
  },
  {
   "cell_type": "markdown",
   "id": "7ca7d48c",
   "metadata": {},
   "source": [
    "### 7)Write a Python program that uses the `reduce()` function to find the sum of the digits of a given number."
   ]
  },
  {
   "cell_type": "code",
   "execution_count": 6,
   "id": "1bc8582f",
   "metadata": {},
   "outputs": [
    {
     "name": "stdout",
     "output_type": "stream",
     "text": [
      "enter number : 765\n",
      "the sum of the digits of a given number is : 18\n"
     ]
    }
   ],
   "source": [
    "from functools import reduce\n",
    "\n",
    "def find_sum(num):\n",
    "    digits = [int(i) for i in str(num)]\n",
    "    result = reduce(lambda x,y : x+y,digits)\n",
    "    return result\n",
    "\n",
    "num = int(input(\"enter number : \"))\n",
    "total = find_sum(num)\n",
    "print(f\"the sum of the digits of a given number is : {total}\")"
   ]
  },
  {
   "cell_type": "markdown",
   "id": "28f2d241",
   "metadata": {},
   "source": [
    "## Filter :-"
   ]
  },
  {
   "cell_type": "markdown",
   "id": "a2579320",
   "metadata": {},
   "source": [
    "### 1)Explain the purpose of the `filter()` function in Python and provide an example of how it can be used to filter elements from an iterable."
   ]
  },
  {
   "cell_type": "raw",
   "id": "c0d930e7",
   "metadata": {},
   "source": [
    "The filter() function in Python is a built-in function that is used to filter elements from an iterable (such as a list) based on a given function. It takes two arguments: the first argument is the function that defines the filtering criteria, and the second argument is the iterable (e.g., a list) from which elements are to be filtered\n",
    "\n",
    "The syntax of the filter() function is as follows:\n",
    "\n",
    "filter(function, iterable)"
   ]
  },
  {
   "cell_type": "code",
   "execution_count": 1,
   "id": "9d376286",
   "metadata": {},
   "outputs": [
    {
     "name": "stdout",
     "output_type": "stream",
     "text": [
      "[2, 8, 30, 20, 40, 22]\n"
     ]
    }
   ],
   "source": [
    "#example\n",
    "\n",
    "def even_list(num):\n",
    "    return num % 2 == 0\n",
    "\n",
    "lst = [2,5,1,3,5,7,8,30,20,40,22]\n",
    "\n",
    "filtered_numbers = filter(even_list,lst)\n",
    "\n",
    "result = list(filtered_numbers)\n",
    "\n",
    "print(result)"
   ]
  },
  {
   "cell_type": "markdown",
   "id": "c757e33e",
   "metadata": {},
   "source": [
    "### 2)Write a Python program that uses the `filter()` function to select even numbers from a list of integers."
   ]
  },
  {
   "cell_type": "code",
   "execution_count": 2,
   "id": "694b2a01",
   "metadata": {},
   "outputs": [
    {
     "name": "stdout",
     "output_type": "stream",
     "text": [
      "[2, 8, 30, 20, 40, 22]\n"
     ]
    }
   ],
   "source": [
    "def even_list(num):\n",
    "    return num % 2 == 0\n",
    "\n",
    "lst = [2,5,1,3,5,7,8,30,20,40,22]\n",
    "\n",
    "filtered_numbers = filter(even_list,lst)\n",
    "\n",
    "result = list(filtered_numbers)\n",
    "\n",
    "print(result)"
   ]
  },
  {
   "cell_type": "markdown",
   "id": "80dfe053",
   "metadata": {},
   "source": [
    "### 3)Create a Python program that uses the `filter()` function to select names that start with a specific letter from a list of strings.\n"
   ]
  },
  {
   "cell_type": "code",
   "execution_count": 4,
   "id": "83c62c1e",
   "metadata": {},
   "outputs": [
    {
     "name": "stdout",
     "output_type": "stream",
     "text": [
      "['ayithireddi', 'amrutha']\n"
     ]
    }
   ],
   "source": [
    "def sp_names(string):\n",
    "    return string.startswith('A') or string.startswith('a')\n",
    "\n",
    "string_lst = [\"prasad\", \"reddy\", \"ayithireddi\", \"amrutha\"]\n",
    "\n",
    "sp_lst = filter(sp_names, string_lst)\n",
    "\n",
    "result = list(sp_lst)\n",
    "\n",
    "print(result)\n"
   ]
  },
  {
   "cell_type": "markdown",
   "id": "18c615ae",
   "metadata": {},
   "source": [
    "### 4)Write a Python program that uses the `filter()` function to select prime numbers from a list of integers."
   ]
  },
  {
   "cell_type": "code",
   "execution_count": 12,
   "id": "10337bb2",
   "metadata": {},
   "outputs": [
    {
     "name": "stdout",
     "output_type": "stream",
     "text": [
      "[3, 7, 13, 11]\n"
     ]
    }
   ],
   "source": [
    "def prime_lst(num):\n",
    "    if num <= 1:\n",
    "        return False\n",
    "    else:\n",
    "        flag = True\n",
    "        for i in range(2,int(num*0.5)+1):\n",
    "            if num % i == 0:\n",
    "                flag = False\n",
    "                break\n",
    "        return flag\n",
    "        \n",
    "lst = [3,7,9,1,13,11]\n",
    "\n",
    "result = list(filter(prime_lst,lst))\n",
    "\n",
    "print(result)\n",
    "        "
   ]
  },
  {
   "cell_type": "markdown",
   "id": "4623b469",
   "metadata": {},
   "source": [
    "### 5)How can you use the `filter()` function to remove None values from a list in Python?"
   ]
  },
  {
   "cell_type": "code",
   "execution_count": 18,
   "id": "875e39ed",
   "metadata": {},
   "outputs": [
    {
     "name": "stdout",
     "output_type": "stream",
     "text": [
      "[3, 5, 6, 8, 'prasad']\n"
     ]
    }
   ],
   "source": [
    "def removing_none(val):\n",
    "    return val if val is not None else False\n",
    "\n",
    "lst = [3, 5, 6, None, 8, None, \"prasad\", None]\n",
    "\n",
    "result = list(filter(removing_none, lst))\n",
    "\n",
    "print(result)\n"
   ]
  },
  {
   "cell_type": "markdown",
   "id": "158b24da",
   "metadata": {},
   "source": [
    "### 6)Create a Python program that uses `filter()` to select words longer than a certain length from a list of strings."
   ]
  },
  {
   "cell_type": "code",
   "execution_count": 24,
   "id": "1f74923a",
   "metadata": {},
   "outputs": [
    {
     "name": "stdout",
     "output_type": "stream",
     "text": [
      "['prasad ayithireddi', 'amrutha varshini']\n"
     ]
    }
   ],
   "source": [
    "def long_word(string, length):\n",
    "    return len(string) > length\n",
    "\n",
    "lst = [\"prasad ayithireddi\", \"amrutha varshini\", \"dileep\", \"mohit\"]\n",
    "min_length = 7\n",
    "\n",
    "result = list(filter(lambda x: long_word(x, min_length), lst))\n",
    "\n",
    "print(result)\n"
   ]
  },
  {
   "cell_type": "markdown",
   "id": "7f3dff33",
   "metadata": {},
   "source": [
    "### 7)Write a Python program that uses the `filter()` function to select elements greater than a specified threshold from a list of values."
   ]
  },
  {
   "cell_type": "code",
   "execution_count": 28,
   "id": "d2a143c8",
   "metadata": {},
   "outputs": [
    {
     "name": "stdout",
     "output_type": "stream",
     "text": [
      "[34, 69, 31]\n"
     ]
    }
   ],
   "source": [
    "def greater_thresold(val,the_val):\n",
    "    return val > the_val\n",
    "\n",
    "lst = [12,4,34,69,31,23,12]\n",
    "the_val = 25\n",
    "\n",
    "result = list(filter(lambda val : greater_thresold(val,the_val),lst))\n",
    "\n",
    "print(result)"
   ]
  },
  {
   "cell_type": "markdown",
   "id": "dbddc35d",
   "metadata": {},
   "source": [
    "## Recursion:-"
   ]
  },
  {
   "cell_type": "markdown",
   "id": "685c0f5e",
   "metadata": {},
   "source": [
    "### 1)Explain the concept of recursion in Python. How does it differ from iteration?"
   ]
  },
  {
   "cell_type": "raw",
   "id": "858d9d3d",
   "metadata": {},
   "source": [
    "Recursion in Python:\n",
    "\n",
    "Recursion is a programming technique where a function calls itself in order to solve a problem. In a recursive function, the problem is broken down into smaller subproblems that are solved by calling the same function. The function continues to call itself until it reaches a base case, which is a condition that stops the recursion. Recursive solutions often involve solving the problem for smaller inputs and combining those solutions to solve the original problem.\n",
    "\n",
    "Iteration in Python:\n",
    "\n",
    "Iteration, on the other hand, involves repeating a set of instructions in a loop. It relies on looping constructs such as for and while to repeatedly execute a block of code until a specified condition is met.\n",
    "\n",
    "Differences:\n",
    "\n",
    "Termination Condition:\n",
    "In recursion, the termination condition (base case) is crucial to prevent infinite recursion.\n",
    "In iteration, the loop's termination condition controls the repetition.\n",
    "\n",
    "Memory Usage:\n",
    "Recursion may consume more memory because each recursive call adds a new layer to the function call stack.\n",
    "Iteration typically uses less memory as it doesn't involve additional function call stack frames.\n",
    "\n",
    "Readability:\n",
    "Recursion can lead to more concise and elegant solutions for certain problems.\n",
    "Iteration is often more explicit and may be preferable for simple repetitive tasks."
   ]
  },
  {
   "cell_type": "markdown",
   "id": "d9e92bff",
   "metadata": {},
   "source": [
    "### 2)Write a Python program to calculate the factorial of a number using recursion."
   ]
  },
  {
   "cell_type": "code",
   "execution_count": 29,
   "id": "d8c78fc4",
   "metadata": {},
   "outputs": [
    {
     "name": "stdout",
     "output_type": "stream",
     "text": [
      "the factorial of 5 is : 120 \n"
     ]
    }
   ],
   "source": [
    "def fact(num):\n",
    "    if num == 1:\n",
    "        return 1\n",
    "    else:\n",
    "        return num*fact(num-1)\n",
    "    \n",
    "num = 5\n",
    "\n",
    "result = fact(num)\n",
    "\n",
    "print(f\"the factorial of {num} is : {result} \")"
   ]
  },
  {
   "cell_type": "markdown",
   "id": "0fbc902a",
   "metadata": {},
   "source": [
    "### 3)Create a recursive Python function to find the nth Fibonacci number."
   ]
  },
  {
   "cell_type": "code",
   "execution_count": 16,
   "id": "3a944dec",
   "metadata": {},
   "outputs": [
    {
     "name": "stdout",
     "output_type": "stream",
     "text": [
      "The 6th Fibonacci number is: 5\n"
     ]
    }
   ],
   "source": [
    "def fibonacci(n):\n",
    "    if n <= 0:\n",
    "        return \"Invalid input. Please provide a positive integer.\"\n",
    "    elif n == 1:\n",
    "        return 0\n",
    "    elif n == 2:\n",
    "        return 1\n",
    "    else:\n",
    "        return fibonacci(n - 1) + fibonacci(n - 2)\n",
    "\n",
    "n = 6\n",
    "result = fibonacci(n)\n",
    "\n",
    "print(f\"The {n}th Fibonacci number is: {result}\")\n"
   ]
  },
  {
   "cell_type": "markdown",
   "id": "2c778fa1",
   "metadata": {},
   "source": [
    "### 4)Write a recursive Python function to calculate the sum of all elements in a list.\n"
   ]
  },
  {
   "cell_type": "code",
   "execution_count": 15,
   "id": "3b9c4ab4",
   "metadata": {},
   "outputs": [
    {
     "name": "stdout",
     "output_type": "stream",
     "text": [
      "the sum of elements of a given lst is : 20\n"
     ]
    }
   ],
   "source": [
    "def sum_list(lst):\n",
    "    if not lst:\n",
    "        return 0\n",
    "    else:\n",
    "        return lst[0]+sum_list(lst[1:])\n",
    "\n",
    "lst = [1,3,4,6,4,2]\n",
    "\n",
    "result = sum_list(lst)\n",
    "\n",
    "print(f\"the sum of elements of a given lst is : {result}\")\n",
    "\n"
   ]
  },
  {
   "cell_type": "markdown",
   "id": "22951b10",
   "metadata": {},
   "source": [
    "### 5)How can you prevent a recursive function from running indefinitely, causing a stack overflow error?"
   ]
  },
  {
   "cell_type": "raw",
   "id": "dba1382e",
   "metadata": {},
   "source": [
    "To prevent a recursive function from running indefinitely and causing a stack overflow error, you should ensure that your recursive function has a proper base case that will eventually be reached. The base case defines a condition under which the recursion stops, preventing an infinite loop.\n",
    "\n",
    "Here are some tips to prevent infinite recursion and avoid stack overflow errors:\n",
    "\n",
    "1)Define a Base Case:\n",
    "\n",
    "    Your recursive function should have a base case that is well-defined and will be reached after a finite number of recursive calls. The base case should not involve a recursive call.\n",
    "\n",
    "2)Ensure Progress Towards the Base Case:\n",
    "\n",
    "    With each recursive call, ensure that you are making progress towards reaching the base case. The parameters passed to the recursive call should move closer to the base case.\n",
    "\n",
    "3)Debugging with Print Statements:\n",
    "\n",
    "    Use print statements or logging to debug your recursive function. Print the input parameters at the beginning of the function to track how they change with each recursive call.\n",
    "\n",
    "4)Check Input Constraints:\n",
    "\n",
    "    Ensure that your function's input adheres to any constraints specified. For example, if your function expects a positive integer, validate the input to prevent unexpected behavior.\n",
    "    \n",
    "5)Test with Small Inputs:\n",
    "\n",
    "    Test your recursive function with small inputs to ensure it behaves as expected. This can help identify issues before applying the function to larger inputs."
   ]
  },
  {
   "cell_type": "code",
   "execution_count": 24,
   "id": "a3c87e68",
   "metadata": {},
   "outputs": [
    {
     "name": "stdout",
     "output_type": "stream",
     "text": [
      "5 4 3 2 1 "
     ]
    }
   ],
   "source": [
    "#example\n",
    "def countdown(n):\n",
    "    if n <= 0:  # Base case: stop when n is 0 or negative\n",
    "        pass\n",
    "    else:\n",
    "        print(n,end = \" \")\n",
    "        countdown(n - 1)  # Recursive call with progress towards the base case\n",
    "\n",
    "countdown(5)\n"
   ]
  },
  {
   "cell_type": "markdown",
   "id": "29f4c293",
   "metadata": {},
   "source": [
    "### 6)Create a recursive Python function to find the greatest common divisor (GCD) of two numbers using the Euclidean algorithm."
   ]
  },
  {
   "cell_type": "code",
   "execution_count": 33,
   "id": "7eee086a",
   "metadata": {},
   "outputs": [
    {
     "name": "stdout",
     "output_type": "stream",
     "text": [
      "enter first number : 12\n",
      "enter second number : 20\n",
      "the gcd of 12 and 20 is : 4\n"
     ]
    }
   ],
   "source": [
    "def gcd(n1,n2):\n",
    "    if n2 == 0:\n",
    "        return n1\n",
    "    else:\n",
    "        return gcd(n2,n1%n2)\n",
    "    \n",
    "minimum = int(input(\"enter first number : \"))\n",
    "maximum = int(input(\"enter second number : \"))\n",
    "\n",
    "if maximum > minimum:\n",
    "    result = gcd(maximum,minimum)\n",
    "else: \n",
    "    result = gcd(minimum,maximum)\n",
    "\n",
    "print(f\"the gcd of {n1} and {n2} is : {result}\")"
   ]
  },
  {
   "cell_type": "markdown",
   "id": "88ff384a",
   "metadata": {},
   "source": [
    "### 7)Write a recursive Python function to reverse a string."
   ]
  },
  {
   "cell_type": "code",
   "execution_count": 36,
   "id": "b2b3e02d",
   "metadata": {},
   "outputs": [
    {
     "name": "stdout",
     "output_type": "stream",
     "text": [
      "ydder dasarp\n"
     ]
    }
   ],
   "source": [
    "def rev_str(string):\n",
    "    if not string:\n",
    "        return \"\"\n",
    "    else:\n",
    "        return string[-1]+rev_str(string[:-1])\n",
    "    \n",
    "string = \"prasad reddy\"\n",
    "result = rev_str(string)\n",
    "print(result)"
   ]
  },
  {
   "cell_type": "markdown",
   "id": "79b24c08",
   "metadata": {},
   "source": [
    "### 8)Create a recursive Python function to calculate the power of a number (x^n). "
   ]
  },
  {
   "cell_type": "code",
   "execution_count": 39,
   "id": "da755f75",
   "metadata": {},
   "outputs": [
    {
     "name": "stdout",
     "output_type": "stream",
     "text": [
      "enter base number : 2\n",
      "enter exponent number : 3\n",
      "8\n"
     ]
    }
   ],
   "source": [
    "def power(base,exponent):\n",
    "    if exponent == 0:\n",
    "        return 1\n",
    "    elif exponent > 0:\n",
    "        return base * power(base,exponent-1)\n",
    "    else:\n",
    "        return 1 / power(base,-exponent)\n",
    "    \n",
    "    #return 1 if exponent == 0 else base * power(base,exponent-1)\n",
    "    \n",
    "base = int(input(\"enter base number : \"))\n",
    "exponent = int(input(\"enter exponent number : \"))\n",
    "\n",
    "result = power(base,exponent)\n",
    "\n",
    "print(result)\n",
    "    \n",
    "    "
   ]
  },
  {
   "cell_type": "markdown",
   "id": "e9adb2f7",
   "metadata": {},
   "source": [
    "### 9)Write a recursive Python function to find all permutations of a given string."
   ]
  },
  {
   "cell_type": "code",
   "execution_count": 47,
   "id": "da1c0474",
   "metadata": {},
   "outputs": [
    {
     "name": "stdout",
     "output_type": "stream",
     "text": [
      "enter string : man\n",
      "man\n",
      "mna\n",
      "amn\n",
      "anm\n",
      "nam\n",
      "nma\n"
     ]
    }
   ],
   "source": [
    "def get_permutations(string,i = 0):\n",
    "    if i == len(string):\n",
    "        print(\"\".join(string))\n",
    "    else:\n",
    "        for j in range(i,len(string)):\n",
    "            words = [c for c in string]\n",
    "            words[i] , words[j] = words[j] , words[i]\n",
    "\n",
    "            get_permutations(words,i+1)\n",
    "get_permutations(input(\"enter string : \"))\n",
    "        "
   ]
  },
  {
   "cell_type": "markdown",
   "id": "15700a23",
   "metadata": {},
   "source": [
    "### 10)Write a recursive Python function to check if a string is a palindrome."
   ]
  },
  {
   "cell_type": "code",
   "execution_count": 5,
   "id": "d4e34973",
   "metadata": {},
   "outputs": [
    {
     "name": "stdout",
     "output_type": "stream",
     "text": [
      "enter string to check palindrome or not : Mad\n",
      "this is not a palindrome string.\n"
     ]
    }
   ],
   "source": [
    "def check_palindrome(string):\n",
    "    if len(string) == 1 :\n",
    "        return True\n",
    "    elif len(string) == 0:\n",
    "        return True\n",
    "    elif string[0] == string[-1]:\n",
    "        return check_palindrome(string[1:-1]) \n",
    "    else:\n",
    "        return False\n",
    "\n",
    "    \n",
    "if check_palindrome(input(\"enter string to check palindrome or not : \").lower()):\n",
    "    print(\"this is palindrome string .\")\n",
    "    \n",
    "else:\n",
    "    print(\"this is not a palindrome string.\")\n",
    "        "
   ]
  },
  {
   "cell_type": "markdown",
   "id": "4c2cd37f",
   "metadata": {},
   "source": [
    "### 11)Create a recursive Python function to generate all possible combinations of a list of elements."
   ]
  },
  {
   "cell_type": "code",
   "execution_count": 11,
   "id": "e32febff",
   "metadata": {},
   "outputs": [
    {
     "name": "stdout",
     "output_type": "stream",
     "text": [
      "[1, 2, 3]\n",
      "[1, 2]\n",
      "[1, 3]\n",
      "[1]\n",
      "[2, 3]\n",
      "[2]\n",
      "[3]\n",
      "[]\n"
     ]
    }
   ],
   "source": [
    "def get_combinations(elements, current_combination=None, start=0):\n",
    "    if current_combination is None:\n",
    "        current_combination = []\n",
    "\n",
    "    # Base case: If no more elements to include, print the current combination\n",
    "    if start == len(elements):\n",
    "        print(current_combination)\n",
    "        return\n",
    "\n",
    "    # Include the current element and make a recursive call for the remaining elements\n",
    "    current_combination.append(elements[start])\n",
    "    get_combinations(elements, current_combination, start + 1)\n",
    "\n",
    "    # Exclude the current element and make a recursive call for the remaining elements\n",
    "    current_combination.pop()\n",
    "    get_combinations(elements, current_combination, start + 1)\n",
    "\n",
    "# Example usage:\n",
    "my_list = [1, 2, 3]\n",
    "get_combinations(my_list)\n"
   ]
  },
  {
   "cell_type": "code",
   "execution_count": 14,
   "id": "d10fddd4",
   "metadata": {},
   "outputs": [
    {
     "name": "stdout",
     "output_type": "stream",
     "text": [
      "[]\n",
      "[1]\n",
      "[2]\n",
      "[2, 1]\n",
      "[3]\n",
      "[3, 1]\n",
      "[3, 2]\n",
      "[3, 2, 1]\n"
     ]
    }
   ],
   "source": [
    "def combinations(iterable):\n",
    "    if len(iterable)==0:\n",
    "        return [[]]\n",
    "    combos = []\n",
    "    for combo in combinations(iterable[1:]):\n",
    "        combos += [combo , combo + [iterable[0]]]\n",
    "    return combos\n",
    "\n",
    "numbers = [1,2,3]\n",
    "combos = combinations(numbers)\n",
    "for combo in combos:\n",
    "    print(combo)"
   ]
  },
  {
   "cell_type": "markdown",
   "id": "3fd44aeb",
   "metadata": {},
   "source": [
    "## Basics of Functions:"
   ]
  },
  {
   "cell_type": "markdown",
   "id": "2568f317",
   "metadata": {},
   "source": [
    "### 1)What is a function in Python, and why is it used?"
   ]
  },
  {
   "cell_type": "raw",
   "id": "aa7847a4",
   "metadata": {},
   "source": [
    "\n",
    "In Python, a function is a block of reusable code that performs a specific task. It is defined using the def keyword, followed by the function name, a pair of parentheses containing optional parameters, and a colon. The body of the function is then indented.\n",
    "\n",
    "Functions are used in Python for several reasons:\n",
    "\n",
    "    ---> Modularity: Functions allow you to break down a large program into smaller, more manageable pieces. Each function can represent a specific task or operation, making the code easier to understand and maintain.\n",
    "\n",
    "    --> Reusability: Once a function is defined, it can be reused in different parts of the program or even in other programs. This promotes code reuse and reduces redundancy.\n",
    "\n",
    "    --> Abstraction: Functions provide a level of abstraction, allowing you to use a function without needing to know the details of how it works internally. This makes the code more readable and helps in understanding high-level functionality.\n",
    "\n",
    "    --> Organization: Functions help organize code by encapsulating related functionality. This improves the overall structure of the code and makes it more modular.\n",
    "\n",
    "    --> Parameterization: Functions can accept parameters, allowing you to customize their behavior based on input values. This parameterization makes functions versatile and adaptable to various scenarios.\n",
    "\n",
    "    --> Return Values: Functions can return values, enabling them to produce results that can be used elsewhere in the code. This is crucial for passing information between different parts of a program."
   ]
  },
  {
   "cell_type": "markdown",
   "id": "5c5e489b",
   "metadata": {},
   "source": [
    "### 2)How do you define a function in Python? Provide an example.\n"
   ]
  },
  {
   "cell_type": "raw",
   "id": "0a747228",
   "metadata": {},
   "source": [
    "In Python, you can define a function using the def keyword, followed by the function name, a pair of parentheses (which may contain parameters), and a colon. The body of the function is then indented. Here's the basic syntax:\n",
    "\n",
    "def function_name(parameters):\n",
    "    \"\"\"Docstring (optional)\"\"\"\n",
    "    # Function body\n",
    "    # ...\n",
    "    return result  # (optional)\n"
   ]
  },
  {
   "cell_type": "code",
   "execution_count": 15,
   "id": "513fa0d3",
   "metadata": {},
   "outputs": [
    {
     "name": "stdout",
     "output_type": "stream",
     "text": [
      "The sum is: 8\n"
     ]
    }
   ],
   "source": [
    "#example\n",
    "def add_numbers(a, b):\n",
    "    \"\"\"This function adds two numbers and returns the result.\"\"\"\n",
    "    return a + b\n",
    "\n",
    "# Calling the function and storing the result in a variable\n",
    "result = add_numbers(5, 3)\n",
    "print(f\"The sum is: {result}\")\n",
    "\n",
    "    "
   ]
  },
  {
   "cell_type": "markdown",
   "id": "ee15fe7e",
   "metadata": {},
   "source": [
    "### 3)Explain the difference between a function definition and a function call."
   ]
  },
  {
   "cell_type": "raw",
   "id": "2553803d",
   "metadata": {},
   "source": [
    "The terms \"function definition\" and \"function call\" refer to distinct aspects of working with functions in a programming language like Python. Let's clarify each term:\n",
    "\n",
    "1. **Function Definition:**\n",
    "   - **Definition:** A function definition is the actual creation of the function. It specifies the name of the function, its parameters (if any), the function body, and optionally a docstring. The `def` keyword is used to define a function.\n",
    "   - **Example:**\n",
    "     ```python\n",
    "     def greet(name):\n",
    "         \"\"\"This function greets the person passed in as a parameter.\"\"\"\n",
    "         print(f\"Hello, {name}!\")\n",
    "     ```\n",
    "   - **Explanation:** In this example, `greet` is the function name, `(name)` is the parameter, and the indented block below the definition constitutes the function body. This code does not execute the function; it merely defines it.\n",
    "\n",
    "2. **Function Call:**\n",
    "   - **Definition:** A function call, on the other hand, is the actual execution of a function. It involves providing the required arguments (if any) and invoking the function by using its name followed by parentheses.\n",
    "   - **Example:**\n",
    "     ```python\n",
    "     greet(\"Alice\")\n",
    "     ```\n",
    "   - **Explanation:** In this example, `greet(\"Alice\")` is the function call. It passes the argument \"Alice\" to the `greet` function, causing the function to execute. The code within the function body is run, resulting in the print statement being executed.\n",
    "\n",
    "In summary:\n",
    "\n",
    "- **Function Definition:** Describes the structure and behavior of a function. It specifies what the function does, its name, parameters, and the code to be executed when the function is called.\n",
    "  \n",
    "- **Function Call:** Invokes the function, causing the code within the function body to be executed. It provides the necessary arguments if the function has parameters.\n",
    "\n",
    "Here's a simple analogy: Think of a function definition as creating a recipe (specifying what the dish should be) and a function call as actually cooking the dish (using the recipe to produce a result)."
   ]
  },
  {
   "cell_type": "markdown",
   "id": "ce5bc198",
   "metadata": {},
   "source": [
    "### 4)Write a Python program that defines a function to calculate the sum of two numbers and then calls the function."
   ]
  },
  {
   "cell_type": "code",
   "execution_count": 16,
   "id": "2484d574",
   "metadata": {},
   "outputs": [
    {
     "name": "stdout",
     "output_type": "stream",
     "text": [
      "The sum is: 8\n"
     ]
    }
   ],
   "source": [
    "#example\n",
    "def add_numbers(a, b):\n",
    "    \"\"\"This function adds two numbers and returns the result.\"\"\"\n",
    "    return a + b\n",
    "\n",
    "# Calling the function and storing the result in a variable\n",
    "result = add_numbers(5, 3)\n",
    "print(f\"The sum is: {result}\")\n",
    "\n",
    "    "
   ]
  },
  {
   "cell_type": "markdown",
   "id": "c05ac69a",
   "metadata": {},
   "source": [
    "### 5)What is a function signature, and what information does it typically include?"
   ]
  },
  {
   "cell_type": "raw",
   "id": "dd5ae8fd",
   "metadata": {},
   "source": [
    "A function signature is a part of a function declaration or definition that provides essential information about the function's interface. \n",
    "\n",
    "It typically includes:\n",
    "\n",
    "1)Function Name:\n",
    "\n",
    "The name that identifies the function. It must follow the rules for naming identifiers in the programming language.\n",
    "\n",
    "2)Return Type:\n",
    "\n",
    "Specifies the type of the value that the function returns, or it may indicate that the function returns nothing (using void or a similar keyword).\n",
    "\n",
    "3)Parameters:\n",
    "\n",
    "Lists the input variables or parameters that the function expects. It includes the name and type of each parameter. If a function takes no parameters, the parentheses may be empty."
   ]
  },
  {
   "cell_type": "markdown",
   "id": "aa9a1de0",
   "metadata": {},
   "source": [
    "### 6)Create a Python function that takes two arguments and returns their product."
   ]
  },
  {
   "cell_type": "code",
   "execution_count": 17,
   "id": "8948bc72",
   "metadata": {},
   "outputs": [
    {
     "name": "stdout",
     "output_type": "stream",
     "text": [
      "The product is: 15\n"
     ]
    }
   ],
   "source": [
    "#example\n",
    "def product_numbers(a, b):\n",
    "    return a * b\n",
    "\n",
    "result = product_numbers(5, 3)\n",
    "print(f\"The product is: {result}\")\n",
    "\n",
    "    "
   ]
  },
  {
   "cell_type": "markdown",
   "id": "dcf11e18",
   "metadata": {},
   "source": [
    "## Function Parameters and Arguments:\n"
   ]
  },
  {
   "cell_type": "markdown",
   "id": "8ee0aac3",
   "metadata": {},
   "source": [
    "### 1)Explain the concepts of formal parameters and actual arguments in Python functions.\n"
   ]
  },
  {
   "cell_type": "raw",
   "id": "fa1c3f86",
   "metadata": {},
   "source": [
    "In Python functions, the terms \"formal parameters\" and \"actual arguments\" refer to the variables defined in the function signature and the values passed to the function when it is called, respectively. Let's explore these concepts:\n",
    "\n",
    "Formal Parameters:\n",
    "\n",
    "Definition: Formal parameters are the variables listed in a function's definition. They serve as placeholders for the values that will be passed to the function when it is called. These parameters are part of the function's signature and are used to specify what kind of input the function expects."
   ]
  },
  {
   "cell_type": "code",
   "execution_count": 19,
   "id": "a4e1068d",
   "metadata": {},
   "outputs": [],
   "source": [
    "#example\n",
    "def add_numbers(x, y):\n",
    "    return x + y\n",
    "#here x and y are actual paramaters"
   ]
  },
  {
   "cell_type": "raw",
   "id": "b592f055",
   "metadata": {},
   "source": [
    "Actual Arguments (Arguments):\n",
    "\n",
    "Definition: Actual arguments (or simply \"arguments\") are the values that are passed to a function when it is called. These values are assigned to the corresponding formal parameters inside the function. Actual arguments provide the concrete data that the function will operate on."
   ]
  },
  {
   "cell_type": "code",
   "execution_count": 20,
   "id": "2fd0ff24",
   "metadata": {},
   "outputs": [],
   "source": [
    "#example\n",
    "result = add_numbers(5, 7)\n",
    "# 5,7 are the actual arguments passsed to the add_numbers function"
   ]
  },
  {
   "cell_type": "markdown",
   "id": "d40c22ec",
   "metadata": {},
   "source": [
    "### 2)Write a Python program that defines a function with default argument values."
   ]
  },
  {
   "cell_type": "code",
   "execution_count": 21,
   "id": "fa07e6f6",
   "metadata": {},
   "outputs": [
    {
     "name": "stdout",
     "output_type": "stream",
     "text": [
      "Hello, Alice!\n",
      "Hi, Bob!\n"
     ]
    }
   ],
   "source": [
    "def greet(name, greeting=\"Hello\"):\n",
    "    \"\"\"\n",
    "    This function greets a person with a default greeting.\n",
    "\n",
    "    Parameters:\n",
    "    - name: The name of the person to greet.\n",
    "    - greeting: The greeting message (default is \"Hello\").\n",
    "\n",
    "    Returns:\n",
    "    - None (prints the greeting)\n",
    "    \"\"\"\n",
    "    print(f\"{greeting}, {name}!\")\n",
    "\n",
    "# Example usage:\n",
    "greet(\"Alice\")            # Uses the default value for 'greeting'\n",
    "greet(\"Bob\", \"Hi\")        # Provides both 'name' and 'greeting'\n"
   ]
  },
  {
   "cell_type": "markdown",
   "id": "086886cf",
   "metadata": {},
   "source": [
    "### 3)How do you use keyword arguments in Python function calls? Provide an example."
   ]
  },
  {
   "cell_type": "code",
   "execution_count": 22,
   "id": "7fe525b8",
   "metadata": {},
   "outputs": [
    {
     "name": "stdout",
     "output_type": "stream",
     "text": [
      "The total price is: $98.00\n"
     ]
    }
   ],
   "source": [
    "def calculate_total(price, tax_rate, discount=0):\n",
    "    \"\"\"\n",
    "    Calculate the total price after applying tax and discount.\n",
    "\n",
    "    Parameters:\n",
    "    - price: Base price of the item.\n",
    "    - tax_rate: Tax rate as a decimal (e.g., 0.08 for 8% tax).\n",
    "    - discount: Discount amount (default is 0).\n",
    "\n",
    "    Returns:\n",
    "    - Total price after tax and discount.\n",
    "    \"\"\"\n",
    "    total = price + (price * tax_rate)\n",
    "    total -= discount\n",
    "    return total\n",
    "\n",
    "# Using keyword arguments in function call\n",
    "total_price = calculate_total(price=100, tax_rate=0.08, discount=10)\n",
    "\n",
    "# Print the result\n",
    "print(f\"The total price is: ${total_price:.2f}\")\n",
    "\n"
   ]
  },
  {
   "cell_type": "code",
   "execution_count": 28,
   "id": "470d719d",
   "metadata": {},
   "outputs": [
    {
     "name": "stdout",
     "output_type": "stream",
     "text": [
      "the total price is using mix of positional and keyword arguments : $206.00\n"
     ]
    }
   ],
   "source": [
    "# Using a mix of positional and keyword arguments\n",
    "total_price = calculate_total(200, tax_rate=0.08, discount=10)\n",
    "print(f\"the total price is using mix of positional and keyword arguments : ${total_price:.2f}\")"
   ]
  },
  {
   "cell_type": "markdown",
   "id": "a2a641e8",
   "metadata": {},
   "source": [
    "### 4)Create a Python function that accepts a variable number of arguments and calculates their sum."
   ]
  },
  {
   "cell_type": "code",
   "execution_count": 37,
   "id": "5bc74781",
   "metadata": {},
   "outputs": [
    {
     "name": "stdout",
     "output_type": "stream",
     "text": [
      "enter values : 4 3 2 1\n",
      "10\n"
     ]
    }
   ],
   "source": [
    "def cal_sum(*args):\n",
    "    return sum(args)\n",
    "\n",
    "numbers = input(\"enter values : \").split()\n",
    "numbers_list = [int(i) for i in numbers ]\n",
    "result = cal_sum(*numbers_list)\n",
    "print(result)"
   ]
  },
  {
   "cell_type": "markdown",
   "id": "6500c4c2",
   "metadata": {},
   "source": [
    "### 5)What is the purpose of the `*args` and `**kwargs` syntax in function parameter lists?"
   ]
  },
  {
   "cell_type": "raw",
   "id": "cae46a7b",
   "metadata": {},
   "source": [
    "\n",
    "In Python, *args and **kwargs are used in function parameter lists to allow functions to accept a variable number of arguments. They provide a flexible way to define functions that can take different numbers of positional and keyword arguments.\n",
    "\n",
    "*args: Variable Positional Arguments:\n",
    "\n",
    "The *args syntax allows a function to accept any number of positional arguments. When a function is defined with *args in its parameter list, it can be called with any number of positional arguments, and those arguments will be collected into a tuple.\n",
    "\n",
    "**kwargs: Variable Keyword Arguments:\n",
    "\n",
    "The **kwargs syntax allows a function to accept any number of keyword arguments. When a function is defined with **kwargs in its parameter list, it can be called with any number of keyword arguments, and those arguments will be collected into a dictionary."
   ]
  },
  {
   "cell_type": "code",
   "execution_count": 39,
   "id": "6a75c6c4",
   "metadata": {},
   "outputs": [
    {
     "name": "stdout",
     "output_type": "stream",
     "text": [
      "(1, 2)\n",
      "{'name': 'Alice', 'age': 25}\n"
     ]
    }
   ],
   "source": [
    "#example\n",
    "def example_function(*args, **kwargs):\n",
    "    print(args)\n",
    "    print(kwargs)\n",
    "\n",
    "example_function(1, 2, name='Alice', age=25)\n",
    "\n"
   ]
  },
  {
   "cell_type": "markdown",
   "id": "6f9e250c",
   "metadata": {},
   "source": [
    "## Return Values and Scoping:"
   ]
  },
  {
   "cell_type": "markdown",
   "id": "37c84208",
   "metadata": {},
   "source": [
    "### 1)Describe the role of the `return` statement in Python functions and provide examples."
   ]
  },
  {
   "cell_type": "raw",
   "id": "4a922574",
   "metadata": {},
   "source": [
    "In Python, the return statement is used in functions to specify the value(s) that the function should produce or send back when it is called. It allows a function to compute a result and provide that result to the caller, making the function's output accessible for further use in the program.\n",
    "\n",
    "Here are the key aspects and examples of the return statement:\n",
    "\n",
    "Role of return:\n",
    "\n",
    "The return statement marks the end of a function's execution, and it can be followed by an expression or a sequence of expressions.\n",
    "The value(s) specified in the return statement are the output of the function, which can be assigned to a variable, used in expressions, or otherwise manipulated in the calling code."
   ]
  },
  {
   "cell_type": "code",
   "execution_count": 40,
   "id": "acfbde55",
   "metadata": {},
   "outputs": [
    {
     "name": "stdout",
     "output_type": "stream",
     "text": [
      "8\n"
     ]
    }
   ],
   "source": [
    "#examples\n",
    "#returning a single value\n",
    "def add(x,y):\n",
    "    return x+y\n",
    "result = add(5,3)\n",
    "print(result)"
   ]
  },
  {
   "cell_type": "code",
   "execution_count": 44,
   "id": "1e39de2f",
   "metadata": {},
   "outputs": [
    {
     "name": "stdout",
     "output_type": "stream",
     "text": [
      "('Prasad', 'ayithireddy', 19)\n"
     ]
    }
   ],
   "source": [
    "#returning multiple values\n",
    "def show():\n",
    "    name = \"Prasad\"\n",
    "    surname = \"ayithireddy\"\n",
    "    age = 19\n",
    "    return name,surname,age\n",
    "result = show()\n",
    "print(result)"
   ]
  },
  {
   "cell_type": "code",
   "execution_count": 47,
   "id": "57ed3ca8",
   "metadata": {},
   "outputs": [
    {
     "name": "stdout",
     "output_type": "stream",
     "text": [
      "2.0\n"
     ]
    }
   ],
   "source": [
    "#return early(with conditional):\n",
    "def divide_numbers(x,y):\n",
    "    if y==0:\n",
    "        print(\"cannot divide by zero!\")\n",
    "        return \n",
    "    result = x/y\n",
    "    return result\n",
    "result = divide_numbers(6,3)\n",
    "print(result)"
   ]
  },
  {
   "cell_type": "code",
   "execution_count": 48,
   "id": "e86b5085",
   "metadata": {},
   "outputs": [
    {
     "name": "stdout",
     "output_type": "stream",
     "text": [
      "Is 7 even? False\n"
     ]
    }
   ],
   "source": [
    "#returning boolean values\n",
    "def is_even(number):\n",
    "    return number % 2 == 0\n",
    "\n",
    "result = is_even(7)\n",
    "print(f\"Is 7 even? {result}\")  # Output: Is 7 even? False\n"
   ]
  },
  {
   "cell_type": "code",
   "execution_count": 49,
   "id": "24de6637",
   "metadata": {},
   "outputs": [
    {
     "name": "stdout",
     "output_type": "stream",
     "text": [
      "Even numbers up to 10: [2, 4, 6, 8, 10]\n"
     ]
    }
   ],
   "source": [
    "#returning a list\n",
    "def generate_even_numbers(limit):\n",
    "    even_numbers = [num for num in range(1, limit + 1) if num % 2 == 0]\n",
    "    return even_numbers\n",
    "\n",
    "even_numbers_list = generate_even_numbers(10)\n",
    "print(f\"Even numbers up to 10: {even_numbers_list}\")  # Output: Even numbers up to 10: [2, 4, 6, 8, 10]\n"
   ]
  },
  {
   "cell_type": "code",
   "execution_count": 54,
   "id": "6351529d",
   "metadata": {},
   "outputs": [
    {
     "name": "stdout",
     "output_type": "stream",
     "text": [
      "Person Information using dictionary format: {'name': 'Bob', 'age': 30}\n",
      "doing something\n",
      "the result using none return : None\n",
      "doing Something\n",
      "the result is without using none return : None.\n"
     ]
    }
   ],
   "source": [
    "#returning a dictionary\n",
    "def create_person(name, age):\n",
    "    person_dict = {'name': name, 'age': age}\n",
    "    return person_dict\n",
    "\n",
    "person_info = create_person(\"Bob\", 30)\n",
    "print(f\"Person Information using dictionary format: {person_info}\")  # Output: Person Information: {'name': 'Bob', 'age': 30}\n",
    "\n",
    "#returning None(implicitly)\n",
    "def do():\n",
    "    print(\"doing something\")\n",
    "    \n",
    "result = do()\n",
    "print(f\"the result using none return : {result}\")\n",
    "\n",
    "#returning None (explicitly)\n",
    "def do_some():\n",
    "    print(\"doing Something\")\n",
    "    return None\n",
    "\n",
    "result = do_some()\n",
    "print(f\"the result is without using none return : {result}.\")"
   ]
  },
  {
   "cell_type": "markdown",
   "id": "b5ff1503",
   "metadata": {},
   "source": [
    "### 2)Explain the concept of variable scope in Python, including local and global variables."
   ]
  },
  {
   "cell_type": "raw",
   "id": "dc1cec8f",
   "metadata": {},
   "source": [
    "In Python, variable scope refers to the region of a program where a variable is accessible or visible. The scope of a variable determines where it can be used and modified within the code. Python has two main types of variable scope: local scope and global scope.\n",
    "\n",
    "Local Variable Scope:\n",
    "\n",
    "Definition: A local variable is a variable defined within a specific block of code, such as inside a function or a loop. It is only accessible and visible within that block.\n",
    "    \n",
    "Scope Duration: The local scope of a variable exists only during the execution of the block in which it is defined.\n",
    "\n",
    "Global Variable Scope:\n",
    "\n",
    "Definition: A global variable is a variable defined outside any function or block. It is accessible throughout the entire program.\n",
    "Scope Duration: The global scope of a variable exists for the entire duration of the program."
   ]
  },
  {
   "cell_type": "markdown",
   "id": "a1b85590",
   "metadata": {},
   "source": [
    "### 3)Write a Python program that demonstrates the use of global variables within functions."
   ]
  },
  {
   "cell_type": "code",
   "execution_count": 55,
   "id": "1d28fbb9",
   "metadata": {},
   "outputs": [
    {
     "name": "stdout",
     "output_type": "stream",
     "text": [
      "20\n",
      "20\n"
     ]
    }
   ],
   "source": [
    "# Global variable 'y'\n",
    "y = 20\n",
    "\n",
    "def example_function():\n",
    "    # Accessing the global variable 'y' within the function\n",
    "    print(y)\n",
    "\n",
    "example_function()\n",
    "# Global variable 'y' is also accessible outside the function\n",
    "print(y)\n"
   ]
  },
  {
   "cell_type": "markdown",
   "id": "80383c61",
   "metadata": {},
   "source": [
    "### 4)Create a Python function that calculates the factorial of a number and returns it.\n"
   ]
  },
  {
   "cell_type": "code",
   "execution_count": 59,
   "id": "2a796770",
   "metadata": {},
   "outputs": [
    {
     "name": "stdout",
     "output_type": "stream",
     "text": [
      "120\n"
     ]
    }
   ],
   "source": [
    "def fact(num):\n",
    "    if num == 1:\n",
    "        return 1\n",
    "    else:\n",
    "        return num*fact(num-1)\n",
    "\n",
    "result= fact(5)\n",
    "print(result)"
   ]
  },
  {
   "cell_type": "markdown",
   "id": "68d00f57",
   "metadata": {},
   "source": [
    "### 5)How can you access variables defined outside a function from within the function?"
   ]
  },
  {
   "cell_type": "raw",
   "id": "8f9be541",
   "metadata": {},
   "source": [
    "In Python, you can access variables defined outside a function from within the function using the concept of variable scope. Here are the ways you can achieve this:\n",
    "    1)global varaibles\n",
    "    2)passing as arguments\n",
    "    3)using global keyword"
   ]
  },
  {
   "cell_type": "code",
   "execution_count": 60,
   "id": "be14c15b",
   "metadata": {},
   "outputs": [
    {
     "name": "stdout",
     "output_type": "stream",
     "text": [
      "Accessing global_variable from within the function: 42\n",
      "Accessing the argument from within the function: 100\n",
      "Modified global_variable from within the function: 43\n"
     ]
    }
   ],
   "source": [
    "#1)\n",
    "global_variable = 42\n",
    "\n",
    "def access_global_variable():\n",
    "    print(\"Accessing global_variable from within the function:\", global_variable)\n",
    "\n",
    "access_global_variable()\n",
    "\n",
    "#2)\n",
    "outside_variable = 100\n",
    "\n",
    "def use_argument(argument):\n",
    "    print(\"Accessing the argument from within the function:\", argument)\n",
    "\n",
    "use_argument(outside_variable)\n",
    "\n",
    "#3)\n",
    "global_variable = 42\n",
    "\n",
    "def modify_global_variable():\n",
    "    global global_variable\n",
    "    global_variable += 1\n",
    "    print(\"Modified global_variable from within the function:\", global_variable)\n",
    "\n",
    "modify_global_variable()\n"
   ]
  },
  {
   "cell_type": "markdown",
   "id": "f9c9a841",
   "metadata": {},
   "source": [
    "##  Lambda Functions and Higher-Order Functions:"
   ]
  },
  {
   "cell_type": "markdown",
   "id": "7c98e4f7",
   "metadata": {},
   "source": [
    "### 1)What are lambda functions in Python, and when are they typically used?\n"
   ]
  },
  {
   "cell_type": "raw",
   "id": "027c772b",
   "metadata": {},
   "source": [
    "Lambda functions in Python are anonymous functions defined using the lambda keyword. Unlike regular functions created using the def keyword, lambda functions are concise and are often used for short-term operations where a full function definition seems overly verbose.\n",
    "\n",
    "The basic syntax of a lambda function is:\n",
    "\n",
    "lambda arguments: expression\n",
    "\n",
    "Here, arguments are the input parameters, and expression is the operation to be performed on these arguments. Lambda functions can take any number of arguments but can only have one expression.\n",
    "\n",
    "Lambda functions are typically used in the following scenarios:\n",
    "\n",
    "Anonymous Functions:\n",
    "\n",
    "Lambda functions are useful when you need a small, anonymous function for a short duration and don't want to formally define a full function using def.\n",
    "They are handy for quick operations or one-liners.\n",
    "\n",
    "Functional Programming:\n",
    "\n",
    "Lambda functions are often used in functional programming constructs like map, filter, and reduce.\n",
    "\n",
    "Sort Functions:\n",
    "\n",
    "Lambda functions are commonly used as the key argument in sorting functions to customize the sorting criteria."
   ]
  },
  {
   "cell_type": "markdown",
   "id": "478585b4",
   "metadata": {},
   "source": [
    "### 2)Write a Python program that uses lambda functions to sort a list of tuples based on the second element."
   ]
  },
  {
   "cell_type": "code",
   "execution_count": 62,
   "id": "f5ed7c12",
   "metadata": {},
   "outputs": [
    {
     "name": "stdout",
     "output_type": "stream",
     "text": [
      "[(1, 0, 4), (6, 1, 7), (1, 2, 3)]\n"
     ]
    }
   ],
   "source": [
    "lst = [(1,2,3),(6,1,7),(1,0,4)]\n",
    "result = sorted(lst,key = lambda x : x[1])\n",
    "print(result)"
   ]
  },
  {
   "cell_type": "markdown",
   "id": "98a01434",
   "metadata": {},
   "source": [
    "### 3)Explain the concept of higher-order functions in Python, and provide an example."
   ]
  },
  {
   "cell_type": "raw",
   "id": "f6a2d11b",
   "metadata": {},
   "source": [
    "In Python, a higher-order function is a function that can take other functions as arguments or return functions as results. This concept is part of functional programming and allows for more flexible and modular code. Higher-order functions treat functions as first-class citizens, meaning they can be used in the same way as other data types, such as integers or strings.\n",
    "\n",
    "Here's an example to illustrate the concept of higher-order functions:"
   ]
  },
  {
   "cell_type": "code",
   "execution_count": 65,
   "id": "a7d7d117",
   "metadata": {},
   "outputs": [
    {
     "name": "stdout",
     "output_type": "stream",
     "text": [
      "even numbers list : [2, 4, 6, 4, 8, 20]\n"
     ]
    }
   ],
   "source": [
    "#example\n",
    "def filter_numbers(numbers,condition):\n",
    "    return [num for num in numbers if condition(num)]\n",
    "\n",
    "numbers_lst = [1,2,4,5,6,7,4,8,20]\n",
    "\n",
    "even_condition = lambda x : x%2==0\n",
    "\n",
    "result = filter_numbers(numbers_lst,even_condition)\n",
    "\n",
    "print(f\"even numbers list : {result}\")"
   ]
  },
  {
   "cell_type": "markdown",
   "id": "51795337",
   "metadata": {},
   "source": [
    "### 4)Create a Python function that takes a list of numbers and a function as arguments, applying the function to each element in the list."
   ]
  },
  {
   "cell_type": "code",
   "execution_count": 68,
   "id": "3a5506c6",
   "metadata": {},
   "outputs": [
    {
     "name": "stdout",
     "output_type": "stream",
     "text": [
      "after applying the condition :[3, 4, 5, 6, 7]\n"
     ]
    }
   ],
   "source": [
    "def original_function(lst_numbers,con_function):\n",
    "    return [con_function(i) for i in lst_numbers]\n",
    "\n",
    "lst = [1,2,3,4,5]\n",
    "dup_function = lambda x : x+2\n",
    "result = original_function(lst,dup_function)\n",
    "\n",
    "print(f\"after applying the condition :{result}\")"
   ]
  },
  {
   "cell_type": "markdown",
   "id": "a73d5af3",
   "metadata": {},
   "source": [
    "## Built-in Functions:"
   ]
  },
  {
   "cell_type": "markdown",
   "id": "0860abe1",
   "metadata": {},
   "source": [
    "### 1)Describe the role of built-in functions like `len()`, `max()`, and `min()` in Python."
   ]
  },
  {
   "cell_type": "raw",
   "id": "338e33e3",
   "metadata": {},
   "source": [
    "Built-in functions like len(), max(), and min() play a crucial role in Python as they provide essential functionality for common operations on data structures. Here's a brief description of each:\n",
    "\n",
    "1)len(iterable) - Length Function:\n",
    "\n",
    "Role: Calculates and returns the number of items in an iterable (sequence or collection).\n",
    "\n",
    "Purpose: Useful for determining the size or length of data structures like lists, strings, tuples, etc.\n",
    "\n",
    "2)max(iterable, *args, key=None, default=None) - Maximum Function:\n",
    "\n",
    "Role: Finds and returns the largest item in an iterable or the largest of two or more arguments\n",
    "\n",
    "Purpose: Commonly used to identify the maximum value within a collection of comparable elements.\n",
    "\n",
    "3)min(iterable, *args, key=None, default=None) - Minimum Function:\n",
    "\n",
    "Role: Identifies and returns the smallest item in an iterable or the smallest of two or more arguments.\n",
    "\n",
    "Purpose: Frequently employed to determine the minimum value within a collection of comparable elements.\n",
    "\n",
    "\n",
    "These built-in functions are essential for performing basic statistical and informational operations on iterable data structures, contributing to the readability and efficiency of Python code"
   ]
  },
  {
   "cell_type": "markdown",
   "id": "3de22f6c",
   "metadata": {},
   "source": [
    "### 2)Write a Python program that uses the `map()` function to apply a function to each element of a list."
   ]
  },
  {
   "cell_type": "code",
   "execution_count": 69,
   "id": "d05b0881",
   "metadata": {},
   "outputs": [
    {
     "name": "stdout",
     "output_type": "stream",
     "text": [
      "[4, 16, 36, 49, 1, 900]\n"
     ]
    }
   ],
   "source": [
    "lst = [2,4,6,7,1,30]\n",
    "result = list(map(lambda x : x**2,lst))\n",
    "print(result)"
   ]
  },
  {
   "cell_type": "markdown",
   "id": "eee2e0a3",
   "metadata": {},
   "source": [
    "### 3)How does the `filter()` function work in Python, and when would you use it?"
   ]
  },
  {
   "cell_type": "raw",
   "id": "2eb3cc03",
   "metadata": {},
   "source": [
    "The filter() function in Python is used to construct an iterator from elements of an iterable for which a function returns true. It filters out the elements of an iterable based on a specified condition. The syntax of the filter() function is as follows:\n",
    "\n",
    "filter(function, iterable)\n",
    "\n",
    "function: A function that tests whether each element of an iterable is true or false. If None, it simply returns the elements of the iterable that are true.\n",
    "iterable: An iterable (e.g., a list, tuple, set) whose elements are tested by the provided function.\n",
    "\n",
    "Common use cases for the filter() function include:\n",
    "\n",
    "Filtering based on a condition: You can use filter() to extract elements from a collection that meet a specific condition, making it useful for data filtering.\n",
    "\n",
    "Removing unwanted elements: filter() is handy when you want to exclude certain elements from a collection based on a criterion.\n",
    "\n",
    "Simplifying code: Using filter() can often lead to more concise and readable code compared to using a loop or list comprehensions for filtering.\n",
    "\n",
    "In Python 3, filter() returns an iterator, so you might need to convert it to a list if you want to see the filtered results."
   ]
  },
  {
   "cell_type": "code",
   "execution_count": 71,
   "id": "d730a88b",
   "metadata": {},
   "outputs": [
    {
     "name": "stdout",
     "output_type": "stream",
     "text": [
      "[4, 6, 7, 1, 2]\n"
     ]
    }
   ],
   "source": [
    "#example\n",
    "lst = [-2,-3,4,6,7,-8,1,2,-100]\n",
    "\n",
    "#here i am filtering elements only positive elements based on a condition\n",
    "result = list(filter(lambda x : x>0,lst))\n",
    "\n",
    "print(result)"
   ]
  },
  {
   "cell_type": "markdown",
   "id": "b469d50e",
   "metadata": {},
   "source": [
    "### 4)Create a Python program that uses the `reduce()` function to find the product of all elements in a list."
   ]
  },
  {
   "cell_type": "code",
   "execution_count": 76,
   "id": "b48c6c95",
   "metadata": {},
   "outputs": [
    {
     "name": "stdout",
     "output_type": "stream",
     "text": [
      "120\n"
     ]
    }
   ],
   "source": [
    "from functools import reduce \n",
    "lst = [1,2,3,4,5]\n",
    "\n",
    "result = reduce(lambda x,y : x*y , lst)\n",
    "print(result)"
   ]
  },
  {
   "cell_type": "markdown",
   "id": "a6dfb9f1",
   "metadata": {},
   "source": [
    "## Function Documentation and Best Practices:\n"
   ]
  },
  {
   "cell_type": "markdown",
   "id": "8205ff8a",
   "metadata": {},
   "source": [
    "### 1)Explain the purpose of docstrings in Python functions and how to write them."
   ]
  },
  {
   "cell_type": "raw",
   "id": "99af927c",
   "metadata": {},
   "source": [
    "Docstrings in Python are used to provide documentation for functions, modules, classes, or methods. They serve the purpose of explaining the functionality, usage, and other details of the code to both developers and users. Docstrings are written as strings enclosed in triple quotes (''' or \"\"\") and are placed immediately after the function, module, class, or method definition.\n",
    "\n",
    "The primary purposes of docstrings are:\n",
    "\n",
    "Documentation: Docstrings serve as a form of inline documentation, helping developers understand how to use a function or module without needing to inspect the source code.\n",
    "\n",
    "Readability: Well-written docstrings enhance code readability, making it easier for others (or even yourself) to understand the purpose and usage of the code.\n",
    "\n",
    "Autogeneration of Documentation: Docstrings can be used by documentation tools like Sphinx to automatically generate documentation in various formats (HTML, PDF, etc.).\n",
    "\n",
    "Here's an example of a simple docstring for a Python function:"
   ]
  },
  {
   "cell_type": "code",
   "execution_count": 78,
   "id": "5d184043",
   "metadata": {},
   "outputs": [
    {
     "name": "stdout",
     "output_type": "stream",
     "text": [
      "4\n"
     ]
    }
   ],
   "source": [
    "#example\n",
    "def add(x, y):\n",
    "    \"\"\"\n",
    "    This function takes two parameters, x and y, and returns their sum.\n",
    "\n",
    "    Parameters:\n",
    "    - x (int): The first number.\n",
    "    - y (int): The second number.\n",
    "\n",
    "    Returns:\n",
    "    int: The sum of x and y.\n",
    "    \"\"\"\n",
    "    return x + y\n",
    "\n",
    "print(add(1,3))"
   ]
  },
  {
   "cell_type": "code",
   "execution_count": 80,
   "id": "64dad2bc",
   "metadata": {},
   "outputs": [
    {
     "name": "stdout",
     "output_type": "stream",
     "text": [
      "Help on function add in module __main__:\n",
      "\n",
      "add(x, y)\n",
      "    This function takes two parameters, x and y, and returns their sum.\n",
      "    \n",
      "    Parameters:\n",
      "    - x (int): The first number.\n",
      "    - y (int): The second number.\n",
      "    \n",
      "    Returns:\n",
      "    int: The sum of x and y.\n",
      "\n",
      "\n",
      "    This function takes two parameters, x and y, and returns their sum.\n",
      "\n",
      "    Parameters:\n",
      "    - x (int): The first number.\n",
      "    - y (int): The second number.\n",
      "\n",
      "    Returns:\n",
      "    int: The sum of x and y.\n",
      "    \n"
     ]
    }
   ],
   "source": [
    "help(add)\n",
    "print((add.__doc__))"
   ]
  },
  {
   "cell_type": "markdown",
   "id": "d6b36624",
   "metadata": {},
   "source": [
    "### 2)Describe some best practices for naming functions and variables in Python, including naming conventions and guidelines."
   ]
  },
  {
   "cell_type": "raw",
   "id": "0a3082c6",
   "metadata": {},
   "source": [
    "\n",
    "Naming conventions and guidelines for functions and variables in Python contribute to code readability and maintainability. Following consistent and clear naming practices makes it easier for others (and yourself) to understand the purpose and usage of your code. Here are some best practices for naming functions and variables in Python:\n",
    "\n",
    "Functions:\n",
    "Use Descriptive Names:\n",
    "\n",
    "Choose names that clearly convey the purpose or action of the function.\n",
    "Avoid generic names like foo or bar unless used for illustrative purposes.\n",
    "\n",
    "Follow Snake Case:\n",
    "\n",
    "Use snake_case for function names (e.g., calculate_sum, process_data).\n",
    "Lowercase letters with underscores between words improve readability.\n",
    "\n",
    "Verb-Noun Naming:\n",
    "\n",
    "Use a verb-noun naming pattern to indicate actions performed by the function (e.g., calculate_total, validate_input).\n",
    "\n",
    "Be Consistent:\n",
    "\n",
    "Follow consistent naming patterns across your codebase for coherence.\n",
    "\n",
    "Avoid Abbreviations (unless widely accepted):\n",
    "\n",
    "Use full words instead of abbreviations to make code more accessible.\n",
    "Exceptions include widely accepted abbreviations like HTML, API, etc.\n",
    "\n",
    "\n",
    "Variables:\n",
    "\n",
    "Use Descriptive Names:\n",
    "\n",
    "Similar to functions, choose variable names that clearly describe the data they represent.\n",
    "\n",
    "Follow Snake Case:\n",
    "\n",
    "Use snake_case for variable names (e.g., user_age, total_amount).\n",
    "\n",
    "Avoid Single-Letter Names:\n",
    "\n",
    "Exceptions are made for iterators (i, j, k), but in most cases, prefer descriptive names.\n",
    "\n",
    "Use Meaningful Context:\n",
    "\n",
    "Incorporate context into variable names to clarify their purpose.\n",
    "For example, use customer_name instead of just name.\n",
    "\n",
    "Be Mindful of Scope:\n",
    "\n",
    "Choose variable names that reflect their scope (e.g., global vs. local).\n",
    "\n",
    "Avoid Reserved Words:\n",
    "\n",
    "Avoid using Python keywords or built-in function names as variable names.\n",
    "\n",
    "General Naming Practices:\n",
    "\n",
    "Use Consistent Casing:\n",
    "\n",
    "Stick to the same casing style throughout your codebase.\n",
    "Prefer snake_case for functions and variables, and CamelCase for classes (following PEP 8).\n",
    "\n",
    "Follow PEP 8 Guidelines:\n",
    "\n",
    "Adhere to the PEP 8 style guide for Python code.\n",
    "PEP 8 provides recommendations for naming conventions, indentation, and other aspects of Python code style.\n",
    "\n",
    "Consider Code Reviews:\n",
    "\n",
    "Code is often read more than it's written. Write code with the understanding that someone else (or future you) will need to comprehend and maintain it.\n",
    "By following these best practices, you can create Python code that is more readable, maintainable, and accessible to others in the development community. Consistency in naming conventions across projects also contributes to a unified and professional coding style."
   ]
  },
  {
   "cell_type": "code",
   "execution_count": null,
   "id": "29f695e7",
   "metadata": {},
   "outputs": [],
   "source": []
  }
 ],
 "metadata": {
  "kernelspec": {
   "display_name": "Python 3 (ipykernel)",
   "language": "python",
   "name": "python3"
  },
  "language_info": {
   "codemirror_mode": {
    "name": "ipython",
    "version": 3
   },
   "file_extension": ".py",
   "mimetype": "text/x-python",
   "name": "python",
   "nbconvert_exporter": "python",
   "pygments_lexer": "ipython3",
   "version": "3.11.4"
  }
 },
 "nbformat": 4,
 "nbformat_minor": 5
}
