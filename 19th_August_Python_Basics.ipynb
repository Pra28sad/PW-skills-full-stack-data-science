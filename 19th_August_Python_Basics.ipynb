{
  "nbformat": 4,
  "nbformat_minor": 0,
  "metadata": {
    "colab": {
      "provenance": []
    },
    "kernelspec": {
      "name": "python3",
      "display_name": "Python 3"
    },
    "language_info": {
      "name": "python"
    }
  },
  "cells": [
    {
      "cell_type": "markdown",
      "source": [
        "# **PYTHON BASICS ASSIGNMENT**"
      ],
      "metadata": {
        "id": "pFg_7-Lujxv5"
      }
    },
    {
      "cell_type": "markdown",
      "source": [
        "## **TOPIC : Python Basics Variable**"
      ],
      "metadata": {
        "id": "48Fsdl9ukRaV"
      }
    },
    {
      "cell_type": "markdown",
      "source": [
        "### 1. Declare two variables, `x` and `y`, and assign them integer values. Swap the values of these variables without using any temporary variable."
      ],
      "metadata": {
        "id": "rxKs3f5SkpPa"
      }
    },
    {
      "cell_type": "code",
      "execution_count": 29,
      "metadata": {
        "colab": {
          "base_uri": "https://localhost:8080/"
        },
        "id": "zSxuOQJAi6zA",
        "outputId": "1acfec56-b61b-429f-ac5f-d186e7e0e225"
      },
      "outputs": [
        {
          "output_type": "stream",
          "name": "stdout",
          "text": [
            "Before swapping 'x' variable :  56\n",
            "Before swapping 'y' variable :  75\n",
            "\n",
            "After swapping 'x' variable :  75\n",
            "After swapping 'y' variable :  56\n"
          ]
        }
      ],
      "source": [
        "# declaring two variables x and y\n",
        "\n",
        "x = 56\n",
        "y = 75\n",
        "\n",
        "# Displaying the result before swapping\n",
        "print(\"Before swapping 'x' variable : \",x)\n",
        "print(\"Before swapping 'y' variable : \",y)\n",
        "\n",
        "x,y = y,x   # swapping two variables without using temporary variable\n",
        "\n",
        "# Displaying the result after swapping\n",
        "print(\"\\nAfter swapping 'x' variable : \",x)\n",
        "print(\"After swapping 'y' variable : \",y)"
      ]
    },
    {
      "cell_type": "markdown",
      "source": [
        "### 2. Create a program that calculates the area of a rectangle. Take the length and width as inputs from the user and store them in variables. Calculate and display the area."
      ],
      "metadata": {
        "id": "_lx5Url5mFi9"
      }
    },
    {
      "cell_type": "code",
      "source": [
        "\\# taking inputs(length,width) from user\n",
        "\n",
        "length = float(input(\"Enter length of a rectangle : \"))\n",
        "width = float(input(\"Enter width of a rectangle : \"))\n",
        "\n",
        "area = length * width  # calculating area\n",
        "\n",
        "print(\"\\nThe area of rectangle is : \",area) # Displaying the result"
      ],
      "metadata": {
        "colab": {
          "base_uri": "https://localhost:8080/"
        },
        "id": "dhYkz9Drmd3h",
        "outputId": "6f3264ce-dc18-42a5-f6ce-86ce85471cf1"
      },
      "execution_count": 27,
      "outputs": [
        {
          "output_type": "stream",
          "name": "stdout",
          "text": [
            "Enter length of a rectangle : 6\n",
            "Enter width of a rectangle : 34\n",
            "\n",
            "The area of rectangle is :  204.0\n"
          ]
        }
      ]
    },
    {
      "cell_type": "markdown",
      "source": [
        "### 3. Write a Python program that converts temperatures from Celsius to Fahrenheit. Take the temperature in Celsius as input, store it in a variable, convert it to Fahrenheit, and display the result."
      ],
      "metadata": {
        "id": "61m3mGGYkOaB"
      }
    },
    {
      "cell_type": "code",
      "source": [
        "# taking the temperature in Celsius from the user\n",
        "celsius = float(input(\"Enter the temperature in Celsius: \"))\n",
        "\n",
        "# Converting the temperature from Celsius to Fahrenheit using the formula : F = (C * 9/5) + 32\n",
        "fahrenheit = (celsius * 9/5) + 32\n",
        "\n",
        "# Displaying the result\n",
        "print(celsius,\" degrees Celsius is equal to \",fahrenheit ,\"degrees Fahrenheit.\")\n"
      ],
      "metadata": {
        "colab": {
          "base_uri": "https://localhost:8080/"
        },
        "id": "Lm06prF1kKuC",
        "outputId": "90ee5d54-9693-4981-c435-d2a742641359"
      },
      "execution_count": 30,
      "outputs": [
        {
          "output_type": "stream",
          "name": "stdout",
          "text": [
            "Enter the temperature in Celsius: 43.5\n",
            "43.5  degrees Celsius is equal to  110.3 degrees Fahrenheit.\n"
          ]
        }
      ]
    },
    {
      "cell_type": "markdown",
      "source": [
        "## **TOPIC : String Based Questions**"
      ],
      "metadata": {
        "id": "9u_XlhFaqiHD"
      }
    },
    {
      "cell_type": "markdown",
      "source": [
        "### 1. Write a Python program that takes a string as input and prints the length of the string."
      ],
      "metadata": {
        "id": "GA4LSCzrrAjX"
      }
    },
    {
      "cell_type": "code",
      "source": [
        "# taking string as a input from user\n",
        "string = input(\"enter a string : \")\n",
        "\n",
        "# calculating the length of string using len() function\n",
        "length = len(string)\n",
        "\n",
        "print(\"Length of The string : \",length) # displaying the result"
      ],
      "metadata": {
        "colab": {
          "base_uri": "https://localhost:8080/"
        },
        "id": "gm_V6UOXqCt_",
        "outputId": "5e742e9a-f3a8-4e9c-d369-0e7fc9f6bbca"
      },
      "execution_count": 9,
      "outputs": [
        {
          "output_type": "stream",
          "name": "stdout",
          "text": [
            "enter a string : prasad\n",
            "Length of The string :  6\n"
          ]
        }
      ]
    },
    {
      "cell_type": "markdown",
      "source": [
        "### 2. Create a program that takes a sentence from the user and counts the number of vowels (a, e, i, o, u) in the string."
      ],
      "metadata": {
        "id": "KEnn4s1Vr60E"
      }
    },
    {
      "cell_type": "code",
      "source": [
        "# taking sentence from user\n",
        "string = input(\"Enter string : \")\n",
        "\n",
        "# converting the sentence into lower case to make case-sensitive\n",
        "string=string.lower()\n",
        "\n",
        "# counting vowels\n",
        "count = string.count(\"a\")+string.count(\"e\")+string.count(\"i\")+string.count(\"o\")+string.count(\"u\")\n",
        "\n",
        "print(count) # displaying result"
      ],
      "metadata": {
        "colab": {
          "base_uri": "https://localhost:8080/"
        },
        "id": "jaDuwTXWr3H_",
        "outputId": "0c58bab9-7f40-4973-c5a7-77f8c7ddee14"
      },
      "execution_count": 13,
      "outputs": [
        {
          "output_type": "stream",
          "name": "stdout",
          "text": [
            "Enter string : Prasad Reddy\n",
            "3\n"
          ]
        }
      ]
    },
    {
      "cell_type": "markdown",
      "source": [
        "### 3. Given a string, reverse the order of characters using string slicing and print the reversed string."
      ],
      "metadata": {
        "id": "yxqiKi0R9s7P"
      }
    },
    {
      "cell_type": "code",
      "source": [
        "string = \"Prasad Ayithireddy\"\n",
        "\n",
        "# converting string to reverse string using slicing\n",
        "r_string = string[::-1]\n",
        "\n",
        "print(\"the reverse of a string is : \",r_string) # displaying the result"
      ],
      "metadata": {
        "colab": {
          "base_uri": "https://localhost:8080/"
        },
        "id": "1a6ymCdg72Lh",
        "outputId": "58159570-07bb-4689-c7c3-39bfb5db17d7"
      },
      "execution_count": 17,
      "outputs": [
        {
          "output_type": "stream",
          "name": "stdout",
          "text": [
            "the reverse of a string is :  ydderihtiyA dasarP\n"
          ]
        }
      ]
    },
    {
      "cell_type": "markdown",
      "source": [
        "### 4. Write a program that takes a string as input and checks if it is a palindrome (reads the same forwards and backwards)."
      ],
      "metadata": {
        "id": "pEjNz96d-013"
      }
    },
    {
      "cell_type": "code",
      "source": [
        "# taking string as input from user\n",
        "string = input(\"enter string : \")\n",
        "\n",
        "p_string = string[::-1] # storing the string from backward using slicing\n",
        "\n",
        "#checking palindrome string using condition statements\n",
        "if p_string == string :\n",
        "  print(\"Given string is palindrome \")\n",
        "else:\n",
        "  print(\"Given string is not palindrome \")\n"
      ],
      "metadata": {
        "colab": {
          "base_uri": "https://localhost:8080/"
        },
        "id": "OLaNm0wS-Wb5",
        "outputId": "3653ffca-7c4c-48e7-b1cc-1d3c43b57fd1"
      },
      "execution_count": 21,
      "outputs": [
        {
          "output_type": "stream",
          "name": "stdout",
          "text": [
            "enter string : madam\n",
            "Given string is palindrome \n"
          ]
        }
      ]
    },
    {
      "cell_type": "markdown",
      "source": [
        "### 5. Create a program that takes a string as input and removes all the spaces from it. Print the modified string without spaces."
      ],
      "metadata": {
        "id": "NCgHr18-AFZD"
      }
    },
    {
      "cell_type": "code",
      "source": [
        "# taking string as input from user\n",
        "string = input(\"enter string : \")\n",
        "\n",
        "# removing spaces from given string\n",
        "modified_string = string.replace(\" \",\"\")\n",
        "\n",
        "print(\"After modified : \",modified_string) # displaying the result"
      ],
      "metadata": {
        "colab": {
          "base_uri": "https://localhost:8080/"
        },
        "id": "foc_lVYg_kCN",
        "outputId": "be985d25-eeed-4e74-bb86-4a6bee3e4518"
      },
      "execution_count": 25,
      "outputs": [
        {
          "output_type": "stream",
          "name": "stdout",
          "text": [
            "enter string : Pra sa d Redd y\n",
            "After modified :  PrasadReddy\n"
          ]
        }
      ]
    },
    {
      "cell_type": "code",
      "source": [],
      "metadata": {
        "id": "ykdbDieUAol5"
      },
      "execution_count": null,
      "outputs": []
    }
  ]
}