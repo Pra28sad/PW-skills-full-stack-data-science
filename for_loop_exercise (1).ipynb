{
 "cells": [
  {
   "cell_type": "markdown",
   "metadata": {
    "id": "SvkUces_chrt"
   },
   "source": [
    "# **Basic Level :**"
   ]
  },
  {
   "cell_type": "markdown",
   "metadata": {
    "id": "yMTp4_8Mcy18"
   },
   "source": [
    "### 1. Write a Python program to print the numbers from 1 to 10 using a `for` loop."
   ]
  },
  {
   "cell_type": "code",
   "execution_count": null,
   "metadata": {
    "colab": {
     "base_uri": "https://localhost:8080/"
    },
    "id": "xzmkRO1BcSlR",
    "outputId": "dd7d4f2d-68d3-4a0d-92ed-68109451a39a"
   },
   "outputs": [
    {
     "name": "stdout",
     "output_type": "stream",
     "text": [
      "1 2 3 4 5 6 7 8 9 "
     ]
    }
   ],
   "source": [
    "for i in range(1,10):\n",
    "  print(i,end = \" \")"
   ]
  },
  {
   "cell_type": "markdown",
   "metadata": {
    "id": "nXxLtv94c_0o"
   },
   "source": [
    "### 2. Create a program that calculates the sum of all numbers in a list using a `for` loop."
   ]
  },
  {
   "cell_type": "code",
   "execution_count": null,
   "metadata": {
    "colab": {
     "base_uri": "https://localhost:8080/"
    },
    "id": "tNIuAL9Uc8IU",
    "outputId": "bb1a8220-736b-43ba-ac11-10f246c5d8e0"
   },
   "outputs": [
    {
     "name": "stdout",
     "output_type": "stream",
     "text": [
      "the sum of all numbers in list is : 24\n"
     ]
    }
   ],
   "source": [
    "lst = [1,2,3,5,6,7]\n",
    "\n",
    "sum_ = 0\n",
    "\n",
    "for i in lst:\n",
    "  sum_+=i  # adding each element to the sum variable\n",
    "\n",
    "print(f\"the sum of all numbers in list is : {sum_}\")"
   ]
  },
  {
   "cell_type": "markdown",
   "metadata": {
    "id": "WNrE42NAdckv"
   },
   "source": [
    "### 3. Write a program to print the characters of a string in reverse order using a `for` loop."
   ]
  },
  {
   "cell_type": "code",
   "execution_count": null,
   "metadata": {
    "colab": {
     "base_uri": "https://localhost:8080/"
    },
    "id": "KveiMKAgdY43",
    "outputId": "f6b413c6-db0b-4ded-fd36-d969dba02d10"
   },
   "outputs": [
    {
     "name": "stdout",
     "output_type": "stream",
     "text": [
      "yddeR dasarP"
     ]
    }
   ],
   "source": [
    "string = \"Prasad Reddy\"\n",
    "\n",
    "for i in string[::-1]:  # iterating string in a reverse order  using slicing\n",
    "  print(i,end=\"\")\n"
   ]
  },
  {
   "cell_type": "markdown",
   "metadata": {
    "id": "DuzvKZYbeC5-"
   },
   "source": [
    "### 4. Develop a program that finds the factorial of a given number using a `for` loop."
   ]
  },
  {
   "cell_type": "code",
   "execution_count": null,
   "metadata": {
    "colab": {
     "base_uri": "https://localhost:8080/"
    },
    "id": "7HkIlzwzd-dy",
    "outputId": "e74f97c6-8ea2-41da-cb64-c9a4f37173b9"
   },
   "outputs": [
    {
     "name": "stdout",
     "output_type": "stream",
     "text": [
      "enter number to know the factorial : 5\n",
      "the factorial of a given number is : 120\n"
     ]
    }
   ],
   "source": [
    "num = int(input(\"enter number to know the factorial : \"))\n",
    "\n",
    "sum_ = 1\n",
    "\n",
    "for i in range(num,1,-1):\n",
    "  sum_*=i\n",
    "\n",
    "print(f\"the factorial of a given number is : {sum_}\")"
   ]
  },
  {
   "cell_type": "markdown",
   "metadata": {
    "id": "L4Ax-NT4fcvG"
   },
   "source": [
    "### 5. Create a program to print the multiplication table of a given number using a `for` loop."
   ]
  },
  {
   "cell_type": "code",
   "execution_count": null,
   "metadata": {
    "colab": {
     "base_uri": "https://localhost:8080/"
    },
    "id": "s4MO74URe9UO",
    "outputId": "2e7b4042-bbcc-417a-9d77-c12bd4f48b2a"
   },
   "outputs": [
    {
     "name": "stdout",
     "output_type": "stream",
     "text": [
      "enter number to know the table : 5\n",
      "5 X 1 = 5\n",
      "5 X 2 = 10\n",
      "5 X 3 = 15\n",
      "5 X 4 = 20\n",
      "5 X 5 = 25\n",
      "5 X 6 = 30\n",
      "5 X 7 = 35\n",
      "5 X 8 = 40\n",
      "5 X 9 = 45\n",
      "5 X 10 = 50\n",
      "5 X 11 = 55\n",
      "5 X 12 = 60\n",
      "5 X 13 = 65\n",
      "5 X 14 = 70\n",
      "5 X 15 = 75\n",
      "5 X 16 = 80\n",
      "5 X 17 = 85\n",
      "5 X 18 = 90\n",
      "5 X 19 = 95\n",
      "5 X 20 = 100\n"
     ]
    }
   ],
   "source": [
    "num = int(input(\"enter number to know the table : \"))\n",
    "\n",
    "for i in range(1,21):\n",
    "  print(f\"{num} X {i} = {num*i}\")\n"
   ]
  },
  {
   "cell_type": "markdown",
   "metadata": {
    "id": "tyarrRW1gUxW"
   },
   "source": [
    "### 6. Write a program that counts the number of even and odd numbers in a list using a `for` loop."
   ]
  },
  {
   "cell_type": "code",
   "execution_count": null,
   "metadata": {
    "colab": {
     "base_uri": "https://localhost:8080/"
    },
    "id": "1XQpe4MbgRZu",
    "outputId": "9a0b5774-b6d2-483a-a91a-b4c744bf0420"
   },
   "outputs": [
    {
     "name": "stdout",
     "output_type": "stream",
     "text": [
      "the count of even numbers is : 3\n",
      "the count of odd numbers is : 6\n"
     ]
    }
   ],
   "source": [
    "lst = [3,5,7,12,9,7,14,76,9]\n",
    "\n",
    "count_of_even = 0\n",
    "count_of_odd = 0\n",
    "\n",
    "for i in lst:\n",
    "\n",
    "  if i%2==0:\n",
    "    count_of_even+=1\n",
    "  else:\n",
    "    count_of_odd+=1\n",
    "\n",
    "print(f\"the count of even numbers is : {count_of_even}\")\n",
    "\n",
    "print(f\"the count of odd numbers is : {count_of_odd}\")"
   ]
  },
  {
   "cell_type": "markdown",
   "metadata": {
    "id": "cANkNskUg_Rq"
   },
   "source": [
    "### 7. Develop a program that prints the squares of numbers from 1 to 5 using a `for` loop."
   ]
  },
  {
   "cell_type": "code",
   "execution_count": null,
   "metadata": {
    "colab": {
     "base_uri": "https://localhost:8080/"
    },
    "id": "9oc-4XEFg7KM",
    "outputId": "e7735fdf-0474-47f1-b980-4d3574d18692"
   },
   "outputs": [
    {
     "name": "stdout",
     "output_type": "stream",
     "text": [
      "squre of 1 is : 1\n",
      "squre of 2 is : 4\n",
      "squre of 3 is : 9\n",
      "squre of 4 is : 16\n",
      "squre of 5 is : 25\n"
     ]
    }
   ],
   "source": [
    "for i in range(1,6):\n",
    "  print(f\"squre of {i} is : {i**2}\")"
   ]
  },
  {
   "cell_type": "markdown",
   "metadata": {
    "id": "texQRijrh5nO"
   },
   "source": [
    "### 8. Create a program to find the length of a string without using the `len()` function."
   ]
  },
  {
   "cell_type": "code",
   "execution_count": null,
   "metadata": {
    "colab": {
     "base_uri": "https://localhost:8080/"
    },
    "id": "gQOVpBEKhdOY",
    "outputId": "63df0160-b690-404a-cc58-09d9161e83b8"
   },
   "outputs": [
    {
     "name": "stdout",
     "output_type": "stream",
     "text": [
      "the length of the string is : 6\n"
     ]
    }
   ],
   "source": [
    "string = \"prasad\"\n",
    "count = 0\n",
    "for i in string:\n",
    "  count+=1\n",
    "\n",
    "print(f\"the length of the string is : {count}\")"
   ]
  },
  {
   "cell_type": "markdown",
   "metadata": {
    "id": "0yAHyZ0yieAb"
   },
   "source": [
    "### 9. Write a program that calculates the average of a list of numbers using a `for` loop."
   ]
  },
  {
   "cell_type": "code",
   "execution_count": null,
   "metadata": {
    "colab": {
     "base_uri": "https://localhost:8080/"
    },
    "id": "n8QRcR6hiMRa",
    "outputId": "b99f241f-723d-4c1d-aa90-f08d0c413b69"
   },
   "outputs": [
    {
     "name": "stdout",
     "output_type": "stream",
     "text": [
      "the average of list of numbers is : 5.0\n"
     ]
    }
   ],
   "source": [
    "lst = [1,5,7,3,5,9]\n",
    "\n",
    "length = 0\n",
    "\n",
    "sum_ = 0\n",
    "\n",
    "for i in lst:\n",
    "\n",
    "  length+=1  # incrementing length for each iteration\n",
    "  sum_+=i   # adding each value in each incrementation\n",
    "\n",
    "average = sum_/length\n",
    "\n",
    "print(f\"the average of list of numbers is : {average}\")"
   ]
  },
  {
   "cell_type": "markdown",
   "metadata": {
    "id": "9wF9EfQ4jhkd"
   },
   "source": [
    "### 10. Develop a program that prints the first `n` Fibonacci numbers using a `for` loop."
   ]
  },
  {
   "cell_type": "code",
   "execution_count": null,
   "metadata": {
    "colab": {
     "base_uri": "https://localhost:8080/"
    },
    "id": "yD55fPanjAWN",
    "outputId": "bc150d5b-cf21-4ecb-8c52-e079a15033ab"
   },
   "outputs": [
    {
     "name": "stdout",
     "output_type": "stream",
     "text": [
      "enter number : 10\n",
      "[0, 1, 1, 2, 3, 5, 8, 13, 21, 34]\n"
     ]
    }
   ],
   "source": [
    "lst = [0,1]\n",
    "n = int(input(\"enter number : \"))\n",
    "for i in lst:\n",
    "  if len(lst)<n:\n",
    "    lst.append(lst[-1]+lst[-2])\n",
    "  else:\n",
    "    break\n",
    "\n",
    "print(lst)"
   ]
  },
  {
   "cell_type": "markdown",
   "metadata": {
    "id": "sInlhWRPmH3U"
   },
   "source": [
    "# **Intermediate Level:**"
   ]
  },
  {
   "cell_type": "markdown",
   "metadata": {
    "id": "thu496wjmO_K"
   },
   "source": [
    "### 11. Write a program to check if a given list contains any duplicates using a `for` loop."
   ]
  },
  {
   "cell_type": "code",
   "execution_count": null,
   "metadata": {
    "colab": {
     "base_uri": "https://localhost:8080/"
    },
    "id": "Rqdbkt91lYQv",
    "outputId": "65a1df37-7bb5-4a69-aaf9-059b0d78ce67"
   },
   "outputs": [
    {
     "name": "stdout",
     "output_type": "stream",
     "text": [
      "the list contains duplicates\n"
     ]
    }
   ],
   "source": [
    "lst = [2,4,58,5,4,2]\n",
    "\n",
    "check_list = []\n",
    "\n",
    "flag = True\n",
    "\n",
    "for i in lst :\n",
    "  if i not in check_list:\n",
    "    check_list.append(i)\n",
    "\n",
    "  else:\n",
    "    flag = False\n",
    "    break\n",
    "\n",
    "if flag:\n",
    "  print(\"the list doesnot have duplicates\")\n",
    "\n",
    "else:\n",
    "  print(\"the list contains duplicates\")\n"
   ]
  },
  {
   "cell_type": "markdown",
   "metadata": {
    "id": "L2n6oprHoKnP"
   },
   "source": [
    "### 12. Create a program that prints the prime numbers in a given range using a `for` loop."
   ]
  },
  {
   "cell_type": "code",
   "execution_count": null,
   "metadata": {
    "colab": {
     "base_uri": "https://localhost:8080/"
    },
    "id": "lM2-00qzoEoF",
    "outputId": "7222b477-8bdb-4025-9681-993936ab4dc3"
   },
   "outputs": [
    {
     "name": "stdout",
     "output_type": "stream",
     "text": [
      "2 3 5 7 11 13 17 19 "
     ]
    }
   ],
   "source": [
    "for i in range(2,20):\n",
    "  prime=True\n",
    "  for j in range(2,i):\n",
    "\n",
    "    if i%j == 0:\n",
    "      prime = False\n",
    "      break\n",
    "\n",
    "  if prime:\n",
    "    print(i,end=\" \")\n",
    "\n",
    "\n"
   ]
  },
  {
   "cell_type": "markdown",
   "metadata": {
    "id": "De-mvaLutlBo"
   },
   "source": [
    "### 13. Develop a program that counts the number of vowels in a string using a `for` loop."
   ]
  },
  {
   "cell_type": "code",
   "execution_count": null,
   "metadata": {
    "colab": {
     "base_uri": "https://localhost:8080/"
    },
    "id": "siVO2fHrtpKN",
    "outputId": "70d7c53a-84e0-4db9-8178-e4611704b986"
   },
   "outputs": [
    {
     "name": "stdout",
     "output_type": "stream",
     "text": [
      "the count of the number of vowels in a string is : 3\n"
     ]
    }
   ],
   "source": [
    "string = \"prasadreddy\"\n",
    "\n",
    "string.lower()\n",
    "count = 0\n",
    "for i in string:\n",
    "  if i in \"aeiou\" :\n",
    "    count+=1\n",
    "print(f\"the count of the number of vowels in a string is : {count}\")"
   ]
  },
  {
   "cell_type": "markdown",
   "metadata": {
    "id": "Gc3zv8XWvCzt"
   },
   "source": [
    "### 14. Write a program to find the maximum element in a 2D list using a nested `for` loop."
   ]
  },
  {
   "cell_type": "code",
   "execution_count": null,
   "metadata": {
    "colab": {
     "base_uri": "https://localhost:8080/"
    },
    "id": "tCmcmqZiu9xc",
    "outputId": "ea273a6c-53c6-4a30-84be-ccbd715addc5"
   },
   "outputs": [
    {
     "name": "stdout",
     "output_type": "stream",
     "text": [
      " the maximum element in a 2D list is : 65\n"
     ]
    }
   ],
   "source": [
    "lst  = [2,5,6,7,[10,3,4],[12,65,9]]\n",
    "\n",
    "maximum = 0\n",
    "\n",
    "for i in lst:\n",
    "  if isinstance(i,list):   # checking if it is list or not\n",
    "    for j in i:\n",
    "      if maximum<j:  # checking maximum number\n",
    "        maximum = j\n",
    "\n",
    "  else:\n",
    "    if maximum < i:   # checking max number\n",
    "      maximum = i\n",
    "\n",
    "print(f\" the maximum element in a 2D list is : {maximum}\")\n"
   ]
  },
  {
   "cell_type": "markdown",
   "metadata": {
    "id": "zCNnQOvawYIE"
   },
   "source": [
    "### 15. Create a program that removes all occurrences of a specific element from a list using a `for` loop."
   ]
  },
  {
   "cell_type": "code",
   "execution_count": null,
   "metadata": {
    "colab": {
     "base_uri": "https://localhost:8080/"
    },
    "id": "XRUcnAwYwJpe",
    "outputId": "d90ff10f-373b-4458-e9c4-e80922682e7e"
   },
   "outputs": [
    {
     "name": "stdout",
     "output_type": "stream",
     "text": [
      "enter element to remove : 2\n",
      "after removing of 2 is : [3, 4, 5, 7, 6]\n"
     ]
    }
   ],
   "source": [
    "lst = [2,3,4,5,7,2,6,2]\n",
    "\n",
    "element = int(input(\"enter element to remove : \"))\n",
    "\n",
    "for i in lst:\n",
    "  if i == element:\n",
    "    lst.remove(i)\n",
    "\n",
    "print(f\"after removing of {element} is : {lst}\")"
   ]
  },
  {
   "cell_type": "markdown",
   "metadata": {
    "id": "ixn-sc0txUE-"
   },
   "source": [
    "### 16. Develop a program that generates a multiplication table for numbers from 1 to 5 using a nested `for` loop."
   ]
  },
  {
   "cell_type": "code",
   "execution_count": null,
   "metadata": {
    "colab": {
     "base_uri": "https://localhost:8080/"
    },
    "id": "kpJ08SjXwzAC",
    "outputId": "06e6cb9b-4d12-48d0-df97-a49764d2bc6d"
   },
   "outputs": [
    {
     "name": "stdout",
     "output_type": "stream",
     "text": [
      "1 X 1 = 1\t2 X 1 = 2\t3 X 1 = 3\t4 X 1 = 4\t5 X 1 = 5\t\n",
      "1 X 2 = 2\t2 X 2 = 4\t3 X 2 = 6\t4 X 2 = 8\t5 X 2 = 10\t\n",
      "1 X 3 = 3\t2 X 3 = 6\t3 X 3 = 9\t4 X 3 = 12\t5 X 3 = 15\t\n",
      "1 X 4 = 4\t2 X 4 = 8\t3 X 4 = 12\t4 X 4 = 16\t5 X 4 = 20\t\n",
      "1 X 5 = 5\t2 X 5 = 10\t3 X 5 = 15\t4 X 5 = 20\t5 X 5 = 25\t\n",
      "1 X 6 = 6\t2 X 6 = 12\t3 X 6 = 18\t4 X 6 = 24\t5 X 6 = 30\t\n",
      "1 X 7 = 7\t2 X 7 = 14\t3 X 7 = 21\t4 X 7 = 28\t5 X 7 = 35\t\n",
      "1 X 8 = 8\t2 X 8 = 16\t3 X 8 = 24\t4 X 8 = 32\t5 X 8 = 40\t\n",
      "1 X 9 = 9\t2 X 9 = 18\t3 X 9 = 27\t4 X 9 = 36\t5 X 9 = 45\t\n",
      "1 X 10 = 10\t2 X 10 = 20\t3 X 10 = 30\t4 X 10 = 40\t5 X 10 = 50\t\n"
     ]
    }
   ],
   "source": [
    "starting_number = 1\n",
    "ending_number = 5\n",
    "for i in range(1,11):\n",
    "\n",
    "  for j in range(starting_number,ending_number+1):\n",
    "    print(f\"{j} X {i} = {j*i}\\t\",end=\"\")\n",
    "  print()"
   ]
  },
  {
   "cell_type": "markdown",
   "metadata": {
    "id": "LRgAEXcAyjTY"
   },
   "source": [
    "### 17. Write a program that converts a list of Fahrenheit temperatures to Celsius using a `for` loop."
   ]
  },
  {
   "cell_type": "code",
   "execution_count": null,
   "metadata": {
    "colab": {
     "base_uri": "https://localhost:8080/"
    },
    "id": "eKAyQp61xttL",
    "outputId": "bbe8e000-6bbd-47be-dbb6-43b8d366ea37"
   },
   "outputs": [
    {
     "name": "stdout",
     "output_type": "stream",
     "text": [
      "Fahrenheit Temps: [32, 68, 86, 104, 212]\n",
      "Celsius Temps: [0.0, 20.0, 30.0, 40.0, 100.0]\n"
     ]
    }
   ],
   "source": [
    "# Program to convert a list of Fahrenheit temperatures to Celsius using a for loop\n",
    "\n",
    "# Input list of Fahrenheit temperatures\n",
    "fahrenheit_temps = [32, 68, 86, 104, 212]\n",
    "\n",
    "# Initialize an empty list to store Celsius temperatures\n",
    "celsius_temps = []\n",
    "\n",
    "# Convert Fahrenheit temperatures to Celsius using a for loop\n",
    "for f in fahrenheit_temps:\n",
    "    c = (f - 32) * 5/9\n",
    "    celsius_temps.append(c)\n",
    "\n",
    "# Print the result\n",
    "print(\"Fahrenheit Temps:\", fahrenheit_temps)\n",
    "print(\"Celsius Temps:\", celsius_temps)\n"
   ]
  },
  {
   "cell_type": "markdown",
   "metadata": {
    "id": "6twR8sLwy11P"
   },
   "source": [
    "### 18. Create a program to print the common elements from two lists using a `for` loop."
   ]
  },
  {
   "cell_type": "code",
   "execution_count": null,
   "metadata": {
    "colab": {
     "base_uri": "https://localhost:8080/"
    },
    "id": "YHfd89ttytr1",
    "outputId": "44dd80a3-a39b-4994-a0fd-8e8cecb689d0"
   },
   "outputs": [
    {
     "name": "stdout",
     "output_type": "stream",
     "text": [
      "the common elements are : ['mohit', 'dinesh', 'pavan']\n"
     ]
    }
   ],
   "source": [
    "lst1 = [\"prasad\",\"reddy\",\"mohit\",\"dileep\",\"dinesh\",\"pavan\"]\n",
    "lst2 = [\"mohit\",\"pavan\",\"dinesh\"]\n",
    "\n",
    "result = []\n",
    "for i in lst1:\n",
    "  if i in lst2:\n",
    "    result.append(i)  # appending common elements\n",
    "\n",
    "print(f\"the common elements are : {result}\")"
   ]
  },
  {
   "cell_type": "markdown",
   "metadata": {
    "id": "P58q5FqPzbq_"
   },
   "source": [
    "### 19. Develop a program that prints the pattern of right-angled triangles using a `for` loop. Use ‘*’ to draw the pattern"
   ]
  },
  {
   "cell_type": "code",
   "execution_count": null,
   "metadata": {
    "colab": {
     "base_uri": "https://localhost:8080/"
    },
    "id": "9HR3YaPxzTSb",
    "outputId": "77e2d863-47f9-46cd-d6ed-f9a5b567fad5"
   },
   "outputs": [
    {
     "name": "stdout",
     "output_type": "stream",
     "text": [
      "* \n",
      "* * \n",
      "* * * \n",
      "* * * * \n",
      "* * * * * \n"
     ]
    }
   ],
   "source": [
    "n = 5\n",
    "for i in range(n):\n",
    "  for j in range(i+1):\n",
    "    print(\"*\",end=\" \")\n",
    "  print()"
   ]
  },
  {
   "cell_type": "markdown",
   "metadata": {
    "id": "uNVq4-cM0HTB"
   },
   "source": [
    "### 20. Write a program to find the greatest common divisor (GCD) of two numbers using a `for` loop."
   ]
  },
  {
   "cell_type": "code",
   "execution_count": null,
   "metadata": {
    "colab": {
     "base_uri": "https://localhost:8080/"
    },
    "id": "HW8WrNny0A1e",
    "outputId": "6d903020-28ba-4710-8de3-29f9b91d664a"
   },
   "outputs": [
    {
     "name": "stdout",
     "output_type": "stream",
     "text": [
      "Enter the first number: 14\n",
      "Enter the second number: 32\n",
      "The GCD of 14 and 32 is: 2\n"
     ]
    }
   ],
   "source": [
    "# Input two numbers\n",
    "num1 = int(input(\"Enter the first number: \"))\n",
    "num2 = int(input(\"Enter the second number: \"))\n",
    "\n",
    "# Find the smaller of the two numbers\n",
    "min_num = min(num1, num2)\n",
    "\n",
    "# Initialize a variable to store the GCD\n",
    "gcd = 1\n",
    "\n",
    "# Iterate from 1 to the smaller of the two numbers\n",
    "for i in range(1, min_num + 1):\n",
    "    # Check if i is a divisor for both numbers\n",
    "    if num1 % i == 0 and num2 % i == 0:\n",
    "        gcd = i\n",
    "\n",
    "# Print the GCD\n",
    "print(f\"The GCD of {num1} and {num2} is: {gcd}\")\n"
   ]
  },
  {
   "cell_type": "markdown",
   "metadata": {
    "id": "3n74oujApSjH"
   },
   "source": [
    "# **Advanced Level:**"
   ]
  },
  {
   "cell_type": "markdown",
   "metadata": {
    "id": "xorcgQSHpm7u"
   },
   "source": [
    "### 21. Create a program that calculates the sum of the digits of numbers in a list using a list comprehension."
   ]
  },
  {
   "cell_type": "code",
   "execution_count": 1,
   "metadata": {
    "colab": {
     "base_uri": "https://localhost:8080/",
     "height": 245
    },
    "id": "Uq0UvUbT0e3j",
    "outputId": "628e232d-91dc-43ff-ac17-8ba17a7be528"
   },
   "outputs": [
    {
     "name": "stdout",
     "output_type": "stream",
     "text": [
      "the result is the sum of digits of numbers in a list : 23\n"
     ]
    }
   ],
   "source": [
    "lst = [2,6,2,8,5]\n",
    "\n",
    "total = sum([i for i in lst])\n",
    "\n",
    "print(f\"the result is the sum of digits of numbers in a list : {total}\")"
   ]
  },
  {
   "cell_type": "markdown",
   "metadata": {
    "id": "gaXzz6wysk1p"
   },
   "source": [
    "### 22. Write a program to find the prime factors of a given number using a `for` loop and list comprehension."
   ]
  },
  {
   "cell_type": "code",
   "execution_count": 10,
   "metadata": {},
   "outputs": [
    {
     "name": "stdout",
     "output_type": "stream",
     "text": [
      "enter a number : 10\n",
      "Prime factors of 10: [2, 5]\n"
     ]
    }
   ],
   "source": [
    "def prime_factors(n):\n",
    "    factors = [i for i in range(2,n+1) if n%i == 0 and all(i%j != 0 for j in range(2,int(i**0.5) + 1))]\n",
    "    return factors\n",
    "\n",
    "number = int(input(\"enter a number : \"))\n",
    "\n",
    "result = prime_factors(number)\n",
    "\n",
    "# Displaying the result\n",
    "if len(result) == 0:\n",
    "    print(f\"{number} has no prime factors.\")\n",
    "else:\n",
    "    print(f\"Prime factors of {number}: {result}\")\n",
    "\n"
   ]
  },
  {
   "cell_type": "markdown",
   "metadata": {},
   "source": [
    "### 23. Develop a program that extracts unique elements from a list and stores them in a new list using a list comprehension."
   ]
  },
  {
   "cell_type": "code",
   "execution_count": 23,
   "metadata": {},
   "outputs": [
    {
     "name": "stdout",
     "output_type": "stream",
     "text": [
      "[1, 2, 3, 5, 6]\n"
     ]
    }
   ],
   "source": [
    "lst1 = [2,5,6,1,2,6,6,3,2,3]\n",
    "\n",
    "slst = set(lst1)  # converting list into set\n",
    "\n",
    "lst2 = [i for i in slst]\n",
    "\n",
    "print(lst2)"
   ]
  },
  {
   "cell_type": "markdown",
   "metadata": {},
   "source": [
    "### 24. Create a program that generates a list of all palindromic numbers up to a specified limit using a list comprehension."
   ]
  },
  {
   "cell_type": "code",
   "execution_count": 29,
   "metadata": {},
   "outputs": [
    {
     "name": "stdout",
     "output_type": "stream",
     "text": [
      "enter number : 150\n",
      "Palindromic numbers up to 150 : [11, 22, 33, 44, 55, 66, 77, 88, 99, 101, 111, 121, 131, 141]\n"
     ]
    }
   ],
   "source": [
    "n = int(input(\"enter number : \"))\n",
    "\n",
    "lst = [i for i in range(n) if i>=10 and i == int(str(i)[::-1])]  # generating a list upto specified limit\n",
    "\n",
    "print(f\"Palindromic numbers up to {n} : {lst}\")"
   ]
  },
  {
   "cell_type": "markdown",
   "metadata": {},
   "source": [
    "### 25. Write a program to flatten a nested list using list comprehension."
   ]
  },
  {
   "cell_type": "code",
   "execution_count": 33,
   "metadata": {},
   "outputs": [
    {
     "name": "stdout",
     "output_type": "stream",
     "text": [
      "[2, 6, 2, [5, 6], 43, 8, 9, 6, 34, 2, 80]\n"
     ]
    }
   ],
   "source": [
    "lst = [2, 6, [2, [5,6], 43], 8, 9, [6, 34, 2], 80]\n",
    "\n",
    "result = [item for sublist in lst for item in (sublist if isinstance(sublist, list) else [sublist])]\n",
    "\n",
    "print(result)\n"
   ]
  },
  {
   "cell_type": "markdown",
   "metadata": {},
   "source": [
    "### 26. Develop a program that computes the sum of even and odd numbers in a list separately using list comprehension."
   ]
  },
  {
   "cell_type": "code",
   "execution_count": 34,
   "metadata": {},
   "outputs": [
    {
     "name": "stdout",
     "output_type": "stream",
     "text": [
      "odd sum is : 18\n",
      "even sum is : 11\n"
     ]
    }
   ],
   "source": [
    "lst = [3,6,7,1,8,4]\n",
    "\n",
    "odd_sum = sum([i for i in lst if i%2 == 0])\n",
    "\n",
    "even_sum = sum([i for i in lst if i%2 !=0])\n",
    "\n",
    "print(f\"odd sum is : {odd_sum}\")\n",
    "print(f\"even sum is : {even_sum}\")"
   ]
  },
  {
   "cell_type": "markdown",
   "metadata": {},
   "source": [
    "### 27. Create a program that generates a list of squares of odd numbers between 1 and 10 using list comprehension."
   ]
  },
  {
   "cell_type": "code",
   "execution_count": 36,
   "metadata": {},
   "outputs": [
    {
     "name": "stdout",
     "output_type": "stream",
     "text": [
      "the list of squares of odd numbers between 1 and 10 is : [1, 9, 25, 49, 81]\n"
     ]
    }
   ],
   "source": [
    "lst = [i**2 for i in range(1,11) if i%2 !=0]\n",
    "\n",
    "print(f\"the list of squares of odd numbers between 1 and 10 is : {lst}\")"
   ]
  },
  {
   "cell_type": "markdown",
   "metadata": {},
   "source": [
    "### 28. Write a program that combines two lists into a dictionary using list comprehension."
   ]
  },
  {
   "cell_type": "code",
   "execution_count": 39,
   "metadata": {},
   "outputs": [
    {
     "name": "stdout",
     "output_type": "stream",
     "text": [
      "{'name': 'prasad', 'roll-no': 84, 'age': 20}\n"
     ]
    }
   ],
   "source": [
    "lst1 = [\"name\",\"roll-no\",\"age\"]\n",
    "lst2 = [\"prasad\",84,20]\n",
    "\n",
    "result = {lst1[i]:lst2[i] for i in range(len(lst1))}\n",
    "\n",
    "print(result)"
   ]
  },
  {
   "cell_type": "markdown",
   "metadata": {},
   "source": [
    "### 29. Develop a program that extracts the vowels from a string and stores them in a list using list comprehension.\n"
   ]
  },
  {
   "cell_type": "code",
   "execution_count": 41,
   "metadata": {},
   "outputs": [
    {
     "name": "stdout",
     "output_type": "stream",
     "text": [
      "the vowels from a string  is : ['a', 'a', 'e']\n"
     ]
    }
   ],
   "source": [
    "string = \"prasad reddy\"\n",
    "\n",
    "lst = [i for i in string if i in \"aeiouAEIOU\"]\n",
    "\n",
    "print(f\"the vowels from a string  is : {lst}\")"
   ]
  },
  {
   "cell_type": "markdown",
   "metadata": {},
   "source": [
    "### 30. Create a program that removes all non-numeric characters from a list of strings using list comprehension."
   ]
  },
  {
   "cell_type": "code",
   "execution_count": 44,
   "metadata": {},
   "outputs": [
    {
     "name": "stdout",
     "output_type": "stream",
     "text": [
      "['123', '543', '444']\n"
     ]
    }
   ],
   "source": [
    "lst = [\"prasad\", \"123\", \"543\", \"reddy\", \"dileep\", \"444\"]\n",
    "\n",
    "result = [i for i in lst if str(i).isdigit()]\n",
    "\n",
    "print(result)\n"
   ]
  },
  {
   "cell_type": "markdown",
   "metadata": {},
   "source": [
    "# Challenge Level:"
   ]
  },
  {
   "cell_type": "markdown",
   "metadata": {},
   "source": [
    "### 31. Write a program to generate a list of prime numbers using the Sieve of Eratosthenes algorithm and list comprehension."
   ]
  },
  {
   "cell_type": "code",
   "execution_count": 47,
   "metadata": {},
   "outputs": [
    {
     "name": "stdout",
     "output_type": "stream",
     "text": [
      "Enter the limit: 50\n",
      "Prime numbers up to 50: [2, 3, 5, 7, 11, 13, 17, 19, 23, 29, 31, 37, 41, 43, 47]\n"
     ]
    }
   ],
   "source": [
    "def sieve_of_eratosthenes(limit):\n",
    "    sieve = [True] * (limit + 1)\n",
    "    sieve[0] = sieve[1] = False\n",
    "\n",
    "    for num in range(2, int(limit**0.5) + 1):\n",
    "        if sieve[num]:\n",
    "            sieve[num*num : limit+1 : num] = [False] * len(range(num*num, limit+1, num))\n",
    "\n",
    "    return [num for num in range(2, limit + 1) if sieve[num]]\n",
    "\n",
    "# Input: The limit up to which to generate prime numbers\n",
    "limit = int(input(\"Enter the limit: \"))\n",
    "\n",
    "# Generate the list of prime numbers using the Sieve of Eratosthenes\n",
    "prime_numbers = sieve_of_eratosthenes(limit)\n",
    "\n",
    "# Displaying the result\n",
    "print(f\"Prime numbers up to {limit}: {prime_numbers}\")\n"
   ]
  },
  {
   "cell_type": "markdown",
   "metadata": {},
   "source": [
    "### 32. Create a program that generates a list of all Pythagorean triplets up to a specified limit using list comprehension."
   ]
  },
  {
   "cell_type": "code",
   "execution_count": 1,
   "metadata": {},
   "outputs": [
    {
     "name": "stdout",
     "output_type": "stream",
     "text": [
      "Pythagorean Triplets up to limit 20: [(3, 4, 5), (5, 12, 13), (6, 8, 10), (8, 15, 17), (9, 12, 15), (12, 16, 20)]\n"
     ]
    }
   ],
   "source": [
    "def generate_pythagorean_triplets(limit):\n",
    "    triplets = [(a, b, c) for a in range(1, limit + 1) for b in range(a, limit + 1) for c in range(b, limit + 1) if a**2 + b**2 == c**2]\n",
    "    return triplets\n",
    "\n",
    "# Specify the limit for the triplets\n",
    "limit = 20\n",
    "\n",
    "# Generate and print the Pythagorean triplets up to the specified limit\n",
    "pythagorean_triplets = generate_pythagorean_triplets(limit)\n",
    "print(\"Pythagorean Triplets up to limit {}: {}\".format(limit, pythagorean_triplets))\n"
   ]
  },
  {
   "cell_type": "markdown",
   "metadata": {},
   "source": [
    "### 33. Generate combinations of two lists using list comprehension: "
   ]
  },
  {
   "cell_type": "code",
   "execution_count": 4,
   "metadata": {},
   "outputs": [
    {
     "name": "stdout",
     "output_type": "stream",
     "text": [
      "Combinations: [(1, 'a'), (1, 'b'), (1, 'c'), (2, 'a'), (2, 'b'), (2, 'c'), (3, 'a'), (3, 'b'), (3, 'c')]\n"
     ]
    }
   ],
   "source": [
    "list1 = [1, 2, 3]\n",
    "list2 = ['a', 'b', 'c']\n",
    "\n",
    "combinations = [(x, y) for x in list1 for y in list2]\n",
    "print(\"Combinations:\", combinations)\n"
   ]
  },
  {
   "cell_type": "markdown",
   "metadata": {},
   "source": [
    "### 34. Write a program that calculates the mean, median, and mode of a list of numbers using list comprehension."
   ]
  },
  {
   "cell_type": "code",
   "execution_count": 8,
   "metadata": {},
   "outputs": [
    {
     "name": "stdout",
     "output_type": "stream",
     "text": [
      "Mean: 7.5\n",
      "Median: 7.5\n",
      "Mode: 4\n"
     ]
    }
   ],
   "source": [
    "numbers = [4,7,9,12,8,5]\n",
    "\n",
    "# Calculating the mean using list comprehension\n",
    "mean_value = sum(numbers) / len(numbers)\n",
    "\n",
    "# Calculating the median using list comprehension\n",
    "sorted_numbers = sorted(numbers)\n",
    "mid = len(sorted_numbers) // 2\n",
    "median_value = (sorted_numbers[mid] + sorted_numbers[mid - 1]) / 2 if len(sorted_numbers) % 2 == 0 else sorted_numbers[mid]\n",
    "\n",
    "# Calculating the mode using list comprehension\n",
    "mode_value = max(set(numbers), key=numbers.count)\n",
    "\n",
    "print(\"Mean:\", mean_value)\n",
    "print(\"Median:\", median_value)\n",
    "print(\"Mode:\", mode_value)\n"
   ]
  },
  {
   "cell_type": "markdown",
   "metadata": {},
   "source": [
    "### 35. Create a program that generates Pascal's triangle up to a specified number of rows using list comprehension."
   ]
  },
  {
   "cell_type": "code",
   "execution_count": 10,
   "metadata": {},
   "outputs": [
    {
     "name": "stdout",
     "output_type": "stream",
     "text": [
      "Pascal's Triangle:\n",
      "[1]\n",
      "[1, 1]\n",
      "[1, 2, 1]\n",
      "[1, 3, 3, 1]\n",
      "[1, 4, 6, 4, 1]\n"
     ]
    }
   ],
   "source": [
    "def generate_pascals_triangle(rows):\n",
    "    triangle = []\n",
    "\n",
    "    for row in range(rows):\n",
    "        if row == 0:\n",
    "            triangle.append([1])\n",
    "        else:\n",
    "            prev_row = triangle[row - 1]\n",
    "            new_row = [1] + [prev_row[i - 1] + prev_row[i] for i in range(1, row)] + [1]\n",
    "            triangle.append(new_row)\n",
    "\n",
    "    return triangle\n",
    "\n",
    "# Specify the number of rows for Pascal's triangle\n",
    "num_rows = 5\n",
    "\n",
    "# Generate and print Pascal's triangle\n",
    "pascals_triangle = generate_pascals_triangle(num_rows)\n",
    "print(\"Pascal's Triangle:\")\n",
    "for row in pascals_triangle:\n",
    "    print(row)\n"
   ]
  },
  {
   "cell_type": "markdown",
   "metadata": {},
   "source": [
    "### 36. Calculate the sum of digits of the factorial of numbers from 1 to 5 using list comprehension:"
   ]
  },
  {
   "cell_type": "code",
   "execution_count": 14,
   "metadata": {},
   "outputs": [
    {
     "name": "stdout",
     "output_type": "stream",
     "text": [
      "Sum of digits of factorials: [1, 2, 6, 6, 3]\n"
     ]
    }
   ],
   "source": [
    "from math import factorial\n",
    "\n",
    "factorials_sum_digits = [sum(int(digit) for digit in str(factorial(num))) for num in range(1, 6)]\n",
    "print(\"Sum of digits of factorials:\", factorials_sum_digits)\n"
   ]
  },
  {
   "cell_type": "markdown",
   "metadata": {},
   "source": [
    "### 37. Write a program that finds the longest word in a sentence using list comprehension."
   ]
  },
  {
   "cell_type": "code",
   "execution_count": 15,
   "metadata": {},
   "outputs": [
    {
     "name": "stdout",
     "output_type": "stream",
     "text": [
      "Longest word: sentence\n"
     ]
    }
   ],
   "source": [
    "sentence = \"This is a sample sentence to find the longest word.\"\n",
    "\n",
    "longest_word = max((word.strip(\".,\") for word in sentence.split()), key=len)\n",
    "print(\"Longest word:\", longest_word)\n"
   ]
  },
  {
   "cell_type": "markdown",
   "metadata": {},
   "source": [
    "### 38. Create a program that filters a list of strings to include only those with more than three vowels using list comprehension."
   ]
  },
  {
   "cell_type": "code",
   "execution_count": 16,
   "metadata": {},
   "outputs": [
    {
     "name": "stdout",
     "output_type": "stream",
     "text": [
      "Words with more than three vowels: []\n"
     ]
    }
   ],
   "source": [
    "words = [\"hello\", \"world\", \"python\", \"programming\", \"example\"]\n",
    "\n",
    "filtered_words = [word for word in words if sum(1 for char in word if char.lower() in 'aeiou') > 3]\n",
    "print(\"Words with more than three vowels:\", filtered_words)\n"
   ]
  },
  {
   "cell_type": "markdown",
   "metadata": {},
   "source": [
    "### 39. Develop a program that calculates the sum of the digits of numbers from 1 to 1000 using list comprehension."
   ]
  },
  {
   "cell_type": "code",
   "execution_count": 18,
   "metadata": {},
   "outputs": [
    {
     "name": "stdout",
     "output_type": "stream",
     "text": [
      "Sum of digits for numbers from 1 to 1000: [1, 2, 3, 4, 5, 6, 7, 8, 9, 1, 2, 3, 4, 5, 6, 7, 8, 9, 10, 2, 3, 4, 5, 6, 7, 8, 9, 10, 11, 3, 4, 5, 6, 7, 8, 9, 10, 11, 12, 4, 5, 6, 7, 8, 9, 10, 11, 12, 13, 5, 6, 7, 8, 9, 10, 11, 12, 13, 14, 6, 7, 8, 9, 10, 11, 12, 13, 14, 15, 7, 8, 9, 10, 11, 12, 13, 14, 15, 16, 8, 9, 10, 11, 12, 13, 14, 15, 16, 17, 9, 10, 11, 12, 13, 14, 15, 16, 17, 18, 1, 2, 3, 4, 5, 6, 7, 8, 9, 10, 2, 3, 4, 5, 6, 7, 8, 9, 10, 11, 3, 4, 5, 6, 7, 8, 9, 10, 11, 12, 4, 5, 6, 7, 8, 9, 10, 11, 12, 13, 5, 6, 7, 8, 9, 10, 11, 12, 13, 14, 6, 7, 8, 9, 10, 11, 12, 13, 14, 15, 7, 8, 9, 10, 11, 12, 13, 14, 15, 16, 8, 9, 10, 11, 12, 13, 14, 15, 16, 17, 9, 10, 11, 12, 13, 14, 15, 16, 17, 18, 10, 11, 12, 13, 14, 15, 16, 17, 18, 19, 2, 3, 4, 5, 6, 7, 8, 9, 10, 11, 3, 4, 5, 6, 7, 8, 9, 10, 11, 12, 4, 5, 6, 7, 8, 9, 10, 11, 12, 13, 5, 6, 7, 8, 9, 10, 11, 12, 13, 14, 6, 7, 8, 9, 10, 11, 12, 13, 14, 15, 7, 8, 9, 10, 11, 12, 13, 14, 15, 16, 8, 9, 10, 11, 12, 13, 14, 15, 16, 17, 9, 10, 11, 12, 13, 14, 15, 16, 17, 18, 10, 11, 12, 13, 14, 15, 16, 17, 18, 19, 11, 12, 13, 14, 15, 16, 17, 18, 19, 20, 3, 4, 5, 6, 7, 8, 9, 10, 11, 12, 4, 5, 6, 7, 8, 9, 10, 11, 12, 13, 5, 6, 7, 8, 9, 10, 11, 12, 13, 14, 6, 7, 8, 9, 10, 11, 12, 13, 14, 15, 7, 8, 9, 10, 11, 12, 13, 14, 15, 16, 8, 9, 10, 11, 12, 13, 14, 15, 16, 17, 9, 10, 11, 12, 13, 14, 15, 16, 17, 18, 10, 11, 12, 13, 14, 15, 16, 17, 18, 19, 11, 12, 13, 14, 15, 16, 17, 18, 19, 20, 12, 13, 14, 15, 16, 17, 18, 19, 20, 21, 4, 5, 6, 7, 8, 9, 10, 11, 12, 13, 5, 6, 7, 8, 9, 10, 11, 12, 13, 14, 6, 7, 8, 9, 10, 11, 12, 13, 14, 15, 7, 8, 9, 10, 11, 12, 13, 14, 15, 16, 8, 9, 10, 11, 12, 13, 14, 15, 16, 17, 9, 10, 11, 12, 13, 14, 15, 16, 17, 18, 10, 11, 12, 13, 14, 15, 16, 17, 18, 19, 11, 12, 13, 14, 15, 16, 17, 18, 19, 20, 12, 13, 14, 15, 16, 17, 18, 19, 20, 21, 13, 14, 15, 16, 17, 18, 19, 20, 21, 22, 5, 6, 7, 8, 9, 10, 11, 12, 13, 14, 6, 7, 8, 9, 10, 11, 12, 13, 14, 15, 7, 8, 9, 10, 11, 12, 13, 14, 15, 16, 8, 9, 10, 11, 12, 13, 14, 15, 16, 17, 9, 10, 11, 12, 13, 14, 15, 16, 17, 18, 10, 11, 12, 13, 14, 15, 16, 17, 18, 19, 11, 12, 13, 14, 15, 16, 17, 18, 19, 20, 12, 13, 14, 15, 16, 17, 18, 19, 20, 21, 13, 14, 15, 16, 17, 18, 19, 20, 21, 22, 14, 15, 16, 17, 18, 19, 20, 21, 22, 23, 6, 7, 8, 9, 10, 11, 12, 13, 14, 15, 7, 8, 9, 10, 11, 12, 13, 14, 15, 16, 8, 9, 10, 11, 12, 13, 14, 15, 16, 17, 9, 10, 11, 12, 13, 14, 15, 16, 17, 18, 10, 11, 12, 13, 14, 15, 16, 17, 18, 19, 11, 12, 13, 14, 15, 16, 17, 18, 19, 20, 12, 13, 14, 15, 16, 17, 18, 19, 20, 21, 13, 14, 15, 16, 17, 18, 19, 20, 21, 22, 14, 15, 16, 17, 18, 19, 20, 21, 22, 23, 15, 16, 17, 18, 19, 20, 21, 22, 23, 24, 7, 8, 9, 10, 11, 12, 13, 14, 15, 16, 8, 9, 10, 11, 12, 13, 14, 15, 16, 17, 9, 10, 11, 12, 13, 14, 15, 16, 17, 18, 10, 11, 12, 13, 14, 15, 16, 17, 18, 19, 11, 12, 13, 14, 15, 16, 17, 18, 19, 20, 12, 13, 14, 15, 16, 17, 18, 19, 20, 21, 13, 14, 15, 16, 17, 18, 19, 20, 21, 22, 14, 15, 16, 17, 18, 19, 20, 21, 22, 23, 15, 16, 17, 18, 19, 20, 21, 22, 23, 24, 16, 17, 18, 19, 20, 21, 22, 23, 24, 25, 8, 9, 10, 11, 12, 13, 14, 15, 16, 17, 9, 10, 11, 12, 13, 14, 15, 16, 17, 18, 10, 11, 12, 13, 14, 15, 16, 17, 18, 19, 11, 12, 13, 14, 15, 16, 17, 18, 19, 20, 12, 13, 14, 15, 16, 17, 18, 19, 20, 21, 13, 14, 15, 16, 17, 18, 19, 20, 21, 22, 14, 15, 16, 17, 18, 19, 20, 21, 22, 23, 15, 16, 17, 18, 19, 20, 21, 22, 23, 24, 16, 17, 18, 19, 20, 21, 22, 23, 24, 25, 17, 18, 19, 20, 21, 22, 23, 24, 25, 26, 9, 10, 11, 12, 13, 14, 15, 16, 17, 18, 10, 11, 12, 13, 14, 15, 16, 17, 18, 19, 11, 12, 13, 14, 15, 16, 17, 18, 19, 20, 12, 13, 14, 15, 16, 17, 18, 19, 20, 21, 13, 14, 15, 16, 17, 18, 19, 20, 21, 22, 14, 15, 16, 17, 18, 19, 20, 21, 22, 23, 15, 16, 17, 18, 19, 20, 21, 22, 23, 24, 16, 17, 18, 19, 20, 21, 22, 23, 24, 25, 17, 18, 19, 20, 21, 22, 23, 24, 25, 26, 18, 19, 20, 21, 22, 23, 24, 25, 26, 27, 1]\n"
     ]
    }
   ],
   "source": [
    "# Using list comprehension to calculate the sum of digits for numbers from 1 to 1000\n",
    "sum_of_digits = [sum(int(digit) for digit in str(num)) for num in range(1, 1001)]\n",
    "\n",
    "# Printing the result\n",
    "print(\"Sum of digits for numbers from 1 to 1000:\", sum_of_digits)\n"
   ]
  },
  {
   "cell_type": "markdown",
   "metadata": {},
   "source": [
    "### 40. Write a program that generates a list of prime palindromic numbers using list comprehension."
   ]
  },
  {
   "cell_type": "code",
   "execution_count": 19,
   "metadata": {},
   "outputs": [
    {
     "name": "stdout",
     "output_type": "stream",
     "text": [
      "Prime palindromic numbers: [2, 3, 5, 7, 11, 101, 131, 151, 181, 191, 313, 353, 373, 383, 727, 757, 787, 797, 919, 929]\n"
     ]
    }
   ],
   "source": [
    "def is_prime(num):\n",
    "    if num < 2:\n",
    "        return False\n",
    "    for i in range(2, int(num**0.5) + 1):\n",
    "        if num % i == 0:\n",
    "            return False\n",
    "    return True\n",
    "\n",
    "def is_palindrome(num):\n",
    "    return str(num) == str(num)[::-1]\n",
    "\n",
    "prime_palindromes = [num for num in range(1, 1000) if is_prime(num) and is_palindrome(num)]\n",
    "print(\"Prime palindromic numbers:\", prime_palindromes)\n"
   ]
  },
  {
   "cell_type": "code",
   "execution_count": null,
   "metadata": {},
   "outputs": [],
   "source": []
  }
 ],
 "metadata": {
  "colab": {
   "provenance": []
  },
  "kernelspec": {
   "display_name": "Python 3 (ipykernel)",
   "language": "python",
   "name": "python3"
  },
  "language_info": {
   "codemirror_mode": {
    "name": "ipython",
    "version": 3
   },
   "file_extension": ".py",
   "mimetype": "text/x-python",
   "name": "python",
   "nbconvert_exporter": "python",
   "pygments_lexer": "ipython3",
   "version": "3.11.4"
  }
 },
 "nbformat": 4,
 "nbformat_minor": 1
}
