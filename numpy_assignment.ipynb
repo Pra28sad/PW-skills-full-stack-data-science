{
 "cells": [
  {
   "cell_type": "markdown",
   "id": "a286e151",
   "metadata": {},
   "source": [
    "### 1. What is a Python library? Why do we use Python libraries?"
   ]
  },
  {
   "cell_type": "code",
   "execution_count": 1,
   "id": "8e1476ab",
   "metadata": {},
   "outputs": [],
   "source": [
    "### python library : library is nothing but a file which file is created by a some developer\n",
    "###                  file contains classes and classes contain number of functions .. this is about library\n",
    "## why we use this libraris >>  efficience of code and functionailty and reliablity  and standardization and community support\n"
   ]
  },
  {
   "cell_type": "markdown",
   "id": "14911641",
   "metadata": {},
   "source": [
    "### 2. What is the difference between Numpy array and List?"
   ]
  },
  {
   "cell_type": "code",
   "execution_count": 2,
   "id": "b351975c",
   "metadata": {},
   "outputs": [],
   "source": [
    "## differences between numpy array and list : \n",
    "#                                      numpy array stores homogenous data and list stores heterogenous data\n",
    "#                                      numpy array is very fast compare with list because numpy array built with c++ language so it is very fast\n",
    "#                                      syntax : numpy.array() , list()\n",
    "#                                      numpy has wide range of mathemetical functions but list not"
   ]
  },
  {
   "cell_type": "markdown",
   "id": "59178212",
   "metadata": {},
   "source": [
    "### 3. Find the shape, size and dimension of the following array?\n",
    "### [[1, 2, 3, 4]\n",
    "### [5, 6, 7, 8],\n",
    "### [9, 10, 11, 12]] "
   ]
  },
  {
   "cell_type": "code",
   "execution_count": 3,
   "id": "0694047f",
   "metadata": {},
   "outputs": [
    {
     "name": "stdout",
     "output_type": "stream",
     "text": [
      "shape is :  (3, 4)\n",
      "size is :  12\n",
      "dimensions :  2\n"
     ]
    }
   ],
   "source": [
    "import numpy as np\n",
    "arr = np.array([[1,2,3,4],[5,6,7,8],[9,10,11,12]])\n",
    "print(\"shape is : \", arr.shape)\n",
    "print(\"size is : \",arr.size)\n",
    "print(\"dimensions : \",arr.ndim)"
   ]
  },
  {
   "cell_type": "markdown",
   "id": "bc0d3a59",
   "metadata": {},
   "source": [
    "### 4. Write python code to access the first row of the following array?\n",
    "### [[1, 2, 3, 4]\n",
    "### [5, 6, 7, 8],\n",
    "### [9, 10, 11, 12]]"
   ]
  },
  {
   "cell_type": "code",
   "execution_count": 4,
   "id": "07b84366",
   "metadata": {},
   "outputs": [
    {
     "name": "stdout",
     "output_type": "stream",
     "text": [
      "[[ 1  2  3  4]\n",
      " [ 5  6  7  8]\n",
      " [ 9 10 11 12]]\n",
      "first row :  [1 2 3 4]\n"
     ]
    }
   ],
   "source": [
    "arr = np.array([[1,2,3,4],[5,6,7,8],[9,10,11,12]])\n",
    "print(arr)\n",
    "print(\"first row : \",arr[0])"
   ]
  },
  {
   "cell_type": "markdown",
   "id": "5511d5ac",
   "metadata": {},
   "source": [
    "### 5. How do you access the element at the third row and fourth column from the given numpy array?\n",
    "### [[1, 2, 3, 4]\n",
    "### [5, 6, 7, 8],\n",
    "### [9, 10, 11, 12]]"
   ]
  },
  {
   "cell_type": "code",
   "execution_count": 5,
   "id": "9f5c6bcc",
   "metadata": {},
   "outputs": [
    {
     "name": "stdout",
     "output_type": "stream",
     "text": [
      "element at the third row and fourth column :  12\n"
     ]
    }
   ],
   "source": [
    "arr = np.array([[1,2,3,4],[5,6,7,8],[9,10,11,12]])\n",
    "print(\"element at the third row and fourth column : \",arr[2][3])"
   ]
  },
  {
   "cell_type": "markdown",
   "id": "c00260d8",
   "metadata": {},
   "source": [
    "### 6. Write code to extract all odd-indexed elements from the given numpy array?\n",
    "### [[1, 2, 3, 4]\n",
    "### [5, 6, 7, 8],\n",
    "### [9, 10, 11, 12]]"
   ]
  },
  {
   "cell_type": "code",
   "execution_count": 6,
   "id": "f44ba67d",
   "metadata": {},
   "outputs": [
    {
     "data": {
      "text/plain": [
       "array([[ 2,  4],\n",
       "       [ 6,  8],\n",
       "       [10, 12]])"
      ]
     },
     "execution_count": 6,
     "metadata": {},
     "output_type": "execute_result"
    }
   ],
   "source": [
    "arr = np.array([[1,2,3,4],[5,6,7,8],[9,10,11,12]])\n",
    "arr[:,1::2]"
   ]
  },
  {
   "cell_type": "markdown",
   "id": "6874095b",
   "metadata": {},
   "source": [
    "### 7. How can you generate a random 3x3 matrix with values between 0 and 1?"
   ]
  },
  {
   "cell_type": "code",
   "execution_count": 7,
   "id": "5a3d8e70",
   "metadata": {},
   "outputs": [
    {
     "data": {
      "text/plain": [
       "array([[0.77789725, 0.34958094, 0.58081874],\n",
       "       [0.28730007, 0.91898436, 0.70306545],\n",
       "       [0.98401132, 0.85362783, 0.16030345]])"
      ]
     },
     "execution_count": 7,
     "metadata": {},
     "output_type": "execute_result"
    }
   ],
   "source": [
    "## by using random module\n",
    "arr = np.random.rand(3,3)\n",
    "arr"
   ]
  },
  {
   "cell_type": "markdown",
   "id": "ece84142",
   "metadata": {},
   "source": [
    "### 8. Describe the difference between np.random.rand and np.random.randn?"
   ]
  },
  {
   "cell_type": "code",
   "execution_count": 8,
   "id": "42033812",
   "metadata": {},
   "outputs": [],
   "source": [
    "# the main difference between is >> \n",
    "#                                 np.random.rand : generates ranodm numbers from uniform distribution over the interval[0,1)\n",
    "#                                 np.random.randn : generates random numbers from a standard normal distribution (mean = 0, standard deviation = 1). \n",
    "                                                                                                                      "
   ]
  },
  {
   "cell_type": "markdown",
   "id": "ef316208",
   "metadata": {},
   "source": [
    "### 9. Write code to increase the dimension of the following array?\n",
    "### [[1, 2, 3, 4]\n",
    "### [5, 6, 7, 8],\n",
    "### [9, 10, 11, 12]]"
   ]
  },
  {
   "cell_type": "code",
   "execution_count": 9,
   "id": "b5fde1af",
   "metadata": {},
   "outputs": [
    {
     "name": "stdout",
     "output_type": "stream",
     "text": [
      "previous dimension :  2\n",
      "after expanding dimensions :  3\n"
     ]
    }
   ],
   "source": [
    "arr = np.array([[1,2,3,4],[5,6,7,8],[9,10,11,12]])\n",
    "print(\"previous dimension : \",arr.ndim)\n",
    "arr_n = np.expand_dims(arr,axis=0)\n",
    "\n",
    "print(\"after expanding dimensions : \",arr_n.ndim)"
   ]
  },
  {
   "cell_type": "markdown",
   "id": "0a6e13bb",
   "metadata": {},
   "source": [
    "### 10. How to transpose the following array in NumPy?\n",
    "### [[1, 2, 3, 4]\n",
    "### [5, 6, 7, 8],\n",
    "### [9, 10, 11, 12]]"
   ]
  },
  {
   "cell_type": "code",
   "execution_count": 10,
   "id": "3f99693b",
   "metadata": {},
   "outputs": [
    {
     "data": {
      "text/plain": [
       "array([[ 1,  5,  9],\n",
       "       [ 2,  6, 10],\n",
       "       [ 3,  7, 11],\n",
       "       [ 4,  8, 12]])"
      ]
     },
     "execution_count": 10,
     "metadata": {},
     "output_type": "execute_result"
    }
   ],
   "source": [
    "arr = np.array([[1,2,3,4],[5,6,7,8],[9,10,11,12]])\n",
    "\n",
    "arr.T  "
   ]
  },
  {
   "cell_type": "markdown",
   "id": "3b2b621f",
   "metadata": {},
   "source": [
    "### 11. Consider the following matrix:\n",
    "### Matrix A: [[1, 2, 3, 4] [5, 6, 7, 8],[9, 10, 11, 12]]\n",
    "### Matrix B: [[1, 2, 3, 4] [5, 6, 7, 8],[9, 10, 11, 12]]\n",
    "### Perform the following operation using Python:"
   ]
  },
  {
   "cell_type": "markdown",
   "id": "5d07cd0c",
   "metadata": {},
   "source": [
    "#### Index wise multiplication"
   ]
  },
  {
   "cell_type": "code",
   "execution_count": 13,
   "id": "10abe441",
   "metadata": {},
   "outputs": [
    {
     "name": "stdout",
     "output_type": "stream",
     "text": [
      "matrix1 : \n",
      "[[ 1  2  3  4]\n",
      " [ 5  6  7  8]\n",
      " [ 9 10 11 12]]\n",
      "matrix2 : \n",
      "[[ 1  2  3  4]\n",
      " [ 5  6  7  8]\n",
      " [ 9 10 11 12]]\n",
      "index multiplication : \n",
      "[[  1   4   9  16]\n",
      " [ 25  36  49  64]\n",
      " [ 81 100 121 144]]\n"
     ]
    }
   ],
   "source": [
    "matrix1 = np.matrix([[1,2,3,4],[5,6,7,8],[9,10,11,12]])\n",
    "matrix2 = np.matrix([[1,2,3,4],[5,6,7,8],[9,10,11,12]])\n",
    "\n",
    "print(\"matrix1 : \")\n",
    "print(matrix1)\n",
    "print(\"matrix2 : \")\n",
    "print(matrix2)\n",
    "print(\"index multiplication : \")\n",
    "print(np.array(matrix1)*np.array(matrix2))"
   ]
  },
  {
   "cell_type": "markdown",
   "id": "2d11473c",
   "metadata": {},
   "source": [
    "##### Matix multiplication"
   ]
  },
  {
   "cell_type": "code",
   "execution_count": 15,
   "id": "d4bf0b42",
   "metadata": {},
   "outputs": [
    {
     "data": {
      "text/plain": [
       "matrix([[ 30,  70, 110],\n",
       "        [ 70, 174, 278],\n",
       "        [110, 278, 446]])"
      ]
     },
     "execution_count": 15,
     "metadata": {},
     "output_type": "execute_result"
    }
   ],
   "source": [
    "matrix1*matrix2.T"
   ]
  },
  {
   "cell_type": "markdown",
   "id": "f8efbbea",
   "metadata": {},
   "source": [
    "##### 3) Add both the matics"
   ]
  },
  {
   "cell_type": "code",
   "execution_count": 16,
   "id": "0406f1c1",
   "metadata": {},
   "outputs": [
    {
     "data": {
      "text/plain": [
       "matrix([[ 2,  4,  6,  8],\n",
       "        [10, 12, 14, 16],\n",
       "        [18, 20, 22, 24]])"
      ]
     },
     "execution_count": 16,
     "metadata": {},
     "output_type": "execute_result"
    }
   ],
   "source": [
    "matrix1+matrix2"
   ]
  },
  {
   "cell_type": "markdown",
   "id": "b6725a31",
   "metadata": {},
   "source": [
    "##### 4) Subtract matrix B from A"
   ]
  },
  {
   "cell_type": "code",
   "execution_count": 17,
   "id": "22b6277b",
   "metadata": {},
   "outputs": [
    {
     "data": {
      "text/plain": [
       "matrix([[0, 0, 0, 0],\n",
       "        [0, 0, 0, 0],\n",
       "        [0, 0, 0, 0]])"
      ]
     },
     "execution_count": 17,
     "metadata": {},
     "output_type": "execute_result"
    }
   ],
   "source": [
    "matrix2-matrix1"
   ]
  },
  {
   "cell_type": "markdown",
   "id": "a2b58c68",
   "metadata": {},
   "source": [
    "#### Divide Matrix B by A"
   ]
  },
  {
   "cell_type": "code",
   "execution_count": 18,
   "id": "5c462868",
   "metadata": {},
   "outputs": [
    {
     "data": {
      "text/plain": [
       "matrix([[1., 1., 1., 1.],\n",
       "        [1., 1., 1., 1.],\n",
       "        [1., 1., 1., 1.]])"
      ]
     },
     "execution_count": 18,
     "metadata": {},
     "output_type": "execute_result"
    }
   ],
   "source": [
    "matrix2/matrix1"
   ]
  },
  {
   "cell_type": "markdown",
   "id": "a316bc0b",
   "metadata": {},
   "source": [
    "### 12. Which function in Numpy can be used to swap the byte order of an array?"
   ]
  },
  {
   "cell_type": "code",
   "execution_count": 21,
   "id": "b0a5d3ab",
   "metadata": {},
   "outputs": [
    {
     "name": "stdout",
     "output_type": "stream",
     "text": [
      "Original array: [1 2 3 4]\n",
      "Array with swapped byte order: [16777216 33554432 50331648 67108864]\n"
     ]
    }
   ],
   "source": [
    "## we have to use the byteswap function to swap the array in byte case\n",
    "import numpy as np\n",
    "\n",
    "# Create an array\n",
    "arr = np.array([1, 2, 3, 4], dtype=np.int32)\n",
    "\n",
    "# Swap byte order\n",
    "arr_swapped = arr.byteswap()\n",
    "\n",
    "print(\"Original array:\", arr)\n",
    "print(\"Array with swapped byte order:\", arr_swapped)\n"
   ]
  },
  {
   "cell_type": "markdown",
   "id": "0f2a35f6",
   "metadata": {},
   "source": [
    "### 13. What is the significance of the np.linalg.inv function?"
   ]
  },
  {
   "cell_type": "code",
   "execution_count": 29,
   "id": "dfc9be07",
   "metadata": {},
   "outputs": [
    {
     "name": "stdout",
     "output_type": "stream",
     "text": [
      "Solution: [1. 2.]\n"
     ]
    }
   ],
   "source": [
    "\n",
    "# The np.linalg.inv function in NumPy is used to compute the multiplicative inverse of a matrix. \n",
    "# In other words, it calculates the inverse of a square matrix.\n",
    "# The significance of this function lies in various mathematical and computational applications, \n",
    "# particularly in solving systems of linear equations and in linear algebra operations\n",
    "\n",
    "# arr1 = np.array([[1,2],[2,4]])\n",
    "# arr2 = np.array([2,5])\n",
    "\n",
    "# np.linalg.inv(arr1).dot(arr2)\n",
    "import numpy as np\n",
    "\n",
    "# Define coefficient matrix A\n",
    "A = np.array([[2, 3], [1, -2]])\n",
    "\n",
    "# Define constant vector b\n",
    "b = np.array([8, -3])\n",
    "\n",
    "# Solve for variables x\n",
    "x = np.linalg.inv(A).dot(b)\n",
    "\n",
    "print(\"Solution:\", x)\n"
   ]
  },
  {
   "cell_type": "markdown",
   "id": "65d371a3",
   "metadata": {},
   "source": [
    "### 14. What does the np.reshape function do, and how is it used?"
   ]
  },
  {
   "cell_type": "code",
   "execution_count": 30,
   "id": "535b4cbb",
   "metadata": {},
   "outputs": [
    {
     "data": {
      "text/plain": [
       "array([[1, 2],\n",
       "       [3, 4],\n",
       "       [5, 6],\n",
       "       [4, 3]])"
      ]
     },
     "execution_count": 30,
     "metadata": {},
     "output_type": "execute_result"
    }
   ],
   "source": [
    "# reshape function is used to reshape the array without changing the data , it allows you to rearrange the \n",
    "# elements of a new shape, provided that the total number of elements remains the same.\n",
    "\n",
    "arr = np.array([[1,2,3,4],[5,6,4,3]])\n",
    "arr.reshape(4,2)"
   ]
  },
  {
   "cell_type": "markdown",
   "id": "e1042814",
   "metadata": {},
   "source": [
    "### 15. What is broadcasting in python?\n"
   ]
  },
  {
   "cell_type": "code",
   "execution_count": 34,
   "id": "e6853917",
   "metadata": {},
   "outputs": [
    {
     "name": "stdout",
     "output_type": "stream",
     "text": [
      "Before broadcasting : \n",
      "[[1 2 3 4]\n",
      " [9 8 7 6]\n",
      " [0 0 0 0]]\n",
      "After broadcasting : \n",
      "[[ 4  5  6  7]\n",
      " [12 11 10  9]\n",
      " [ 3  3  3  3]]\n"
     ]
    }
   ],
   "source": [
    "# broadcasting nothing but a when we are doing operations with an array then \n",
    "# is applying to all elements in array is known as broadcasting\n",
    "\n",
    "## example\n",
    "arr = np.array([[1,2,3,4],[9,8,7,6],[0,0,0,0]])\n",
    "print(\"Before broadcasting : \")\n",
    "print(arr)\n",
    "print(\"After broadcasting : \")\n",
    "print(arr+3)"
   ]
  },
  {
   "cell_type": "code",
   "execution_count": null,
   "id": "83245e88",
   "metadata": {},
   "outputs": [],
   "source": []
  }
 ],
 "metadata": {
  "kernelspec": {
   "display_name": "Python 3 (ipykernel)",
   "language": "python",
   "name": "python3"
  },
  "language_info": {
   "codemirror_mode": {
    "name": "ipython",
    "version": 3
   },
   "file_extension": ".py",
   "mimetype": "text/x-python",
   "name": "python",
   "nbconvert_exporter": "python",
   "pygments_lexer": "ipython3",
   "version": "3.11.5"
  }
 },
 "nbformat": 4,
 "nbformat_minor": 5
}
