{
 "cells": [
  {
   "cell_type": "markdown",
   "id": "c181a2a7",
   "metadata": {},
   "source": [
    "### Problem 1.Given an array of n numbers, give an algorithm which gives the element appearing maximum number of times?"
   ]
  },
  {
   "cell_type": "code",
   "execution_count": 2,
   "id": "a17f01c3",
   "metadata": {},
   "outputs": [
    {
     "name": "stdout",
     "output_type": "stream",
     "text": [
      "6 appeared 4 times\n"
     ]
    }
   ],
   "source": [
    "### function\n",
    "def maximum(arr):\n",
    "    count_dict = {}  # empty dictionary to take count of the values\n",
    "    count = 0  # to count  the value\n",
    "    num = 0   # to assign the number\n",
    "    for item in arr:\n",
    "        if item in count_dict:\n",
    "            count_dict[item] +=1\n",
    "            \n",
    "        else:\n",
    "            count_dict[item] = 1\n",
    "            \n",
    "        if count < count_dict[item]:\n",
    "            count = count_dict[item] # assigning count of the number to count variable\n",
    "            num = item  # assigning number if it is greater than remaining numbers\n",
    "    return f\"{num} appeared {count} times\"                \n",
    "\n",
    "### drive code\n",
    "arr = [1, 3, 4, 5, 6, 3, 6, 6, 6, 3, 7,7,8]\n",
    "result = maximum(arr)\n",
    "print(result)\n"
   ]
  },
  {
   "cell_type": "markdown",
   "id": "013bbdde",
   "metadata": {},
   "source": [
    "### Problem 2 : We are given a list of n-1 integers and these integers are in the range of 1 to n . There are no duplicates in the list. One of the integers is missing in the list. Give an algorithm to find that element Ex:[1,2,4,6,3,7,8] 5 is the missing num."
   ]
  },
  {
   "cell_type": "code",
   "execution_count": 4,
   "id": "27ad904f",
   "metadata": {},
   "outputs": [
    {
     "data": {
      "text/plain": [
       "5"
      ]
     },
     "execution_count": 4,
     "metadata": {},
     "output_type": "execute_result"
    }
   ],
   "source": [
    "# def bubble_sort(arr):\n",
    "#     for i in range(len(arr)):\n",
    "#         for j in range(len(arr)-1):\n",
    "#             if arr[j] > arr[j+1]:\n",
    "#                 arr[j],arr[j+1] = arr[j+1],arr[j]\n",
    "#     return arr\n",
    "\n",
    "# def checking_value(arr):\n",
    "#     bubble_sort(arr)\n",
    "#     for i in range(len(arr)):\n",
    "#         res = arr[i]\n",
    "#         if arr[i+1] == res+1:\n",
    "#             pass\n",
    "#         else:\n",
    "#             return res+1\n",
    "        \n",
    "# checking_value([1,2,4,6,3,7,8])\n",
    "def Sum(arr):\n",
    "    res = 0\n",
    "    for i in arr:\n",
    "        res = res + i\n",
    "        \n",
    "    return res\n",
    "\n",
    "def checking_missing_num(arr):\n",
    "    n = len(arr)+1\n",
    "    expected = n * (n+1)//2\n",
    "    actual = Sum(arr)\n",
    "    result = expected - actual\n",
    "    return result\n",
    "\n",
    "checking_missing_num([1,2,4,6,3,7,8])"
   ]
  },
  {
   "cell_type": "markdown",
   "id": "0c191e62",
   "metadata": {},
   "source": [
    "### Problem 3 : Given an array of n positive numbers. All numbers occurs even number of times except 1 which occurs odd number of times. Find that number in O(n) time and O(1) space. Ex: [1,2,3,2,3,1,3]. 3 is repeats odd times."
   ]
  },
  {
   "cell_type": "code",
   "execution_count": 5,
   "id": "88d0d68d",
   "metadata": {},
   "outputs": [
    {
     "name": "stdout",
     "output_type": "stream",
     "text": [
      "Number occurring odd times: 3\n"
     ]
    }
   ],
   "source": [
    "# def count_odd_number(arr):\n",
    "#     # Create an empty dictionary to store counts of each number\n",
    "#     count_dict = {}\n",
    "    \n",
    "#     # Iterate through the array to count occurrences of each number\n",
    "#     for item in arr:\n",
    "#         if item in count_dict:\n",
    "#             # Increment count if the number is already in the dictionary\n",
    "#             count_dict[item] += 1\n",
    "#         else:\n",
    "#             # Initialize count to 1 if the number is encountered for the first time\n",
    "#             count_dict[item] = 1\n",
    "    \n",
    "#     # Print the dictionary showing counts of each number\n",
    "#     print(count_dict)\n",
    "    \n",
    "#     # Iterate through the dictionary to find the number with an odd count\n",
    "#     for item, value in count_dict.items():\n",
    "#         if value % 2 != 0:\n",
    "#             # Return the number with an odd count\n",
    "#             return item\n",
    "\n",
    "# odd_number = count_odd_number([1, 2, 3, 2, 3, 1, 3])\n",
    "# print(\"Number occurring odd times:\", odd_number)\n",
    "\n",
    "def find_odd_occurrence(arr):\n",
    "    result = 0\n",
    "    for num in arr:\n",
    "        result ^= num\n",
    "    return result\n",
    "\n",
    "arr = [1, 2, 3, 2, 3, 1, 3]\n",
    "odd_occurrence = find_odd_occurrence(arr)\n",
    "print(\"Number occurring odd times:\", odd_occurrence)\n",
    "\n"
   ]
  },
  {
   "cell_type": "markdown",
   "id": "346d0a22",
   "metadata": {},
   "source": [
    "### Problem 4 : Given an array of n elements. Find two elements in the array such that their sum is equal to given element K."
   ]
  },
  {
   "cell_type": "code",
   "execution_count": 9,
   "id": "f2f8f438",
   "metadata": {},
   "outputs": [
    {
     "name": "stdout",
     "output_type": "stream",
     "text": [
      "Pair : (1, 7)\n",
      "Pair : (2, 6)\n",
      "Pair : (3, 5)\n"
     ]
    }
   ],
   "source": [
    "### creating function for sorting\n",
    "def Sort(arr):\n",
    "    \"\"\"this function is used to sorting using selection sort algorithm.\"\"\"\n",
    "    for i in range(len(arr)):\n",
    "        min_ind = i\n",
    "        for j in range(i+1,len(arr)):\n",
    "            if arr[j] <arr[min_ind] :\n",
    "                min_ind = j\n",
    "        \n",
    "        arr[i] , arr[min_ind] = arr[min_ind],arr[i]\n",
    "    \n",
    "    return arr\n",
    "                \n",
    "              \n",
    "        \n",
    "### main function to to check two elements in the array that theire is equal to K          \n",
    "def sum_elements(arr,k):\n",
    "    \n",
    "    Sort(arr)   ## calling sort function\n",
    "    left  = 0\n",
    "    right = len(arr)-1\n",
    "    n = len(arr)\n",
    "    \n",
    "    while left < right:\n",
    "        \n",
    "        if arr[left%n]+arr[right%n] == k:\n",
    "            print(f\"Pair : {arr[left%n],arr[right%n]}\")\n",
    "            left += 1\n",
    "            right -= 1\n",
    "            \n",
    "        elif arr[left%n] + arr[right%n] > k:\n",
    "            right -= 1\n",
    "            \n",
    "        else :\n",
    "            left += 1\n",
    "            \n",
    "sum_elements([1,5,3,7,8,6,2],8)"
   ]
  },
  {
   "cell_type": "markdown",
   "id": "a233a735",
   "metadata": {},
   "source": [
    "### Problem 5 : Given an array of both positive and negative numbers, find two numbers such that their sum is closest to 0. Ex: [ 1 ,60 ,-10, 70, -80,85]. Ans : -80,85."
   ]
  },
  {
   "cell_type": "code",
   "execution_count": 42,
   "id": "48d7cefa",
   "metadata": {},
   "outputs": [
    {
     "data": {
      "text/plain": [
       "'The numbers are : (-80, 85)'"
      ]
     },
     "execution_count": 42,
     "metadata": {},
     "output_type": "execute_result"
    }
   ],
   "source": [
    "### creating function to findout the \n",
    "def closest_numbers(arr):\n",
    "    left = 0\n",
    "    right = 1\n",
    "    summ = arr[0]+arr[1]\n",
    "    \n",
    "    for i in range(len(arr)-1):\n",
    "        for j in range(i+1,len(arr)):\n",
    "            Sum = arr[i]+arr[j]\n",
    "            if (abs(summ)) > (abs(Sum)):\n",
    "                summ = Sum\n",
    "                left = i\n",
    "                right = j\n",
    "    return f\"The numbers are : {arr[left],arr[right]}\"\n",
    "    \n",
    "closest_numbers([ 1 ,60 ,-10, 70, -80,85])"
   ]
  },
  {
   "cell_type": "markdown",
   "id": "01b342a8",
   "metadata": {},
   "source": [
    "### Problem 6 : Given an array of n elements . Find three elements such that their sum is equal to the given number."
   ]
  },
  {
   "cell_type": "code",
   "execution_count": 10,
   "id": "ff8e7da5",
   "metadata": {
    "scrolled": true
   },
   "outputs": [
    {
     "name": "stdout",
     "output_type": "stream",
     "text": [
      "the three numbers are : (1, 3, 5)\n",
      "the three numbers are : (2, 3, 4)\n"
     ]
    }
   ],
   "source": [
    "### function creating for sorting\n",
    "def Sort(arr):\n",
    "    n = len(arr)\n",
    "    \n",
    "    ### sorting using selection sort\n",
    "    for i in range(n):\n",
    "        min_ind = i\n",
    "        for j in range(i+1,n):\n",
    "            if arr[j] < arr[min_ind]:\n",
    "                min_ind = j\n",
    "                \n",
    "        arr[i],arr[min_ind] = arr[min_ind],arr[i]\n",
    "    #print(arr)\n",
    "    return arr\n",
    "\n",
    "def three_elements(arr,num):\n",
    "    Sort(arr)   ### calling the sorting function\n",
    "    n = len(arr)\n",
    "    for first in range(len(arr)):\n",
    "        second = first + 1\n",
    "        third = n-1\n",
    "        \n",
    "        while second < third:\n",
    "            Sum = arr[first%n]+arr[second%n]+arr[third%n]\n",
    "            if Sum == num:\n",
    "                print(f\"the three numbers are : {arr[first%n],arr[second%n],arr[third%n]}\")\n",
    "                #return ## stoping the function\n",
    "                second += 1\n",
    "                third -= 1\n",
    "            elif Sum < num:\n",
    "                second += 1\n",
    "            else:\n",
    "                third -= 1\n",
    "        \n",
    "three_elements([1,3,5,7,2,4],9)   "
   ]
  },
  {
   "cell_type": "markdown",
   "id": "8e2e0cb9",
   "metadata": {},
   "source": [
    "### Problem 7 : Given an array of n elements . Find three elements i, j, k in the array such that \n",
    "### i * i + j * j = k*k."
   ]
  },
  {
   "cell_type": "code",
   "execution_count": 29,
   "id": "3ba668e6",
   "metadata": {},
   "outputs": [
    {
     "name": "stdout",
     "output_type": "stream",
     "text": [
      "i : 3, j : 4, k : 5\n"
     ]
    }
   ],
   "source": [
    "### sorting an array using selection in using array\n",
    "\n",
    "def Sort(arr):\n",
    "    n = len(arr)\n",
    "    for i in range(n):\n",
    "        min_ind = i\n",
    "        for j in range(i,n):\n",
    "            if arr[j]<arr[min_ind]:\n",
    "                min_ind = j\n",
    "        arr[i],arr[min_ind] = arr[min_ind],arr[i]\n",
    "    return arr\n",
    "\n",
    "### creating function to check the three elements i,j,k ==> i*i + j*j = k*k\n",
    "def Check(arr):\n",
    "    arr = Sort(arr)\n",
    "    n = len(arr)\n",
    "    for i in range(n):\n",
    "        j = i\n",
    "        k = n-1\n",
    "        while j < k:\n",
    "            res = (arr[i%n] * arr[i%n])+(arr[j%n] * arr[j%n])\n",
    "            if res == arr[k%n] * arr[k%n]:\n",
    "                print(f\"i : {arr[i%n]}, j : {arr[j%n]}, k : {arr[k%n]}\")\n",
    "                j += 1\n",
    "                k -= 1\n",
    "                \n",
    "            elif res > arr[k%n] * arr[k%n]:\n",
    "                k -= 1\n",
    "            \n",
    "            else:\n",
    "                j+=1\n",
    "                \n",
    "Check([5,3,4,1,2])"
   ]
  },
  {
   "cell_type": "markdown",
   "id": "8b892145",
   "metadata": {},
   "source": [
    "### Problem 8 : An element is a majority if it appears more than n/2 times. Give an algorithm takes an array of n element as argument and identifies a majority (if it exists)."
   ]
  },
  {
   "cell_type": "code",
   "execution_count": 53,
   "id": "31799045",
   "metadata": {},
   "outputs": [
    {
     "name": "stdout",
     "output_type": "stream",
     "text": [
      "The majority is : 4 \n"
     ]
    }
   ],
   "source": [
    "def checkMajorityElement(arr):\n",
    "    n = len(arr)\n",
    "    count = 0\n",
    "    num = 0\n",
    "    \n",
    "    for i in arr:\n",
    "        if count == 0:\n",
    "            count += 1\n",
    "            num = i\n",
    "        elif  i == num:\n",
    "            count += 1\n",
    "            \n",
    "        else:\n",
    "            pass\n",
    "            #count -= 1\n",
    "    result = 0      \n",
    "    for i in arr:\n",
    "        if i == num:\n",
    "            result+=1\n",
    "            \n",
    "    if result >= n //2:\n",
    "        return num\n",
    "    \n",
    "print(f\"The majority is : { checkMajorityElement([4,1,2,4,2,4])} \")   "
   ]
  },
  {
   "cell_type": "markdown",
   "id": "6c0e2bc4",
   "metadata": {},
   "source": [
    "### Problem 9 : Given n × n matrix, and in each row all 1’s are followed by 0’s. Find the row with the maximum number of 0’s."
   ]
  },
  {
   "cell_type": "code",
   "execution_count": 72,
   "id": "0a45422a",
   "metadata": {},
   "outputs": [
    {
     "name": "stdout",
     "output_type": "stream",
     "text": [
      "The row index is : 2, array is: [0, 0, 1]\n"
     ]
    }
   ],
   "source": [
    "def findMaximumNoOf_0_s(arr):\n",
    "    n = len(arr)\n",
    "    max_count = 0\n",
    "    max_row = 0\n",
    "    for i in range(n):\n",
    "        pre_count = 0\n",
    "        for j in range(n):\n",
    "            if arr[i][j] == 0:\n",
    "                pre_count+=1\n",
    "        if pre_count > max_count:\n",
    "            max_count = pre_count\n",
    "            max_row = i\n",
    "        \n",
    "    return f\"The row index is : {max_row}, array is: {arr[max_row]}\"\n",
    "\n",
    "print(findMaximumNoOf_0_s([\n",
    "    [1,1,1],\n",
    "    [1,1,0],\n",
    "    [0,0,1]\n",
    "]))\n",
    "        \n",
    "                "
   ]
  },
  {
   "cell_type": "markdown",
   "id": "44d87392",
   "metadata": {},
   "source": [
    "### Problem 10 : Sort an array of 0’s, 1’s and 2’s [or R’s, G’s and B’s]: Given an array A[] consisting of 0’s, 1’s and 2’s, give an algorithm for sorting A[].The algorithm should put all 0’s first, then all 1’s and finally all 2’s at the end. Example Input = {0,1,1,0,1,2,1,2,0,0,0,1}, Output = {0,0,0,0,0,1,1,1,1,1,2,2}"
   ]
  },
  {
   "cell_type": "code",
   "execution_count": 78,
   "id": "1602ca98",
   "metadata": {},
   "outputs": [
    {
     "name": "stdout",
     "output_type": "stream",
     "text": [
      "Sorted array: [0, 0, 0, 0, 0, 1, 1, 1, 1, 1, 2, 2]\n"
     ]
    }
   ],
   "source": [
    "def sortColors(nums):\n",
    "    low = 0\n",
    "    mid = 0\n",
    "    high = len(nums) - 1\n",
    "    \n",
    "    while mid <= high:\n",
    "        if nums[mid] == 0:\n",
    "            nums[low], nums[mid] = nums[mid], nums[low]\n",
    "            low += 1\n",
    "            mid += 1\n",
    "        elif nums[mid] == 1:\n",
    "            mid += 1\n",
    "        else:  # nums[mid] == 2\n",
    "            nums[mid], nums[high] = nums[high], nums[mid]\n",
    "            high -= 1\n",
    "    \n",
    "    return nums\n",
    "\n",
    "nums = [0, 1, 1, 0, 1, 2, 1, 2, 0, 0, 0, 1]\n",
    "sorted_nums = sortColors(nums)\n",
    "print(\"Sorted array:\", sorted_nums)\n"
   ]
  },
  {
   "cell_type": "code",
   "execution_count": null,
   "id": "a18687ea",
   "metadata": {},
   "outputs": [],
   "source": []
  },
  {
   "cell_type": "code",
   "execution_count": null,
   "id": "9527bfd8",
   "metadata": {},
   "outputs": [],
   "source": []
  }
 ],
 "metadata": {
  "kernelspec": {
   "display_name": "Python 3 (ipykernel)",
   "language": "python",
   "name": "python3"
  },
  "language_info": {
   "codemirror_mode": {
    "name": "ipython",
    "version": 3
   },
   "file_extension": ".py",
   "mimetype": "text/x-python",
   "name": "python",
   "nbconvert_exporter": "python",
   "pygments_lexer": "ipython3",
   "version": "3.11.5"
  }
 },
 "nbformat": 4,
 "nbformat_minor": 5
}
