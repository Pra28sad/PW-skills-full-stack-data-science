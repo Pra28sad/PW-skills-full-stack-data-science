{
  "cells": [
    {
      "cell_type": "markdown",
      "metadata": {
        "id": "view-in-github",
        "colab_type": "text"
      },
      "source": [
        "<a href=\"https://colab.research.google.com/github/Pra28sad/PW-skills-full-stack-data-science/blob/main/Python_ControlFlow.ipynb\" target=\"_parent\"><img src=\"https://colab.research.google.com/assets/colab-badge.svg\" alt=\"Open In Colab\"/></a>"
      ]
    },
    {
      "cell_type": "markdown",
      "id": "f2fb1e12",
      "metadata": {
        "id": "f2fb1e12"
      },
      "source": [
        "## BASIC IF-ELSE STATEMENTS\n"
      ]
    },
    {
      "cell_type": "markdown",
      "id": "dbe05218",
      "metadata": {
        "id": "dbe05218"
      },
      "source": [
        "### 1. Write a Python program to check if a given number is positive or negative."
      ]
    },
    {
      "cell_type": "code",
      "execution_count": null,
      "id": "cd149f5f",
      "metadata": {
        "id": "cd149f5f",
        "outputId": "e930c396-7224-44e7-f239-5d25fa2758a8"
      },
      "outputs": [
        {
          "name": "stdout",
          "output_type": "stream",
          "text": [
            "enter number to check : -2\n",
            "The given number '-2' is Negetive. \n"
          ]
        }
      ],
      "source": [
        "number = int(input(\"enter number to check : \"))\n",
        "\n",
        "if number < 0:\n",
        "    print(f\"The given number '{number}' is Negetive. \")\n",
        "\n",
        "else:\n",
        "    print(f\"The given number '{number}' is Positive. \")"
      ]
    },
    {
      "cell_type": "markdown",
      "id": "ba3f0a82",
      "metadata": {
        "id": "ba3f0a82"
      },
      "source": [
        "### 2. Create a program that determines if a person is eligible to vote based on their age."
      ]
    },
    {
      "cell_type": "code",
      "execution_count": null,
      "id": "61ec0ccd",
      "metadata": {
        "id": "61ec0ccd",
        "outputId": "56e8268d-25e8-4cbb-fdb2-37f831515fa6"
      },
      "outputs": [
        {
          "name": "stdout",
          "output_type": "stream",
          "text": [
            "enter age of a person : 19\n",
            "This person is eligible for Voting.\n"
          ]
        }
      ],
      "source": [
        "age = int(input(\"enter age of a person : \"))\n",
        "\n",
        "if age < 18 :\n",
        "    print(f\"This person is not eligible for Voting.\")\n",
        "\n",
        "else:\n",
        "    print(\"This person is eligible for Voting.\")\n",
        ""
      ]
    },
    {
      "cell_type": "markdown",
      "id": "5769db20",
      "metadata": {
        "id": "5769db20"
      },
      "source": [
        "### 3. Develop a program to find the maximum of two numbers using if-else statements."
      ]
    },
    {
      "cell_type": "code",
      "execution_count": null,
      "id": "8b4e8479",
      "metadata": {
        "id": "8b4e8479",
        "outputId": "2b0352d6-f20e-4868-cbcd-12ce1d5e0d9a"
      },
      "outputs": [
        {
          "name": "stdout",
          "output_type": "stream",
          "text": [
            "Enter first number : 34\n",
            "Enter second number : 24\n",
            "The first number ' 34  ' is Greater than ' 24 '.\n"
          ]
        }
      ],
      "source": [
        "number1 = int(input(\"Enter first number : \"))\n",
        "number2 = int(input(\"Enter second number : \"))\n",
        "\n",
        "if number1 > number2 :\n",
        "    print (f\"The first number ' {number1}  ' is Greater than ' {number2} '.\")\n",
        "\n",
        "else:\n",
        "    print(f\"The Second number ' {number2} ' is Greater than  ' {number1}  '.\")"
      ]
    },
    {
      "cell_type": "markdown",
      "id": "25340ef8",
      "metadata": {
        "id": "25340ef8"
      },
      "source": [
        "### 4. Write a Python script to classify a given year as a leap year or not."
      ]
    },
    {
      "cell_type": "code",
      "execution_count": null,
      "id": "6f129d17",
      "metadata": {
        "id": "6f129d17",
        "outputId": "e8fa906c-62eb-47ae-ac73-6888bd569c10"
      },
      "outputs": [
        {
          "name": "stdout",
          "output_type": "stream",
          "text": [
            "Enter year : 2022\n",
            " '2022' year is not a leap year.\n"
          ]
        }
      ],
      "source": [
        "year = int(input(\"Enter year : \"))\n",
        "\n",
        "if year % 4 == 0 and year % 100 != 0 :\n",
        "    print(f\"'{year}' year is a leap year.\")\n",
        "\n",
        "elif year % 400 == 0 and year % 100 == 0 :\n",
        "    print(f\" '{year}' year is a leap year.\")\n",
        "\n",
        "else:\n",
        "    print(f\" '{year}' year is not a leap year.\")"
      ]
    },
    {
      "cell_type": "markdown",
      "id": "ba99c5d6",
      "metadata": {
        "id": "ba99c5d6"
      },
      "source": [
        "### 5. Create a program that checks whether a character is a vowel or a consonant."
      ]
    },
    {
      "cell_type": "code",
      "execution_count": null,
      "id": "d6c5be92",
      "metadata": {
        "id": "d6c5be92",
        "outputId": "059de399-d608-48eb-eeaa-5f5146987bbc"
      },
      "outputs": [
        {
          "name": "stdout",
          "output_type": "stream",
          "text": [
            "enter character : s\n",
            "'s' is a consonant.\n"
          ]
        }
      ],
      "source": [
        "character = str(input(\"enter character : \"))\n",
        "\n",
        "vowels = \"AEIOUaeiou\"\n",
        "\n",
        "if character in vowels :\n",
        "    print(f\"'{character}' is a Vowel.\")\n",
        "\n",
        "else:\n",
        "    print(f\"'{character}' is a consonant.\")\n",
        ""
      ]
    },
    {
      "cell_type": "markdown",
      "id": "51c46929",
      "metadata": {
        "id": "51c46929"
      },
      "source": [
        "### 6. Implement a program to determine whether a given number is even or odd."
      ]
    },
    {
      "cell_type": "code",
      "execution_count": null,
      "id": "e66c7e21",
      "metadata": {
        "id": "e66c7e21",
        "outputId": "ede8bf91-9cfc-497c-95c7-ce5532da800c"
      },
      "outputs": [
        {
          "name": "stdout",
          "output_type": "stream",
          "text": [
            "enter number : 5\n",
            "5 is odd number.\n"
          ]
        }
      ],
      "source": [
        "number = int(input(\"enter number : \"))\n",
        "\n",
        "if number % 2 == 0 :\n",
        "    print(f\"{number} is even number.\")\n",
        "\n",
        "else:\n",
        "    print(f\"{number} is odd number.\")"
      ]
    },
    {
      "cell_type": "markdown",
      "id": "55855519",
      "metadata": {
        "id": "55855519"
      },
      "source": [
        "### 7. Write a Python function to calculate the absolute value of a number without using the `abs()` function."
      ]
    },
    {
      "cell_type": "code",
      "execution_count": null,
      "id": "348349fa",
      "metadata": {
        "id": "348349fa",
        "outputId": "b4483d04-fac4-4cb2-8134-d84c430ecf63"
      },
      "outputs": [
        {
          "name": "stdout",
          "output_type": "stream",
          "text": [
            "enter number : -87\n",
            "The absolute of a '-87' is '87'\n"
          ]
        }
      ],
      "source": [
        "def absolute(num):\n",
        "    if num < 0:\n",
        "        return -(num)\n",
        "    else:\n",
        "        return num\n",
        "\n",
        "number = int(input(\"enter number : \"))\n",
        "\n",
        "result = absolute(number)\n",
        "\n",
        "print(f\"The absolute of a '{number}' is '{result}'\")"
      ]
    },
    {
      "cell_type": "markdown",
      "id": "d7413ed2",
      "metadata": {
        "id": "d7413ed2"
      },
      "source": [
        "### 8. Develop a program that determines the largest of three given numbers using if-else statements."
      ]
    },
    {
      "cell_type": "code",
      "execution_count": null,
      "id": "b27938d1",
      "metadata": {
        "id": "b27938d1",
        "outputId": "189791a1-d4c1-4117-e48b-0becf56b168d"
      },
      "outputs": [
        {
          "name": "stdout",
          "output_type": "stream",
          "text": [
            "enter first number : 30\n",
            "enter second number : 20\n",
            "enter third number : 10\n",
            " '30' is larger than the 20 and 10  \n"
          ]
        }
      ],
      "source": [
        "number1 = int(input(\"enter first number : \"))\n",
        "number2 = int(input(\"enter second number : \"))\n",
        "number3 = int(input(\"enter third number : \"))\n",
        "\n",
        "if number1 > number2 and number1 > number3:\n",
        "    print(f\" '{number1}' is larger than the {number2} and {number3}  \")\n",
        "\n",
        "elif number2 > number3 :\n",
        "    print(f\" '{number2}' is larger than the {number1} and {number3}  \")\n",
        "\n",
        "else:\n",
        "    print(f\" '{number3}' is larger than the {number1} and {number2}  \")"
      ]
    },
    {
      "cell_type": "markdown",
      "id": "afb17387",
      "metadata": {
        "id": "afb17387"
      },
      "source": [
        "### 9. Create a program that checks if a given string is a palindrome."
      ]
    },
    {
      "cell_type": "code",
      "execution_count": null,
      "id": "7ce3be1a",
      "metadata": {
        "id": "7ce3be1a",
        "outputId": "fd098960-b6a5-4f8c-c81c-974b76101eb7"
      },
      "outputs": [
        {
          "name": "stdout",
          "output_type": "stream",
          "text": [
            "enter string : madam\n",
            "The given string palindrome.\n"
          ]
        }
      ],
      "source": [
        "string = str(input(\"enter string : \"))\n",
        "\n",
        "if string == string[::-1]:\n",
        "    print(\"The given string palindrome.\")\n",
        "\n",
        "else:\n",
        "    print(\"The given string is not palindrome.\")"
      ]
    },
    {
      "cell_type": "markdown",
      "id": "3ce831e9",
      "metadata": {
        "id": "3ce831e9"
      },
      "source": [
        "### 10. Write a Python program to calculate the grade based on a student's score."
      ]
    },
    {
      "cell_type": "code",
      "execution_count": null,
      "id": "1f9541a7",
      "metadata": {
        "id": "1f9541a7",
        "outputId": "ff346c78-191f-4d1d-810d-60b0f0dd56ad"
      },
      "outputs": [
        {
          "name": "stdout",
          "output_type": "stream",
          "text": [
            "enter score of a student : 50\n",
            "The student grade is : 'E' \n"
          ]
        }
      ],
      "source": [
        "score = int(input(\"enter score of a student : \"))\n",
        "\n",
        "if 90 <= score <= 100 :\n",
        "    print(\"The student grade is : 'A' \")\n",
        "elif 80 <= score < 90 :\n",
        "    print(\"The student grade is : 'B' \")\n",
        "elif 70 <= score < 80 :\n",
        "    print(\"The student grade is : 'C' \")\n",
        "elif 60 <= score < 70 :\n",
        "    print(\"The student grade is : 'D' \")\n",
        "elif 50 <= score < 60 :\n",
        "    print(\"The student grade is : 'E' \")\n",
        "else:\n",
        "    print(\"The student grade is : 'F' \")"
      ]
    },
    {
      "cell_type": "markdown",
      "id": "e4bd8c6d",
      "metadata": {
        "id": "e4bd8c6d"
      },
      "source": [
        "## Nested If-Else Statements:"
      ]
    },
    {
      "cell_type": "markdown",
      "id": "5a661acc",
      "metadata": {
        "id": "5a661acc"
      },
      "source": [
        "### 11. Write a program to find the largest among three numbers using nested if-else statements."
      ]
    },
    {
      "cell_type": "code",
      "execution_count": null,
      "id": "449fac2d",
      "metadata": {
        "id": "449fac2d",
        "outputId": "bc326669-a93f-4b3f-80bd-52c2919dc993"
      },
      "outputs": [
        {
          "name": "stdout",
          "output_type": "stream",
          "text": [
            "enter first number : 30\n",
            "enter second number : 20\n",
            "enter third number : 10\n",
            " '30' is larger than the 20 and 10  \n"
          ]
        }
      ],
      "source": [
        "number1 = int(input(\"enter first number : \"))\n",
        "number2 = int(input(\"enter second number : \"))\n",
        "number3 = int(input(\"enter third number : \"))\n",
        "\n",
        "if number1 > number2:\n",
        "    if number1 > number3:\n",
        "        print(f\" '{number1}' is larger than the {number2} and {number3}  \")\n",
        "\n",
        "    else:\n",
        "        print(f\" '{number3}' is larger than the {number1} and {number2}  \")\n",
        "\n",
        "elif number2 > number3:\n",
        "    print(f\" '{number2}' is larger than the {number1} and {number3}  \")\n",
        "\n",
        "else:\n",
        "    print(f\" '{number3}' is larger than the {number1} and {number2}  \")"
      ]
    },
    {
      "cell_type": "markdown",
      "id": "70869732",
      "metadata": {
        "id": "70869732"
      },
      "source": [
        "### 12. Implement a program to determine if a triangle is equilateral, isosceles, or scalene."
      ]
    },
    {
      "cell_type": "code",
      "execution_count": null,
      "id": "dc246de5",
      "metadata": {
        "id": "dc246de5",
        "outputId": "5041cfb8-12f2-44f0-9f6e-12980ae1da68"
      },
      "outputs": [
        {
          "name": "stdout",
          "output_type": "stream",
          "text": [
            " enter 1st side length : 10\n",
            "enter 2nd side length : 10\n",
            "enter 3rd side length : 30\n",
            "Two sides are equal , so it is a 'Isosceles Triangle'. \n"
          ]
        }
      ],
      "source": [
        "sideA = int(input(\" enter 1st side length : \"))\n",
        "sideB = int(input(\"enter 2nd side length : \"))\n",
        "sideC = int(input(\"enter 3rd side length : \"))\n",
        "\n",
        "if sideA == sideB :\n",
        "    if sideA == sideC :\n",
        "        print(f\"Given sides all are equal , so it is a 'Equilateral Triangle'. \")\n",
        "    else :\n",
        "        print(f\"Two sides are equal , so it is a 'Isosceles Triangle'. \")\n",
        "elif sideB == sideC or sideA == sideC:\n",
        "\n",
        "    print(f\"Two sides are equal , so it is a 'Isosceles Triangle'. \")\n",
        "\n",
        "else:\n",
        "    print(\"All sides are not equal , so it is a 'Scalene Triangle'.\")"
      ]
    },
    {
      "cell_type": "markdown",
      "id": "6e52f6ff",
      "metadata": {
        "id": "6e52f6ff"
      },
      "source": [
        "### 13. Develop a program that checks if a year is a leap year and also if it is a century year."
      ]
    },
    {
      "cell_type": "code",
      "execution_count": null,
      "id": "e48dc9a9",
      "metadata": {
        "id": "e48dc9a9",
        "outputId": "21bb9160-c289-44c0-f292-403ce58e5152"
      },
      "outputs": [
        {
          "name": "stdout",
          "output_type": "stream",
          "text": [
            "Enter year : 2004\n",
            "'2004' year is a leap year but it is not a Century year.\n"
          ]
        }
      ],
      "source": [
        "year = int(input(\"Enter year : \"))\n",
        "\n",
        "if year % 4 == 0 and year % 100 != 0 :\n",
        "    print(f\"'{year}' year is a leap year but it is not a Century year.\")\n",
        "\n",
        "elif year % 400 == 0 and year % 100 == 0 :\n",
        "    print(f\" '{year}' year is a leap year and also it is a Century year\")\n",
        "\n",
        "else:\n",
        "    if year % 100 == 0 :\n",
        "        print(f\" '{year}' year is not a leap year but it is a Century year.\")\n",
        "    else:\n",
        "        print(f\" '{year}' year is not a leap year and also it is not a Century year.\")"
      ]
    },
    {
      "cell_type": "markdown",
      "id": "a78717b7",
      "metadata": {
        "id": "a78717b7"
      },
      "source": [
        "### 15. Create a program to check if a person is a teenager (between 13 and 19 years old)."
      ]
    },
    {
      "cell_type": "code",
      "execution_count": null,
      "id": "41e943f5",
      "metadata": {
        "id": "41e943f5",
        "outputId": "f894518c-64af-492f-9451-1f03ee6e2d57"
      },
      "outputs": [
        {
          "name": "stdout",
          "output_type": "stream",
          "text": [
            "enter age : 20\n",
            "This Person is not Teenager.\n"
          ]
        }
      ],
      "source": [
        "age = int(input(\"enter age : \"))\n",
        "\n",
        "if 13 <= age <= 19 :\n",
        "    print(\"this person is a Teenager.\")\n",
        "else:\n",
        "    print(\"This Person is not Teenager.\")\n",
        "\n",
        ""
      ]
    },
    {
      "cell_type": "markdown",
      "id": "338a049f",
      "metadata": {
        "id": "338a049f"
      },
      "source": [
        "### 16. Develop a program that determines the type of angle based on its measure (acute, obtuse, or right)."
      ]
    },
    {
      "cell_type": "code",
      "execution_count": null,
      "id": "9a18b9a0",
      "metadata": {
        "id": "9a18b9a0",
        "outputId": "8de03f0e-01f1-4715-aef6-453271703d3d"
      },
      "outputs": [
        {
          "name": "stdout",
          "output_type": "stream",
          "text": [
            "enter length of a angle : 90\n",
            "This is a right angle.\n"
          ]
        }
      ],
      "source": [
        "angle = int(input(\"enter length of a angle : \"))\n",
        "\n",
        "if angle < 90:\n",
        "    print(\"This is a acute angle.\")\n",
        "\n",
        "elif angle > 90 :\n",
        "    print(\"This is obtuse angle.\")\n",
        "\n",
        "else:\n",
        "    print(\"This is a right angle.\")"
      ]
    },
    {
      "cell_type": "markdown",
      "id": "d30a53dd",
      "metadata": {
        "id": "d30a53dd"
      },
      "source": [
        "### 17. Write a Python program to calculate the roots of a quadratic equation."
      ]
    },
    {
      "cell_type": "code",
      "execution_count": null,
      "id": "41e31d6c",
      "metadata": {
        "id": "41e31d6c",
        "outputId": "75efa27b-2a0d-44cc-8146-10e696a7cd62"
      },
      "outputs": [
        {
          "name": "stdout",
          "output_type": "stream",
          "text": [
            "enter coefficient of a : 1\n",
            "enter coefficient of b : 10\n",
            "enter coefficient of c : -24\n",
            "Entered equation is : \n",
            "1.0 X`2 + 10.0 Y`2 + -24.0 = 0\n",
            "real and different roots \n",
            "2.0\n",
            "-12.0\n"
          ]
        }
      ],
      "source": [
        "import math\n",
        "\n",
        "coefficient_of_a = float(input(\"enter coefficient of a : \"))\n",
        "coefficient_of_b = float(input(\"enter coefficient of b : \"))\n",
        "coefficient_of_c = float(input(\"enter coefficient of c : \"))\n",
        "\n",
        "print(\"Entered equation is : \")\n",
        "print(f\"{coefficient_of_a} X`2 + {coefficient_of_b} Y`2 + {coefficient_of_c} = 0\")\n",
        "\n",
        "a = coefficient_of_a\n",
        "b = coefficient_of_b\n",
        "c = coefficient_of_c\n",
        "\n",
        "dis = b ** 2 - 4 * a * c\n",
        "sqrt_val = math.sqrt(abs(dis))\n",
        "\n",
        "if dis > 0 :\n",
        "    print(\"real and different roots \")\n",
        "    print((-b + sqrt_val)/ (2 * a))\n",
        "    print((-b - sqrt_val) / (2 * a))\n",
        "\n",
        "elif dis == 0 :\n",
        "    print(\"real and same roots\")\n",
        "    print(-b/(2 * a))\n",
        "\n",
        "else:\n",
        "    print(\"complex roots\")\n",
        "    print(-b / (2*a) , \"+ i\", sqrt_val)\n",
        "    print(-b / (2*a) , \"- i\" , sqrt_val)\n",
        ""
      ]
    },
    {
      "cell_type": "markdown",
      "id": "07e5fc58",
      "metadata": {
        "id": "07e5fc58"
      },
      "source": [
        "### 18. Implement a program to determine the day of the week based on a user-provided number (1 for Monday, 2 for Tuesday, etc.)."
      ]
    },
    {
      "cell_type": "code",
      "execution_count": null,
      "id": "8822912b",
      "metadata": {
        "id": "8822912b",
        "outputId": "1e6ce54f-d8e6-4134-b57a-40b43bb2e6ca"
      },
      "outputs": [
        {
          "name": "stdout",
          "output_type": "stream",
          "text": [
            "enter number : 5\n",
            "Friday\n"
          ]
        }
      ],
      "source": [
        "number = int(input(\"enter number : \"))\n",
        "\n",
        "if number == 1 :\n",
        "    print(\"Monday\")\n",
        "elif number == 2 :\n",
        "    print(\"Tuesday\")\n",
        "elif number == 3 :\n",
        "    print(\"Wednesday\")\n",
        "elif number == 4 :\n",
        "    print(\"Thursday\")\n",
        "elif number == 5 :\n",
        "    print(\"Friday\")\n",
        "elif number == 6 :\n",
        "    print(\"Saturday\")\n",
        "elif number == 7 :\n",
        "    print(\"Sunday\")\n",
        "else:\n",
        "    print(\"Enter number between 1 to 7.\")\n",
        ""
      ]
    },
    {
      "cell_type": "markdown",
      "id": "ec708f9c",
      "metadata": {
        "id": "ec708f9c"
      },
      "source": [
        "### 19. Create a program that determines if a year is a leap year and also if it is evenly divisible by 400."
      ]
    },
    {
      "cell_type": "code",
      "execution_count": null,
      "id": "b0ba219d",
      "metadata": {
        "id": "b0ba219d",
        "outputId": "955b83ea-aec6-4c4d-9478-b1154a096943"
      },
      "outputs": [
        {
          "name": "stdout",
          "output_type": "stream",
          "text": [
            "Enter year : 2000\n",
            " '2000' year is a leap year and also it is not divisible by 400.\n"
          ]
        }
      ],
      "source": [
        "year = int(input(\"Enter year : \"))\n",
        "\n",
        "if year % 4 == 0 and year % 100 != 0 :\n",
        "    print(f\"'{year}' year is a leap year but it is not divisible by 400.\")\n",
        "\n",
        "elif year % 400 == 0 and year % 100 == 0 :\n",
        "    print(f\" '{year}' year is a leap year and also it is not divisible by 400.\")\n",
        "\n",
        "else:\n",
        "    if year % 400 == 0 :\n",
        "        print(f\" '{year}' year is a leap year and also it is divisible by 400.\")\n",
        "    else:\n",
        "        print(f\" '{year}' year is not a leap year and also it is not divisible by 400.\")"
      ]
    },
    {
      "cell_type": "markdown",
      "id": "081e46f4",
      "metadata": {
        "id": "081e46f4"
      },
      "source": [
        "### 20. Develop a program that checks if a given number is prime or not using nested if-else statements."
      ]
    },
    {
      "cell_type": "code",
      "execution_count": null,
      "id": "c0586eee",
      "metadata": {
        "id": "c0586eee",
        "outputId": "bb4e9c2b-51bc-4e38-a643-71a2521316d6"
      },
      "outputs": [
        {
          "name": "stdout",
          "output_type": "stream",
          "text": [
            "Enter number: 17\n",
            "Given number is not a Prime number.\n"
          ]
        }
      ],
      "source": [
        "import math\n",
        "\n",
        "number = int(input(\"Enter number: \"))\n",
        "\n",
        "if number <= 1:\n",
        "    print(\"Given number is not a Prime number.\")\n",
        "elif number == 2:\n",
        "    print(\"Given number is a Prime number.\")\n",
        "else:\n",
        "    is_prime = True\n",
        "    for i in range(2, math.isqrt(number) + 1):\n",
        "        if number % i == 0:\n",
        "            is_prime = False\n",
        "            break\n",
        "\n",
        "    if is_prime:\n",
        "        print(\"Given number is a Prime number.\")\n",
        "    else:\n",
        "        print(\"Given number is not a Prime number.\")\n"
      ]
    },
    {
      "cell_type": "markdown",
      "id": "9c5985bb",
      "metadata": {
        "id": "9c5985bb"
      },
      "source": [
        "##  Elif Statements:"
      ]
    },
    {
      "cell_type": "markdown",
      "id": "65ac318c",
      "metadata": {
        "id": "65ac318c"
      },
      "source": [
        "### 21. Write a Python program to assign grades based on different ranges of scores using elif statements."
      ]
    },
    {
      "cell_type": "code",
      "execution_count": null,
      "id": "dc17aa67",
      "metadata": {
        "id": "dc17aa67",
        "outputId": "e09fe1b0-641a-4e47-99f2-0fe21c0dc1dc"
      },
      "outputs": [
        {
          "name": "stdout",
          "output_type": "stream",
          "text": [
            "enter score of a student : 58\n",
            "The student grade is : 'E' \n"
          ]
        }
      ],
      "source": [
        "score = int(input(\"enter score of a student : \"))\n",
        "\n",
        "if 90 <= score <= 100 :\n",
        "    print(\"The student grade is : 'A' \")\n",
        "elif 80 <= score < 90 :\n",
        "    print(\"The student grade is : 'B' \")\n",
        "elif 70 <= score < 80 :\n",
        "    print(\"The student grade is : 'C' \")\n",
        "elif 60 <= score < 70 :\n",
        "    print(\"The student grade is : 'D' \")\n",
        "elif 50 <= score < 60 :\n",
        "    print(\"The student grade is : 'E' \")\n",
        "else:\n",
        "    print(\"The student grade is : 'F' \")"
      ]
    },
    {
      "cell_type": "markdown",
      "id": "ab71f566",
      "metadata": {
        "id": "ab71f566"
      },
      "source": [
        "### 22. Implement a program to determine the type of a triangle based on its angles."
      ]
    },
    {
      "cell_type": "code",
      "execution_count": null,
      "id": "24a15b84",
      "metadata": {
        "id": "24a15b84",
        "outputId": "faea7980-4a9b-417d-ffa9-b54d9fbc3dfa"
      },
      "outputs": [
        {
          "name": "stdout",
          "output_type": "stream",
          "text": [
            "enter first angle : 30\n",
            "enter second angle : 60\n",
            "enter third angle : 90\n",
            "the triangle is classified as : Right-angled Triangle.\n"
          ]
        }
      ],
      "source": [
        "angle1 = int(input(\"enter first angle : \"))\n",
        "angle2 = int(input(\"enter second angle : \"))\n",
        "angle3 = int(input(\"enter third angle : \"))\n",
        "\n",
        "if angle1 + angle2 + angle3 == 180 :\n",
        "    if angle1 == 90 or angle2 == 90 or angle3 == 90 :\n",
        "        print(\"the triangle is classified as : Right-angled Triangle.\")\n",
        "    elif angle1 == angle2 == angle3 :\n",
        "        print(\"The triangle is classified as : Equilateral Triangle.\")\n",
        "    elif angle1 > 90 or angle2 > 90 or angle3 > 90:\n",
        "        print(\"The Triangle is classified as : Obtuse-angled triangle\")\n",
        "    else:\n",
        "        print(\"The Triangle is classified as : Actue-angled triangle\")\n",
        "else:\n",
        "    print(\"Invalid Triangle - sum of angles must be 180 degrees.\")"
      ]
    },
    {
      "cell_type": "markdown",
      "id": "bb01c179",
      "metadata": {
        "id": "bb01c179"
      },
      "source": [
        "### 23. Develop a program to categorize a given person's BMI into underweight, normal, overweight, or obese using elif statements."
      ]
    },
    {
      "cell_type": "code",
      "execution_count": null,
      "id": "9fbd9f6d",
      "metadata": {
        "id": "9fbd9f6d",
        "outputId": "707b2244-74ce-47d3-c6f8-482c56658c7c"
      },
      "outputs": [
        {
          "name": "stdout",
          "output_type": "stream",
          "text": [
            "enter weight : 70\n",
            "enter height : 6\n",
            "the person is in : 'Normal weight'.\n"
          ]
        }
      ],
      "source": [
        "weight = float(input(\"enter weight : \"))\n",
        "height_feet = float(input(\"enter height : \"))\n",
        "\n",
        "height = height_feet * 0.3048 # changing height in feets into meters\n",
        "\n",
        "bmi = weight / ((height) ** 2)\n",
        "\n",
        "\n",
        "if bmi < 18.5 :\n",
        "    print(\"the person is in : 'Under weight'.\")\n",
        "\n",
        "elif 18.5 <= bmi <24.9 :\n",
        "    print(\"the person is in : 'Normal weight'.\")\n",
        "\n",
        "elif 24.9 <= bmi < 29.9 :\n",
        "    print(\"the person is in : 'Over weight'.\")\n",
        "\n",
        "else:\n",
        "    print(\"the person is in : 'Obese'.\")\n",
        "\n",
        ""
      ]
    },
    {
      "cell_type": "markdown",
      "id": "6932c404",
      "metadata": {
        "id": "6932c404"
      },
      "source": [
        "### 24. Create a program that determines whether a given number is positive, negative, or zero using elif statements."
      ]
    },
    {
      "cell_type": "code",
      "execution_count": null,
      "id": "43b13984",
      "metadata": {
        "id": "43b13984",
        "outputId": "db88677e-3c75-46d0-d3fb-90789c4db228"
      },
      "outputs": [
        {
          "name": "stdout",
          "output_type": "stream",
          "text": [
            "enter number : 0\n",
            "entered number is zero\n"
          ]
        }
      ],
      "source": [
        "number = int(input(\"enter number : \"))\n",
        "\n",
        "if number > 0 :\n",
        "    print(\"entered number is positive.\")\n",
        "elif number < 0:\n",
        "    print(\"entered number is negetive.\")\n",
        "else:\n",
        "    print(\"entered number is zero\")"
      ]
    },
    {
      "cell_type": "markdown",
      "id": "85779a89",
      "metadata": {
        "id": "85779a89"
      },
      "source": [
        "### 25. Write a Python script to determine the type of a character (uppercase, lowercase, or special) using elif statements."
      ]
    },
    {
      "cell_type": "code",
      "execution_count": null,
      "id": "f5e3e09b",
      "metadata": {
        "id": "f5e3e09b",
        "outputId": "c1417745-88f3-46c2-f74c-519f8826d126"
      },
      "outputs": [
        {
          "name": "stdout",
          "output_type": "stream",
          "text": [
            "enter character : pl\n",
            "ERROR : please enter only one character.\n"
          ]
        }
      ],
      "source": [
        "character = input(\"enter character : \")\n",
        "\n",
        "if len(character) == 1 :\n",
        "    if character.islower():\n",
        "        print(\"the entered character is in lower case.\")\n",
        "    elif character.isupper():\n",
        "        print(\"the entered character is in upper case.\")\n",
        "    else:\n",
        "        print(\"the entered character is in special case.\")\n",
        "else:\n",
        "    print(\"ERROR : please enter only one character.\")"
      ]
    },
    {
      "cell_type": "markdown",
      "id": "d09614bd",
      "metadata": {
        "id": "d09614bd"
      },
      "source": [
        "### 26. Implement a program to calculate the discounted price based on different purchase amounts using elif statements."
      ]
    },
    {
      "cell_type": "code",
      "execution_count": null,
      "id": "bfd07b1d",
      "metadata": {
        "id": "bfd07b1d",
        "outputId": "29def017-b147-4c6c-8de6-1d713f1382ec"
      },
      "outputs": [
        {
          "name": "stdout",
          "output_type": "stream",
          "text": [
            "enter purchase amount : 200\n",
            "the discount percentage is : 10%\n"
          ]
        }
      ],
      "source": [
        "amount = float(input(\"enter purchase amount : \"))\n",
        "\n",
        "if amount < 100 :\n",
        "    print(f\"the discount percentage is : 0% \")\n",
        "elif amount <500 :\n",
        "    print(\"the discount percentage is : 10%\")\n",
        "elif amount <1000 :\n",
        "    print(\"the discount percentage is : 20%\")\n",
        "else:\n",
        "    print(\"the discount percentage is : 30%\")\n",
        ""
      ]
    },
    {
      "cell_type": "markdown",
      "id": "c19453a2",
      "metadata": {
        "id": "c19453a2"
      },
      "source": [
        "### 27. Develop a program to calculate the electricity bill based on different consumption slabs using elif statements."
      ]
    },
    {
      "cell_type": "code",
      "execution_count": null,
      "id": "9cbc949f",
      "metadata": {
        "id": "9cbc949f",
        "outputId": "aacff2af-3031-4719-a245-596fb064453c"
      },
      "outputs": [
        {
          "name": "stdout",
          "output_type": "stream",
          "text": [
            "Enter the units consumed: 25\n",
            "Electricity Bill: $62.50\n"
          ]
        }
      ],
      "source": [
        "def calculate_electricity_bill(units_consumed):\n",
        "    # Define the electricity consumption slabs and rates\n",
        "    slab_limits = [100, 200, 300]\n",
        "    rates = [2.50, 3.00, 4.50, 5.00]\n",
        "\n",
        "    # Calculate the electricity bill based on consumption slabs\n",
        "    bill_amount = 0\n",
        "    remaining_units = units_consumed\n",
        "\n",
        "    for limit, rate in zip(slab_limits, rates):\n",
        "        if remaining_units <= limit:\n",
        "            bill_amount += remaining_units * rate\n",
        "            break\n",
        "        else:\n",
        "            bill_amount += limit * rate\n",
        "            remaining_units -= limit\n",
        "\n",
        "    return bill_amount\n",
        "\n",
        "# Example usage:\n",
        "units_consumed = float(input(\"Enter the units consumed: \"))\n",
        "electricity_bill = calculate_electricity_bill(units_consumed)\n",
        "print(f\"Electricity Bill: ${electricity_bill:.2f}\")\n"
      ]
    },
    {
      "cell_type": "markdown",
      "id": "fc603b7d",
      "metadata": {
        "id": "fc603b7d"
      },
      "source": [
        "### 28. Create a program to determine the type of quadrilateral based on its angles and sides using elif statements."
      ]
    },
    {
      "cell_type": "code",
      "execution_count": null,
      "id": "8134f281",
      "metadata": {
        "id": "8134f281",
        "outputId": "36441dd6-e816-4c64-a596-133d6ba82fb5"
      },
      "outputs": [
        {
          "name": "stdout",
          "output_type": "stream",
          "text": [
            "enter 1st angle : 90\n",
            "enter 2nd angle : 30\n",
            "enter 3rd angle : 90\n",
            "enter 4th angle : 30\n",
            "enter length of 1st side : 40\n",
            "enter length of 2nd side : 60\n",
            "enter length of 3rd side : 40\n",
            "enter length of 4th side : 60\n",
            "Invalid Quadrilateral\n",
            "Parallelogram\n"
          ]
        }
      ],
      "source": [
        "angle1 = int(input(\"enter 1st angle : \"))\n",
        "angle2 = int(input(\"enter 2nd angle : \"))\n",
        "angle3 = int(input(\"enter 3rd angle : \"))\n",
        "angle4 = int(input(\"enter 4th angle : \"))\n",
        "\n",
        "side1 = int(input(\"enter length of 1st side : \"))\n",
        "side2 = int(input(\"enter length of 2nd side : \"))\n",
        "side3 = int(input(\"enter length of 3rd side : \"))\n",
        "side4 = int(input(\"enter length of 4th side : \"))\n",
        "\n",
        "# Check for a valid quadrilateral (sum of interior angles is 360 degrees)\n",
        "if angle1 + angle2 + angle3 + angle4 != 360:\n",
        "    print(\"Invalid Quadrilateral\")\n",
        "\n",
        "# Check for different types of quadrilaterals based on angles and sides\n",
        "if angle1 == angle2 == angle3 == angle4 == 90:\n",
        "    print(\"Rectangle\")\n",
        "elif angle1 == angle2 == angle3 == angle4:\n",
        "    print(\"Rhombus\")\n",
        "elif angle1 == angle3 == 90 and angle2 == angle4 == 90:\n",
        "    print(\"Square\")\n",
        "elif angle1 == angle3 and angle2 == angle4 and side1 == side3 and side2 == side4:\n",
        "    print(\"Parallelogram\")\n",
        "else:\n",
        "    print(\"Quadrilateral\")\n"
      ]
    },
    {
      "cell_type": "markdown",
      "id": "e07a9f4e",
      "metadata": {
        "id": "e07a9f4e"
      },
      "source": [
        "### 29. Write a Python script to determine the season based on a user-provided month using elif statements."
      ]
    },
    {
      "cell_type": "code",
      "execution_count": null,
      "id": "a38e4a5b",
      "metadata": {
        "id": "a38e4a5b",
        "outputId": "bd71091a-7cdd-4810-fc8c-91cde3378518"
      },
      "outputs": [
        {
          "name": "stdout",
          "output_type": "stream",
          "text": [
            "enter month name  : AugUst\n",
            "the entered month is in 'rainy' season. \n"
          ]
        }
      ],
      "source": [
        "winter = [\"november\",\"december\",\"january\",\"february\"]\n",
        "summer = [\"march\",\"april\",\"may\",\"june\"]\n",
        "rainy = [\"july\",\"august\",\"september\",\"october\"]\n",
        "\n",
        "month = input(\"enter month name  : \").lower()\n",
        "\n",
        "if month in winter :\n",
        "    print(\"the entered month is in 'winter' season. \")\n",
        "elif month in summer:\n",
        "    print(\"the entered month is in 'summer' season. \")\n",
        "elif month in rainy :\n",
        "    print(\"the entered month is in 'rainy' season. \")\n",
        "else:\n",
        "    print(\"ERROR : please enter valid month name. \")"
      ]
    },
    {
      "cell_type": "markdown",
      "id": "5d414ab0",
      "metadata": {
        "id": "5d414ab0"
      },
      "source": [
        "### 30. Implement a program to determine the type of a year (leap or common) and month (30 or 31 days) using elif statements."
      ]
    },
    {
      "cell_type": "code",
      "execution_count": null,
      "id": "1e1e0e05",
      "metadata": {
        "id": "1e1e0e05",
        "outputId": "42f43011-ad00-467c-a9a0-32fadf4cee44"
      },
      "outputs": [
        {
          "name": "stdout",
          "output_type": "stream",
          "text": [
            "Enter the year: 2024\n",
            "Enter the month (1-12): 2\n",
            "2024 is a leap year.\n",
            "The month 2 has 29 days.\n"
          ]
        }
      ],
      "source": [
        "def is_leap_year(year):\n",
        "    # Check if a year is a leap year\n",
        "    if (year % 4 == 0 and year % 100 != 0) or (year % 400 == 0):\n",
        "        return True\n",
        "    else:\n",
        "        return False\n",
        "\n",
        "def days_in_month(month, year):\n",
        "    # Check the number of days in a month\n",
        "    if month in [1, 3, 5, 7, 8, 10, 12]:\n",
        "        return 31\n",
        "    elif month in [4, 6, 9, 11]:\n",
        "        return 30\n",
        "    elif month == 2:\n",
        "        return 29 if is_leap_year(year) else 28\n",
        "    else:\n",
        "        return -1  # Invalid month\n",
        "\n",
        "# Example usage:\n",
        "year = int(input(\"Enter the year: \"))\n",
        "month = int(input(\"Enter the month (1-12): \"))\n",
        "\n",
        "if 1 <= month <= 12:\n",
        "    leap_year = is_leap_year(year)\n",
        "    days = days_in_month(month, year)\n",
        "\n",
        "    if leap_year:\n",
        "        print(f\"{year} is a leap year.\")\n",
        "    else:\n",
        "        print(f\"{year} is a common year.\")\n",
        "\n",
        "    if days != -1:\n",
        "        print(f\"The month {month} has {days} days.\")\n",
        "    else:\n",
        "        print(\"Invalid month.\")\n",
        "else:\n",
        "    print(\"Invalid month. Please enter a month between 1 and 12.\")\n"
      ]
    },
    {
      "cell_type": "markdown",
      "id": "86f61e07",
      "metadata": {
        "id": "86f61e07"
      },
      "source": [
        "## Basic Level:"
      ]
    },
    {
      "cell_type": "markdown",
      "id": "2e56a51d",
      "metadata": {
        "id": "2e56a51d"
      },
      "source": [
        "### 1. Write a Python program that checks if a given number is positive, negative, or zero."
      ]
    },
    {
      "cell_type": "code",
      "execution_count": null,
      "id": "d89cdf26",
      "metadata": {
        "id": "d89cdf26",
        "outputId": "cfa1dea2-bdcc-4410-8d97-bf22e9e253f2"
      },
      "outputs": [
        {
          "name": "stdout",
          "output_type": "stream",
          "text": [
            "enter number to check : 0\n",
            "The given number '0' is Zero.\n"
          ]
        }
      ],
      "source": [
        "number = int(input(\"enter number to check : \"))\n",
        "\n",
        "if number < 0:\n",
        "    print(f\"The given number '{number}' is Negetive. \")\n",
        "\n",
        "elif number == 0:\n",
        "    print(f\"The given number '{number}' is Zero.\")\n",
        "\n",
        "else:\n",
        "    print(f\"The given number '{number}' is Positive. \")"
      ]
    },
    {
      "cell_type": "markdown",
      "id": "53d5e4a2",
      "metadata": {
        "id": "53d5e4a2"
      },
      "source": [
        "### 2. Create a program to determine if a person is eligible to vote based on their age."
      ]
    },
    {
      "cell_type": "code",
      "execution_count": null,
      "id": "d2b18c42",
      "metadata": {
        "id": "d2b18c42",
        "outputId": "84d84a55-3c9d-4a58-c01b-a28a8a190a02"
      },
      "outputs": [
        {
          "name": "stdout",
          "output_type": "stream",
          "text": [
            "enter age of a person : 18\n",
            "This person is eligible for Voting.\n"
          ]
        }
      ],
      "source": [
        "age = int(input(\"enter age of a person : \"))\n",
        "\n",
        "if age < 18 :\n",
        "    print(f\"This person is not eligible for Voting.\")\n",
        "\n",
        "else:\n",
        "    print(\"This person is eligible for Voting.\")\n",
        ""
      ]
    },
    {
      "cell_type": "markdown",
      "id": "0ff93034",
      "metadata": {
        "id": "0ff93034"
      },
      "source": [
        "### 3. Write a program to find the maximum of two given numbers using conditional statements."
      ]
    },
    {
      "cell_type": "code",
      "execution_count": null,
      "id": "a862d66d",
      "metadata": {
        "id": "a862d66d",
        "outputId": "e40ae0ba-247d-43ab-ec20-fa604f3f00df"
      },
      "outputs": [
        {
          "name": "stdout",
          "output_type": "stream",
          "text": [
            "Enter first number : 30\n",
            "Enter second number : 40\n",
            "The Second number '40' is Greater than '30 '.\n"
          ]
        }
      ],
      "source": [
        "number1 = int(input(\"Enter first number : \"))\n",
        "number2 = int(input(\"Enter second number : \"))\n",
        "\n",
        "if number1 > number2 :\n",
        "    print (f\"The first number '{number1} ' is Greater than '{number2}'.\")\n",
        "\n",
        "else:\n",
        "    print(f\"The Second number '{number2}' is Greater than '{number1} '.\")"
      ]
    },
    {
      "cell_type": "markdown",
      "id": "693b17fa",
      "metadata": {
        "id": "693b17fa"
      },
      "source": [
        "### 4. Develop a program that calculates the grade of a student based on their exam score."
      ]
    },
    {
      "cell_type": "code",
      "execution_count": null,
      "id": "34e30e10",
      "metadata": {
        "id": "34e30e10",
        "outputId": "8aa7bcca-0ffb-458d-d143-5e0a7377bac1"
      },
      "outputs": [
        {
          "name": "stdout",
          "output_type": "stream",
          "text": [
            "enter score of a student : 98\n",
            "The student grade is : 'A' \n"
          ]
        }
      ],
      "source": [
        "score = int(input(\"enter score of a student : \"))\n",
        "\n",
        "if 90 <= score <= 100 :\n",
        "    print(\"The student grade is : 'A' \")\n",
        "elif 80 <= score < 90 :\n",
        "    print(\"The student grade is : 'B' \")\n",
        "elif 70 <= score < 80 :\n",
        "    print(\"The student grade is : 'C' \")\n",
        "elif 60 <= score < 70 :\n",
        "    print(\"The student grade is : 'D' \")\n",
        "elif 50 <= score < 60 :\n",
        "    print(\"The student grade is : 'E' \")\n",
        "else:\n",
        "    print(\"The student grade is : 'F' \")"
      ]
    },
    {
      "cell_type": "markdown",
      "id": "ce00b536",
      "metadata": {
        "id": "ce00b536"
      },
      "source": [
        "### 5. Create a program that checks if a year is a leap year or not."
      ]
    },
    {
      "cell_type": "code",
      "execution_count": null,
      "id": "626ed8ea",
      "metadata": {
        "id": "626ed8ea",
        "outputId": "1687d7e3-2c93-486d-ea6f-6111789538b6"
      },
      "outputs": [
        {
          "name": "stdout",
          "output_type": "stream",
          "text": [
            "Enter year : 2024\n",
            "'2024' year is a leap year.\n"
          ]
        }
      ],
      "source": [
        "year = int(input(\"Enter year : \"))\n",
        "\n",
        "if year % 4 == 0 and year % 100 != 0 :\n",
        "    print(f\"'{year}' year is a leap year.\")\n",
        "\n",
        "elif year % 400 == 0 and year % 100 == 0 :\n",
        "    print(f\" '{year}' year is a leap year.\")\n",
        "\n",
        "else:\n",
        "    print(f\" '{year}' year is not a leap year.\")"
      ]
    },
    {
      "cell_type": "markdown",
      "id": "b6abea9b",
      "metadata": {
        "id": "b6abea9b"
      },
      "source": [
        "### 6. Write a program to classify a triangle based on its sides' lengths."
      ]
    },
    {
      "cell_type": "code",
      "execution_count": null,
      "id": "e8237a83",
      "metadata": {
        "id": "e8237a83",
        "outputId": "956431fd-e6e1-48e6-adeb-83b4df63a16b"
      },
      "outputs": [
        {
          "name": "stdout",
          "output_type": "stream",
          "text": [
            "Enter the first side of a triangle : 20\n",
            "Enter the second side of a triangle : 30\n",
            "Enter the third side of a triangle : 20\n",
            "Isosceles Triangle.\n"
          ]
        }
      ],
      "source": [
        "side1 = float(input(\"Enter the first side of a triangle : \"))\n",
        "side2 = float(input(\"Enter the second side of a triangle : \"))\n",
        "side3 = float(input(\"Enter the third side of a triangle : \"))\n",
        "\n",
        "if side1 == side2 == side3 :\n",
        "    print(\"Equilateral Triangle.\")\n",
        "elif side1 == side2 or side1 == side3 or side2 == side3 :\n",
        "    print(\"Isosceles Triangle.\")\n",
        "else:\n",
        "    print(\"Scalene Triangle.\")"
      ]
    },
    {
      "cell_type": "markdown",
      "id": "e7a2105f",
      "metadata": {
        "id": "e7a2105f"
      },
      "source": [
        "### 7. Build a program that determines the largest of three given numbers."
      ]
    },
    {
      "cell_type": "code",
      "execution_count": null,
      "id": "dc6e6a2b",
      "metadata": {
        "id": "dc6e6a2b",
        "outputId": "d3b5df8d-aa2d-417b-fd05-b328e0d39bfe"
      },
      "outputs": [
        {
          "name": "stdout",
          "output_type": "stream",
          "text": [
            "enter first number : 25\n",
            "enter second number : 30\n",
            "enter third number : 40\n",
            " '40' is larger than the 25 and 30  \n"
          ]
        }
      ],
      "source": [
        "number1 = int(input(\"enter first number : \"))\n",
        "number2 = int(input(\"enter second number : \"))\n",
        "number3 = int(input(\"enter third number : \"))\n",
        "\n",
        "if number1 > number2 and number1 > number3:\n",
        "    print(f\" '{number1}' is larger than the {number2} and {number3}  \")\n",
        "\n",
        "elif number2 > number3 :\n",
        "    print(f\" '{number2}' is larger than the {number1} and {number3}  \")\n",
        "\n",
        "else:\n",
        "    print(f\" '{number3}' is larger than the {number1} and {number2}  \")"
      ]
    },
    {
      "cell_type": "markdown",
      "id": "b52a0c96",
      "metadata": {
        "id": "b52a0c96"
      },
      "source": [
        "### 8. Develop a program that checks whether a character is a vowel or a consonant."
      ]
    },
    {
      "cell_type": "code",
      "execution_count": null,
      "id": "a5559db6",
      "metadata": {
        "id": "a5559db6",
        "outputId": "cf65a302-4705-4a12-a6cd-0af077b399e5"
      },
      "outputs": [
        {
          "name": "stdout",
          "output_type": "stream",
          "text": [
            "enter character : u\n",
            "'u' is a Vowel.\n"
          ]
        }
      ],
      "source": [
        "character = str(input(\"enter character : \"))\n",
        "\n",
        "vowels = \"AEIOUaeiou\"\n",
        "\n",
        "if character in vowels :\n",
        "    print(f\"'{character}' is a Vowel.\")\n",
        "\n",
        "else:\n",
        "    print(f\"'{character}' is a consonant.\")\n",
        ""
      ]
    },
    {
      "cell_type": "markdown",
      "id": "5c54c116",
      "metadata": {
        "id": "5c54c116"
      },
      "source": [
        "### 9. Create a program to calculate the total cost of a shopping cart based on discounts."
      ]
    },
    {
      "cell_type": "code",
      "execution_count": null,
      "id": "6d989c92",
      "metadata": {
        "id": "6d989c92",
        "outputId": "e70fe613-dc58-4b84-8181-12e0b6b32269"
      },
      "outputs": [
        {
          "name": "stdout",
          "output_type": "stream",
          "text": [
            "enter the number of items : 5\n",
            "Enter the 1 item price :  30\n",
            "Enter the 2 item price :  40\n",
            "Enter the 3 item price :  400\n",
            "Enter the 4 item price :  300\n",
            "Enter the 5 item price :  89\n",
            "enter discount Percentage : 10\n",
            "before reducing discount Price is : 859 /-.\n",
            "The total price of items is : 773.1 /-.\n"
          ]
        }
      ],
      "source": [
        "cart_items_price = []\n",
        "n = int(input(\"enter the number of items : \"))\n",
        "\n",
        "for i in range (1,n+1):\n",
        "    price = int(input(f\"Enter the {i} item price :  \"))\n",
        "    cart_items_price.append(price)\n",
        "\n",
        "discount_percentage = float(input(\"enter discount Percentage : \"))\n",
        "\n",
        "total_price = sum(cart_items_price)\n",
        "\n",
        "print(f\"before reducing discount Price is : {total_price} /-.\")\n",
        "\n",
        "discount_amount = ( discount_percentage / 100 ) * total_price\n",
        "\n",
        "total_cost = total_price - discount_amount\n",
        "\n",
        "print(f\"The total price of items is : {total_cost} /-.\")\n",
        "\n"
      ]
    },
    {
      "cell_type": "markdown",
      "id": "9928d185",
      "metadata": {
        "id": "9928d185"
      },
      "source": [
        "### 10. Write a program that checks if a given number is even or odd."
      ]
    },
    {
      "cell_type": "code",
      "execution_count": null,
      "id": "289fda8e",
      "metadata": {
        "id": "289fda8e",
        "outputId": "b3a5dcaf-366c-407a-80ea-3b304358ab41"
      },
      "outputs": [
        {
          "name": "stdout",
          "output_type": "stream",
          "text": [
            "enter number : 5\n",
            "Odd number\n"
          ]
        }
      ],
      "source": [
        "number = int(input(\"enter number : \"))\n",
        "\n",
        "if number % 2 == 0 :\n",
        "    print(\"Even number\")\n",
        "\n",
        "else:\n",
        "    print(\"Odd number\")"
      ]
    },
    {
      "cell_type": "markdown",
      "id": "8d6b5300",
      "metadata": {
        "id": "8d6b5300"
      },
      "source": [
        "## Intermediate Level:"
      ]
    },
    {
      "cell_type": "markdown",
      "id": "c5b3c70a",
      "metadata": {
        "id": "c5b3c70a"
      },
      "source": [
        "### 11. Write a program that calculates the roots of a quadratic equation ."
      ]
    },
    {
      "cell_type": "code",
      "execution_count": null,
      "id": "8a20ce84",
      "metadata": {
        "id": "8a20ce84",
        "outputId": "878f286a-cf23-4c71-9362-abfddb45edeb"
      },
      "outputs": [
        {
          "name": "stdout",
          "output_type": "stream",
          "text": [
            "enter coefficient of a : 2\n",
            "enter coefficient of b : 2\n",
            "enter coefficient of c : 1\n",
            "Entered equation is : \n",
            "2.0 X`2 + 2.0 Y`2 + 1.0 = 0\n",
            "complex roots\n",
            "-0.5 + i 2.0\n",
            "-0.5 - i 2.0\n"
          ]
        }
      ],
      "source": [
        "import math\n",
        "\n",
        "coefficient_of_a = float(input(\"enter coefficient of a : \"))\n",
        "coefficient_of_b = float(input(\"enter coefficient of b : \"))\n",
        "coefficient_of_c = float(input(\"enter coefficient of c : \"))\n",
        "\n",
        "print(\"Entered equation is : \")\n",
        "print(f\"{coefficient_of_a} X`2 + {coefficient_of_b} Y`2 + {coefficient_of_c} = 0\")\n",
        "\n",
        "a = coefficient_of_a\n",
        "b = coefficient_of_b\n",
        "c = coefficient_of_c\n",
        "\n",
        "dis = b ** 2 - 4 * a * c\n",
        "sqrt_val = math.sqrt(abs(dis))\n",
        "\n",
        "if dis > 0 :\n",
        "    print(\"real and different roots \")\n",
        "    print((-b + sqrt_val)/ (2 * a))\n",
        "    print((-b - sqrt_val) / (2 * a))\n",
        "\n",
        "elif dis == 0 :\n",
        "    print(\"real and same roots\")\n",
        "    print(-b/(2 * a))\n",
        "\n",
        "else:\n",
        "    print(\"complex roots\")\n",
        "    print(-b / (2*a) , \"+ i\", sqrt_val)\n",
        "    print(-b / (2*a) , \"- i\" , sqrt_val)\n",
        ""
      ]
    },
    {
      "cell_type": "markdown",
      "id": "fc29571b",
      "metadata": {
        "id": "fc29571b"
      },
      "source": [
        "### 12. Create a program that determines the day of the week based on the day number (1-7)."
      ]
    },
    {
      "cell_type": "code",
      "execution_count": null,
      "id": "e46be218",
      "metadata": {
        "id": "e46be218",
        "outputId": "48ff203c-6f2f-431e-b490-1e4b19c448de"
      },
      "outputs": [
        {
          "name": "stdout",
          "output_type": "stream",
          "text": [
            "enter number : 5\n",
            "Friday\n"
          ]
        }
      ],
      "source": [
        "number = int(input(\"enter number : \"))\n",
        "\n",
        "if number == 1 :\n",
        "    print(\"Monday\")\n",
        "elif number == 2 :\n",
        "    print(\"Tuesday\")\n",
        "elif number == 3 :\n",
        "    print(\"Wednesday\")\n",
        "elif number == 4 :\n",
        "    print(\"Thursday\")\n",
        "elif number == 5 :\n",
        "    print(\"Friday\")\n",
        "elif number == 6 :\n",
        "    print(\"Saturday\")\n",
        "elif number == 7 :\n",
        "    print(\"Sunday\")\n",
        "else:\n",
        "    print(\"Enter number between 1 to 7.\")\n",
        ""
      ]
    },
    {
      "cell_type": "markdown",
      "id": "5b0ac56b",
      "metadata": {
        "id": "5b0ac56b"
      },
      "source": [
        "### 13. Develop a program that calculates the factorial of a given number using recursion."
      ]
    },
    {
      "cell_type": "code",
      "execution_count": null,
      "id": "4db25419",
      "metadata": {
        "id": "4db25419",
        "outputId": "e51235a0-cc57-45c5-dbd8-8e948825193b"
      },
      "outputs": [
        {
          "name": "stdout",
          "output_type": "stream",
          "text": [
            "Enter a number to calculate the factorial : 5\n",
            "The factorial of a given number is : 120.\n"
          ]
        }
      ],
      "source": [
        "def fact(number):\n",
        "    if number == 0 or number == 1 :\n",
        "        return 1\n",
        "    else:\n",
        "        return number * fact(number-1)\n",
        "\n",
        "num = int(input(\"Enter a number to calculate the factorial : \"))\n",
        "\n",
        "result = fact(num)\n",
        "\n",
        "print(f\"The factorial of a given number is : {result}.\")"
      ]
    },
    {
      "cell_type": "markdown",
      "id": "36f7915f",
      "metadata": {
        "id": "36f7915f"
      },
      "source": [
        "### 14. Write a program to find the largest among three numbers without using the `max()` function."
      ]
    },
    {
      "cell_type": "code",
      "execution_count": null,
      "id": "72dc7619",
      "metadata": {
        "id": "72dc7619",
        "outputId": "adb1894a-ddb0-4a71-ba86-a531a94cbb66"
      },
      "outputs": [
        {
          "name": "stdout",
          "output_type": "stream",
          "text": [
            "enter 1 number : 5\n",
            "enter 2 number : 3\n",
            "enter 3 number : 8\n",
            "The maximum number of given numbers is  : 8\n"
          ]
        }
      ],
      "source": [
        "num = 3\n",
        "\n",
        "lst = []\n",
        "\n",
        "for i in range(1,num+1) :\n",
        "    n = int(input(f\"enter {i} number : \"))\n",
        "    lst.append(n)\n",
        "\n",
        "maximum = 0\n",
        "\n",
        "for i in lst :\n",
        "    if i > maximum :\n",
        "        maximum = i\n",
        "\n",
        "print(f\"The maximum number of given numbers is  : {maximum}\")"
      ]
    },
    {
      "cell_type": "markdown",
      "id": "f4c19897",
      "metadata": {
        "id": "f4c19897"
      },
      "source": [
        "### 15. Create a program that simulates a basic ATM transaction menu."
      ]
    },
    {
      "cell_type": "code",
      "execution_count": null,
      "id": "70f9e761",
      "metadata": {
        "id": "70f9e761",
        "outputId": "2d4e9d58-44c1-4177-e42b-e26239e875d9"
      },
      "outputs": [
        {
          "name": "stdout",
          "output_type": "stream",
          "text": [
            "==== Welcome to the ATM ====\n",
            "1. Check Balance\n",
            "2. Deposit Money\n",
            "3. Withdraw Money\n",
            "4. Quit\n",
            "==============================\n",
            "Enter your choice (1-4): 2\n",
            "Enter the deposit amount: $200\n",
            "$200.00 deposited successfully.\n",
            "==== Welcome to the ATM ====\n",
            "1. Check Balance\n",
            "2. Deposit Money\n",
            "3. Withdraw Money\n",
            "4. Quit\n",
            "==============================\n",
            "Enter your choice (1-4): 1\n",
            "Your current balance is: $1200.00\n",
            "==== Welcome to the ATM ====\n",
            "1. Check Balance\n",
            "2. Deposit Money\n",
            "3. Withdraw Money\n",
            "4. Quit\n",
            "==============================\n",
            "Enter your choice (1-4): 4\n",
            "Thank you for using the ATM. Goodbye!\n"
          ]
        }
      ],
      "source": [
        "def display_menu():\n",
        "    print(\"==== Welcome to the ATM ====\")\n",
        "    print(\"1. Check Balance\")\n",
        "    print(\"2. Deposit Money\")\n",
        "    print(\"3. Withdraw Money\")\n",
        "    print(\"4. Quit\")\n",
        "    print(\"==============================\")\n",
        "\n",
        "def check_balance(balance):\n",
        "    print(f\"Your current balance is: ${balance :.2f}\")\n",
        "\n",
        "def deposit_money(balance, amount):\n",
        "    balance += amount\n",
        "    print(f\"${amount:.2f} deposited successfully.\")\n",
        "    return balance\n",
        "\n",
        "def withdraw_money(balance, amount):\n",
        "    if amount <= balance:\n",
        "        balance -= amount\n",
        "        print(f\"${amount:.2f} withdrawn successfully.\")\n",
        "    else:\n",
        "        print(\"Insufficient funds. Withdrawal failed.\")\n",
        "    return balance\n",
        "\n",
        "# Example ATM simulation\n",
        "current_balance = 1000.00\n",
        "\n",
        "while True:\n",
        "    display_menu()\n",
        "    choice = input(\"Enter your choice (1-4): \")\n",
        "\n",
        "    if choice == '1':\n",
        "        check_balance(current_balance)\n",
        "    elif choice == '2':\n",
        "        deposit_amount = float(input(\"Enter the deposit amount: $\"))\n",
        "        current_balance = deposit_money(current_balance, deposit_amount)\n",
        "    elif choice == '3':\n",
        "        withdraw_amount = float(input(\"Enter the withdrawal amount: $\"))\n",
        "        current_balance = withdraw_money(current_balance, withdraw_amount)\n",
        "    elif choice == '4':\n",
        "        print(\"Thank you for using the ATM. Goodbye!\")\n",
        "        break\n",
        "    else:\n",
        "        print(\"Invalid choice. Please enter a number between 1 and 4.\")\n"
      ]
    },
    {
      "cell_type": "markdown",
      "id": "371ef57d",
      "metadata": {
        "id": "371ef57d"
      },
      "source": [
        "### 16. Build a program that checks if a given string is a palindrome or not."
      ]
    },
    {
      "cell_type": "code",
      "execution_count": null,
      "id": "3565088e",
      "metadata": {
        "id": "3565088e",
        "outputId": "496b0630-7f68-4b8e-e420-f1dfa01ea6a1"
      },
      "outputs": [
        {
          "name": "stdout",
          "output_type": "stream",
          "text": [
            "enter string : MAdam\n",
            "Palindrome string\n"
          ]
        }
      ],
      "source": [
        "string = input(\"enter string : \").lower()\n",
        "\n",
        "if string == string [::-1] :\n",
        "    print(\"Palindrome string\")\n",
        "\n",
        "else:\n",
        "    print(\"Not Palindrome string\")"
      ]
    },
    {
      "cell_type": "markdown",
      "id": "28303707",
      "metadata": {
        "id": "28303707"
      },
      "source": [
        "### 17. Write a program that calculates the average of a list of numbers, excluding the smallest and largest values."
      ]
    },
    {
      "cell_type": "code",
      "execution_count": null,
      "id": "d2c8ea6a",
      "metadata": {
        "id": "d2c8ea6a",
        "outputId": "b3f7cb7d-0110-4bb5-bad8-833176e649f5"
      },
      "outputs": [
        {
          "name": "stdout",
          "output_type": "stream",
          "text": [
            "Average of a list of numbers, excluding the smallest and largest values is: 46.00\n"
          ]
        }
      ],
      "source": [
        "lst = [10, 30, 50, 60, 70, 20, 80]\n",
        "\n",
        "# Remove the smallest and largest values\n",
        "lst.remove(min(lst))\n",
        "lst.remove(max(lst))\n",
        "\n",
        "length = len(lst)\n",
        "total = sum(lst)\n",
        "\n",
        "average = total / length\n",
        "\n",
        "print(f\"Average of a list of numbers, excluding the smallest and largest values is: {average:.2f}\")\n"
      ]
    },
    {
      "cell_type": "markdown",
      "id": "8b5a8c1c",
      "metadata": {
        "id": "8b5a8c1c"
      },
      "source": [
        "### 18. Develop a program that converts a given temperature from Celsius to Fahrenheit."
      ]
    },
    {
      "cell_type": "code",
      "execution_count": null,
      "id": "6e0e200d",
      "metadata": {
        "id": "6e0e200d",
        "outputId": "4c62cb4e-3798-4889-d848-b41bc359c485"
      },
      "outputs": [
        {
          "name": "stdout",
          "output_type": "stream",
          "text": [
            "Enter temperature in Celsius: 16\n",
            "16.0 degrees Celsius is equal to 60.80 degrees Fahrenheit.\n"
          ]
        }
      ],
      "source": [
        "def celsius_to_fahrenheit(celsius):\n",
        "    fahrenheit = (celsius * 9/5) + 32\n",
        "    return fahrenheit\n",
        "\n",
        "# Example usage:\n",
        "try:\n",
        "    celsius_temp = float(input(\"Enter temperature in Celsius: \"))\n",
        "    fahrenheit_temp = celsius_to_fahrenheit(celsius_temp)\n",
        "    print(f\"{celsius_temp} degrees Celsius is equal to {fahrenheit_temp:.2f} degrees Fahrenheit.\")\n",
        "except ValueError:\n",
        "    print(\"Invalid input. Please enter a valid temperature in Celsius.\")\n"
      ]
    },
    {
      "cell_type": "markdown",
      "id": "9439324e",
      "metadata": {
        "id": "9439324e"
      },
      "source": [
        "### 19. Create a program that simulates a basic calculator for addition, subtraction, multiplication, and division."
      ]
    },
    {
      "cell_type": "code",
      "execution_count": null,
      "id": "693498dd",
      "metadata": {
        "id": "693498dd",
        "outputId": "a65ad29b-ed24-4e41-bcde-1a153da5be1e"
      },
      "outputs": [
        {
          "name": "stdout",
          "output_type": "stream",
          "text": [
            "==== Basic Calculator ====\n",
            "1. Addition\n",
            "2. Subtraction\n",
            "3. Multiplication\n",
            "4. Division\n",
            "Enter the operation number (1-4): 3\n",
            "Enter the first number: 20\n",
            "Enter the second number: 20\n",
            "The result of multiplication is: 400.0\n"
          ]
        }
      ],
      "source": [
        "def add(x, y):\n",
        "    return x + y\n",
        "\n",
        "def subtract(x, y):\n",
        "    return x - y\n",
        "\n",
        "def multiply(x, y):\n",
        "    return x * y\n",
        "\n",
        "def divide(x, y):\n",
        "    if y != 0:\n",
        "        return x / y\n",
        "    else:\n",
        "        return \"Cannot divide by zero\"\n",
        "\n",
        "# Display the calculator menu\n",
        "print(\"==== Basic Calculator ====\")\n",
        "print(\"1. Addition\")\n",
        "print(\"2. Subtraction\")\n",
        "print(\"3. Multiplication\")\n",
        "print(\"4. Division\")\n",
        "\n",
        "# Take user input for operation choice\n",
        "choice = input(\"Enter the operation number (1-4): \")\n",
        "\n",
        "# Take user input for operands\n",
        "num1 = float(input(\"Enter the first number: \"))\n",
        "num2 = float(input(\"Enter the second number: \"))\n",
        "\n",
        "# Perform the selected operation\n",
        "if choice == '1':\n",
        "    result = add(num1, num2)\n",
        "    print(f\"The result of addition is: {result}\")\n",
        "elif choice == '2':\n",
        "    result = subtract(num1, num2)\n",
        "    print(f\"The result of subtraction is: {result}\")\n",
        "elif choice == '3':\n",
        "    result = multiply(num1, num2)\n",
        "    print(f\"The result of multiplication is: {result}\")\n",
        "elif choice == '4':\n",
        "    result = divide(num1, num2)\n",
        "    print(f\"The result of division is: {result}\")\n",
        "else:\n",
        "    print(\"Invalid choice. Please enter a number between 1 and 4.\")\n"
      ]
    },
    {
      "cell_type": "markdown",
      "id": "a25d543a",
      "metadata": {
        "id": "a25d543a"
      },
      "source": [
        "### 20. Write a program that determines the roots of a cubic equation using the Cardano formula."
      ]
    },
    {
      "cell_type": "code",
      "execution_count": null,
      "id": "b27f4ac3",
      "metadata": {
        "id": "b27f4ac3",
        "outputId": "5ebb3b6b-b3ef-47e2-e840-fae42c52865e"
      },
      "outputs": [
        {
          "name": "stdout",
          "output_type": "stream",
          "text": [
            "Enter the coefficient a: 2\n",
            "Enter the coefficient b: 2\n",
            "Enter the coefficient c: 4\n",
            "Enter the coefficient d: 1\n",
            "The roots of the cubic equation are:\n",
            "Root 1: -1.85+0.00j\n",
            "Root 2: -0.77-0.62j\n",
            "Root 3: -0.77+0.62j\n"
          ]
        }
      ],
      "source": [
        "import cmath  # Complex math library for handling complex roots\n",
        "\n",
        "def solve_cubic_equation(a, b, c, d):\n",
        "    # Calculate the discriminant\n",
        "    delta0 = c**2 - 3*b*d\n",
        "    delta1 = 2*c**3 - 9*b*c*d + 27*a*d**2\n",
        "    delta = delta1**2 - 4*delta0**3\n",
        "\n",
        "    # Calculate the roots using Cardano formula\n",
        "    C = ((delta1 + cmath.sqrt(delta)) / 2)**(1/3)\n",
        "    root1 = -1/(3*a) * (C + delta0/C + complex(1, 0) * cmath.sqrt(3) * (C - delta0/C))\n",
        "\n",
        "    # Calculate the other roots using complex conjugates\n",
        "    omega = complex(-0.5, cmath.sqrt(3)/2)\n",
        "    root2 = -1/(3*a) * (C + delta0/C + omega * cmath.sqrt(3) * (C - delta0/C))\n",
        "    root3 = -1/(3*a) * (C + delta0/C + omega.conjugate() * cmath.sqrt(3) * (C - delta0/C))\n",
        "\n",
        "    return root1, root2, root3\n",
        "\n",
        "# Example usage:\n",
        "try:\n",
        "    a = float(input(\"Enter the coefficient a: \"))\n",
        "    b = float(input(\"Enter the coefficient b: \"))\n",
        "    c = float(input(\"Enter the coefficient c: \"))\n",
        "    d = float(input(\"Enter the coefficient d: \"))\n",
        "\n",
        "    roots = solve_cubic_equation(a, b, c, d)\n",
        "\n",
        "    print(f\"The roots of the cubic equation are:\")\n",
        "    for i, root in enumerate(roots, start=1):\n",
        "        print(f\"Root {i}: {root:.2f}\")\n",
        "\n",
        "except ValueError:\n",
        "    print(\"Invalid input. Please enter numeric coefficients.\")\n"
      ]
    },
    {
      "cell_type": "markdown",
      "id": "156eb9ff",
      "metadata": {
        "id": "156eb9ff"
      },
      "source": [
        "## Advanced Level:"
      ]
    },
    {
      "cell_type": "markdown",
      "id": "1e3ba78b",
      "metadata": {
        "id": "1e3ba78b"
      },
      "source": [
        "### 21. Create a program that calculates the income tax based on the user's income and tax brackets."
      ]
    },
    {
      "cell_type": "code",
      "execution_count": null,
      "id": "a3126bcd",
      "metadata": {
        "id": "a3126bcd",
        "outputId": "820f4096-08c5-40d2-e932-9b2bc36e750d"
      },
      "outputs": [
        {
          "name": "stdout",
          "output_type": "stream",
          "text": [
            "Enter your annual income: $580\n",
            "Your income tax is: $58.00\n"
          ]
        }
      ],
      "source": [
        "# Define tax brackets and rates\n",
        "brackets = [10000, 30000, 70000, float('inf')]\n",
        "rates = [0.10, 0.20, 0.30, 0.40]\n",
        "\n",
        "# Get user input for income\n",
        "income_str = input(\"Enter your annual income: $\")\n",
        "\n",
        "# Check if input is numeric\n",
        "if income_str.replace('.', '', 1).isdigit():\n",
        "    income = float(income_str)\n",
        "\n",
        "    if income < 0:\n",
        "        print(\"Invalid income. Please enter a non-negative amount.\")\n",
        "    else:\n",
        "        # Calculate tax based on income and brackets\n",
        "        tax = 0\n",
        "        remaining_income = income\n",
        "\n",
        "        for i in range(len(brackets)):\n",
        "            if remaining_income <= 0:\n",
        "                break\n",
        "            if i < len(brackets) - 1:\n",
        "                taxable_amount = min(remaining_income, brackets[i+1] - brackets[i])\n",
        "            else:\n",
        "                taxable_amount = remaining_income\n",
        "\n",
        "            tax += taxable_amount * rates[i]\n",
        "            remaining_income -= taxable_amount\n",
        "\n",
        "        print(f\"Your income tax is: ${tax:.2f}\")\n",
        "\n",
        "else:\n",
        "    print(\"Invalid input. Please enter a valid numeric income.\")\n"
      ]
    },
    {
      "cell_type": "markdown",
      "id": "052ab2ae",
      "metadata": {
        "id": "052ab2ae"
      },
      "source": [
        "### 22. Write a program that simulates a rock-paper-scissors game against the computer."
      ]
    },
    {
      "cell_type": "code",
      "execution_count": null,
      "id": "8a76670d",
      "metadata": {
        "id": "8a76670d",
        "outputId": "bc159612-af12-4e78-89cf-91ed07664c61"
      },
      "outputs": [
        {
          "name": "stdout",
          "output_type": "stream",
          "text": [
            "Choose: 1. Rock, 2. Paper, 3. Scissors\n",
            "Enter your choice (1/2/3): 2\n",
            "Your choice: 2\n",
            "Computer's choice: 2\n",
            "It's a tie!\n",
            "Do you want to play again? (yes/no): yes\n",
            "Choose: 1. Rock, 2. Paper, 3. Scissors\n",
            "Enter your choice (1/2/3): 3\n",
            "Your choice: 3\n",
            "Computer's choice: 1\n",
            "Computer wins!\n",
            "Do you want to play again? (yes/no): no\n",
            "Thanks for playing! Goodbye!\n"
          ]
        }
      ],
      "source": [
        "import random\n",
        "\n",
        "def get_user_choice():\n",
        "    print(\"Choose: 1. Rock, 2. Paper, 3. Scissors\")\n",
        "    choice = input(\"Enter your choice (1/2/3): \")\n",
        "    return choice\n",
        "\n",
        "def get_computer_choice():\n",
        "    return str(random.randint(1, 3))\n",
        "\n",
        "def determine_winner(user_choice, computer_choice):\n",
        "    if user_choice == computer_choice:\n",
        "        return \"It's a tie!\"\n",
        "    elif (user_choice == '1' and computer_choice == '3') or (user_choice == '2' and computer_choice == '1') or (user_choice == '3' and computer_choice == '2'):\n",
        "\n",
        "        return \"You win!\"\n",
        "    else:\n",
        "        return \"Computer wins!\"\n",
        "\n",
        "# Main game loop\n",
        "while True:\n",
        "    user_choice = get_user_choice()\n",
        "\n",
        "    if user_choice not in ['1', '2', '3']:\n",
        "        print(\"Invalid choice. Please choose 1, 2, or 3.\")\n",
        "        continue\n",
        "\n",
        "    computer_choice = get_computer_choice()\n",
        "\n",
        "    print(f\"Your choice: {user_choice}\")\n",
        "    print(f\"Computer's choice: {computer_choice}\")\n",
        "\n",
        "    result = determine_winner(user_choice, computer_choice)\n",
        "    print(result)\n",
        "\n",
        "    play_again = input(\"Do you want to play again? (yes/no): \").lower()\n",
        "    if play_again != 'yes':\n",
        "        print(\"Thanks for playing! Goodbye!\")\n",
        "        break\n"
      ]
    },
    {
      "cell_type": "markdown",
      "id": "627a123d",
      "metadata": {
        "id": "627a123d"
      },
      "source": [
        "### 23. Develop a program that generates a random password based on user preferences (length, complexity)."
      ]
    },
    {
      "cell_type": "code",
      "execution_count": null,
      "id": "ca0cff66",
      "metadata": {
        "id": "ca0cff66",
        "outputId": "a4e3bdcb-dfb4-43a1-8862-dd6ce1cd0a66"
      },
      "outputs": [
        {
          "name": "stdout",
          "output_type": "stream",
          "text": [
            "Enter the desired length of the password: 6\n",
            "Include uppercase letters? (yes/no): yes\n",
            "Include lowercase letters? (yes/no): yes\n",
            "Include digits? (yes/no): yes\n",
            "Include special characters? (yes/no): yes\n",
            "Generated Password: LDOA5y\n"
          ]
        }
      ],
      "source": [
        "import random\n",
        "import string\n",
        "\n",
        "def generate_password(length, uppercase, lowercase, digits, special_characters):\n",
        "    characters = \"\"\n",
        "\n",
        "    if uppercase:\n",
        "        characters += string.ascii_uppercase\n",
        "    if lowercase:\n",
        "        characters += string.ascii_lowercase\n",
        "    if digits:\n",
        "        characters += string.digits\n",
        "    if special_characters:\n",
        "        characters += string.punctuation\n",
        "\n",
        "    if not characters:\n",
        "        print(\"Invalid preferences. Please select at least one character type.\")\n",
        "        return None\n",
        "\n",
        "   # print(characters)\n",
        "\n",
        "    password = ''.join(random.choice(characters) for _ in range(length))\n",
        "    return password\n",
        "\n",
        "# Get user preferences\n",
        "length = int(input(\"Enter the desired length of the password: \"))\n",
        "uppercase = input(\"Include uppercase letters? (yes/no): \").lower() == 'yes'\n",
        "lowercase = input(\"Include lowercase letters? (yes/no): \").lower() == 'yes'\n",
        "digits = input(\"Include digits? (yes/no): \").lower() == 'yes'\n",
        "special_characters = input(\"Include special characters? (yes/no): \").lower() == 'yes'\n",
        "\n",
        "# Generate password\n",
        "password = generate_password(length, uppercase, lowercase, digits, special_characters)\n",
        "\n",
        "# Display the generated password\n",
        "if password:\n",
        "    print(f\"Generated Password: {password}\")\n"
      ]
    },
    {
      "cell_type": "markdown",
      "id": "5c36b959",
      "metadata": {
        "id": "5c36b959"
      },
      "source": [
        "### 24. Create a program that implements a simple text-based adventure game with branching scenarios."
      ]
    },
    {
      "cell_type": "code",
      "execution_count": null,
      "id": "d6a8105a",
      "metadata": {
        "id": "d6a8105a",
        "outputId": "3156e235-dce7-420f-cad0-221a75084cf8"
      },
      "outputs": [
        {
          "name": "stdout",
          "output_type": "stream",
          "text": [
            "Welcome to the Text Adventure Game!\n",
            "You find yourself in front of a mysterious cave.\n",
            "Do you want to enter the cave? (yes/no)\n",
            "no\n",
            "You decide not to enter the cave. Game over!\n"
          ]
        }
      ],
      "source": [
        "import time\n",
        "\n",
        "def delay_print(text, delay=1):\n",
        "    for char in text:\n",
        "        print(char, end='', flush=True)\n",
        "        time.sleep(delay)\n",
        "    print()\n",
        "\n",
        "def adventure_game():\n",
        "    delay_print(\"Welcome to the Text Adventure Game!\")\n",
        "    delay_print(\"You find yourself in front of a mysterious cave.\")\n",
        "    delay_print(\"Do you want to enter the cave? (yes/no)\")\n",
        "\n",
        "    choice1 = input().lower()\n",
        "\n",
        "    if choice1 == 'yes':\n",
        "        delay_print(\"You enter the dark cave and see two tunnels.\")\n",
        "        delay_print(\"Do you want to go left or right? (left/right)\")\n",
        "\n",
        "        choice2 = input().lower()\n",
        "\n",
        "        if choice2 == 'left':\n",
        "            delay_print(\"You find a treasure chest! You win!\")\n",
        "        elif choice2 == 'right':\n",
        "            delay_print(\"You encounter a giant spider. Game over!\")\n",
        "        else:\n",
        "            delay_print(\"Invalid choice. Game over!\")\n",
        "    elif choice1 == 'no':\n",
        "        delay_print(\"You decide not to enter the cave. Game over!\")\n",
        "    else:\n",
        "        delay_print(\"Invalid choice. Game over!\")\n",
        "\n",
        "# Run the adventure game\n",
        "adventure_game()\n"
      ]
    },
    {
      "cell_type": "markdown",
      "id": "e96b56bf",
      "metadata": {
        "id": "e96b56bf"
      },
      "source": [
        "### 25. Build a program that solves a linear equation for x, considering different cases."
      ]
    },
    {
      "cell_type": "code",
      "execution_count": null,
      "id": "92d73ccb",
      "metadata": {
        "id": "92d73ccb",
        "outputId": "627a0f1c-b9df-40d7-a780-1d2137be9975"
      },
      "outputs": [
        {
          "name": "stdout",
          "output_type": "stream",
          "text": [
            "Enter the coefficient a: 5\n",
            "Enter the coefficient b: 8\n",
            "The solution for the equation 5.0x + 8.0 = 0 is x = -1.60\n"
          ]
        }
      ],
      "source": [
        "def solve_linear_equation(a, b):\n",
        "    if a == 0 and b == 0:\n",
        "        return \"Infinite solutions (0 = 0)\"\n",
        "    elif a == 0 and b != 0:\n",
        "        return \"No solution (0 ≠ 0)\"\n",
        "    else:\n",
        "        x = -b / a\n",
        "        return f\"The solution for the equation {a}x + {b} = 0 is x = {x:.2f}\"\n",
        "\n",
        "# Get user input for coefficients\n",
        "a = float(input(\"Enter the coefficient a: \"))\n",
        "b = float(input(\"Enter the coefficient b: \"))\n",
        "\n",
        "# Solve the linear equation\n",
        "result = solve_linear_equation(a, b)\n",
        "print(result)\n"
      ]
    },
    {
      "cell_type": "markdown",
      "id": "ddae1d5a",
      "metadata": {
        "id": "ddae1d5a"
      },
      "source": [
        "### 26. Write a program that simulates a basic quiz game with multiple-choice questions and scoring."
      ]
    },
    {
      "cell_type": "code",
      "execution_count": null,
      "id": "54a4806d",
      "metadata": {
        "id": "54a4806d",
        "outputId": "7257b871-b7c1-4b78-af95-e657860ea468"
      },
      "outputs": [
        {
          "name": "stdout",
          "output_type": "stream",
          "text": [
            "Which planet is known as the Red Planet?\n",
            "1. Mars\n",
            "2. Jupiter\n",
            "3. Venus\n",
            "4. Saturn\n",
            "Enter your choice (1-4): 2\n",
            "Wrong! The correct answer is 1: Mars\n",
            "\n",
            "What is the capital of France?\n",
            "1. Berlin\n",
            "2. Paris\n",
            "3. Madrid\n",
            "4. Rome\n",
            "Enter your choice (1-4): 2\n",
            "Correct!\n",
            "\n",
            "What is the largest mammal on Earth?\n",
            "1. Elephant\n",
            "2. Blue Whale\n",
            "3. Giraffe\n",
            "4. Hippopotamus\n",
            "Enter your choice (1-4): 2\n",
            "Correct!\n",
            "\n",
            "Quiz completed! Your score is: 2/3\n"
          ]
        }
      ],
      "source": [
        "import random\n",
        "\n",
        "questions = [\n",
        "    {\n",
        "        'text': 'What is the capital of France?',\n",
        "        'options': ['Berlin', 'Paris', 'Madrid', 'Rome'],\n",
        "        'correct_option': 2\n",
        "    },\n",
        "    {\n",
        "        'text': 'Which planet is known as the Red Planet?',\n",
        "        'options': ['Mars', 'Jupiter', 'Venus', 'Saturn'],\n",
        "        'correct_option': 1\n",
        "    },\n",
        "    {\n",
        "        'text': 'What is the largest mammal on Earth?',\n",
        "        'options': ['Elephant', 'Blue Whale', 'Giraffe', 'Hippopotamus'],\n",
        "        'correct_option': 2\n",
        "    }\n",
        "]\n",
        "\n",
        "score = 0\n",
        "\n",
        "random.shuffle(questions)\n",
        "\n",
        "for question in questions:\n",
        "    print(question['text'])\n",
        "    for i, option in enumerate(question['options'], start=1):\n",
        "        print(f\"{i}. {option}\")\n",
        "\n",
        "    user_answer = int(input(\"Enter your choice (1-4): \"))\n",
        "\n",
        "    if user_answer == question['correct_option']:\n",
        "        print(\"Correct!\\n\")\n",
        "        score += 1\n",
        "    else:\n",
        "        print(f\"Wrong! The correct answer is {question['correct_option']}: {question['options'][question['correct_option'] - 1]}\\n\")\n",
        "\n",
        "print(f\"Quiz completed! Your score is: {score}/{len(questions)}\")\n"
      ]
    },
    {
      "cell_type": "markdown",
      "id": "23989db9",
      "metadata": {
        "id": "23989db9"
      },
      "source": [
        "### 27. Develop a program that determines whether a given year is a prime number or not."
      ]
    },
    {
      "cell_type": "code",
      "execution_count": null,
      "id": "5473b8bf",
      "metadata": {
        "id": "5473b8bf",
        "outputId": "fa9afd98-aedd-4971-ae61-28e6f27c3b51"
      },
      "outputs": [
        {
          "name": "stdout",
          "output_type": "stream",
          "text": [
            "enter year : 2023\n",
            "2023 is not a prime number.\n"
          ]
        }
      ],
      "source": [
        "year = int(input(\"enter year : \"))\n",
        "\n",
        "if year < 2:\n",
        "    print(f\"{year} is not a prime number. \")\n",
        "\n",
        "else:\n",
        "\n",
        "    is_prime = True\n",
        "    for i in range(2,year):\n",
        "\n",
        "        if year % i == 0 :\n",
        "            is_prime = False\n",
        "            break\n",
        "\n",
        "    if is_prime:\n",
        "        print(f\"{year} is a prime number.\")\n",
        "    else:\n",
        "        print(f\"{year} is not a prime number.\")\n",
        "\n",
        ""
      ]
    },
    {
      "cell_type": "markdown",
      "id": "6b850cab",
      "metadata": {
        "id": "6b850cab"
      },
      "source": [
        "### 28. Create a program that sorts three numbers in ascending order using conditional statements."
      ]
    },
    {
      "cell_type": "code",
      "execution_count": null,
      "id": "80edde9a",
      "metadata": {
        "id": "80edde9a",
        "outputId": "f11cce04-b54b-4730-e904-8b2725eeca9f"
      },
      "outputs": [
        {
          "name": "stdout",
          "output_type": "stream",
          "text": [
            "Enter the first number: 6\n",
            "Enter the second number: 3\n",
            "Enter the third number: 1\n",
            "Numbers in ascending order: (1, 3, 6)\n"
          ]
        }
      ],
      "source": [
        "n1 = int(input(\"Enter the first number: \"))\n",
        "n2 = int(input(\"Enter the second number: \"))\n",
        "n3 = int(input(\"Enter the third number: \"))\n",
        "\n",
        "if n1 <= n2 <= n3:\n",
        "    sorted_numbers = (n1, n2, n3)\n",
        "elif n1 <= n3 <= n2:\n",
        "    sorted_numbers = (n1, n3, n2)\n",
        "elif n2 <= n1 <= n3:\n",
        "    sorted_numbers = (n2, n1, n3)\n",
        "elif n2 <= n3 <= n1:\n",
        "    sorted_numbers = (n2, n3, n1)\n",
        "elif n3 <= n1 <= n2:\n",
        "    sorted_numbers = (n3, n1, n2)\n",
        "else:\n",
        "    sorted_numbers = (n3, n2, n1)\n",
        "\n",
        "print(\"Numbers in ascending order:\", sorted_numbers)\n"
      ]
    },
    {
      "cell_type": "markdown",
      "id": "4c57dcbc",
      "metadata": {
        "id": "4c57dcbc"
      },
      "source": [
        "### 29. Build a program that determines the roots of a quartic equation using numerical methods."
      ]
    },
    {
      "cell_type": "code",
      "execution_count": null,
      "id": "2357d354",
      "metadata": {
        "id": "2357d354",
        "outputId": "4fa79e51-f034-4ddf-a6d6-88fc0ba01476"
      },
      "outputs": [
        {
          "name": "stdout",
          "output_type": "stream",
          "text": [
            "Approximate root of the quartic equation: 2.0\n"
          ]
        }
      ],
      "source": [
        "def quartic_equation(x, coefficients):\n",
        "    # Function representing the quartic equation\n",
        "    return coefficients[0]*x**4 + coefficients[1]*x**3 + coefficients[2]*x**2 + coefficients[3]*x + coefficients[4]\n",
        "\n",
        "def quartic_derivative(x, coefficients):\n",
        "    # Derivative of the quartic equation\n",
        "    return 4*coefficients[0]*x**3 + 3*coefficients[1]*x**2 + 2*coefficients[2]*x + coefficients[3]\n",
        "\n",
        "def newton_raphson_quartic(guess, coefficients, tolerance=1e-6, max_iterations=100):\n",
        "    # Newton-Raphson method to find the root of the quartic equation\n",
        "    x = guess\n",
        "    iteration = 0\n",
        "\n",
        "    while abs(quartic_equation(x, coefficients)) > tolerance and iteration < max_iterations:\n",
        "        x = x - quartic_equation(x, coefficients) / quartic_derivative(x, coefficients)\n",
        "        iteration += 1\n",
        "\n",
        "    return x\n",
        "\n",
        "# Example usage:\n",
        "coefficients = [1, -10, 35, -50, 24]  # Adjust coefficients as needed\n",
        "initial_guess = 2.0\n",
        "\n",
        "root = newton_raphson_quartic(initial_guess, coefficients)\n",
        "\n",
        "print(f\"Approximate root of the quartic equation: {root}\")\n"
      ]
    },
    {
      "cell_type": "markdown",
      "id": "79db2567",
      "metadata": {
        "id": "79db2567"
      },
      "source": [
        "### 30. Write a program that calculates the BMI (Body Mass Index) and provides health recommendations based on the user's input."
      ]
    },
    {
      "cell_type": "code",
      "execution_count": null,
      "id": "26a9e07f",
      "metadata": {
        "id": "26a9e07f",
        "outputId": "4874ff06-122a-4676-e1e6-7ca12dfe34c0"
      },
      "outputs": [
        {
          "name": "stdout",
          "output_type": "stream",
          "text": [
            "Enter your weight in kilograms: 70\n",
            "Enter your height in meters: 1.7\n",
            "Your BMI is: 24.22\n",
            "You are classified as: Normal weight\n",
            "Recommendation: Maintain a healthy lifestyle to stay in the normal weight range.\n"
          ]
        }
      ],
      "source": [
        "def calculate_bmi(weight, height):\n",
        "    # Formula to calculate BMI: weight (kg) / (height (m) * height (m))\n",
        "    bmi = weight / (height ** 2)\n",
        "    return bmi\n",
        "\n",
        "def interpret_bmi(bmi):\n",
        "    if bmi < 18.5:\n",
        "        return \"Underweight\"\n",
        "    elif 18.5 <= bmi < 24.9:\n",
        "        return \"Normal weight\"\n",
        "    elif 25 <= bmi < 29.9:\n",
        "        return \"Overweight\"\n",
        "    else:\n",
        "        return \"Obese\"\n",
        "\n",
        "# Get user input for weight and height\n",
        "weight = float(input(\"Enter your weight in kilograms: \"))\n",
        "height = float(input(\"Enter your height in meters: \"))\n",
        "\n",
        "# Calculate BMI\n",
        "bmi = calculate_bmi(weight, height)\n",
        "\n",
        "# Interpret BMI and provide recommendations\n",
        "health_status = interpret_bmi(bmi)\n",
        "\n",
        "print(f\"Your BMI is: {bmi:.2f}\")\n",
        "print(f\"You are classified as: {health_status}\")\n",
        "\n",
        "if health_status == \"Underweight\":\n",
        "    print(\"Recommendation: Consider gaining some weight for better health.\")\n",
        "elif health_status == \"Normal weight\":\n",
        "    print(\"Recommendation: Maintain a healthy lifestyle to stay in the normal weight range.\")\n",
        "elif health_status == \"Overweight\":\n",
        "    print(\"Recommendation: Consider adopting a healthier diet and exercise routine.\")\n",
        "else:\n",
        "    print(\"Recommendation: Consult with a healthcare professional for weight management.\")\n"
      ]
    },
    {
      "cell_type": "markdown",
      "id": "641e3eb5",
      "metadata": {
        "id": "641e3eb5"
      },
      "source": [
        "## Challenge Level:"
      ]
    },
    {
      "cell_type": "markdown",
      "id": "088b8891",
      "metadata": {
        "id": "088b8891"
      },
      "source": [
        "### 31. Create a program that validates a password based on complexity rules (length, characters, etc.)."
      ]
    },
    {
      "cell_type": "code",
      "execution_count": null,
      "id": "6044ff65",
      "metadata": {
        "id": "6044ff65",
        "outputId": "a26941fe-e43f-48ef-f289-072127c99f1d"
      },
      "outputs": [
        {
          "name": "stdout",
          "output_type": "stream",
          "text": [
            "Enter a password: Prasad@0987\n",
            "Password is valid.\n"
          ]
        }
      ],
      "source": [
        "password = input(\"Enter a password: \")\n",
        "\n",
        "# Check if the password is at least 8 characters long\n",
        "if len(password) < 8:\n",
        "    print(\"Password is not valid. It must be at least 8 characters long.\")\n",
        "\n",
        "else:\n",
        "\n",
        "\n",
        "    if not any(char.isupper() for char in password):\n",
        "        print(\"Password is not valid. It must contain at least one uppercase letter.\")\n",
        "\n",
        "    else:\n",
        "\n",
        "        if not any(char.islower() for char in password):\n",
        "            print(\"Password is not valid. It must contain at least one lowercase letter.\")\n",
        "        else:\n",
        "\n",
        "            if not any(char.isdigit() for char in password):\n",
        "                print(\"Password is not valid. It must contain at least one digit.\")\n",
        "            else:\n",
        "\n",
        "                if not any(char in \"!@#$%^&*()-_+=\" for char in password):\n",
        "                    print(\"Password is not valid. It must contain at least one special character.\")\n",
        "                else:\n",
        "                    print(\"Password is valid.\")\n"
      ]
    },
    {
      "cell_type": "markdown",
      "id": "e2d79503",
      "metadata": {
        "id": "e2d79503"
      },
      "source": [
        "### 32. Develop a program that performs matrix addition and subtraction based on user input."
      ]
    },
    {
      "cell_type": "code",
      "execution_count": null,
      "id": "8b85566a",
      "metadata": {
        "id": "8b85566a",
        "outputId": "96ac9e1c-4dbb-43ac-e31d-2dc7d2818a9c"
      },
      "outputs": [
        {
          "name": "stdout",
          "output_type": "stream",
          "text": [
            "Enter the number of rows: 2\n",
            "Enter the number of columns: 2\n",
            "Enter the elements for matrix 1:\n",
            "enter element at position (1,1): 1\n",
            "enter element at position (2,1): 2\n",
            "enter element at position (1,2): 3\n",
            "enter element at position (2,2): 4\n",
            "Matrix 1:\n",
            "1 2 \n",
            "3 4 \n",
            "Enter the elements for matrix 2:\n",
            "enter element at position (1,1): 1\n",
            "enter element at position (2,1): 4\n",
            "enter element at position (1,2): 2\n",
            "enter element at position (2,2): 6\n",
            "Matrix 2:\n",
            "1 4 \n",
            "2 6 \n",
            "The addition of two matrices is:\n",
            "2 6 \n",
            "5 10 \n",
            "The subtraction of two matrices is:\n",
            "0 -2 \n",
            "1 -2 \n"
          ]
        }
      ],
      "source": [
        "row = int(input(\"Enter the number of rows: \"))\n",
        "col = int(input(\"Enter the number of columns: \"))\n",
        "\n",
        "# Input for the first matrix\n",
        "print(\"Enter the elements for matrix 1:\")\n",
        "matrix1 = [[int(input(f\"enter element at position ({i+1},{j+1}): \")) for i in range(col)] for j in range(row)]\n",
        "\n",
        "# Display the first matrix\n",
        "print(\"Matrix 1:\")\n",
        "for i in range(row):\n",
        "    for j in range(col):\n",
        "        print(matrix1[i][j], end=\" \")\n",
        "    print()\n",
        "\n",
        "# Input for the second matrix\n",
        "print(\"Enter the elements for matrix 2:\")\n",
        "matrix2 = [[int(input(f\"enter element at position ({i+1},{j+1}): \")) for i in range(col)] for j in range(row)]\n",
        "\n",
        "# Display the second matrix\n",
        "print(\"Matrix 2:\")\n",
        "for i in range(row):\n",
        "    for j in range(col):\n",
        "        print(matrix2[i][j], end=\" \")\n",
        "    print()\n",
        "\n",
        "# Matrix addition\n",
        "result_of_addition = [[0 for i in range(col)] for j in range(row)]\n",
        "for i in range(row):\n",
        "    for j in range(col):\n",
        "        result_of_addition[i][j] = matrix1[i][j] + matrix2[i][j]\n",
        "\n",
        "# Matrix subtraction\n",
        "result_of_subtraction = [[0 for i in range(col)] for j in range(row)]\n",
        "for i in range(row):\n",
        "    for j in range(col):\n",
        "        result_of_subtraction[i][j] = matrix1[i][j] - matrix2[i][j]\n",
        "\n",
        "# Display the results\n",
        "print(\"The addition of two matrices is:\")\n",
        "for i in range(row):\n",
        "    for j in range(col):\n",
        "        print(result_of_addition[i][j], end=\" \")\n",
        "    print()\n",
        "\n",
        "print(\"The subtraction of two matrices is:\")\n",
        "for i in range(row):\n",
        "    for j in range(col):\n",
        "        print(result_of_subtraction[i][j], end=\" \")\n",
        "    print()\n"
      ]
    },
    {
      "cell_type": "markdown",
      "id": "ca1896de",
      "metadata": {
        "id": "ca1896de"
      },
      "source": [
        "### 33. Write a program that calculates the greatest common divisor (GCD) of two numbers using the Euclidean algorithm."
      ]
    },
    {
      "cell_type": "code",
      "execution_count": null,
      "id": "7ffea023",
      "metadata": {
        "id": "7ffea023",
        "outputId": "4f9058ff-1b39-4f6a-9b55-a7635b9a1b1b"
      },
      "outputs": [
        {
          "name": "stdout",
          "output_type": "stream",
          "text": [
            "Enter the first number: 5\n",
            "Enter the second number: 10\n",
            "The GCD of 5 and 10 is: 5\n"
          ]
        }
      ],
      "source": [
        "def euclidean_gcd(a, b):\n",
        "    while b:\n",
        "        a, b = b, a % b\n",
        "    return a\n",
        "\n",
        "# Get user input for two numbers\n",
        "num1 = int(input(\"Enter the first number: \"))\n",
        "num2 = int(input(\"Enter the second number: \"))\n",
        "\n",
        "# Calculate and display the GCD using the Euclidean algorithm\n",
        "gcd_result = euclidean_gcd(num1, num2)\n",
        "print(f\"The GCD of {num1} and {num2} is: {gcd_result}\")\n"
      ]
    },
    {
      "cell_type": "markdown",
      "id": "797f5d5b",
      "metadata": {
        "id": "797f5d5b"
      },
      "source": [
        "### 34. Build a program that performs matrix multiplication using nested loops and conditional statements."
      ]
    },
    {
      "cell_type": "code",
      "execution_count": null,
      "id": "d0499765",
      "metadata": {
        "id": "d0499765",
        "outputId": "16de4a3c-2b60-4de4-ac48-2b138fa29a5e"
      },
      "outputs": [
        {
          "name": "stdout",
          "output_type": "stream",
          "text": [
            "Enter the number of rows for the first matrix: 2\n",
            "Enter the number of columns for the first matrix: 3\n",
            "Enter the number of columns for the second matrix (should be equal to the first matrix's number of rows): 2\n",
            "Enter the elements for matrix 1:\n",
            "Enter element at position (1, 1): 1\n",
            "Enter element at position (1, 2): 2\n",
            "Enter element at position (1, 3): 3\n",
            "Enter element at position (2, 1): 2\n",
            "Enter element at position (2, 2): 1\n",
            "Enter element at position (2, 3): 3\n",
            "Matrix 1:\n",
            "1 2 3 \n",
            "2 1 3 \n",
            "Enter the elements for matrix 2:\n",
            "Enter element at position (1, 1): 1\n",
            "Enter element at position (1, 2): 2\n",
            "Enter element at position (2, 1): 3\n",
            "Enter element at position (2, 2): 1\n",
            "Enter element at position (3, 1): 3\n",
            "Enter element at position (3, 2): 3\n",
            "Matrix 2:\n",
            "1 2 \n",
            "3 1 \n",
            "3 3 \n",
            "The multiplication of two matrices is:\n",
            "16 13 \n",
            "14 14 \n"
          ]
        }
      ],
      "source": [
        "row1 = int(input(\"Enter the number of rows for the first matrix: \"))\n",
        "col1 = int(input(\"Enter the number of columns for the first matrix: \"))\n",
        "row2_col1 = int(input(\"Enter the number of columns for the second matrix (should be equal to the first matrix's number of rows): \"))\n",
        "\n",
        "if row2_col1 == row1 :\n",
        "    # Input for the first matrix\n",
        "    print(\"Enter the elements for matrix 1:\")\n",
        "    matrix1 = [[int(input(f\"Enter element at position ({i+1}, {j+1}): \")) for j in range(col1)] for i in range(row1)]\n",
        "\n",
        "    # Display the first matrix\n",
        "    print(\"Matrix 1:\")\n",
        "    for i in range(row1):\n",
        "        for j in range(col1):\n",
        "            print(matrix1[i][j], end=\" \")\n",
        "        print()\n",
        "\n",
        "    # Input for the second matrix\n",
        "    print(\"Enter the elements for matrix 2:\")\n",
        "    matrix2 = [[int(input(f\"Enter element at position ({i+1}, {j+1}): \")) for j in range(row2_col1)] for i in range(col1)]\n",
        "\n",
        "    # Display the second matrix\n",
        "    print(\"Matrix 2:\")\n",
        "    for i in range(col1):\n",
        "        for j in range(row2_col1):\n",
        "            print(matrix2[i][j], end=\" \")\n",
        "        print()\n",
        "\n",
        "    # Result matrix initialization\n",
        "    result = [[0 for i in range(row2_col1)] for j in range(row1)]\n",
        "\n",
        "    # Matrix multiplication\n",
        "    for i in range(row1):\n",
        "        for j in range(row2_col1):\n",
        "            for k in range(col1):\n",
        "                result[i][j] += matrix1[i][k] * matrix2[k][j]\n",
        "\n",
        "    # Display the result\n",
        "    print(\"The multiplication of two matrices is:\")\n",
        "    for i in range(row1):\n",
        "        for j in range(row2_col1):\n",
        "            print(result[i][j], end=\" \")\n",
        "        print()\n",
        "\n",
        "else:\n",
        "    print(\"Please enter correct number ... which is equal to the first matrix. \")\n"
      ]
    },
    {
      "cell_type": "markdown",
      "id": "6ca6d17c",
      "metadata": {
        "id": "6ca6d17c"
      },
      "source": [
        "### 35. Create a program that simulates a basic text-based tic-tac-toe game against the computer."
      ]
    },
    {
      "cell_type": "code",
      "execution_count": null,
      "id": "a0b0e868",
      "metadata": {
        "id": "a0b0e868",
        "outputId": "c5de012e-ab9d-4b61-bd68-1480807eaa6c"
      },
      "outputs": [
        {
          "name": "stdout",
          "output_type": "stream",
          "text": [
            "Welcome to Tic-Tac-Toe!\n",
            "  |   |  \n",
            "-----------------\n",
            "  |   |  \n",
            "-----------------\n",
            "  |   |  \n",
            "-----------------\n",
            "Enter the row (1, 2, or 3): 2\n",
            "Enter the column (1, 2, or 3): 1\n",
            "  |   |  \n",
            "-----------------\n",
            "X |   |  \n",
            "-----------------\n",
            "  |   |  \n",
            "-----------------\n",
            "Computer's move:\n",
            "  |   |  \n",
            "-----------------\n",
            "X |   |  \n",
            "-----------------\n",
            "O |   |  \n",
            "-----------------\n",
            "Enter the row (1, 2, or 3): 2\n",
            "Enter the column (1, 2, or 3): 2\n",
            "  |   |  \n",
            "-----------------\n",
            "X | X |  \n",
            "-----------------\n",
            "O |   |  \n",
            "-----------------\n",
            "Computer's move:\n",
            "  |   |  \n",
            "-----------------\n",
            "X | X |  \n",
            "-----------------\n",
            "O |   | O\n",
            "-----------------\n",
            "Enter the row (1, 2, or 3): 2\n",
            "Enter the column (1, 2, or 3): 3\n",
            "  |   |  \n",
            "-----------------\n",
            "X | X | X\n",
            "-----------------\n",
            "O |   | O\n",
            "-----------------\n",
            "Congratulations! You win!\n"
          ]
        }
      ],
      "source": [
        "import random\n",
        "\n",
        "def print_board(board):\n",
        "    for row in board:\n",
        "        print(\" | \".join(row))\n",
        "        print(\"-\" * 17)\n",
        "\n",
        "def check_winner(board, player):\n",
        "    # Check rows and columns\n",
        "    for i in range(3):\n",
        "        if all(board[i][j] == player for j in range(3)) or all(board[j][i] == player for j in range(3)):\n",
        "            return True\n",
        "\n",
        "    # Check diagonals\n",
        "    if all(board[i][i] == player for i in range(3)) or all(board[i][2 - i] == player for i in range(3)):\n",
        "        return True\n",
        "\n",
        "    return False\n",
        "\n",
        "def is_board_full(board):\n",
        "    return all(board[i][j] != ' ' for i in range(3) for j in range(3))\n",
        "\n",
        "def get_empty_cells(board):\n",
        "    return [(i, j) for i in range(3) for j in range(3) if board[i][j] == ' ']\n",
        "\n",
        "def player_move(board):\n",
        "    while True:\n",
        "        try:\n",
        "            row = int(input(\"Enter the row (1, 2, or 3): \")) - 1\n",
        "            col = int(input(\"Enter the column (1, 2, or 3): \")) - 1\n",
        "\n",
        "            if board[row][col] == ' ':\n",
        "                return row, col\n",
        "            else:\n",
        "                print(\"Cell already taken. Try again.\")\n",
        "        except (ValueError, IndexError):\n",
        "            print(\"Invalid input. Please enter valid row and column numbers.\")\n",
        "\n",
        "def computer_move(board):\n",
        "    empty_cells = get_empty_cells(board)\n",
        "    return random.choice(empty_cells)\n",
        "\n",
        "def play_tic_tac_toe():\n",
        "    board = [[' ' for _ in range(3)] for _ in range(3)]\n",
        "    player_symbol = 'X'\n",
        "    computer_symbol = 'O'\n",
        "\n",
        "    while True:\n",
        "        print_board(board)\n",
        "\n",
        "        # Player move\n",
        "        row, col = player_move(board)\n",
        "        board[row][col] = player_symbol\n",
        "\n",
        "        # Check if the player wins\n",
        "        if check_winner(board, player_symbol):\n",
        "            print_board(board)\n",
        "            print(\"Congratulations! You win!\")\n",
        "            break\n",
        "\n",
        "        # Check if the game is a tie\n",
        "        if is_board_full(board):\n",
        "            print_board(board)\n",
        "            print(\"It's a tie!\")\n",
        "            break\n",
        "\n",
        "        print_board(board)\n",
        "\n",
        "        # Computer move\n",
        "        print(\"Computer's move:\")\n",
        "        row, col = computer_move(board)\n",
        "        board[row][col] = computer_symbol\n",
        "\n",
        "        # Check if the computer wins\n",
        "        if check_winner(board, computer_symbol):\n",
        "            print_board(board)\n",
        "            print(\"Sorry, you lose. Better luck next time!\")\n",
        "            break\n",
        "\n",
        "        # Check if the game is a tie\n",
        "        if is_board_full(board):\n",
        "            print_board(board)\n",
        "            print(\"It's a tie!\")\n",
        "            break\n",
        "\n",
        "if __name__ == \"__main__\":\n",
        "    print(\"Welcome to Tic-Tac-Toe!\")\n",
        "    play_tic_tac_toe()\n"
      ]
    },
    {
      "cell_type": "markdown",
      "id": "cbb1342e",
      "metadata": {
        "id": "cbb1342e"
      },
      "source": [
        "### 36. Write a program that generates Fibonacci numbers up to a specified term using iterative methods."
      ]
    },
    {
      "cell_type": "code",
      "execution_count": null,
      "id": "d76bfed8",
      "metadata": {
        "id": "d76bfed8",
        "outputId": "0255ae7e-477a-494a-9845-ac8fe6fbcde5"
      },
      "outputs": [
        {
          "name": "stdout",
          "output_type": "stream",
          "text": [
            "Enter specific term: 20\n",
            "Fibonacci sequence up to 20: [0, 1, 1, 2, 3, 5, 8, 13]\n"
          ]
        }
      ],
      "source": [
        "specific_term = int(input(\"Enter specific term: \"))\n",
        "\n",
        "lst = [0, 1]\n",
        "\n",
        "while lst[-1] < specific_term:\n",
        "    lst.append(lst[-1] + lst[-2])\n",
        "\n",
        "# Exclude the term greater than or equal to the specified term\n",
        "fibonacci_sequence = [i for i in lst if i < specific_term]\n",
        "\n",
        "print(f\"Fibonacci sequence up to {specific_term}: {fibonacci_sequence}\")\n"
      ]
    },
    {
      "cell_type": "markdown",
      "id": "d056001c",
      "metadata": {
        "id": "d056001c"
      },
      "source": [
        "### 37. Develop a program that calculates the nth term of the Fibonacci sequence using memoization."
      ]
    },
    {
      "cell_type": "code",
      "execution_count": null,
      "id": "99945c77",
      "metadata": {
        "id": "99945c77",
        "outputId": "6e524932-7517-46d5-f1ac-3562bbae617d"
      },
      "outputs": [
        {
          "name": "stdout",
          "output_type": "stream",
          "text": [
            "Enter the number for the required Fibonacci nth term: 5\n",
            "The 5th term of the Fibonacci sequence is: 3\n"
          ]
        }
      ],
      "source": [
        "term = int(input(\"Enter the number for the required Fibonacci nth term: \"))\n",
        "\n",
        "lst = [0, 1]\n",
        "\n",
        "if term >= len(lst):\n",
        "    while len(lst) < term:\n",
        "        lst.append(lst[-1] + lst[-2])\n",
        "\n",
        "print(f\"The {term}th term of the Fibonacci sequence is: {lst[term-1]}\")\n"
      ]
    },
    {
      "cell_type": "markdown",
      "id": "d1309363",
      "metadata": {
        "id": "d1309363"
      },
      "source": [
        "### 38. Create a program that generates a calendar for a given month and year using conditional statements."
      ]
    },
    {
      "cell_type": "code",
      "execution_count": null,
      "id": "5d05dcd0",
      "metadata": {
        "id": "5d05dcd0",
        "outputId": "9f7ee7ab-db87-4d41-e603-767a4e1ee0cc"
      },
      "outputs": [
        {
          "name": "stdout",
          "output_type": "stream",
          "text": [
            "Enter the year: 2024\n",
            "Enter the month (1-12): 2\n",
            "\n",
            "Calendar for February 2024:\n",
            "\n",
            "   February 2024\n",
            "Mo Tu We Th Fr Sa Su\n",
            "          1  2  3  4\n",
            " 5  6  7  8  9 10 11\n",
            "12 13 14 15 16 17 18\n",
            "19 20 21 22 23 24 25\n",
            "26 27 28 29\n",
            "\n"
          ]
        }
      ],
      "source": [
        "import calendar\n",
        "\n",
        "# Get user input for month and year\n",
        "year = int(input(\"Enter the year: \"))\n",
        "month = int(input(\"Enter the month (1-12): \"))\n",
        "\n",
        "# Check if the provided month and year are valid\n",
        "if 1 <= month <= 12:\n",
        "\n",
        "    # Generate and print the calendar\n",
        "    cal = calendar.month(year,month)\n",
        "    print(f\"\\nCalendar for {calendar.month_name[month]} {year}:\\n\")\n",
        "    print(cal)\n",
        "\n",
        "else:\n",
        "    print(\"Invalid month. Please enter a month between 1 and 12.\")\n"
      ]
    },
    {
      "cell_type": "markdown",
      "id": "d0f10a78",
      "metadata": {
        "id": "d0f10a78"
      },
      "source": [
        "### 39. Build a program that simulates a basic text-based blackjack game against the computer."
      ]
    },
    {
      "cell_type": "code",
      "execution_count": null,
      "id": "a898359e",
      "metadata": {
        "id": "a898359e",
        "outputId": "e80cc4f3-19b0-4682-8950-511ecd503510"
      },
      "outputs": [
        {
          "name": "stdout",
          "output_type": "stream",
          "text": [
            "Your cards: [10, 5], current score: 15\n",
            "Computer's first card: 3\n",
            "Type 'y' to get another card, or 'n' to pass: y\n",
            "Your cards: [10, 5, 10], current score: 25\n",
            "Computer's first card: 3\n",
            "Your final hand: [10, 5, 10], final score: 25\n",
            "Computer's final hand: [3, 10, 10], final score: 23\n",
            "You went over. You lose.\n"
          ]
        }
      ],
      "source": [
        "import random\n",
        "\n",
        "def deal_card():\n",
        "    \"\"\"Returns a random card from the deck.\"\"\"\n",
        "    cards = [11, 2, 3, 4, 5, 6, 7, 8, 9, 10, 10, 10, 10]\n",
        "    return random.choice(cards)\n",
        "\n",
        "def calculate_score(cards):\n",
        "    \"\"\"Calculates the total score of a hand of cards.\"\"\"\n",
        "    if sum(cards) == 21 and len(cards) == 2:\n",
        "        return 0  # Blackjack\n",
        "\n",
        "    if 11 in cards and sum(cards) > 21:\n",
        "        cards.remove(11)\n",
        "        cards.append(1)\n",
        "\n",
        "    return sum(cards)\n",
        "\n",
        "def compare(user_score, computer_score):\n",
        "    \"\"\"Compares the scores and determines the winner.\"\"\"\n",
        "    if user_score == computer_score:\n",
        "        return \"It's a draw!\"\n",
        "    elif computer_score == 0:\n",
        "        return \"Computer has Blackjack. You lose.\"\n",
        "    elif user_score == 0:\n",
        "        return \"You have Blackjack. You win!\"\n",
        "    elif user_score > 21:\n",
        "        return \"You went over. You lose.\"\n",
        "    elif computer_score > 21:\n",
        "        return \"Computer went over. You win!\"\n",
        "    elif user_score > computer_score:\n",
        "        return \"You win!\"\n",
        "    else:\n",
        "        return \"You lose.\"\n",
        "\n",
        "def play_blackjack():\n",
        "    \"\"\"Plays a text-based Blackjack game.\"\"\"\n",
        "    user_cards = []\n",
        "    computer_cards = []\n",
        "    game_over = False\n",
        "\n",
        "    for _ in range(2):\n",
        "        user_cards.append(deal_card())\n",
        "        computer_cards.append(deal_card())\n",
        "\n",
        "    while not game_over:\n",
        "        user_score = calculate_score(user_cards)\n",
        "        computer_score = calculate_score(computer_cards)\n",
        "\n",
        "        print(f\"Your cards: {user_cards}, current score: {user_score}\")\n",
        "        print(f\"Computer's first card: {computer_cards[0]}\")\n",
        "\n",
        "        if user_score == 0 or computer_score == 0 or user_score > 21:\n",
        "            game_over = True\n",
        "        else:\n",
        "            should_continue = input(\"Type 'y' to get another card, or 'n' to pass: \").lower()\n",
        "            if should_continue == 'y':\n",
        "                user_cards.append(deal_card())\n",
        "            else:\n",
        "                game_over = True\n",
        "\n",
        "    while computer_score != 0 and computer_score < 17:\n",
        "        computer_cards.append(deal_card())\n",
        "        computer_score = calculate_score(computer_cards)\n",
        "\n",
        "    print(f\"Your final hand: {user_cards}, final score: {user_score}\")\n",
        "    print(f\"Computer's final hand: {computer_cards}, final score: {computer_score}\")\n",
        "    print(compare(user_score, computer_score))\n",
        "\n",
        "# Play the Blackjack game\n",
        "play_blackjack()\n"
      ]
    },
    {
      "cell_type": "markdown",
      "id": "5569acf3",
      "metadata": {
        "id": "5569acf3"
      },
      "source": [
        "### 40. Write a program that generates the prime factors of a given number using trial division."
      ]
    },
    {
      "cell_type": "code",
      "execution_count": null,
      "id": "7c5584b0",
      "metadata": {
        "id": "7c5584b0",
        "outputId": "06eef16c-3842-427d-a670-4832dba1be58"
      },
      "outputs": [
        {
          "name": "stdout",
          "output_type": "stream",
          "text": [
            "Enter a number to find its prime factors: 10\n",
            "The prime factors of 1 are: [2, 5]\n"
          ]
        }
      ],
      "source": [
        "number = int(input(\"Enter a number to find its prime factors: \"))\n",
        "factors = []\n",
        "\n",
        "# Trial division to find prime factors\n",
        "divisor = 2\n",
        "while divisor <= number:\n",
        "    if number % divisor == 0:\n",
        "        factors.append(divisor)\n",
        "        number //= divisor\n",
        "    else:\n",
        "        divisor += 1\n",
        "\n",
        "# Display the prime factors\n",
        "print(f\"The prime factors of {number} are: {factors}\")\n"
      ]
    },
    {
      "cell_type": "code",
      "execution_count": null,
      "id": "32810a95",
      "metadata": {
        "id": "32810a95"
      },
      "outputs": [],
      "source": []
    }
  ],
  "metadata": {
    "kernelspec": {
      "display_name": "Python 3 (ipykernel)",
      "language": "python",
      "name": "python3"
    },
    "language_info": {
      "codemirror_mode": {
        "name": "ipython",
        "version": 3
      },
      "file_extension": ".py",
      "mimetype": "text/x-python",
      "name": "python",
      "nbconvert_exporter": "python",
      "pygments_lexer": "ipython3",
      "version": "3.11.4"
    },
    "colab": {
      "provenance": [],
      "include_colab_link": true
    }
  },
  "nbformat": 4,
  "nbformat_minor": 5
}