{
 "cells": [
  {
   "cell_type": "code",
   "execution_count": 1,
   "id": "8b6a7b1a-3ff5-4b22-be3e-d3b2d7aa7e3a",
   "metadata": {},
   "outputs": [],
   "source": [
    "class a :\n",
    "    \n",
    "    def test(self):\n",
    "        print(\"this test method is a part of class a\")\n",
    "        \n",
    "    def test1(self):\n",
    "        print(\"this is test1 from class a \")"
   ]
  },
  {
   "cell_type": "code",
   "execution_count": 2,
   "id": "8e4d306f-fdb4-47a0-a93d-597f5b21d30b",
   "metadata": {},
   "outputs": [],
   "source": [
    "obj_a = a()"
   ]
  },
  {
   "cell_type": "code",
   "execution_count": 3,
   "id": "81ef5597-cf96-4ed9-a4f6-21e2e93aca70",
   "metadata": {},
   "outputs": [
    {
     "name": "stdout",
     "output_type": "stream",
     "text": [
      "this test method is a part of class a\n"
     ]
    }
   ],
   "source": [
    "obj_a.test()"
   ]
  },
  {
   "cell_type": "code",
   "execution_count": 4,
   "id": "11ee63d6-433d-48dc-ada0-5dd6771310ba",
   "metadata": {},
   "outputs": [],
   "source": [
    "class b(a) :\n",
    "    def test1b(self):\n",
    "        print(\"this is a part of class b \")"
   ]
  },
  {
   "cell_type": "code",
   "execution_count": 5,
   "id": "badaedfe-57d1-43c6-9193-e5afb0f31dbc",
   "metadata": {},
   "outputs": [],
   "source": [
    "obj_b = b()"
   ]
  },
  {
   "cell_type": "code",
   "execution_count": 6,
   "id": "3ce19f61-ba8e-4050-9d4d-614adfd964c5",
   "metadata": {},
   "outputs": [
    {
     "name": "stdout",
     "output_type": "stream",
     "text": [
      "this test method is a part of class a\n"
     ]
    }
   ],
   "source": [
    "obj_b.test()"
   ]
  },
  {
   "cell_type": "code",
   "execution_count": 7,
   "id": "5e473fae-e094-4407-99df-16a04ab4c80a",
   "metadata": {},
   "outputs": [
    {
     "name": "stdout",
     "output_type": "stream",
     "text": [
      "this is test1 from class a \n"
     ]
    }
   ],
   "source": [
    "obj_b.test1()"
   ]
  },
  {
   "cell_type": "code",
   "execution_count": 10,
   "id": "02a8f055-535f-4bc2-adc1-575445f82570",
   "metadata": {},
   "outputs": [
    {
     "name": "stdout",
     "output_type": "stream",
     "text": [
      "this is a part of class b \n"
     ]
    }
   ],
   "source": [
    "obj_b.test1b()"
   ]
  },
  {
   "cell_type": "code",
   "execution_count": 11,
   "id": "59361cd3-c0c4-4ddd-abac-cbe3275ade5f",
   "metadata": {},
   "outputs": [],
   "source": [
    "class lecture:\n",
    "    \n",
    "    def topic(self):\n",
    "        print(\"todays class we are discussing about inheritance condept in oops\")\n",
    "        \n",
    "    def timing(self):\n",
    "        print(\"timing for todays class is 9 AM IST\")\n",
    "        \n",
    "    def end_time(self):\n",
    "        print(\"today i will try to end class bit early\")"
   ]
  },
  {
   "cell_type": "code",
   "execution_count": 12,
   "id": "6e3dd2de-883e-4e9e-98a0-4a7089af1627",
   "metadata": {},
   "outputs": [],
   "source": [
    "class student(lecture):\n",
    "    \n",
    "    def student_details(self):\n",
    "        print(\"this class will give you a student details\")"
   ]
  },
  {
   "cell_type": "code",
   "execution_count": 13,
   "id": "c2ad2a89-0f29-4410-86c4-e33f47b4186d",
   "metadata": {},
   "outputs": [],
   "source": [
    "naval = student()"
   ]
  },
  {
   "cell_type": "code",
   "execution_count": 14,
   "id": "38c86e7f-5560-464a-b597-c88a74819f1a",
   "metadata": {},
   "outputs": [
    {
     "name": "stdout",
     "output_type": "stream",
     "text": [
      "todays class we are discussing about inheritance condept in oops\n"
     ]
    }
   ],
   "source": [
    "naval.topic()"
   ]
  },
  {
   "cell_type": "code",
   "execution_count": 15,
   "id": "02efc8a4-f995-4f85-87d2-620ccc0f61fa",
   "metadata": {},
   "outputs": [
    {
     "name": "stdout",
     "output_type": "stream",
     "text": [
      "timing for todays class is 9 AM IST\n"
     ]
    }
   ],
   "source": [
    "satish = student()\n",
    "satish.timing()"
   ]
  },
  {
   "cell_type": "code",
   "execution_count": 16,
   "id": "03932972-a58b-46e5-a3f8-ffc43c84ce53",
   "metadata": {},
   "outputs": [],
   "source": [
    "class teacher(student):\n",
    "    def details(self):\n",
    "        print(\"this will give you a details about teacher\")"
   ]
  },
  {
   "cell_type": "code",
   "execution_count": 17,
   "id": "fff36c1b-f1e9-467e-b29f-c304aa9feec9",
   "metadata": {},
   "outputs": [
    {
     "name": "stdout",
     "output_type": "stream",
     "text": [
      "timing for todays class is 9 AM IST\n"
     ]
    }
   ],
   "source": [
    "sudh = teacher()\n",
    "sudh.timing()"
   ]
  },
  {
   "cell_type": "code",
   "execution_count": 18,
   "id": "a5e8c94b-de62-4ef5-8eba-81259d83dd3d",
   "metadata": {},
   "outputs": [],
   "source": [
    "class lecture:\n",
    "    def topic(self):\n",
    "        print(\"todays class we are discussing about inheritance condept in oops\")\n",
    "        \n",
    "    def timing(self):\n",
    "        print(\"timing for todays class is 9 AM IST\")\n",
    "        \n",
    "    def end_time(self):\n",
    "        print(\"today i will try to end class bit early\")"
   ]
  },
  {
   "cell_type": "code",
   "execution_count": 19,
   "id": "2007141c-1b71-4cd4-9bed-a3cd8d851baa",
   "metadata": {},
   "outputs": [],
   "source": [
    "class student:\n",
    "    \n",
    "    def student_details(self):\n",
    "        print(\"this class will give you a student details\")\n",
    "        \n",
    "    def timing(self):\n",
    "        print(\"this is a timing fun from student class\")\n",
    "        "
   ]
  },
  {
   "cell_type": "code",
   "execution_count": 20,
   "id": "272860d3-1fac-475b-8c09-0490069224bc",
   "metadata": {},
   "outputs": [],
   "source": [
    "class teacher(lecture,student):\n",
    "    def details(self):\n",
    "        print(\"this will give you a details about teacher\")"
   ]
  },
  {
   "cell_type": "code",
   "execution_count": 21,
   "id": "f4a9ae16-f0e3-4a4a-a003-38773611cd2a",
   "metadata": {},
   "outputs": [],
   "source": [
    "krish = teacher()"
   ]
  },
  {
   "cell_type": "code",
   "execution_count": 22,
   "id": "6dc85f37-219e-4c72-927c-9aebb550fea9",
   "metadata": {},
   "outputs": [
    {
     "name": "stdout",
     "output_type": "stream",
     "text": [
      "timing for todays class is 9 AM IST\n"
     ]
    }
   ],
   "source": [
    "krish.timing()"
   ]
  },
  {
   "cell_type": "code",
   "execution_count": 23,
   "id": "8bcbac88-9172-4a31-a191-9c4b9a1c6eac",
   "metadata": {},
   "outputs": [
    {
     "name": "stdout",
     "output_type": "stream",
     "text": [
      "this class will give you a student details\n"
     ]
    }
   ],
   "source": [
    "krish.student_details()"
   ]
  },
  {
   "cell_type": "markdown",
   "id": "86b47d4f-860e-4702-83a0-0145887ab41a",
   "metadata": {},
   "source": [
    "Problem 1: Bank Account Create a class representing a bank account with attributes like account number, account holder name, and balance. Implement methods to deposit and withdraw money from the account.\n",
    "\n",
    "Problem 2: Employee Management Create a class representing an employee with attributes like employee ID, name, and salary. Implement methods to calculate the yearly bonus and display employee details.\n",
    "\n",
    "Problem 3: Vehicle Rental Create a class representing a vehicle rental system. Implement methods to rent a vehicle, return a vehicle, and display available vehicles.\n",
    "\n",
    "Problem 4: Library Catalog Create classes representing a library and a book. Implement methods to add books to the library, borrow books, and display available books.\n",
    "\n",
    "Problem 5: Product Inventory Create classes representing a product and an inventory system. Implement methods to add products to the inventory, update product quantity, and display available products.\n",
    "\n",
    "Problem 6: Shape Calculation Create a class representing a shape with attributes like length, width, and height. Implement methods to calculate the area and perimeter of the shape.\n",
    "\n",
    "Problem 7: Student Management Create a class representing a student with attributes like student ID, name, and grades. Implement methods to calculate the average grade and display student details.\n",
    "\n",
    "Problem 8: Email Management Create a class representing an email with attributes like sender, recipient, and subject. Implement methods to send an email and display email details.\n",
    "\n",
    "Problem 9: Social Media Profile Create a class representing a social media profile with attributes like username and posts. Implement methods to add posts, display posts, and search for posts by keyword.\n",
    "\n",
    "Problem 10: ToDo List Create a class representing a ToDo list with attributes like tasks and due dates. Implement methods to add tasks, mark tasks as completed, and display pending tasks."
   ]
  },
  {
   "cell_type": "markdown",
   "id": "0627c406",
   "metadata": {},
   "source": [
    "### Problem 1: Bank Account Create a class representing a bank account with attributes like account number, account holder name, and balance. Implement methods to deposit and withdraw money from the account."
   ]
  },
  {
   "cell_type": "code",
   "execution_count": 56,
   "id": "3fa947ce",
   "metadata": {},
   "outputs": [
    {
     "name": "stdout",
     "output_type": "stream",
     "text": [
      "deposit successfully.\n",
      "your current balance is : 1050\n"
     ]
    }
   ],
   "source": [
    "class bank_account:\n",
    "\n",
    "    def __init__(self,ac_number,ac_name,ac_balance=500):\n",
    "        self.account_no = ac_number\n",
    "        self.account_name = ac_name\n",
    "        self.account_balance = ac_balance\n",
    "\n",
    "    def deposit(self,cr_amount):\n",
    "        if cr_amount > 0:\n",
    "            self.account_balance += cr_amount\n",
    "            print(\"deposit successfully.\")\n",
    "            print(f\"your current balance is : {self.account_balance}\")\n",
    "            \n",
    "        else:\n",
    "            print(\"enter correct balance.\")\n",
    "        \n",
    "    def withdraw(self,dp_amount):\n",
    "        if dp_amount > self.account_balance :\n",
    "            print(\"In sufficient balance , please check your balance. \")\n",
    "        else:\n",
    "            self.account_balance -= dp_amount\n",
    "            print(\"with draw successfully.\")\n",
    "            print(f\"your current balance is : {self.account_balance}\")\n",
    "\n",
    "prasad = bank_account(19234,\"Prasad\")     \n",
    "prasad.deposit(550)"
   ]
  },
  {
   "cell_type": "markdown",
   "id": "ab8c2f54",
   "metadata": {},
   "source": [
    "### Problem 2: Employee Management Create a class representing an employee with attributes like employee ID, name, and salary. Implement methods to calculate the yearly bonus and display employee details."
   ]
  },
  {
   "cell_type": "code",
   "execution_count": 67,
   "id": "eece8735",
   "metadata": {},
   "outputs": [
    {
     "name": "stdout",
     "output_type": "stream",
     "text": [
      "Employee name : prasad\n",
      "Employee id : 4284\n",
      "Employee salary is : 80000\n",
      "the yearly bonus of prasad is :4000.0\n"
     ]
    }
   ],
   "source": [
    "class employee_management:\n",
    "    def __init__(self,employee_ID,employee_name,employee_salary):\n",
    "        self.id = employee_ID\n",
    "        self.name = employee_name\n",
    "        self.salary = employee_salary\n",
    "        \n",
    "    def bonus(self):\n",
    "        bonus_percentage = 0.05\n",
    "        yearly_bonus = self.salary * bonus_percentage\n",
    "        print(f\"the yearly bonus of {self.name} is :{yearly_bonus}\")\n",
    "        \n",
    "    def display(self):\n",
    "        print(f\"Employee name : {self.name}\")\n",
    "        print(f\"Employee id : {self.id}\")\n",
    "        print(f\"Employee salary is : {self.salary}\")\n",
    "        \n",
    "prasad = employee_management(4284,\"prasad\",80000)\n",
    "prasad.display()\n",
    "prasad.bonus()"
   ]
  },
  {
   "cell_type": "markdown",
   "id": "292afde8",
   "metadata": {},
   "source": [
    "### Problem 3: Vehicle Rental Create a class representing a vehicle rental system. Implement methods to rent a vehicle, return a vehicle, and display available vehicles."
   ]
  },
  {
   "cell_type": "code",
   "execution_count": 78,
   "id": "f7d05864",
   "metadata": {},
   "outputs": [
    {
     "name": "stdout",
     "output_type": "stream",
     "text": [
      "you requested vehicle 'Enfield' for rent is there sir, you can take.\n"
     ]
    }
   ],
   "source": [
    "class vehicle_rental:\n",
    "    \n",
    "    lst_of_vehicles = [\"hero\",\"R15\",\"yamaha\",\"pulser\",\"enfield\",\"FZ\"]\n",
    "    \n",
    "    def __init__(self,vehicle_name,vehicle_model,available=True):\n",
    "        self.vehicle_name = vehicle_name\n",
    "        self.vehicle_model= vehicle_model\n",
    "        self.available = available\n",
    "        \n",
    "    def rent_vehicle(self,name):\n",
    "        if self.available:\n",
    "            print(f\"you requested vehicle '{name}' for rent is there sir, you can take.\")\n",
    "            self.available = False\n",
    "            \n",
    "        else:\n",
    "            print(\"sorry sir , you requested vehicle is not there.\")\n",
    "            \n",
    "    def return_vehicle(self):\n",
    "        print(\"thanking you sir for returning vehicle here.\")\n",
    "        \n",
    "    def display(self):\n",
    "        for i in self.lst_of_vehicles:\n",
    "            print(i)\n",
    "\n",
    "            \n",
    "obj = vehicle_rental(\"enfield\",\"classic 350\")\n",
    "obj.rent_vehicle(\"Enfield\")   \n"
   ]
  },
  {
   "cell_type": "code",
   "execution_count": 79,
   "id": "aa5548de",
   "metadata": {},
   "outputs": [
    {
     "name": "stdout",
     "output_type": "stream",
     "text": [
      "hero\n",
      "R15\n",
      "yamaha\n",
      "pulser\n",
      "enfield\n",
      "FZ\n"
     ]
    }
   ],
   "source": [
    "obj.display()"
   ]
  },
  {
   "cell_type": "markdown",
   "id": "8c547e19",
   "metadata": {},
   "source": [
    "### Problem 4: Library Catalog Create classes representing a library and a book. Implement methods to add books to the library, borrow books, and display available books."
   ]
  },
  {
   "cell_type": "code",
   "execution_count": 90,
   "id": "99c7cb6c",
   "metadata": {},
   "outputs": [
    {
     "name": "stdout",
     "output_type": "stream",
     "text": [
      "\n",
      "This is the borrow books block:\n",
      "Ok, you can borrow 'ML Tools' by Alice Smith.\n",
      "\n",
      "These are the books in our library:\n",
      "\n",
      "Python 0 to Hero by Unknown Author (Available)\n",
      "DSA with Python by John Doe (Available)\n",
      "ML Tools by Alice Smith (Borrowed)\n",
      "DS Fundamentals by Bob Johnson (Available)\n",
      "End to End ML by Charlie Brown (Available)\n",
      "Deployment by Lucy Johnson (Available)\n"
     ]
    }
   ],
   "source": [
    "class Book:\n",
    "    def __init__(self, book_name, book_author):\n",
    "        self.name = book_name\n",
    "        self.author = book_author\n",
    "        self.is_borrowed = False\n",
    "\n",
    "class Library:\n",
    "    def __init__(self):\n",
    "        self.books = [\n",
    "            Book(\"Python 0 to Hero\", \"Unknown Author\"),\n",
    "            Book(\"DSA with Python\", \"John Doe\"),\n",
    "            Book(\"ML Tools\", \"Alice Smith\"),\n",
    "            Book(\"DS Fundamentals\", \"Bob Johnson\")\n",
    "        ]\n",
    "\n",
    "    def add(self, book_name, book_author):\n",
    "        new_book = Book(book_name, book_author)\n",
    "        self.books.append(new_book)\n",
    "\n",
    "    def borrow(self, name):\n",
    "        print(\"\\nThis is the borrow books block:\")\n",
    "        found_book = None\n",
    "        for book in self.books:\n",
    "            if book.name == name and not book.is_borrowed:\n",
    "                found_book = book\n",
    "                break\n",
    "\n",
    "        if found_book:\n",
    "            print(f\"Ok, you can borrow '{found_book.name}' by {found_book.author}.\")\n",
    "            found_book.is_borrowed = True\n",
    "        else:\n",
    "            print(f\"Sorry, '{name}' is not available in this library or is already borrowed.\")\n",
    "\n",
    "    def display(self):\n",
    "        print(\"\\nThese are the books in our library:\\n\")\n",
    "        for book in self.books:\n",
    "            availability = \"Available\" if not book.is_borrowed else \"Borrowed\"\n",
    "            print(f\"{book.name} by {book.author} ({availability})\")\n",
    "\n",
    "\n",
    "library_obj = Library()\n",
    "\n",
    "library_obj.add(\"End to End ML\", \"Charlie Brown\")\n",
    "library_obj.add(\"Deployment\", \"Lucy Johnson\")\n",
    "library_obj.borrow(\"ML Tools\")\n",
    "library_obj.display()\n"
   ]
  },
  {
   "cell_type": "markdown",
   "id": "f2fdc5fb",
   "metadata": {},
   "source": [
    "### Problem 5: Product Inventory Create classes representing a product and an inventory system. Implement methods to add products to the inventory, update product quantity, and display available products."
   ]
  },
  {
   "cell_type": "code",
   "execution_count": 111,
   "id": "fe90e9f2",
   "metadata": {},
   "outputs": [
    {
     "name": "stdout",
     "output_type": "stream",
     "text": [
      "\n",
      "This is updating quantity block.\n",
      "Quantity of 'SAMSUNG' updated to 25.\n",
      "\n",
      "These are the products:\n",
      "POCO - Quantity: 100 (Available)\n",
      "SAMSUNG - Quantity: 25 (Available)\n",
      "INFINIX - Quantity: 50 (Available)\n",
      "VIVO - Quantity: 10 (Available)\n",
      "IPHONE - Quantity: 30 (Available)\n"
     ]
    }
   ],
   "source": [
    "class Product:\n",
    "    def __init__(self, product_name, product_quantity, is_available=True):\n",
    "        self.product_name = product_name\n",
    "        self.product_quantity = product_quantity\n",
    "        self.is_available = is_available\n",
    "\n",
    "    def __str__(self):\n",
    "        return f\"{self.product_name} - Quantity: {self.product_quantity} ({'Available' if self.is_available else 'Not Available'})\"\n",
    "\n",
    "\n",
    "class Inventory:\n",
    "    def __init__(self):\n",
    "        self.products = [\n",
    "            Product(\"POCO\", 100),\n",
    "            Product(\"SAMSUNG\", 20),\n",
    "            Product(\"INFINIX\", 50),\n",
    "            Product(\"VIVO\", 10)\n",
    "        ]\n",
    "\n",
    "    def add(self, name, quantity):\n",
    "        new_product = Product(name, quantity)\n",
    "        self.products.append(new_product)\n",
    "\n",
    "    def update(self, name, quantity):\n",
    "        print(\"\\nThis is updating quantity block.\")\n",
    "        found_product = next((product for product in self.products if product.product_name == name), None)\n",
    "        if found_product:\n",
    "            found_product.product_quantity = quantity\n",
    "            print(f\"Quantity of '{name}' updated to {quantity}.\")\n",
    "        else:\n",
    "            print(f\"Sorry, '{name}' is not in our stock.\")\n",
    "\n",
    "    def display(self):\n",
    "        print(\"\\nThese are the products:\")\n",
    "        for product in self.products:\n",
    "            print(product)\n",
    "\n",
    "\n",
    "\n",
    "inventory_obj = Inventory()\n",
    "\n",
    "inventory_obj.add(\"IPHONE\", 30)\n",
    "inventory_obj.update(\"SAMSUNG\", 25)\n",
    "inventory_obj.display()\n"
   ]
  },
  {
   "cell_type": "markdown",
   "id": "62a0a3f2",
   "metadata": {},
   "source": [
    "### Problem 6: Shape Calculation Create a class representing a shape with attributes like length, width, and height. Implement methods to calculate the area and perimeter of the shape."
   ]
  },
  {
   "cell_type": "code",
   "execution_count": 118,
   "id": "afbbc448",
   "metadata": {},
   "outputs": [
    {
     "name": "stdout",
     "output_type": "stream",
     "text": [
      "the area of rectangle is : 10\n",
      "Cube Area: 150\n",
      "Cube Perimeter: 60\n"
     ]
    }
   ],
   "source": [
    "class shape_calculation :\n",
    "    def __init__(self,length,width,height):\n",
    "        self.length = length\n",
    "        self.width = width\n",
    "        self.height = height\n",
    "        \n",
    "class Rectangle(shape_calculation):\n",
    "    def area(self):\n",
    "        return self.length * self.width\n",
    "    def perimeter(self):\n",
    "        return 2 * (self.length + self.width)\n",
    "    \n",
    "class Cube(shape_calculation):\n",
    "    def area(self):\n",
    "        return 6 * self.length**2\n",
    "\n",
    "    def perimeter(self):\n",
    "        return 12 * self.length\n",
    "    \n",
    "obj = Rectangle(length = 5,width = 2,height = 3)\n",
    "print(f\"the area of rectangle is : {obj.area()}\")\n",
    "obj1 = Cube(length = 5,width = 2,height = 3)\n",
    "cube_area = obj1.area()\n",
    "cube_perimeter = obj1.perimeter()\n",
    "\n",
    "print(f\"Cube Area: {cube_area}\")\n",
    "print(f\"Cube Perimeter: {cube_perimeter}\")\n"
   ]
  },
  {
   "cell_type": "markdown",
   "id": "4aadbecb",
   "metadata": {},
   "source": [
    "### Problem 7: Student Management Create a class representing a student with attributes like student ID, name, and grades. Implement methods to calculate the average grade and display student details."
   ]
  },
  {
   "cell_type": "code",
   "execution_count": 139,
   "id": "3fd06d27",
   "metadata": {},
   "outputs": [
    {
     "name": "stdout",
     "output_type": "stream",
     "text": [
      "The average grade of prasad is 90.0\n",
      "the student name is :prasad\n",
      "student id is : 4284\n",
      "grades are : [100, 90, 80, 95, 85]\n"
     ]
    }
   ],
   "source": [
    "\n",
    "class Student:\n",
    "    def __init__(self,student_id,name ,grades):\n",
    "        self.id = student_id\n",
    "        self.name = name\n",
    "        self.grades = grades\n",
    "\n",
    "    def average_grade(self):\n",
    "        print(f\"The average grade of {self.name} is {sum(self.grades)/len(self.grades)}\")\n",
    "\n",
    "    def display(self):\n",
    "        print(f\"the student name is :{self.name}\")\n",
    "        print(f\"student id is : {self.id}\")\n",
    "        print(f\"grades are : {self.grades}\")\n",
    "\n",
    "try:        \n",
    "    obj = Student(name = \"prasad\",student_id = 4284,grades=[100,90,80,95,85])\n",
    "\n",
    "    obj.average_grade()\n",
    "    obj.display()\n",
    "except Exception as e:\n",
    "        print(f\"ERROR occured please check this : {e}\")"
   ]
  },
  {
   "cell_type": "markdown",
   "id": "607668b4",
   "metadata": {},
   "source": [
    "### Problem 8: Email Management Create a class representing an email with attributes like sender, recipient, and subject. Implement methods to send an email and display email details."
   ]
  },
  {
   "cell_type": "code",
   "execution_count": 145,
   "id": "ad3a63b4",
   "metadata": {},
   "outputs": [
    {
     "name": "stdout",
     "output_type": "stream",
     "text": [
      "Details of prasad@gmail.com -->\n",
      "Sender: prasad@gmail.com\n",
      "Recipient: dinesh@gmail.com\n",
      "Subject: Welcome to this course!\n",
      "Message: All the best for your future\n",
      "\n",
      "Successfully sent to: dinesh@gmail.com\n",
      "Subject: Welcome to this course!\n",
      "Message: All the best for your future\n"
     ]
    }
   ],
   "source": [
    "class EmailManagement:\n",
    "    def __init__(self, sender, recipient, subject, message):\n",
    "        self.sender = sender\n",
    "        self.recipient = recipient\n",
    "        self.subject = subject\n",
    "        self.message = message\n",
    "\n",
    "    def display(self):\n",
    "        print(f\"Details of {self.sender} -->\")\n",
    "        print(f\"Sender: {self.sender}\")\n",
    "        print(f\"Recipient: {self.recipient}\")\n",
    "        print(f\"Subject: {self.subject}\")\n",
    "        print(f\"Message: {self.message}\")\n",
    "\n",
    "    def send(self):\n",
    "        print(f\"\\nSuccessfully sent to: {self.recipient}\")\n",
    "        print(f\"Subject: {self.subject}\")\n",
    "        print(f\"Message: {self.message}\")\n",
    "\n",
    "\n",
    "ob = EmailManagement(\"prasad@gmail.com\", \"dinesh@gmail.com\", \"Welcome to this course!\", \"All the best for your future\")\n",
    "ob.display()\n",
    "ob.send()\n"
   ]
  },
  {
   "cell_type": "markdown",
   "id": "daa6e2f2",
   "metadata": {},
   "source": [
    "### Problem 9: Social Media Profile Create a class representing a social media profile with attributes like username and posts. Implement methods to add posts, display posts, and search for posts by keyword.\n",
    "\n"
   ]
  },
  {
   "cell_type": "code",
   "execution_count": 151,
   "id": "e239903f",
   "metadata": {},
   "outputs": [
    {
     "name": "stdout",
     "output_type": "stream",
     "text": [
      "Post added successfully Mr.prasad\n",
      "this is your post -->\n",
      "..... No caption needed. .....\n",
      "Post added successfully Mr.prasad\n",
      "this is your post -->\n",
      "..... Do hard Work .....\n",
      "Post added successfully Mr.prasad\n",
      "this is your post -->\n",
      "..... Awwwwww..its very cool .....\n",
      "Post added successfully Mr.prasad\n",
      "this is your post -->\n",
      "..... sun likes sunday , moon likes monday .....\n",
      "1 : No caption needed.\n",
      "2 : Do hard Work\n",
      "3 : Awwwwww..its very cool\n",
      "4 : sun likes sunday , moon likes monday\n",
      "this is your post based on keyword : \n",
      "\n",
      " sun likes sunday , moon likes monday\n"
     ]
    }
   ],
   "source": [
    "class Social_media:\n",
    "    def __init__(self,username):\n",
    "        self.username=username\n",
    "        self.posts =[]\n",
    "        \n",
    "    def add(self,post):\n",
    "        self.posts.append(post)\n",
    "        print(f\"Post added successfully Mr.{self.username}\")\n",
    "        print(f\"this is your post -->\")\n",
    "        print(f\"..... {post} .....\")\n",
    "        \n",
    "    def display(self):\n",
    "        s=1\n",
    "        for i in self.posts :\n",
    "            \n",
    "            print(f\"{s} : {i}\")\n",
    "            s+=1\n",
    "        \n",
    "    def search(self,keyword):\n",
    "        for post in self.posts:\n",
    "            if keyword.lower() in post.lower() :\n",
    "                print(f\"this is your post based on keyword : \")\n",
    "                print(\"\\n\",post)\n",
    "                \n",
    "\n",
    "prasad = Social_media(\"prasad\")\n",
    "\n",
    "prasad.add(\"No caption needed.\")\n",
    "prasad.add(\"Do hard Work\")\n",
    "prasad.add(\"Awwwwww..its very cool\")\n",
    "prasad.add(\"sun likes sunday , moon likes monday\")\n",
    "\n",
    "prasad.display()\n",
    "\n",
    "prasad.search(\"moon\")\n",
    "        "
   ]
  },
  {
   "cell_type": "markdown",
   "id": "dcf96dcb",
   "metadata": {},
   "source": [
    "### Problem 10: ToDo List Create a class representing a ToDo list with attributes like tasks and due dates. Implement methods to add tasks, mark tasks as completed, and display pending tasks."
   ]
  },
  {
   "cell_type": "code",
   "execution_count": 164,
   "id": "5f7a9cb7",
   "metadata": {},
   "outputs": [
    {
     "name": "stdout",
     "output_type": "stream",
     "text": [
      "task added successfully.\n",
      "task added successfully.\n",
      "task added successfully.\n",
      "task added successfully.\n",
      "task added successfully.\n",
      "Task marked successfully!\n",
      "Task marked successfully!\n",
      "Task is not found here, please enter correct task\n",
      "\n",
      ".... These are the pending tasks ....\n",
      "eating\n",
      "doing assignment\n",
      "submitting assignment\n"
     ]
    }
   ],
   "source": [
    "class ToDo:\n",
    "    def __init__(self,username):\n",
    "        self.user = username\n",
    "        self.tasks = []\n",
    "        \n",
    "    def add_task(self,task_name,due_date,completed=False):\n",
    "        self.tasks.append({'task':task_name,'due_date':due_date,'completed':False})\n",
    "        print(\"task added successfully.\")\n",
    "        \n",
    "    def mark_tasks(self,task_name):\n",
    "        found = False\n",
    "        for task in self.tasks:\n",
    "            if task[\"task\"] == task_name:\n",
    "                task['completed']=True\n",
    "                found = True\n",
    "                print(\"Task marked successfully!\")\n",
    "                break\n",
    "        if not found:\n",
    "            print(\"Task is not found here, please enter correct task\")\n",
    "                \n",
    "    def pending_tasks(self):\n",
    "        print(\"\\n.... These are the pending tasks ....\")\n",
    "        for task in self.tasks:\n",
    "            if task['completed']==False:\n",
    "                print(task['task'])\n",
    "    \n",
    "    \n",
    "prasad = ToDo(\"prasad\")\n",
    "\n",
    "prasad.add_task(\"running\",26)\n",
    "prasad.add_task(\"eating\",26)\n",
    "prasad.add_task(\"reading\",26)\n",
    "prasad.add_task(\"doing assignment\",27)\n",
    "prasad.add_task(\"submitting assignment\",30)\n",
    "\n",
    "prasad.mark_tasks(\"reading\")\n",
    "prasad.mark_tasks(\"running\")\n",
    "prasad.mark_tasks(\"walking\")\n",
    "\n",
    "prasad.pending_tasks()\n",
    "            \n",
    "                    "
   ]
  },
  {
   "cell_type": "code",
   "execution_count": null,
   "id": "8540d108",
   "metadata": {},
   "outputs": [],
   "source": []
  }
 ],
 "metadata": {
  "kernelspec": {
   "display_name": "Python 3 (ipykernel)",
   "language": "python",
   "name": "python3"
  },
  "language_info": {
   "codemirror_mode": {
    "name": "ipython",
    "version": 3
   },
   "file_extension": ".py",
   "mimetype": "text/x-python",
   "name": "python",
   "nbconvert_exporter": "python",
   "pygments_lexer": "ipython3",
   "version": "3.11.4"
  }
 },
 "nbformat": 4,
 "nbformat_minor": 5
}
