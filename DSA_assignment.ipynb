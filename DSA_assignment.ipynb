{
 "cells": [
  {
   "cell_type": "markdown",
   "id": "9be23e84",
   "metadata": {},
   "source": [
    "### Problem 1: Reverse a singly linked list.\n",
    "\n",
    "### Input: 1 -> 2 -> 3 -> 4 -> 5\n",
    "\n",
    "### Output: 5 -> 4 -> 3 -> 2 -> 1"
   ]
  },
  {
   "cell_type": "code",
   "execution_count": 1,
   "id": "7652ab6e",
   "metadata": {},
   "outputs": [
    {
     "name": "stdout",
     "output_type": "stream",
     "text": [
      "before reversing of single linked list :\n",
      "1->2->3->4->5\n",
      "After reversing the linked list : \n",
      "5->4->3->2->1\n"
     ]
    }
   ],
   "source": [
    "### creating class to create linked list\n",
    "class Node:\n",
    "    \n",
    "    # constructer initially they set as none\n",
    "    def __init__(self,data=None,Next = None):\n",
    "        self.data = data\n",
    "        self.next = Next\n",
    "        \n",
    "    ## this is to insert data\n",
    "    def setData(self,data):\n",
    "        self.data = data\n",
    "      \n",
    "    ## this is to retrive the data\n",
    "    def getData(self):\n",
    "        return self.data\n",
    "    \n",
    "    ## this is to set the address\n",
    "    def setNext(self,Next):\n",
    "        self.next = Next\n",
    "      \n",
    "    ## this is to get the address of the data\n",
    "    def getNext(self):\n",
    "        return self.next\n",
    "    \n",
    "\n",
    "## creating nodes\n",
    "head = Node(1)\n",
    "node2 = Node(2)\n",
    "node3 = Node(3)\n",
    "node4 = Node(4)\n",
    "node5 = Node(5)\n",
    "\n",
    "## setting of addresses or references\n",
    "head.setNext(node2)\n",
    "node2.setNext(node3)\n",
    "node3.setNext(node4)\n",
    "node4.setNext(node5)\n",
    "\n",
    "## this function is for traversing a linked list using recursion\n",
    "def traverse(head):\n",
    "    \n",
    "    ## base condition\n",
    "    if not head:\n",
    "        return\n",
    "    \n",
    "    ## to avoid the \"->\" in last\n",
    "    elif head.getNext() == None:\n",
    "        print(head.getData())\n",
    "     \n",
    "    ## else case for printing each and every node\n",
    "    else:\n",
    "        print(head.getData(),end=\"->\")\n",
    "        return traverse(head.getNext())\n",
    "    \n",
    "print(f\"before reversing of single linked list :\")\n",
    "traverse(head)## calling the function\n",
    "\n",
    "## this function is for reversing of linked list\n",
    "def reverse_linked_list(head):\n",
    "    prev = None\n",
    "    current = head\n",
    "    while current:\n",
    "        next_node = current.getNext()\n",
    "        current.setNext(prev)\n",
    "        prev = current\n",
    "        current = next_node\n",
    "        \n",
    "    return prev\n",
    "\n",
    "print(\"After reversing the linked list : \")\n",
    "head = reverse_linked_list(head)\n",
    "\n",
    "traverse(head)"
   ]
  },
  {
   "cell_type": "markdown",
   "id": "9ee41afc",
   "metadata": {},
   "source": [
    "### Problem 2: Merge two sorted linked lists into one sorted linked list.\n",
    "### Input:  List 1 : 1 -> 3 -> 5  ,   List 2 :  2 -> 4 -> 6\n",
    "### Output: 1 -> 2 -> 3 -> 4 -> 5 -> 6"
   ]
  },
  {
   "cell_type": "code",
   "execution_count": 2,
   "id": "35009ece",
   "metadata": {},
   "outputs": [
    {
     "name": "stdout",
     "output_type": "stream",
     "text": [
      "List 1 :  1->3->5\n",
      "List 2 :  2->4->6\n",
      "After merging of both List1 and List2 :  1->3->5->2->4->6\n",
      "After sorting :  1->2->3->4->5->6\n"
     ]
    }
   ],
   "source": [
    "### creating class to create linked list\n",
    "class Node:\n",
    "    \n",
    "    # constructer initially they set as none\n",
    "    def __init__(self,data=None,Next = None):\n",
    "        self.data = data\n",
    "        self.next = Next\n",
    "        \n",
    "    ## this is to insert data\n",
    "    def setData(self,data):\n",
    "        self.data = data\n",
    "      \n",
    "    ## this is to retrive the data\n",
    "    def getData(self):\n",
    "        return self.data\n",
    "    \n",
    "    ## this is to set the address\n",
    "    def setNext(self,Next):\n",
    "        self.next = Next\n",
    "      \n",
    "    ## this is to get the address of the data\n",
    "    def getNext(self):\n",
    "        return self.next\n",
    "    \n",
    "\n",
    "## creating list1\n",
    "head1 = Node(1)\n",
    "node2 = Node(3)\n",
    "node3 = Node(5)\n",
    "\n",
    "## setting addresses for list1\n",
    "head1.setNext(node2)\n",
    "node2.setNext(node3)\n",
    "\n",
    "## creating list2\n",
    "head2 = Node(2)\n",
    "node2 = Node(4)\n",
    "node3 = Node(6)\n",
    "head2.setNext(node2)\n",
    "node2.setNext(node3)\n",
    "\n",
    "\n",
    "## this function is for traversing a linked list using recursion\n",
    "def traverse(head):\n",
    "    \n",
    "    ## base condition\n",
    "    if not head:\n",
    "        return\n",
    "    \n",
    "    ## to avoid the \"->\" in last\n",
    "    elif head.getNext() == None:\n",
    "        print(head.getData())\n",
    "     \n",
    "    ## else case for printing each and every node\n",
    "    else:\n",
    "        print(head.getData(),end=\"->\")\n",
    "        return traverse(head.getNext())\n",
    "print(f\"List 1 : \",end = \" \")    \n",
    "traverse(head1)\n",
    "print(f\"List 2 : \",end = \" \")\n",
    "traverse(head2)\n",
    "\n",
    "## merge two lists\n",
    "def merge(head1,head2):\n",
    "    curr = head1\n",
    "    while curr.getNext() != None:\n",
    "        curr = curr.getNext()\n",
    "    curr.setNext(head2)\n",
    "    return head1\n",
    "\n",
    "print(\"After merging of both List1 and List2 : \",end=\" \")\n",
    "merge(head1,head2)\n",
    "traverse(head1)\n",
    "\n",
    "## this function is used for swap both nodes in linked lists  \n",
    "def swap(p1,p2):\n",
    "    temp1 = p1.getData()\n",
    "    p1 = p1.setData(p2.getData())\n",
    "    p2 = p2.setData(temp1)\n",
    "\n",
    "# sorting function to sort the linked list\n",
    "def Sort(head):\n",
    "    swapped= True\n",
    "    while swapped:\n",
    "        swapped = False\n",
    "        current = head\n",
    "        while current.getNext():\n",
    "            \n",
    "            if current.getData() > current.getNext().getData():\n",
    "                swap(current,current.getNext()) ## calling swap function\n",
    "                swapped = True\n",
    "            else:\n",
    "                current = current.getNext()\n",
    "                \n",
    "    return head\n",
    "    \n",
    "head1 = Sort(head1)\n",
    "print(\"After sorting : \",end= \" \")\n",
    "traverse(head1)            \n",
    "                \n",
    "    \n"
   ]
  },
  {
   "cell_type": "markdown",
   "id": "64e239f6",
   "metadata": {},
   "source": [
    "### Problem 3: Remove the nth node from the end of a linked list.\n",
    "### Input: 1 -> 2 -> 3 -> 4 -> 5, n = 2\n",
    "### Output: 1 -> 2 -> 3 -> 5"
   ]
  },
  {
   "cell_type": "code",
   "execution_count": 58,
   "id": "910453a1",
   "metadata": {},
   "outputs": [
    {
     "name": "stdout",
     "output_type": "stream",
     "text": [
      "before removing position of single linked list :\n",
      "1->2->3->4->5\n",
      "After removing the nth position in linked list : \n",
      "1->2->3->5\n"
     ]
    }
   ],
   "source": [
    "### creating class to create linked list\n",
    "class Node:\n",
    "    \n",
    "    # constructer initially they set as none\n",
    "    def __init__(self,data=None,Next = None):\n",
    "        self.data = data\n",
    "        self.next = Next\n",
    "        \n",
    "    ## this is to insert data\n",
    "    def setData(self,data):\n",
    "        self.data = data\n",
    "      \n",
    "    ## this is to retrive the data\n",
    "    def getData(self):\n",
    "        return self.data\n",
    "    \n",
    "    ## this is to set the address\n",
    "    def setNext(self,Next):\n",
    "        self.next = Next\n",
    "      \n",
    "    ## this is to get the address of the data\n",
    "    def getNext(self):\n",
    "        return self.next\n",
    "    \n",
    "\n",
    "## creating nodes\n",
    "head = Node(1)\n",
    "node2 = Node(2)\n",
    "node3 = Node(3)\n",
    "node4 = Node(4)\n",
    "node5 = Node(5)\n",
    "\n",
    "## setting of addresses or references\n",
    "head.setNext(node2)\n",
    "node2.setNext(node3)\n",
    "node3.setNext(node4)\n",
    "node4.setNext(node5)\n",
    "\n",
    "## this function is for traversing a linked list using recursion\n",
    "def traverse(head):\n",
    "    \n",
    "    ## base condition\n",
    "    if not head:\n",
    "        return\n",
    "    \n",
    "    ## to avoid the \"->\" in last\n",
    "    elif head.getNext() == None:\n",
    "        print(head.getData())\n",
    "     \n",
    "    ## else case for printing each and every node\n",
    "    else:\n",
    "        print(head.getData(),end=\"->\")\n",
    "        return traverse(head.getNext())\n",
    "    \n",
    "print(f\"before removing position of single linked list :\")\n",
    "traverse(head)## calling the function\n",
    "\n",
    "## removing element at nth position from last \n",
    "def removeItemFromLast(head,n):\n",
    "    fast = head\n",
    "    slow = head\n",
    "    ## this loop tells that fast pointer moves n steps\n",
    "    for i in range(n):\n",
    "        fast = fast.getNext()\n",
    "    \n",
    "    ## this loop tells the slow and fast reaches until fast reaches null\n",
    "    while fast != None and fast.getNext() != None:\n",
    "        fast = fast.getNext()\n",
    "        slow = slow.getNext()\n",
    "        \n",
    "    ## removing node by arranging of reference\n",
    "    slow.setNext(slow.getNext().getNext())\n",
    "\n",
    "    # return the modified linked list\n",
    "    return head\n",
    "\n",
    "    \n",
    "print(\"After removing the nth position in linked list : \")\n",
    "\n",
    "head = removeItemFromLast(head,2)\n",
    "traverse(head)"
   ]
  },
  {
   "cell_type": "markdown",
   "id": "3f80e900",
   "metadata": {},
   "source": [
    "### Problem 4: Find the intersection point of two linked lists.\n",
    "### Input: List 1: 1 -> 2 -> 3 -> 4, List 2: 9 -> 8 -> 3 -> 4\n",
    "### Output: Node with value 3"
   ]
  },
  {
   "cell_type": "code",
   "execution_count": 78,
   "id": "b1896c1a",
   "metadata": {},
   "outputs": [
    {
     "name": "stdout",
     "output_type": "stream",
     "text": [
      "List1 : 1->2->3->4\n",
      "List2 : 9->8->3->4\n",
      "OutPut : Node with value 3\n"
     ]
    }
   ],
   "source": [
    "### creating class to create linked list\n",
    "class Node:\n",
    "    \n",
    "    # constructer initially they set as none\n",
    "    def __init__(self,data=None,Next = None):\n",
    "        self.data = data\n",
    "        self.next = Next\n",
    "        \n",
    "    ## this is to insert data\n",
    "    def setData(self,data):\n",
    "        self.data = data\n",
    "      \n",
    "    ## this is to retrive the data\n",
    "    def getData(self):\n",
    "        return self.data\n",
    "    \n",
    "    ## this is to set the address\n",
    "    def setNext(self,Next):\n",
    "        self.next = Next\n",
    "      \n",
    "    ## this is to get the address of the data\n",
    "    def getNext(self):\n",
    "        return self.next\n",
    "    \n",
    "\n",
    "## creating nodes of list1\n",
    "head1 = Node(1)\n",
    "node2 = Node(2)\n",
    "node3 = Node(3)\n",
    "node4 = Node(4)\n",
    "\n",
    "### creating references of list1\n",
    "head1.setNext(node2)\n",
    "node2.setNext(node3)\n",
    "node3.setNext(node4)\n",
    "\n",
    "## creating nodes of list2\n",
    "head2 = Node(9)\n",
    "node2 = Node(8)\n",
    "node3 = Node(3)\n",
    "node4 = Node(4)\n",
    "\n",
    "### creating references of list1\n",
    "head2.setNext(node2)\n",
    "node2.setNext(node3)\n",
    "node3.setNext(node4)\n",
    "\n",
    "\n",
    "## traversing function\n",
    "def traverse(head):\n",
    "    temp = head\n",
    "    while temp:\n",
    "        ## to avoid the '->' in last node\n",
    "        if temp.getNext() == None:\n",
    "            print(temp.getData())\n",
    "            \n",
    "        else:\n",
    "            print(temp.getData(),end=\"->\")\n",
    "        \n",
    "        # getting next node\n",
    "        temp = temp.getNext()\n",
    "\n",
    "## first list\n",
    "print(\"List1 :\" ,end=\" \")\n",
    "traverse(head1)\n",
    "\n",
    "## second list\n",
    "print(\"List2 :\" ,end=\" \")\n",
    "traverse(head2)\n",
    "\n",
    "## checking intersection node\n",
    "def check_intersection_node(head1,head2):\n",
    "    temp1 = head1\n",
    "    temp2 = head2\n",
    "    \n",
    "    while temp1 and temp2 :\n",
    "        if temp1.getData() == temp2.getData():\n",
    "            return f\"Node with value {temp1.getData()}\"\n",
    "        temp1 = temp1.getNext()\n",
    "        temp2 = temp2.getNext()\n",
    "\n",
    "\n",
    "    return f\"There is no nodes are intersection\"\n",
    "    \n",
    "print(f\"OutPut : {check_intersection_node(head1,head2)}\")"
   ]
  },
  {
   "cell_type": "markdown",
   "id": "8cc36b80",
   "metadata": {},
   "source": [
    "### Problem 5: Remove duplicates from a sorted linked list.\n",
    "### Input: 1 -> 1 -> 2 -> 3 -> 3\n",
    "### Output: 1 -> 2 -> 3"
   ]
  },
  {
   "cell_type": "code",
   "execution_count": 87,
   "id": "e74bfed0",
   "metadata": {},
   "outputs": [
    {
     "name": "stdout",
     "output_type": "stream",
     "text": [
      "Before removing duplicates :  1->1->2->3->3\n",
      "After removing the duplicates :  1->2->3\n"
     ]
    }
   ],
   "source": [
    "### creating class to create linked list\n",
    "class Node:\n",
    "    \n",
    "    # constructer initially they set as none\n",
    "    def __init__(self,data=None,Next = None):\n",
    "        self.data = data\n",
    "        self.next = Next\n",
    "        \n",
    "    ## this is to insert data\n",
    "    def setData(self,data):\n",
    "        self.data = data\n",
    "      \n",
    "    ## this is to retrive the data\n",
    "    def getData(self):\n",
    "        return self.data\n",
    "    \n",
    "    ## this is to set the address\n",
    "    def setNext(self,Next):\n",
    "        self.next = Next\n",
    "      \n",
    "    ## this is to get the address of the data\n",
    "    def getNext(self):\n",
    "        return self.next\n",
    "    \n",
    "\n",
    "## creating nodes\n",
    "head = Node(1)\n",
    "node2 = Node(1)\n",
    "node3 = Node(2)\n",
    "node4 = Node(3)\n",
    "node5 = Node(3)\n",
    "\n",
    "## setting of addresses or references\n",
    "head.setNext(node2)\n",
    "node2.setNext(node3)\n",
    "node3.setNext(node4)\n",
    "node4.setNext(node5)\n",
    "\n",
    "## traversing function\n",
    "def traverse(head):\n",
    "    temp = head\n",
    "    while temp:\n",
    "        ## to avoid the '->' in last node\n",
    "        if temp.getNext() == None:\n",
    "            print(temp.getData())\n",
    "            \n",
    "        else:\n",
    "            print(temp.getData(),end=\"->\")\n",
    "        \n",
    "        # getting next node\n",
    "        temp = temp.getNext()\n",
    "\n",
    "### this function is for removing duplicates        \n",
    "def remove_duplicates(head):\n",
    "    \n",
    "    current = head   ## assigning head to current\n",
    "    \n",
    "    while current:  ## iterate each node in the linked list\n",
    "        temp = current   ## assigning  temporary pointer to the current variable \n",
    "        while temp.getNext():\n",
    "            ## this condition checks if node is equal to the next node or not\n",
    "            if temp.getNext().getData() == current.getData():\n",
    "                temp.setNext(temp.getNext().getNext())   ## modifying reference\n",
    "            \n",
    "            ## if not then the else condition\n",
    "            else:\n",
    "                temp = temp.getNext()  ## if not equal then increment one to forward\n",
    "                \n",
    "        current = current.getNext()  ## after finishing of loop the current node also incremented to one\n",
    "\n",
    "    return head   ## returning head\n",
    "\n",
    "print(\"Before removing duplicates : \",end= \" \")\n",
    "traverse(head)\n",
    "\n",
    "head = remove_duplicates(head)\n",
    "print(\"After removing the duplicates : \",end = \" \")\n",
    "traverse(head)\n",
    "            \n",
    "        "
   ]
  },
  {
   "cell_type": "markdown",
   "id": "22523eb3",
   "metadata": {},
   "source": [
    "### Problem 6: Add two numbers represented by linked lists (where each node contains a single digit).\n",
    "### Input: List 1: 2 -> 4 -> 3, List 2: 5 -> 6 -> 4 (represents 342 + 465)\n",
    "### Output: 7 -> 0 -> 8 (represents 807)"
   ]
  },
  {
   "cell_type": "code",
   "execution_count": 109,
   "id": "b4e5ca8d",
   "metadata": {},
   "outputs": [
    {
     "name": "stdout",
     "output_type": "stream",
     "text": [
      "List 1 :  2->4->3\n",
      "List 2 :  5->6->4\n",
      "After added :  7->0->8\n"
     ]
    }
   ],
   "source": [
    "### creating class to create linked list\n",
    "class Node:\n",
    "    \n",
    "    # constructer initially they set as none\n",
    "    def __init__(self,data=None,Next = None):\n",
    "        self.data = data\n",
    "        self.next = Next\n",
    "        \n",
    "    ## this is to insert data\n",
    "    def setData(self,data):\n",
    "        self.data = data\n",
    "      \n",
    "    ## this is to retrive the data\n",
    "    def getData(self):\n",
    "        return self.data\n",
    "    \n",
    "    ## this is to set the address\n",
    "    def setNext(self,Next):\n",
    "        self.next = Next\n",
    "      \n",
    "    ## this is to get the address of the data\n",
    "    def getNext(self):\n",
    "        return self.next\n",
    "    \n",
    "\n",
    "## creating list1\n",
    "head1 = Node(2)\n",
    "node2 = Node(4)\n",
    "node3 = Node(3)\n",
    "\n",
    "## setting addresses for list1\n",
    "head1.setNext(node2)\n",
    "node2.setNext(node3)\n",
    "\n",
    "## creating list2\n",
    "head2 = Node(5)\n",
    "node2 = Node(6)\n",
    "node3 = Node(4)\n",
    "head2.setNext(node2)\n",
    "node2.setNext(node3)\n",
    "\n",
    "\n",
    "## this function is for traversing a linked list using recursion\n",
    "def traverse(head):\n",
    "    \n",
    "    ## base condition\n",
    "    if not head:\n",
    "        return\n",
    "    \n",
    "    ## to avoid the \"->\" in last\n",
    "    elif head.getNext() == None:\n",
    "        print(head.getData())\n",
    "     \n",
    "    ## else case for printing each and every node\n",
    "    else:\n",
    "        print(head.getData(),end=\"->\")\n",
    "        return traverse(head.getNext())\n",
    "    \n",
    "    \n",
    "### function for adding both nodes of linked lists\n",
    "def add_lists(head1,head2):\n",
    "    result_head = Node()\n",
    "    current_head = result_head\n",
    "    carry = 0 ## it helps to take the carry of sum\n",
    "    \n",
    "    temp1 = head1\n",
    "    temp2 = head2\n",
    "    \n",
    "    while temp1 or temp2 or carry:\n",
    "        sum_val = carry\n",
    "        \n",
    "        if temp1:\n",
    "            sum_val += temp1.getData()\n",
    "            temp1 = temp1.getNext()\n",
    "            \n",
    "        if temp2:\n",
    "            sum_val += temp2.getData()\n",
    "            temp2 = temp2.getNext()\n",
    "            \n",
    "        carry = sum_val // 10  ## this will take carry and add to carry variable\n",
    "        \n",
    "        current_head.setNext(Node(sum_val % 10))\n",
    "        current_head = current_head.getNext()\n",
    "        \n",
    "    return result_head.getNext()\n",
    "        \n",
    "    \n",
    "print(f\"List 1 : \",end = \" \")    \n",
    "traverse(head1)\n",
    "print(f\"List 2 : \",end = \" \")\n",
    "traverse(head2)\n",
    "\n",
    "print(\"After added : \",end=\" \")\n",
    "head = add_lists(head1,head2)\n",
    "\n",
    "traverse(head)\n",
    "\n",
    "\n",
    "\n"
   ]
  },
  {
   "cell_type": "markdown",
   "id": "49940468",
   "metadata": {},
   "source": [
    "### Problem 7: Swap nodes in pairs in a linked list\n",
    "### Input: 1 -> 2 -> 3 -> 4\n",
    "### Output: 2 -> 1 -> 4 -> 3"
   ]
  },
  {
   "cell_type": "code",
   "execution_count": 14,
   "id": "640d8ef0",
   "metadata": {},
   "outputs": [
    {
     "name": "stdout",
     "output_type": "stream",
     "text": [
      "Before swapping :  1->2->3->4\n",
      "After swapping :  2->1->4->3\n"
     ]
    }
   ],
   "source": [
    "### creating class to create linked list\n",
    "class Node:\n",
    "    \n",
    "    # constructer initially they set as none\n",
    "    def __init__(self,data=None,Next = None):\n",
    "        self.data = data\n",
    "        self.next = Next\n",
    "        \n",
    "    ## this is to insert data\n",
    "    def setData(self,data):\n",
    "        self.data = data\n",
    "      \n",
    "    ## this is to retrive the data\n",
    "    def getData(self):\n",
    "        return self.data\n",
    "    \n",
    "    ## this is to set the address\n",
    "    def setNext(self,Next):\n",
    "        self.next = Next\n",
    "      \n",
    "    ## this is to get the address of the data\n",
    "    def getNext(self):\n",
    "        return self.next\n",
    "    \n",
    "\n",
    "## creating list1\n",
    "head = Node(1)\n",
    "node2 = Node(2)\n",
    "node3 = Node(3)\n",
    "node4 = Node(4)\n",
    "\n",
    "\n",
    "## setting addresses for list1\n",
    "head.setNext(node2)\n",
    "node2.setNext(node3)\n",
    "node3.setNext(node4)\n",
    "\n",
    "## this function is for traversing a linked list using recursion\n",
    "def traverse(head):\n",
    "    \n",
    "    ## base condition\n",
    "    if not head:\n",
    "        return\n",
    "    \n",
    "    ## to avoid the \"->\" in last\n",
    "    elif head.getNext() == None:\n",
    "        print(head.getData())\n",
    "     \n",
    "    ## else case for printing each and every node\n",
    "    else:\n",
    "        print(head.getData(),end=\"->\")\n",
    "        return traverse(head.getNext())\n",
    "    \n",
    "## for swapping pairs in linked list\n",
    "# def swap(head):\n",
    "#     dummy = Node()## empty node\n",
    "#     dummy.setNext(head)  ## assigning the first node to dummy\n",
    "#     prev = dummy\n",
    "    \n",
    "#     while prev.getNext() and prev.getNext().getNext():\n",
    "#         first = prev.getNext()\n",
    "#         second = prev.getNext().getNext()\n",
    "        \n",
    "#         prev.setNext(second)\n",
    "#         first.setNext(second.getNext())\n",
    "#         second.setNext(first)\n",
    "        \n",
    "#         prev = first\n",
    "        \n",
    "#     return dummy.getNext()\n",
    "\n",
    "def swap(head):\n",
    "    head1 = Node()\n",
    "    head1.setNext(head)\n",
    "    \n",
    "    ## fast and slow\n",
    "    fast = head1.getNext()\n",
    "    slow = head1\n",
    "    \n",
    "    while fast and fast.getNext():\n",
    "        next_pair = fast.getNext().getNext()\n",
    "        \n",
    "        fast.getNext().setNext(slow.getNext())\n",
    "        slow.setNext(fast.getNext())\n",
    "        fast.setNext(next_pair)\n",
    "        \n",
    "        slow = fast\n",
    "        fast = next_pair\n",
    "        \n",
    "    return head1.getNext()\n",
    "print(\"Before swapping : \",end=\" \")\n",
    "traverse(head)\n",
    "print(\"After swapping : \",end = \" \")\n",
    "head = swap(head)\n",
    "traverse(head)\n",
    "# 1 -> 2 -> 3 -> 4\n",
    "# 2 -> 1 -> 4 -> 3"
   ]
  },
  {
   "cell_type": "markdown",
   "id": "5d04aad4",
   "metadata": {},
   "source": [
    "### Problem 8: Reverse nodes in a linked list in groups of k.\n",
    "### Input: 1 -> 2 -> 3 -> 4 -> 5, k = 3\n",
    "### Output: 3 -> 2 -> 1 -> 4 -> 5"
   ]
  },
  {
   "cell_type": "code",
   "execution_count": 12,
   "id": "2aa65068",
   "metadata": {},
   "outputs": [
    {
     "name": "stdout",
     "output_type": "stream",
     "text": [
      "Before reversing :  1->2->3->4->5\n",
      "After reversing :  3->2->1->4->5\n"
     ]
    }
   ],
   "source": [
    "class Node:  \n",
    "    # constructer initially they set as none\n",
    "    def __init__(self,data=None,Next = None):\n",
    "        self.data = data\n",
    "        self.next = Next\n",
    "        \n",
    "    ## this is to insert data\n",
    "    def setData(self,data):\n",
    "        self.data = data\n",
    "      \n",
    "    ## this is to retrive the data\n",
    "    def getData(self):\n",
    "        return self.data\n",
    "    \n",
    "    ## this is to set the address\n",
    "    def setNext(self,Next):\n",
    "        self.next = Next\n",
    "      \n",
    "    ## this is to get the address of the data\n",
    "    def getNext(self):\n",
    "        return self.next\n",
    "    \n",
    "\n",
    "## creating list1\n",
    "head = Node(1)\n",
    "node2 = Node(2)\n",
    "node3 = Node(3)\n",
    "node4 = Node(4)\n",
    "node5 = Node(5)\n",
    "\n",
    "\n",
    "## setting addresses for list1\n",
    "head.setNext(node2)\n",
    "node2.setNext(node3)\n",
    "node3.setNext(node4)\n",
    "node4.setNext(node5)\n",
    "\n",
    "## this function is for traversing a linked list using recursion\n",
    "def traverse(head):\n",
    "    \n",
    "    ## base condition\n",
    "    if not head:\n",
    "        return\n",
    "    \n",
    "    ## to avoid the \"->\" in last\n",
    "    elif head.getNext() == None:\n",
    "        print(head.getData())\n",
    "     \n",
    "    ## else case for printing each and every node\n",
    "    else:\n",
    "        print(head.getData(),end=\"->\")\n",
    "        return traverse(head.getNext())\n",
    "\n",
    "## reversing \n",
    "def reverse(head, k):\n",
    "    prev = None\n",
    "    current = head\n",
    "    next_node = None\n",
    "    count = 0\n",
    "    \n",
    "    # Reverse k nodes\n",
    "    while current and count < k:\n",
    "        next_node = current.getNext()  # Save the next node\n",
    "        current.setNext(prev)  # Reverse the pointer\n",
    "        prev = current  # Move pointers one position ahead\n",
    "        current = next_node\n",
    "        count += 1\n",
    "    \n",
    "    ### to merge both reversed list and remaining non reversed linked list\n",
    "    head.setNext(next_node)\n",
    "    \n",
    "    return prev \n",
    "        \n",
    "\n",
    "print(\"Before reversing : \",end=\" \")\n",
    "traverse(head)\n",
    "print(\"After reversing : \",end = \" \")\n",
    "head = reverse(head,3)\n",
    "traverse(head)"
   ]
  },
  {
   "cell_type": "markdown",
   "id": "717a1542",
   "metadata": {},
   "source": [
    "### Problem 9: Determine if a linked list is a palindrome\n",
    "### Input: 1 -> 2 -> 2 -> 1\n",
    "### Output: True"
   ]
  },
  {
   "cell_type": "code",
   "execution_count": 65,
   "id": "3cc67380",
   "metadata": {},
   "outputs": [
    {
     "name": "stdout",
     "output_type": "stream",
     "text": [
      "Input :  1->2->2->1\n",
      "Output : True\n"
     ]
    }
   ],
   "source": [
    "class Node:  \n",
    "    # constructer initially they set as none\n",
    "    def __init__(self,data=None,Next = None):\n",
    "        self.data = data\n",
    "        self.next = Next\n",
    "        \n",
    "    ## this is to insert data\n",
    "    def setData(self,data):\n",
    "        self.data = data\n",
    "      \n",
    "    ## this is to retrive the data\n",
    "    def getData(self):\n",
    "        return self.data\n",
    "    \n",
    "    ## this is to set the address\n",
    "    def setNext(self,Next):\n",
    "        self.next = Next\n",
    "      \n",
    "    ## this is to get the address of the data\n",
    "    def getNext(self):\n",
    "        return self.next\n",
    "    \n",
    "\n",
    "## creating list1\n",
    "head = Node(1)\n",
    "node2 = Node(2)\n",
    "node3 = Node(2)\n",
    "node4 = Node(1)\n",
    "\n",
    "\n",
    "## setting addresses for list1\n",
    "head.setNext(node2)\n",
    "node2.setNext(node3)\n",
    "node3.setNext(node4)\n",
    "\n",
    "## this function is for traversing a linked list using recursion\n",
    "def traverse(head):\n",
    "    \n",
    "    ## base condition\n",
    "    if not head:\n",
    "        return\n",
    "    \n",
    "    ## to avoid the \"->\" in last\n",
    "    elif head.getNext() == None:\n",
    "        print(head.getData())\n",
    "     \n",
    "    ## else case for printing each and every node\n",
    "    else:\n",
    "        print(head.getData(),end=\"->\")\n",
    "        return traverse(head.getNext())\n",
    "    \n",
    "def reverse(head):\n",
    "    prev = None\n",
    "    current = head\n",
    "    while current:\n",
    "        next_node = current.getNext()\n",
    "        current.setNext(prev)\n",
    "        prev = current\n",
    "        current = next_node\n",
    "        \n",
    "    return prev\n",
    "    \n",
    "def check_palindrome(head):\n",
    "    head1 = reverse(head)\n",
    "    head2 = head\n",
    "    \n",
    "    temp1 = head1.getNext()\n",
    "    temp2 = head2.getNext()\n",
    "    while head1.getNext() and head2.getNext():\n",
    "        \n",
    "        if temp1.getData() == temp2.getData():\n",
    "            temp1 = temp1.getNext()\n",
    "            temp2 = temp2.getNext()\n",
    "       \n",
    "        else:\n",
    "            return False\n",
    "        \n",
    "    return f\"Output : {True}\"\n",
    "    \n",
    "\n",
    "print(\"Input : \",end=\" \")\n",
    "traverse(head)\n",
    "print(check_palindrome(head))"
   ]
  },
  {
   "cell_type": "markdown",
   "id": "6c265e07",
   "metadata": {},
   "source": [
    "### Problem 10: Rotate a linked list to the right by k places.\n",
    "### Input: 1 -> 2 -> 3 -> 4 -> 5, k = 2\n",
    "\n",
    "### Output: 4 -> 5 -> 1 -> 2 -> 3"
   ]
  },
  {
   "cell_type": "code",
   "execution_count": 13,
   "id": "0b2cfa8e",
   "metadata": {},
   "outputs": [
    {
     "name": "stdout",
     "output_type": "stream",
     "text": [
      "Before reversing :  1->2->3->4->5\n",
      "After reversing :  4->5->1->2->3\n"
     ]
    }
   ],
   "source": [
    "class Node:  \n",
    "    # constructer initially they set as none\n",
    "    def __init__(self,data=None,Next = None):\n",
    "        self.data = data\n",
    "        self.next = Next\n",
    "        \n",
    "    ## this is to insert data\n",
    "    def setData(self,data):\n",
    "        self.data = data\n",
    "      \n",
    "    ## this is to retrive the data\n",
    "    def getData(self):\n",
    "        return self.data\n",
    "    \n",
    "    ## this is to set the address\n",
    "    def setNext(self,Next):\n",
    "        self.next = Next\n",
    "      \n",
    "    ## this is to get the address of the data\n",
    "    def getNext(self):\n",
    "        return self.next\n",
    "    \n",
    "\n",
    "## creating list1\n",
    "head = Node(1)\n",
    "node2 = Node(2)\n",
    "node3 = Node(3)\n",
    "node4 = Node(4)\n",
    "node5 = Node(5)\n",
    "\n",
    "\n",
    "## setting addresses for list1\n",
    "head.setNext(node2)\n",
    "node2.setNext(node3)\n",
    "node3.setNext(node4)\n",
    "node4.setNext(node5)\n",
    "\n",
    "## this function is for traversing a linked list using recursion\n",
    "def traverse(head):\n",
    "    \n",
    "    ## base condition\n",
    "    if not head:\n",
    "        return\n",
    "    \n",
    "    ## to avoid the \"->\" in last\n",
    "    elif head.getNext() == None:\n",
    "        print(head.getData())\n",
    "     \n",
    "    ## else case for printing each and every node\n",
    "    else:\n",
    "        print(head.getData(),end=\"->\")\n",
    "        return traverse(head.getNext())\n",
    "\n",
    "## reversing \n",
    "def reverse(head, k):\n",
    "    if not head or not head.getNext():\n",
    "        return head\n",
    "    \n",
    "    current = head\n",
    "    N = 1\n",
    "    while current.getNext():\n",
    "        N+=1\n",
    "        current = current.getNext() \n",
    "        \n",
    "    current.setNext(head)\n",
    "    \n",
    "    M = N - k%N # list index of new head\n",
    "    \n",
    "    \n",
    "    i =0\n",
    "    \n",
    "    current = head\n",
    "    \n",
    "    while i<M:\n",
    "        prev = current\n",
    "        current = current.getNext()\n",
    "        i+=1\n",
    "    prev.setNext(None)\n",
    "    head = current\n",
    "    return head\n",
    "\n",
    "print(\"Before reversing : \",end=\" \")\n",
    "traverse(head)\n",
    "print(\"After reversing : \",end = \" \")\n",
    "head = reverse(head,2)\n",
    "traverse(head)\n"
   ]
  },
  {
   "cell_type": "markdown",
   "id": "e392eaf7",
   "metadata": {},
   "source": [
    "### Problem 11: Flatten a multilevel doubly linked list.\n",
    "### Input: 1 <-> 2 <-> 3 <-> 7 <-> 8 <-> 11 -> 12, 4 <-> 5 -> 9 -> 10, 6 -> 13\n",
    "### Output: 1 <-> 2 <-> 3 <-> 4 <-> 5 <-> 6 <-> 7 <-> 8 <-> 9 <-> 10 <-> 11 <-> 12 <-> 13"
   ]
  },
  {
   "cell_type": "code",
   "execution_count": 5,
   "id": "1a01603c",
   "metadata": {},
   "outputs": [
    {
     "name": "stdout",
     "output_type": "stream",
     "text": [
      "Flattened List:\n",
      "1 <-> 2 <-> 3 <-> 4 <-> 7 <-> 8 <-> 11 <-> 12 <-> None\n"
     ]
    }
   ],
   "source": [
    "class Node:\n",
    "    def __init__(self, data=None, prev=None, next=None, child=None):\n",
    "        self.data = data\n",
    "        self.prev = prev\n",
    "        self.next = next\n",
    "        self.child = child\n",
    "\n",
    "def flatten(head):\n",
    "    current = head\n",
    "    while current:\n",
    "        if current.child:\n",
    "            # Save the next node\n",
    "            next_node = current.next\n",
    "            \n",
    "            # Flatten the child list\n",
    "            child_tail = flatten(current.child)\n",
    "            \n",
    "            # Connect current node to the child list\n",
    "            current.next = current.child\n",
    "            current.child.prev = current\n",
    "            current.child = None\n",
    "            \n",
    "            # Connect the tail of the child list to the next node\n",
    "            if next_node:\n",
    "                child_tail.next = next_node\n",
    "                next_node.prev = child_tail\n",
    "            \n",
    "            # Move current to the next node after connecting child list\n",
    "            current = next_node\n",
    "        else:\n",
    "            current = current.next\n",
    "    return head\n",
    "\n",
    "def print_list(head):\n",
    "    current = head\n",
    "    while current:\n",
    "        print(current.data, end=\" <-> \")\n",
    "        current = current.next\n",
    "    print(\"None\")\n",
    "\n",
    "# Creating the multilevel doubly linked list\n",
    "head = Node(1)\n",
    "node2 = Node(2)\n",
    "node3 = Node(3)\n",
    "node4 = Node(4)\n",
    "node5 = Node(5)\n",
    "node6 = Node(6)\n",
    "node7 = Node(7)\n",
    "node8 = Node(8)\n",
    "node9 = Node(9)\n",
    "node10 = Node(10)\n",
    "node11 = Node(11)\n",
    "node12 = Node(12)\n",
    "node13 = Node(13)\n",
    "\n",
    "head.next = node2\n",
    "node2.prev = head\n",
    "node2.next = node3\n",
    "node3.prev = node2\n",
    "node3.next = node7\n",
    "node7.prev = node3\n",
    "node7.next = node8\n",
    "node8.prev = node7\n",
    "node8.next = node11\n",
    "node11.prev = node8\n",
    "node11.next = node12\n",
    "node12.prev = node11\n",
    "\n",
    "node3.child = node4\n",
    "node4.next = node5\n",
    "node5.prev = node4\n",
    "node5.next = node9\n",
    "node9.prev = node5\n",
    "node9.next = node10\n",
    "node10.prev = node9\n",
    "\n",
    "node5.child = node6\n",
    "node6.next = node13\n",
    "node13.prev = node6\n",
    "\n",
    "# Flatten the list\n",
    "head = flatten(head)\n",
    "\n",
    "# Print the flattened list\n",
    "print(\"Flattened List:\")\n",
    "print_list(head)\n"
   ]
  },
  {
   "cell_type": "markdown",
   "id": "ee0750af",
   "metadata": {},
   "source": [
    "### Problem 12: Rearrange a linked list such that all even positioned nodes are placed at the end.\n",
    "### Input: 1 -> 2 -> 3 -> 4 -> 5\n",
    "### Output: 1 -> 3 -> 5 -> 2 -> 4"
   ]
  },
  {
   "cell_type": "code",
   "execution_count": 4,
   "id": "fa541178",
   "metadata": {},
   "outputs": [
    {
     "name": "stdout",
     "output_type": "stream",
     "text": [
      "Before rearranging :  1->2->3->4->5\n",
      "After rearranging :  1->3->5->2->4\n"
     ]
    }
   ],
   "source": [
    "class Node:  \n",
    "    # constructer initially they set as none\n",
    "    def __init__(self,data=None,Next = None):\n",
    "        self.data = data\n",
    "        self.next = Next\n",
    "        \n",
    "    ## this is to insert data\n",
    "    def setData(self,data):\n",
    "        self.data = data\n",
    "      \n",
    "    ## this is to retrive the data\n",
    "    def getData(self):\n",
    "        return self.data\n",
    "    \n",
    "    ## this is to set the address\n",
    "    def setNext(self,Next):\n",
    "        self.next = Next\n",
    "      \n",
    "    ## this is to get the address of the data\n",
    "    def getNext(self):\n",
    "        return self.next\n",
    "    \n",
    "\n",
    "## creating list1\n",
    "head = Node(1)\n",
    "node2 = Node(2)\n",
    "node3 = Node(3)\n",
    "node4 = Node(4)\n",
    "node5 = Node(5)\n",
    "\n",
    "\n",
    "## setting addresses for list1\n",
    "head.setNext(node2)\n",
    "node2.setNext(node3)\n",
    "node3.setNext(node4)\n",
    "node4.setNext(node5)\n",
    "\n",
    "## this function is for traversing a linked list using recursion\n",
    "def traverse(head):\n",
    "    \n",
    "    ## base condition\n",
    "    if not head:\n",
    "        return\n",
    "    \n",
    "    ## to avoid the \"->\" in last\n",
    "    elif head.getNext() == None:\n",
    "        print(head.getData())\n",
    "     \n",
    "    ## else case for printing each and every node\n",
    "    else:\n",
    "        print(head.getData(),end=\"->\")\n",
    "        return traverse(head.getNext())\n",
    "    \n",
    "## to rearrange the linked list of even positions at end of the linked list\n",
    "def rearrange(head):\n",
    "    current = head\n",
    "    tail = head\n",
    "    even_list_tail = None\n",
    "    even_list_head = None\n",
    "    even = 1\n",
    "    while current:\n",
    "        if even % 2 == 0:\n",
    "            if not even_list_head:\n",
    "                even_list_head = current\n",
    "                even_list_tail = current\n",
    "            else:\n",
    "                even_list_tail.setNext(current)\n",
    "                even_list_tail = current\n",
    "            tail.setNext(current.getNext())  # Removing even positioned node\n",
    "        else:\n",
    "            tail = current\n",
    "        current = current.getNext()\n",
    "        even += 1\n",
    "    if even_list_tail:\n",
    "        even_list_tail.setNext(None)  # Set the next of last even positioned node to None\n",
    "        tail.setNext(even_list_head)   # Attach the even positioned nodes at the end\n",
    "    return head\n",
    "\n",
    "print(\"Before rearranging : \",end=\" \")\n",
    "traverse(head)\n",
    "print(\"After rearranging : \",end = \" \")\n",
    "head = rearrange(head)\n",
    "traverse(head)"
   ]
  },
  {
   "cell_type": "markdown",
   "id": "f70dbbee",
   "metadata": {},
   "source": [
    "### Problem 13: Given a non-negative number represented as a linked list, add one to it.\n",
    "### Input: 1 -> 2 -> 3 (represents the number 123)\n",
    "### Output: 1 -> 2 -> 4 (represents the number 124)"
   ]
  },
  {
   "cell_type": "code",
   "execution_count": 88,
   "id": "a2159a2a",
   "metadata": {},
   "outputs": [
    {
     "name": "stdout",
     "output_type": "stream",
     "text": [
      "Input :  1->2->3\n",
      "Output :  1->2->4\n"
     ]
    }
   ],
   "source": [
    "class Node:\n",
    "    def __init__(self,data = None,next = None):\n",
    "        self.data = data\n",
    "        self.next = next\n",
    "        \n",
    "def traverse(head):\n",
    "    temp = head\n",
    "    while temp:\n",
    "        if temp.next is None:\n",
    "            print(temp.data)\n",
    "        else:\n",
    "            print(temp.data,end = \"->\")\n",
    "        temp = temp.next\n",
    "        \n",
    "def reverse(head):\n",
    "    current = head\n",
    "    prev = None\n",
    "    while current:\n",
    "        next_node = current.next\n",
    "        current.next = prev\n",
    "        prev = current\n",
    "        current = next_node\n",
    "    return prev\n",
    "        \n",
    "def adding_one(head):\n",
    "    \n",
    "    #reversing of head\n",
    "    head = reverse(head)\n",
    "    \n",
    "    # Start from the head of the list\n",
    "    \n",
    "    current = head\n",
    "    # Initialize carry to 1\n",
    "    carry = 1\n",
    "    prev = None\n",
    "    # Traverse the list\n",
    "    while current:\n",
    "        current.data += carry\n",
    "        \n",
    "        carry = current.data//10\n",
    "        \n",
    "        current.data = current.data % 10\n",
    "        \n",
    "        prev = current\n",
    "        current = current.next\n",
    "        \n",
    "    if prev : \n",
    "        prev.next = Node(carry)\n",
    "        \n",
    "    head = reverse(head)\n",
    "    \n",
    "    return head.next\n",
    "   \n",
    "\n",
    "        \n",
    "head = Node(1)\n",
    "head.next = Node(2)\n",
    "head.next.next = Node(3)\n",
    "\n",
    "print(\"Input : \",end=\" \")\n",
    "traverse(head)\n",
    "print(\"Output : \",end=\" \")\n",
    "head = adding_one(head)\n",
    "traverse(head)\n"
   ]
  },
  {
   "cell_type": "markdown",
   "id": "5d7c5ac3",
   "metadata": {},
   "source": [
    "### Problem 14: Given a sorted array and a target value, return the index if the target is found. If not, return the index where it would be inserted. \n",
    "### Input: nums = [1, 3, 5, 6], target = 5\n",
    "### Output: 2"
   ]
  },
  {
   "cell_type": "code",
   "execution_count": 22,
   "id": "1c9b5f91",
   "metadata": {},
   "outputs": [
    {
     "name": "stdout",
     "output_type": "stream",
     "text": [
      "Output : 2\n"
     ]
    }
   ],
   "source": [
    "def check_target(arr,target):\n",
    "    left = 0\n",
    "    right = len(arr)-1\n",
    "    \n",
    "    while left <= right:\n",
    "        mid = int(left + (right-left)/2)\n",
    "        \n",
    "        if arr[mid] == target :\n",
    "            return mid\n",
    "        elif arr[mid]<target :\n",
    "            left += mid\n",
    "        else:\n",
    "            right -= mid\n",
    "            \n",
    "    return left\n",
    "    \n",
    "## drive code\n",
    "arr = [1,3,5,6]\n",
    "target = 5\n",
    "res = check_target(arr,target)\n",
    "print(f\"Output : {res}\")"
   ]
  },
  {
   "cell_type": "markdown",
   "id": "abfb16d8",
   "metadata": {},
   "source": [
    "### Problem 15: Find the minimum element in a rotated sorted array.\n",
    "\n",
    "### Input: [4, 5, 6, 7, 0, 1, 2]\n",
    "\n",
    "### Output: 0"
   ]
  },
  {
   "cell_type": "code",
   "execution_count": 20,
   "id": "4b518eeb",
   "metadata": {},
   "outputs": [
    {
     "name": "stdout",
     "output_type": "stream",
     "text": [
      "Output:  0\n"
     ]
    }
   ],
   "source": [
    "def min_element(arr):\n",
    "    left = 0\n",
    "    right = len(arr)-1\n",
    "    \n",
    "    while left < right:\n",
    "        mid = (left+(right-left)//2)\n",
    "        \n",
    "        if arr[mid] > arr[right]:\n",
    "            left = mid+1\n",
    "        else:\n",
    "            right = mid\n",
    "            \n",
    "    return arr[left]\n",
    "            \n",
    "## drive code\n",
    "arr = [4,5,6,7,0,1,2,]\n",
    "res = min_element(arr)\n",
    "print(\"Output: \",res)"
   ]
  },
  {
   "cell_type": "markdown",
   "id": "9985ba73",
   "metadata": {},
   "source": [
    "### Problem 16: Search for a target value in a rotated sorted array.\n",
    "### Input: nums = [4, 5, 6, 7, 0, 1, 2], target = 0\n",
    "### Output: 4"
   ]
  },
  {
   "cell_type": "code",
   "execution_count": 46,
   "id": "d2d8cb6b",
   "metadata": {},
   "outputs": [
    {
     "name": "stdout",
     "output_type": "stream",
     "text": [
      "Output : 4\n"
     ]
    }
   ],
   "source": [
    "def check_target(arr,target):\n",
    "    left = 0\n",
    "    right = len(arr)-1\n",
    "    \n",
    "    while left <= right:\n",
    "        mid = int(left + (right-left)/2)\n",
    "        \n",
    "        if arr[mid] == target :\n",
    "            return mid\n",
    "        \n",
    "        elif arr[mid] > arr[right]:\n",
    "            if arr[left]<= target and arr[mid]>target:\n",
    "                right = mid-1\n",
    "            else:\n",
    "                left = mid+1\n",
    "                \n",
    "        else:\n",
    "            if arr[right]>=target and arr[mid]<target:\n",
    "                left = mid+1\n",
    "            else:\n",
    "                right = mid-1\n",
    "    return -1\n",
    "\n",
    "\n",
    "    \n",
    "## drive code\n",
    "arr = [4, 5, 6, 7, 0, 1, 2]\n",
    "target = 0\n",
    "res = check_target(arr,target)\n",
    "print(f\"Output : {res}\")"
   ]
  },
  {
   "cell_type": "markdown",
   "id": "6584a951",
   "metadata": {},
   "source": [
    "### Problem 17: Find the peak element in an array. A peak element is greater than its neighbors.\n",
    "### Input: nums = [1, 2, 3, 1]\n",
    "### Output: 2 (index of peak element)"
   ]
  },
  {
   "cell_type": "code",
   "execution_count": 5,
   "id": "d153a1c9",
   "metadata": {},
   "outputs": [
    {
     "name": "stdout",
     "output_type": "stream",
     "text": [
      "Output : 2\n"
     ]
    }
   ],
   "source": [
    "def peak_element(arr):\n",
    "    Max = arr[0]\n",
    "    ind = 0\n",
    "    for i in range(len(arr)):\n",
    "        if Max <= arr[i]:\n",
    "            Max = arr[i]\n",
    "            ind = i\n",
    "    return ind\n",
    "        \n",
    "## drive code\n",
    "arr = [1, 2, 3, 1]\n",
    "res = peak_element(arr)\n",
    "print(f\"Output : {res}\")"
   ]
  },
  {
   "cell_type": "markdown",
   "id": "1dd9187f",
   "metadata": {},
   "source": [
    "### Problem 18: Given a m x n matrix where each row and column is sorted in ascending order, count the number of negative numbers.\n",
    "### Input: grid = [[4, 3, 2, -1], [3, 2, 1, -1], [1, 1, -1, -2], [-1, -1, -2, -3]]\n",
    "### Output: 8"
   ]
  },
  {
   "cell_type": "code",
   "execution_count": 8,
   "id": "94e824a5",
   "metadata": {},
   "outputs": [
    {
     "name": "stdout",
     "output_type": "stream",
     "text": [
      "Output:  8\n"
     ]
    }
   ],
   "source": [
    "def count_negetive(arr):\n",
    "    count = 0\n",
    "    for row in arr:\n",
    "        for column in row:\n",
    "            if column < 0:\n",
    "                count+=1\n",
    "    return count\n",
    "\n",
    "## drive code\n",
    "arr = [[4, 3, 2, -1], [3, 2, 1, -1], [1, 1, -1, -2], [-1, -1, -2, -3]]\n",
    "res = count_negetive(arr)\n",
    "print(\"Output: \", res)"
   ]
  },
  {
   "cell_type": "markdown",
   "id": "30ac763b",
   "metadata": {},
   "source": [
    "### Problem 19: Given a 2D matrix sorted in ascending order in each row, and the first integer of each row is greater than the last integer of the previous row, determine if a target value is present in the matrix.\n",
    "### Input: matrix = [[1, 3, 5, 7], [10, 11, 16, 20], [23, 30, 34, 60]], target = 3\n",
    "### Output: True"
   ]
  },
  {
   "cell_type": "code",
   "execution_count": 12,
   "id": "848a2827",
   "metadata": {},
   "outputs": [
    {
     "name": "stdout",
     "output_type": "stream",
     "text": [
      "Output:  True\n"
     ]
    }
   ],
   "source": [
    "def target_value(arr,target):\n",
    "    for row in arr:\n",
    "        if target in row:\n",
    "            return True\n",
    "    return False\n",
    "\n",
    "## drive code\n",
    "arr = [[1, 3, 5, 7], [10, 11, 16, 20], [23, 30, 34, 60]]\n",
    "target = 3\n",
    "res = target_value(arr,target)\n",
    "print(\"Output: \", res)"
   ]
  },
  {
   "cell_type": "markdown",
   "id": "444bea14",
   "metadata": {},
   "source": [
    "### Problem 20: Find Median in Two Sorted Arrays\n",
    "### Problem: Given two sorted arrays, find the median of the combined sorted array.\n",
    "### Input: nums1 = [1, 3], nums2 = [2]\n",
    "### Output: 2.0"
   ]
  },
  {
   "cell_type": "code",
   "execution_count": 14,
   "id": "6ea5436d",
   "metadata": {},
   "outputs": [
    {
     "name": "stdout",
     "output_type": "stream",
     "text": [
      "Output:  2.0\n"
     ]
    }
   ],
   "source": [
    "## to merge and sort arrys\n",
    "def merge_and_sort(arr1,arr2):\n",
    "    arr = arr1+arr2\n",
    "    for i in range(len(arr)-1):\n",
    "        for j in range(i+1,len(arr)):\n",
    "            if arr[j]<arr[i]:\n",
    "                arr[i],arr[j] = arr[j],arr[i]\n",
    "    return arr\n",
    "\n",
    "## to find the arrays\n",
    "def median_two_arrays(arr1,arr2):\n",
    "    \n",
    "    arr = merge_and_sort(arr1,arr2)\n",
    "    length = len(arr)\n",
    "    if length % 2 == 0:\n",
    "        return (arr[(length // 2) - 1]+ arr[length // 2]) / 2\n",
    "    else:\n",
    "        return arr[length//2]\n",
    "    \n",
    "\n",
    "\n",
    "### drive code\n",
    "nums1 = [1,3]\n",
    "nums2 = [2]\n",
    "res = median_two_arrays(nums1,nums2)\n",
    "print(\"Output: \",float(res))"
   ]
  },
  {
   "cell_type": "markdown",
   "id": "ffd754c3",
   "metadata": {},
   "source": [
    "### Problem 21: Given a sorted character array and a target letter, find the smallest letter in the array that is greater than the target.\n",
    "### Input: letters = ['c', 'f', 'j'], target = a\n",
    "### Output: 'c'"
   ]
  },
  {
   "cell_type": "code",
   "execution_count": 41,
   "id": "a988a22a",
   "metadata": {},
   "outputs": [
    {
     "name": "stdout",
     "output_type": "stream",
     "text": [
      "Output:  c\n"
     ]
    }
   ],
   "source": [
    "### function for finding  smallest letter in the array that is greater than the target.\n",
    "def find_smallest(letters,target):\n",
    "    n = len(letters)\n",
    "    left = 0\n",
    "    right = n-1\n",
    "    while left<=right:\n",
    "        mid = left+(right-left)//2\n",
    "        if letters[mid]<=target:\n",
    "            left = mid+1\n",
    "        else:\n",
    "            right = mid-1\n",
    "        \n",
    "    return letters[left % n] if left < n else letters[0]\n",
    "            \n",
    "    \n",
    "    \n",
    "## drive code\n",
    "letters = [\"c\",\"f\",\"j\"]\n",
    "target = \"a\"\n",
    "res = find_smallest(letters,target)\n",
    "print(\"Output: \",res)\n"
   ]
  },
  {
   "cell_type": "markdown",
   "id": "aed7e1ac",
   "metadata": {},
   "source": [
    "### Problem 22: Given an array with n objects colored red, white, or blue, sort them in-place so that objects of the same color are adjacent, with the colors in the order red, white, and blue.\n",
    "### Input: nums = [2, 0, 2, 1, 1, 0]\n",
    "### Output: [0, 0, 1, 1, 2, 2]"
   ]
  },
  {
   "cell_type": "code",
   "execution_count": 42,
   "id": "76a37929",
   "metadata": {},
   "outputs": [
    {
     "name": "stdout",
     "output_type": "stream",
     "text": [
      "Output:  [0, 0, 1, 1, 2, 2]\n"
     ]
    }
   ],
   "source": [
    "def sort(arr):\n",
    "    for i in range(len(arr)-1):\n",
    "        for j in range(i+1,len(arr)):\n",
    "            if arr[j] < arr[i]:\n",
    "                arr[i],arr[j] = arr[j],arr[i]\n",
    "                \n",
    "    return arr\n",
    "\n",
    "## drive code\n",
    "arr = [2, 0, 2, 1, 1, 0]\n",
    "res = sort(arr)\n",
    "print(\"Output: \",res)"
   ]
  },
  {
   "cell_type": "markdown",
   "id": "4bda4633",
   "metadata": {},
   "source": [
    "### Problem 23: Find the kth largest element in an unsorted array.\n",
    "### Input: nums = [3, 2, 1, 5, 6, 4], k = 2\n",
    "### Output: 5"
   ]
  },
  {
   "cell_type": "code",
   "execution_count": 47,
   "id": "26d40d95",
   "metadata": {},
   "outputs": [
    {
     "name": "stdout",
     "output_type": "stream",
     "text": [
      "Output:  5\n"
     ]
    }
   ],
   "source": [
    "def sort(arr,k):\n",
    "    for i in range(len(arr)-1):\n",
    "        for j in range(i+1,len(arr)):\n",
    "            if arr[j] < arr[i]:\n",
    "                arr[i],arr[j] = arr[j],arr[i]\n",
    "                \n",
    "    return arr[-k]\n",
    "\n",
    "## drive code\n",
    "arr = [3, 2, 1, 5, 6, 4]\n",
    "k = 2\n",
    "res = sort(arr,k)\n",
    "print(\"Output: \",res)"
   ]
  },
  {
   "cell_type": "markdown",
   "id": "f9fe9430",
   "metadata": {},
   "source": [
    "### Problem 24: Given an unsorted array, reorder it in-place such that nums[0] <= nums[1] >= nums[2] <= nums[3]...\n",
    "### Input: nums = [3, 5, 2, 1, 6, 4]\n",
    "### Output: [3, 5, 1, 6, 2, 4]"
   ]
  },
  {
   "cell_type": "code",
   "execution_count": 62,
   "id": "0d98f72e",
   "metadata": {},
   "outputs": [
    {
     "name": "stdout",
     "output_type": "stream",
     "text": [
      "Output:  [3, 5, 1, 6, 2, 4]\n"
     ]
    }
   ],
   "source": [
    "def sort(arr):\n",
    "    \n",
    "    for i in range(len(arr)-1):\n",
    "        if i % 2 == 0 :\n",
    "            if arr[i] > arr[i+1]:  ## based on even and odd indexs\n",
    "                arr[i],arr[i+1] = arr[i+1],arr[i]\n",
    "        else:\n",
    "            if arr[i]< arr[i+1]:\n",
    "                arr[i],arr[i+1] = arr[i+1],arr[i]\n",
    "                \n",
    "    return arr\n",
    "## drive code\n",
    "arr = [3, 5, 2, 1, 6, 4]\n",
    "res = sort(arr)\n",
    "print(\"Output: \",res)"
   ]
  },
  {
   "cell_type": "markdown",
   "id": "bcf02c1d",
   "metadata": {},
   "source": [
    "### Problem 25: Given an array of integers, calculate the sum of all its elements.\n",
    "### Input: [1, 2, 3, 4, 5]\n",
    "### Output: 15"
   ]
  },
  {
   "cell_type": "code",
   "execution_count": 69,
   "id": "60a9d9be",
   "metadata": {},
   "outputs": [
    {
     "name": "stdout",
     "output_type": "stream",
     "text": [
      "Output:  15\n"
     ]
    }
   ],
   "source": [
    "def Sum(arr):\n",
    "    res = 0\n",
    "    for i in range(len(arr)):\n",
    "        res += arr[i]\n",
    "                \n",
    "    return res\n",
    "## drive code\n",
    "arr = [1, 2, 3, 4, 5]\n",
    "res = Sum(arr)\n",
    "print(\"Output: \",res)"
   ]
  },
  {
   "cell_type": "markdown",
   "id": "783ef16d",
   "metadata": {},
   "source": [
    "### Problem 26: Find the maximum element in an array of integers.\n",
    "### Input: [3, 7, 2, 9, 4, 1]\n",
    "### Output: 9"
   ]
  },
  {
   "cell_type": "code",
   "execution_count": 71,
   "id": "74cb64dd",
   "metadata": {},
   "outputs": [
    {
     "name": "stdout",
     "output_type": "stream",
     "text": [
      "Output:  9\n"
     ]
    }
   ],
   "source": [
    "def Max(arr):\n",
    "    maximum = 0\n",
    "    for i in range(len(arr)):\n",
    "        if arr[i]> maximum:\n",
    "            maximum = arr[i]\n",
    "                \n",
    "    return maximum\n",
    "## drive code\n",
    "arr = [3, 7, 2, 9, 4, 1]\n",
    "res = Max(arr)\n",
    "print(\"Output: \",res)"
   ]
  },
  {
   "cell_type": "markdown",
   "id": "2e1d5ada",
   "metadata": {},
   "source": [
    "### Problem 27: Implement linear search to find the index of a target element in an array.\n",
    "### Input: [5, 3, 8, 2, 7, 4], target = 8\n",
    "### Output: 2"
   ]
  },
  {
   "cell_type": "code",
   "execution_count": 75,
   "id": "a172dcea",
   "metadata": {},
   "outputs": [
    {
     "name": "stdout",
     "output_type": "stream",
     "text": [
      "Output:  2\n"
     ]
    }
   ],
   "source": [
    "def linear_search(arr,target):\n",
    "    for i in range(len(arr)-1):\n",
    "        if arr[i] == target:\n",
    "            return i\n",
    "    return -1\n",
    "        \n",
    "    \n",
    "arr = [5, 3, 8, 2, 7, 4]\n",
    "target = 8\n",
    "res = linear_search(arr,target)\n",
    "print(\"Output: \",res)"
   ]
  },
  {
   "cell_type": "markdown",
   "id": "eec789ce",
   "metadata": {},
   "source": [
    "### Problem 28 Calculate the factorial of a given number.\n",
    "### Input: 5\n",
    "### Output: 120 (as 5! = 5 * 4 * 3 * 2 * 1 = 120)"
   ]
  },
  {
   "cell_type": "code",
   "execution_count": 79,
   "id": "c483220a",
   "metadata": {},
   "outputs": [
    {
     "name": "stdout",
     "output_type": "stream",
     "text": [
      "Output:  120\n"
     ]
    }
   ],
   "source": [
    "## using recursion\n",
    "\n",
    "def fact(num):\n",
    "    if num <= 1:\n",
    "        return 1\n",
    "    else:\n",
    "        return num*fact(num-1)\n",
    "num = 5\n",
    "print(\"Output: \",fact(num))"
   ]
  },
  {
   "cell_type": "markdown",
   "id": "525b5333",
   "metadata": {},
   "source": [
    "### Problem 29: Check if a given number is a prime number.\n",
    "### Input: 7\n",
    "### Output: True"
   ]
  },
  {
   "cell_type": "code",
   "execution_count": 83,
   "id": "6800bc8f",
   "metadata": {},
   "outputs": [
    {
     "name": "stdout",
     "output_type": "stream",
     "text": [
      "Output:  True\n"
     ]
    }
   ],
   "source": [
    "def check_prime(num):\n",
    "    if num<=1:\n",
    "        return False\n",
    "    else:\n",
    "        for i in range(2,num):\n",
    "            if num%i ==0:\n",
    "                return False\n",
    "    return True\n",
    "\n",
    "num = 7\n",
    "print(\"Output: \",check_prime(num))"
   ]
  },
  {
   "cell_type": "markdown",
   "id": "92409f97",
   "metadata": {},
   "source": [
    "### Problem 30: Generate the Fibonacci series up to a given number n.\n",
    "### Input: 8\n",
    "### Output: [0, 1, 1, 2, 3, 5, 8, 13]"
   ]
  },
  {
   "cell_type": "code",
   "execution_count": 86,
   "id": "43c0e872",
   "metadata": {},
   "outputs": [
    {
     "name": "stdout",
     "output_type": "stream",
     "text": [
      "Output:  [0, 1, 1, 2, 3, 5, 8, 13]\n"
     ]
    }
   ],
   "source": [
    "def fib_series_UpTo_n(num):\n",
    "    lst = [0,1]\n",
    "    while len(lst)<=num-1:\n",
    "        lst.append(lst[-1]+lst[-2])\n",
    "        \n",
    "    return lst\n",
    "num = 8\n",
    "print(\"Output: \",fib_series_UpTo_n(num))"
   ]
  },
  {
   "cell_type": "markdown",
   "id": "e2b9d1c2",
   "metadata": {},
   "source": [
    "### Problem 31: Calculate the power of a number using recursion.\n",
    "### Input: base = 3, exponent = 4\n",
    "### Output: 81 (as 3^4 = 3 * 3 * 3 * 3 = 81)"
   ]
  },
  {
   "cell_type": "code",
   "execution_count": 90,
   "id": "1c205bfb",
   "metadata": {},
   "outputs": [
    {
     "name": "stdout",
     "output_type": "stream",
     "text": [
      "Output:  81\n"
     ]
    }
   ],
   "source": [
    "def power(base,exponent):\n",
    "    if exponent<=0:\n",
    "        return 1\n",
    "    else:\n",
    "        return base*power(base,exponent-1)\n",
    "    \n",
    "base = 3\n",
    "exponent = 4\n",
    "print(\"Output: \",power(base,exponent))"
   ]
  },
  {
   "cell_type": "markdown",
   "id": "64ffbc51",
   "metadata": {},
   "source": [
    "### Problem 32: Reverse a given string.\n",
    "### Input: \"hello\"\n",
    "### Output: \"olleh\""
   ]
  },
  {
   "cell_type": "code",
   "execution_count": 91,
   "id": "3af6b6b3",
   "metadata": {},
   "outputs": [
    {
     "name": "stdout",
     "output_type": "stream",
     "text": [
      "Output:  olleh\n"
     ]
    }
   ],
   "source": [
    "def reverse_string(string):\n",
    "    if not string:\n",
    "        return \"\"\n",
    "    else:\n",
    "        return reverse_string(string[1:])+string[0]\n",
    "string = \"hello\"\n",
    "print(\"Output: \",reverse_string(string))"
   ]
  },
  {
   "cell_type": "code",
   "execution_count": null,
   "id": "8f99aa03",
   "metadata": {},
   "outputs": [],
   "source": []
  }
 ],
 "metadata": {
  "kernelspec": {
   "display_name": "Python 3 (ipykernel)",
   "language": "python",
   "name": "python3"
  },
  "language_info": {
   "codemirror_mode": {
    "name": "ipython",
    "version": 3
   },
   "file_extension": ".py",
   "mimetype": "text/x-python",
   "name": "python",
   "nbconvert_exporter": "python",
   "pygments_lexer": "ipython3",
   "version": "3.11.5"
  }
 },
 "nbformat": 4,
 "nbformat_minor": 5
}
