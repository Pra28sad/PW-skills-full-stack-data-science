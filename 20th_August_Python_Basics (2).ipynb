{
 "cells": [
  {
   "cell_type": "markdown",
   "metadata": {
    "id": "lRBvv4qkzoL2"
   },
   "source": [
    "# **Python data types Assignment**"
   ]
  },
  {
   "cell_type": "markdown",
   "metadata": {
    "id": "gabafS26z6qd"
   },
   "source": [
    "## **TOPIC : String Based Assignment Problem**"
   ]
  },
  {
   "cell_type": "markdown",
   "metadata": {
    "id": "vnh67rFt0I2x"
   },
   "source": [
    "### 1. Write a program to reverse a string."
   ]
  },
  {
   "cell_type": "code",
   "execution_count": 1,
   "metadata": {
    "colab": {
     "base_uri": "https://localhost:8080/"
    },
    "id": "IPwMxZxPyism",
    "outputId": "228a461b-7d76-43de-cc44-74e94346cddb"
   },
   "outputs": [
    {
     "name": "stdout",
     "output_type": "stream",
     "text": [
      "reverse string :  ydder dasaRP\n"
     ]
    }
   ],
   "source": [
    "string = \"PRasad reddy\"    # declaring string\n",
    "\n",
    "reverse_string= string [::-1]   # reversing string using slicing\n",
    "\n",
    "print(\"reverse string : \",reverse_string)  # displaying the string"
   ]
  },
  {
   "cell_type": "markdown",
   "metadata": {
    "id": "ig4mGlte1RwT"
   },
   "source": [
    "### 2. Check if a string is a palindrome."
   ]
  },
  {
   "cell_type": "code",
   "execution_count": 3,
   "metadata": {
    "colab": {
     "base_uri": "https://localhost:8080/"
    },
    "id": "67svUR7c0X2R",
    "outputId": "53cb2ce2-7b2f-49a7-a126-094e02d42afa"
   },
   "outputs": [
    {
     "name": "stdout",
     "output_type": "stream",
     "text": [
      "enter string: madam\n",
      "'madam' is a palindrome string\n"
     ]
    }
   ],
   "source": [
    "string = input(\"enter string: \")  # decalring a string\n",
    "\n",
    "palindrome_string = string[::-1]  # reversing string using slicing\n",
    "\n",
    "# checking if it is palindrome or not using conditional statements\n",
    "if palindrome_string == string:\n",
    "  print(f\"'{string}' is a palindrome string\")\n",
    "else:\n",
    "  print(f\"'{string}' is not a palindrome string\")\n",
    "\n",
    "\n"
   ]
  },
  {
   "cell_type": "markdown",
   "metadata": {
    "id": "_Yxi6Siy5ni9"
   },
   "source": [
    "### 3. Convert a string to uppercase."
   ]
  },
  {
   "cell_type": "code",
   "execution_count": 4,
   "metadata": {
    "colab": {
     "base_uri": "https://localhost:8080/"
    },
    "id": "2YXtYRqW5Aqb",
    "outputId": "74b5db5b-2822-4e7f-c708-61fb2678727f"
   },
   "outputs": [
    {
     "name": "stdout",
     "output_type": "stream",
     "text": [
      "enter string: prasad\n",
      "The uppercase of 'prasad' is  : 'PRASAD'\n"
     ]
    }
   ],
   "source": [
    "string = input(\"enter string: \")  # decalring a string\n",
    "\n",
    "uString = string.upper()  # converting upper case using upper()\n",
    "\n",
    "print(f\"The uppercase of '{string}' is  : '{uString}'\") # displaying the result\n"
   ]
  },
  {
   "cell_type": "markdown",
   "metadata": {
    "id": "IekViYkA6csR"
   },
   "source": [
    "### 4. Convert a string to lowercase."
   ]
  },
  {
   "cell_type": "code",
   "execution_count": 5,
   "metadata": {
    "colab": {
     "base_uri": "https://localhost:8080/"
    },
    "id": "RR-LrGdZ6RyP",
    "outputId": "fcc2af97-dc29-45d6-f814-a71a772f1358"
   },
   "outputs": [
    {
     "name": "stdout",
     "output_type": "stream",
     "text": [
      "enter string: PrasaD ReddY\n",
      "The lowercase of 'PrasaD ReddY' is  : 'prasad reddy'\n"
     ]
    }
   ],
   "source": [
    "string = input(\"enter string: \")  # decalring a string\n",
    "\n",
    "uString = string.lower()  # converting lower case using lower()\n",
    "\n",
    "print(f\"The lowercase of '{string}' is  : '{uString}'\") # displaying the result\n"
   ]
  },
  {
   "cell_type": "markdown",
   "metadata": {
    "id": "Twf3ExAW6ufZ"
   },
   "source": [
    "### 5. Count the number of vowels in a string."
   ]
  },
  {
   "cell_type": "code",
   "execution_count": 6,
   "metadata": {
    "colab": {
     "base_uri": "https://localhost:8080/"
    },
    "id": "9D9x4dCD6oM0",
    "outputId": "0f5f178e-2b50-42b9-b031-762d952a6b37"
   },
   "outputs": [
    {
     "name": "stdout",
     "output_type": "stream",
     "text": [
      "Enter string : prasad reddy\n",
      "3\n"
     ]
    }
   ],
   "source": [
    "# taking sentence from user\n",
    "string = input(\"Enter string : \")\n",
    "\n",
    "# converting the sentence into lower case to make case-sensitive\n",
    "string=string.lower()\n",
    "\n",
    "# counting vowels\n",
    "count = string.count(\"a\")+string.count(\"e\")+string.count(\"i\")+string.count(\"o\")+string.count(\"u\")\n",
    "\n",
    "print(count) # displaying result\n"
   ]
  },
  {
   "cell_type": "markdown",
   "metadata": {
    "id": "VYX3vv4x7MTl"
   },
   "source": [
    "### 6. Count the number of consonants in a string."
   ]
  },
  {
   "cell_type": "code",
   "execution_count": 7,
   "metadata": {
    "colab": {
     "base_uri": "https://localhost:8080/"
    },
    "id": "eovjKNiU7EIr",
    "outputId": "4cc85747-7db4-4e9a-a0e7-9368d3ab14fe"
   },
   "outputs": [
    {
     "name": "stdout",
     "output_type": "stream",
     "text": [
      "Enter string : prasad reddy\n",
      "count of the consonents : 8\n"
     ]
    }
   ],
   "source": [
    "# taking sentence from user\n",
    "string = input(\"Enter string : \")\n",
    "\n",
    "# converting the sentence into lower case to make case-sensitive\n",
    "string=string.lower()\n",
    "\n",
    "count=0  # declaring initially 0 to the count variable\n",
    "\n",
    "for i in string:  # iterating using loop\n",
    "\n",
    "  if i in \"aeiou \": # checking if \"i\" is vowel or not\n",
    "\n",
    "    pass   # empty statement\n",
    "\n",
    "  else:\n",
    "\n",
    "    count+=1  # counting if it is consonent\n",
    "\n",
    "print(f\"count of the consonents : {count}\" )\n",
    "\n",
    "\n",
    "\n"
   ]
  },
  {
   "cell_type": "markdown",
   "metadata": {
    "id": "UDNgYzJNALu6"
   },
   "source": [
    "### 7. Remove all whitespaces from a string."
   ]
  },
  {
   "cell_type": "code",
   "execution_count": 8,
   "metadata": {
    "colab": {
     "base_uri": "https://localhost:8080/"
    },
    "id": "o3h8mys08Frm",
    "outputId": "8ada287e-acfa-49bd-cece-48b98d301f90"
   },
   "outputs": [
    {
     "name": "stdout",
     "output_type": "stream",
     "text": [
      "After removing the white spaces : prasadreddy\n"
     ]
    }
   ],
   "source": [
    "string=\"pra sad red dy\"  # decalring a string\n",
    "\n",
    "m_string=\"\"  # creating a empty string\n",
    "\n",
    "for i in string:  # iterating string\n",
    "\n",
    "  if i not in \" \":  # checking if the space is contains or not\n",
    "\n",
    "    m_string+=i     # if it is not space then that letter will concatenate to empty string\n",
    "\n",
    "print(f\"After removing the white spaces : {m_string}\")   # displaying the result\n",
    "\n"
   ]
  },
  {
   "cell_type": "markdown",
   "metadata": {
    "id": "lWl11rbHFTJ8"
   },
   "source": [
    "### 8. Find the length of a string without using the `len()` function."
   ]
  },
  {
   "cell_type": "code",
   "execution_count": 9,
   "metadata": {
    "colab": {
     "base_uri": "https://localhost:8080/"
    },
    "id": "ADSdwHC1AeN4",
    "outputId": "410fbae5-002f-466e-f960-0e7bbc74224c"
   },
   "outputs": [
    {
     "name": "stdout",
     "output_type": "stream",
     "text": [
      "After counting the length of a string  : 12\n"
     ]
    }
   ],
   "source": [
    "string=\"prasad reddy\"  # decalring a string\n",
    "\n",
    "count=0  # initially declare 0 to count\n",
    "\n",
    "for i in string:  # iterating string\n",
    "\n",
    "    count+=1    # incrementing one value for every iteration\n",
    "\n",
    "print(f\"After counting the length of a string  : {count}\")   # displaying the result\n",
    "\n"
   ]
  },
  {
   "cell_type": "markdown",
   "metadata": {
    "id": "N8xIkW2TdJM9"
   },
   "source": [
    "### 9. Check if a string contains a specific word."
   ]
  },
  {
   "cell_type": "code",
   "execution_count": 10,
   "metadata": {
    "colab": {
     "base_uri": "https://localhost:8080/"
    },
    "id": "ASJwtqAvGIwN",
    "outputId": "a1353121-cdcd-4f67-9b9d-4f82cde00b46"
   },
   "outputs": [
    {
     "name": "stdout",
     "output_type": "stream",
     "text": [
      "enter word for search : d\n",
      "True\n"
     ]
    }
   ],
   "source": [
    "string = \"Python development\"  # declare a string\n",
    "\n",
    "word = input(\"enter word for search : \")  # assigning word from user\n",
    "\n",
    "# checking if word contains or not\n",
    "if word in string:\n",
    "\n",
    "  print(True)\n",
    "\n",
    "else:\n",
    "\n",
    "  print(False)"
   ]
  },
  {
   "cell_type": "markdown",
   "metadata": {
    "id": "r_RGSdMzecnK"
   },
   "source": [
    "### 10. Replace a word in a string with another word."
   ]
  },
  {
   "cell_type": "code",
   "execution_count": 11,
   "metadata": {
    "colab": {
     "base_uri": "https://localhost:8080/"
    },
    "id": "3DlvXwmjdxL2",
    "outputId": "216df587-75ac-485c-869a-a29b44f07658"
   },
   "outputs": [
    {
     "name": "stdout",
     "output_type": "stream",
     "text": [
      "data science with R language\n"
     ]
    }
   ],
   "source": [
    "string = \"data science with python language\"\n",
    "\n",
    "old_word= \"python\"\n",
    "\n",
    "new_word=\"R\"\n",
    "\n",
    "result=string.replace(old_word,new_word) # replacing using replace() function\n",
    "\n",
    "print(result)"
   ]
  },
  {
   "cell_type": "markdown",
   "metadata": {
    "id": "sKZ56Jv1iduR"
   },
   "source": [
    "### 11. Count the occurrences of a word in a string."
   ]
  },
  {
   "cell_type": "code",
   "execution_count": 12,
   "metadata": {
    "colab": {
     "base_uri": "https://localhost:8080/"
    },
    "id": "57b2h20UgC5I",
    "outputId": "f334f668-159b-43b6-9d0c-406d06131bbb"
   },
   "outputs": [
    {
     "name": "stdout",
     "output_type": "stream",
     "text": [
      "enter the word for search : language\n",
      "2\n"
     ]
    }
   ],
   "source": [
    "string = \"data science with python language and also we can do it with r language\"\n",
    "\n",
    "word = input(\"enter the word for search : \")\n",
    "\n",
    "result = string.count(word)\n",
    "\n",
    "print(result)"
   ]
  },
  {
   "cell_type": "markdown",
   "metadata": {
    "id": "oCE51670jc2Z"
   },
   "source": [
    "### 12. Find the first occurrence of a word in a string."
   ]
  },
  {
   "cell_type": "code",
   "execution_count": 14,
   "metadata": {
    "colab": {
     "base_uri": "https://localhost:8080/"
    },
    "id": "DeomG50Cgemo",
    "outputId": "1aec8464-fbe0-4373-f29f-1f34b0691e1d"
   },
   "outputs": [
    {
     "name": "stdout",
     "output_type": "stream",
     "text": [
      "enter the word for search : python\n",
      "The word 'python' first occurs at index 18.\n"
     ]
    }
   ],
   "source": [
    "string = \"data science with python language and also we can do it with r language\"\n",
    "\n",
    "word = input(\"enter the word for search : \")\n",
    "\n",
    "result = string.find(word) # find() used to find the index of given word\n",
    "\n",
    "print(f\"The word '{word}' first occurs at index {result}.\")"
   ]
  },
  {
   "cell_type": "markdown",
   "metadata": {
    "id": "r5BUH7BUmk_A"
   },
   "source": [
    "### 13. Find the last occurrence of a word in a string."
   ]
  },
  {
   "cell_type": "code",
   "execution_count": 15,
   "metadata": {
    "colab": {
     "base_uri": "https://localhost:8080/"
    },
    "id": "agyvlwjjhTwG",
    "outputId": "ecca8fba-1f19-404b-b2b6-917a66c6f5c2"
   },
   "outputs": [
    {
     "name": "stdout",
     "output_type": "stream",
     "text": [
      "enter the word for search : python\n",
      "The word 'python' last occurs at index 18.\n"
     ]
    }
   ],
   "source": [
    "string = \"data science with python language and also we can do it with r language\"\n",
    "\n",
    "word = input(\"enter the word for search : \")\n",
    "\n",
    "result = string.rfind(word) # rfind() used to find the index of given word\n",
    "\n",
    "print(f\"The word '{word}' last occurs at index {result}.\")"
   ]
  },
  {
   "cell_type": "markdown",
   "metadata": {
    "id": "I3L8fkJ_nkmI"
   },
   "source": [
    "### 14. Split a string into a list of words."
   ]
  },
  {
   "cell_type": "code",
   "execution_count": 16,
   "metadata": {
    "colab": {
     "base_uri": "https://localhost:8080/"
    },
    "id": "mk6gkajym0YQ",
    "outputId": "a66a4034-604c-48e1-effa-d0b1d0847e6d"
   },
   "outputs": [
    {
     "name": "stdout",
     "output_type": "stream",
     "text": [
      "['data', 'science', 'with', 'python', 'language', 'and', 'also', 'we', 'can', 'do', 'it', 'with', 'r', 'language']\n"
     ]
    }
   ],
   "source": [
    "string = \"data science with python language and also we can do it with r language\"\n",
    "\n",
    "lst_of_words = string.split(\" \") # splitting using split() function\n",
    "\n",
    "print(lst_of_words)"
   ]
  },
  {
   "cell_type": "markdown",
   "metadata": {
    "id": "Q6iBGhDgoQSM"
   },
   "source": [
    "### 15. Join a list of words into a string."
   ]
  },
  {
   "cell_type": "code",
   "execution_count": 17,
   "metadata": {
    "colab": {
     "base_uri": "https://localhost:8080/"
    },
    "id": "hzPAmS6GnWJg",
    "outputId": "a4915e68-f5f8-4e03-e780-1345c66eea53"
   },
   "outputs": [
    {
     "name": "stdout",
     "output_type": "stream",
     "text": [
      "data science with python language and also we can do it with r language\n"
     ]
    }
   ],
   "source": [
    "lst_of_strings =  ['data', 'science', 'with', 'python', 'language', 'and', 'also', 'we', 'can', 'do', 'it', 'with', 'r', 'language']\n",
    "\n",
    "result = \" \".join(lst_of_strings)\n",
    "\n",
    "print(result)"
   ]
  },
  {
   "cell_type": "markdown",
   "metadata": {
    "id": "7n_aCg5Vp9bA"
   },
   "source": [
    "### 16. Convert a string where words are separated by spaces to one where words are separated by underscores."
   ]
  },
  {
   "cell_type": "code",
   "execution_count": 18,
   "metadata": {
    "colab": {
     "base_uri": "https://localhost:8080/"
    },
    "id": "U_R0cCdlpcxI",
    "outputId": "80c2929a-aaf0-400a-e635-16db3f5ca6a4"
   },
   "outputs": [
    {
     "name": "stdout",
     "output_type": "stream",
     "text": [
      "prasad_was_took_datascience_course_in_PW_skills\n"
     ]
    }
   ],
   "source": [
    "string = \"prasad was took datascience course in PW skills\"\n",
    "\n",
    "result = string.replace(\" \",\"_\") #replace using replace() function\n",
    "\n",
    "\n",
    "print(result)"
   ]
  },
  {
   "cell_type": "markdown",
   "metadata": {
    "id": "v98_cwSNvXej"
   },
   "source": [
    "### 17. Check if a string starts with a specific word or phrase.\n"
   ]
  },
  {
   "cell_type": "code",
   "execution_count": 19,
   "metadata": {
    "colab": {
     "base_uri": "https://localhost:8080/"
    },
    "id": "1JOORqeEq_Yo",
    "outputId": "6150bdc1-fa7c-469a-930c-a7387761f471"
   },
   "outputs": [
    {
     "name": "stdout",
     "output_type": "stream",
     "text": [
      "The string starts with 'This'.\n"
     ]
    }
   ],
   "source": [
    "string = \"This is a prasad from kiet\"\n",
    "word = \"This\"\n",
    "\n",
    "if string.startswith(word):\n",
    "    print(f\"The string starts with '{word}'.\")\n",
    "else:\n",
    "    print(f\"The string does not start with '{word}'.\")\n"
   ]
  },
  {
   "cell_type": "markdown",
   "metadata": {
    "id": "YxpM0zM5v95w"
   },
   "source": [
    "### 18. Check if a string ends with a specific word or phrase."
   ]
  },
  {
   "cell_type": "code",
   "execution_count": 20,
   "metadata": {
    "colab": {
     "base_uri": "https://localhost:8080/"
    },
    "id": "JosEMH5ev8Vz",
    "outputId": "a4712e6c-bf3f-477d-9842-6e9f6c5c8e9c"
   },
   "outputs": [
    {
     "name": "stdout",
     "output_type": "stream",
     "text": [
      "The string ends with 'kiet'.\n"
     ]
    }
   ],
   "source": [
    "string = \"This is a prasad from kiet\"\n",
    "word = \"kiet\"\n",
    "\n",
    "if string.endswith(word):\n",
    "    print(f\"The string ends with '{word}'.\")\n",
    "else:\n",
    "    print(f\"The string does not ends with '{word}'.\")\n"
   ]
  },
  {
   "cell_type": "markdown",
   "metadata": {
    "id": "DrpYLIdZwVIz"
   },
   "source": [
    "### 19. Convert a string to title case (e.g., \"hello world\" to \"Hello World\")."
   ]
  },
  {
   "cell_type": "code",
   "execution_count": 21,
   "metadata": {
    "colab": {
     "base_uri": "https://localhost:8080/"
    },
    "id": "yacIB3xiwTd_",
    "outputId": "9b4c8802-69e8-49b3-871e-911c1a431fc2"
   },
   "outputs": [
    {
     "name": "stdout",
     "output_type": "stream",
     "text": [
      "The title case of hello world is : Hello World\n"
     ]
    }
   ],
   "source": [
    "string = \"hello world\"\n",
    "\n",
    "print(f\"The title case of {string} is : {string.title()}\") # title() function"
   ]
  },
  {
   "cell_type": "markdown",
   "metadata": {
    "id": "E50zPBXDw6kw"
   },
   "source": [
    "### 20. Find the longest word in a string."
   ]
  },
  {
   "cell_type": "code",
   "execution_count": 22,
   "metadata": {
    "colab": {
     "base_uri": "https://localhost:8080/"
    },
    "id": "vIXkCSuBwxY2",
    "outputId": "d1040eab-c1e8-44a8-d30a-a7e33c32ef20"
   },
   "outputs": [
    {
     "name": "stdout",
     "output_type": "stream",
     "text": [
      "the maximum of string is : excellent\n"
     ]
    }
   ],
   "source": [
    "string = \"PW skills is a excellent platform for learning skills\"\n",
    "\n",
    "lst_of_words = string.split() # splitting of string into a list\n",
    "\n",
    "max_string = \"\"    # declare a empty string\n",
    "\n",
    "for s in lst_of_words:  # iterating\n",
    "\n",
    "  if len(s) > len(max_string):    # checking the maximum string by calculating of length\n",
    "    max_string = s\n",
    "\n",
    "print(f\"the maximum of string is : {max_string}\")\n"
   ]
  },
  {
   "cell_type": "markdown",
   "metadata": {
    "id": "weHomZwg3mpu"
   },
   "source": [
    "### 21. Find the shortest word in a string."
   ]
  },
  {
   "cell_type": "code",
   "execution_count": 23,
   "metadata": {
    "colab": {
     "base_uri": "https://localhost:8080/"
    },
    "id": "eEDupIl0xn_Z",
    "outputId": "cac596cd-d201-4813-9208-e396aec69dae"
   },
   "outputs": [
    {
     "name": "stdout",
     "output_type": "stream",
     "text": [
      "the minimum of string is : 'a'\n"
     ]
    }
   ],
   "source": [
    "string = \"PW skills is a excellent platform for learning skills\"\n",
    "\n",
    "lst_of_words = string.split() # splitting of string into a list\n",
    "\n",
    "min_string = lst_of_words[0]    # initiallizing a starting word\n",
    "\n",
    "for s in lst_of_words:  # iterating\n",
    "\n",
    "\n",
    "  if len(s) < len(min_string):    # checking the maximum string by calculating of length\n",
    "    min_string = s\n",
    "\n",
    "print(f\"the minimum of string is : '{min_string}'\")\n"
   ]
  },
  {
   "cell_type": "markdown",
   "metadata": {
    "id": "x7ueWaCO4YXc"
   },
   "source": [
    "### 22. Reverse the order of words in a string."
   ]
  },
  {
   "cell_type": "code",
   "execution_count": 24,
   "metadata": {
    "colab": {
     "base_uri": "https://localhost:8080/"
    },
    "id": "cTsj7CvA4Kc7",
    "outputId": "a4133e20-aafb-426e-b179-51fbe8e617cb"
   },
   "outputs": [
    {
     "name": "stdout",
     "output_type": "stream",
     "text": [
      "the final string is : 'WP slliks si a tnellecxe mroftalp rof gninrael slliks '\n"
     ]
    }
   ],
   "source": [
    "string = \"PW skills is a excellent platform for learning skills\"\n",
    "\n",
    "lst_of_words = string.split() # splitting of string into a list\n",
    "\n",
    "result=\"\"\n",
    "\n",
    "for s in lst_of_words:  # iterating\n",
    "\n",
    "    result+=s[::-1]    # reversing a word  using slicing\n",
    "    result+=\" \"     # adding space after each word assigned\n",
    "\n",
    "print(f\"the final string is : '{result}'\")   # displaying the result\n"
   ]
  },
  {
   "cell_type": "markdown",
   "metadata": {
    "id": "3mi-dLXd7V_O"
   },
   "source": [
    "### 23. Check if a string is alphanumeric."
   ]
  },
  {
   "cell_type": "code",
   "execution_count": 25,
   "metadata": {
    "colab": {
     "base_uri": "https://localhost:8080/"
    },
    "id": "N637S8k25ckl",
    "outputId": "35e99f12-ca38-427e-d801-286b6be74d8d"
   },
   "outputs": [
    {
     "name": "stdout",
     "output_type": "stream",
     "text": [
      "The string is alpha numeric\n"
     ]
    }
   ],
   "source": [
    "string  = \"Prasad2003\"  # declaring the string\n",
    "\n",
    "if string.isalnum():   # checking the string using isalnum()\n",
    "\n",
    "  print(\"The string is alpha numeric\")\n",
    "\n",
    "else:\n",
    "\n",
    "  print(\"The string is not in alpha numeric\")"
   ]
  },
  {
   "cell_type": "markdown",
   "metadata": {
    "id": "pqquQjau8Nyo"
   },
   "source": [
    "### 24. Extract all digits from a string."
   ]
  },
  {
   "cell_type": "code",
   "execution_count": 26,
   "metadata": {
    "colab": {
     "base_uri": "https://localhost:8080/"
    },
    "id": "fpQnZaOo7Eks",
    "outputId": "1618f51c-f52e-45bb-f5ac-ec6a1a7b69c3"
   },
   "outputs": [
    {
     "name": "stdout",
     "output_type": "stream",
     "text": [
      "2003"
     ]
    }
   ],
   "source": [
    "string = \"Prasad2003\"  # declaring string\n",
    "\n",
    "for n in string:  # iterating string\n",
    "\n",
    "  if n.isdigit():  # checking the digit using isdigit()\n",
    "\n",
    "    print(n,end=\"\")   # display the result if it is digit\n"
   ]
  },
  {
   "cell_type": "markdown",
   "metadata": {
    "id": "_VuNScpL-IDm"
   },
   "source": [
    "### 25. Extract all alphabets from a string."
   ]
  },
  {
   "cell_type": "code",
   "execution_count": 27,
   "metadata": {
    "colab": {
     "base_uri": "https://localhost:8080/"
    },
    "id": "WisdsqTm85La",
    "outputId": "6fadd70c-8ce3-4b7e-851c-cc624705a3ff"
   },
   "outputs": [
    {
     "name": "stdout",
     "output_type": "stream",
     "text": [
      "Prasad"
     ]
    }
   ],
   "source": [
    "string = \"Prasad2003\"  # declaring string\n",
    "\n",
    "for c in string:  # iterating string\n",
    "\n",
    "  if c.isalpha():  # checking the character using isalpha()\n",
    "\n",
    "    print(c,end=\"\")   # display the result if it is alphabet\n"
   ]
  },
  {
   "cell_type": "markdown",
   "metadata": {
    "id": "CVDgKMRl-W7F"
   },
   "source": [
    "### 26. Count the number of uppercase letters in a string."
   ]
  },
  {
   "cell_type": "code",
   "execution_count": 28,
   "metadata": {
    "colab": {
     "base_uri": "https://localhost:8080/"
    },
    "id": "M5RwYIdn-YL-",
    "outputId": "7c2c2ee1-d7c5-49be-cf6a-68b879029779"
   },
   "outputs": [
    {
     "name": "stdout",
     "output_type": "stream",
     "text": [
      "The count of capital letters is : 4\n"
     ]
    }
   ],
   "source": [
    "string = \"PrasaD ReddY\"  # declaring string\n",
    "\n",
    "count=0\n",
    "\n",
    "for c in string:  # iterating string\n",
    "\n",
    "  if c==\" \":  #for checking space\n",
    "\n",
    "    pass   # empty statement\n",
    "\n",
    "  elif c.capitalize() == c:  # checking the character is capital or not\n",
    "\n",
    "     count+=1 # display the result if it is alphabet\n",
    "\n",
    "print(f\"The count of capital letters is : {count}\")\n"
   ]
  },
  {
   "cell_type": "markdown",
   "metadata": {
    "id": "-xAdQawK-Wv1"
   },
   "source": [
    "### 27. Count the number of lowercase letters in a string."
   ]
  },
  {
   "cell_type": "code",
   "execution_count": 29,
   "metadata": {
    "colab": {
     "base_uri": "https://localhost:8080/"
    },
    "id": "biDpGPYe955J",
    "outputId": "a26b2485-81fd-41eb-ff44-b7c55d75a69a"
   },
   "outputs": [
    {
     "name": "stdout",
     "output_type": "stream",
     "text": [
      "The count of lowercase letters is : 7\n"
     ]
    }
   ],
   "source": [
    "string = \"PrasaD ReddY\"  # declaring string\n",
    "\n",
    "count=0\n",
    "\n",
    "for c in string:  # iterating string\n",
    "\n",
    "  if c==\" \":  #for checking space\n",
    "\n",
    "    pass   # empty statement\n",
    "\n",
    "  elif c.capitalize() != c:  # checking the character is lower case letter or not\n",
    "\n",
    "     count+=1\n",
    "\n",
    "print(f\"The count of lowercase letters is : {count}\")  # display the result\n"
   ]
  },
  {
   "cell_type": "markdown",
   "metadata": {
    "id": "RqU-7KBPa0BF"
   },
   "source": [
    "### 28. Swap the case of each character in a string."
   ]
  },
  {
   "cell_type": "code",
   "execution_count": 30,
   "metadata": {
    "colab": {
     "base_uri": "https://localhost:8080/"
    },
    "id": "ItzSxXwvagco",
    "outputId": "9353d954-cb87-4654-f68c-2e8ca38e547f"
   },
   "outputs": [
    {
     "name": "stdout",
     "output_type": "stream",
     "text": [
      "The count of lowercase letters is : pRASAd rEDDy\n"
     ]
    }
   ],
   "source": [
    "string = \"PrasaD ReddY\"  # declaring string\n",
    "\n",
    "count=\"\"\n",
    "\n",
    "for c in string:  # iterating string\n",
    "\n",
    "  if c==\" \":  #for checking space\n",
    "\n",
    "    count+=\" \"\n",
    "\n",
    "  elif c.capitalize() != c:  # checking the character is lower case letter or not\n",
    "\n",
    "     count+=c.capitalize()\n",
    "  else:\n",
    "    count+=c.lower()\n",
    "\n",
    "print(f\"The count of lowercase letters is : {count}\")  # display the result\n"
   ]
  },
  {
   "cell_type": "markdown",
   "metadata": {
    "id": "7d7RaMjHcTSa"
   },
   "source": [
    "### 29. Remove a specific word from a string."
   ]
  },
  {
   "cell_type": "code",
   "execution_count": 31,
   "metadata": {
    "colab": {
     "base_uri": "https://localhost:8080/"
    },
    "id": "6Xg3w1GAbqAG",
    "outputId": "64d918da-0122-465a-da5d-1efddd12c652"
   },
   "outputs": [
    {
     "name": "stdout",
     "output_type": "stream",
     "text": [
      "enter required word to remove : skilss\n",
      "pw is the best platform for learning \n"
     ]
    }
   ],
   "source": [
    "string = \"pw skilss is the best platform for learning\"\n",
    "\n",
    "lst_of_words = string.split()\n",
    "\n",
    "result =\"\"\n",
    "\n",
    "word = input(\"enter required word to remove : \")\n",
    "\n",
    "for i in lst_of_words:\n",
    "  if i == word :\n",
    "    pass\n",
    "\n",
    "  else:\n",
    "    result += i + \" \"\n",
    "\n",
    "print(result)\n"
   ]
  },
  {
   "cell_type": "markdown",
   "metadata": {
    "id": "b1_-U9KljWdF"
   },
   "source": [
    "### 30. Check if a string is a valid email address."
   ]
  },
  {
   "cell_type": "code",
   "execution_count": 32,
   "metadata": {
    "colab": {
     "base_uri": "https://localhost:8080/"
    },
    "id": "MnyInwbNhuW_",
    "outputId": "9d236fc0-fd0c-489d-a4d9-085e28a0ef07"
   },
   "outputs": [
    {
     "name": "stdout",
     "output_type": "stream",
     "text": [
      "prasad@email.com is a valid email address.\n"
     ]
    }
   ],
   "source": [
    "\n",
    "email = \"prasad@email.com\"\n",
    "Flag = True\n",
    "\n",
    "#checking if the @ symbol are there or not\n",
    "if \"@\" not in email:\n",
    "        Flag= False\n",
    "\n",
    "# Split the email into username and domain\n",
    "username, domain = email.split(\"@\")\n",
    "\n",
    "# Check if there is exactly one \"@\" symbol\n",
    "if email.count(\"@\") != 1:\n",
    "    Flag = False\n",
    "\n",
    "# Check if the username is not empty and doesn't contain any spaces\n",
    "if not username or \" \" in username:\n",
    "    Flag =False\n",
    "\n",
    "# Check if the domain contains exactly one \".\" (dot)\n",
    "if domain.count(\".\") != 1:\n",
    "    Flag=False\n",
    "\n",
    "# Check if the domain is not empty and doesn't contain any spaces\n",
    "if not domain or \" \" in domain:\n",
    "    Flag=False\n",
    "\n",
    "if Flag:\n",
    "    print(f\"{email} is a valid email address.\")\n",
    "else:\n",
    "    print(f\"{email} is not a valid email address.\")\n"
   ]
  },
  {
   "cell_type": "markdown",
   "metadata": {
    "id": "B6McQzCQtvjE"
   },
   "source": [
    "### 31. Extract the username from an email address string."
   ]
  },
  {
   "cell_type": "code",
   "execution_count": 33,
   "metadata": {
    "colab": {
     "base_uri": "https://localhost:8080/"
    },
    "id": "_BVPFSCTtJ1a",
    "outputId": "9ef885d5-48e7-4ef1-8e5f-c01bb50e1dff"
   },
   "outputs": [
    {
     "name": "stdout",
     "output_type": "stream",
     "text": [
      "the username is : prasad\n"
     ]
    }
   ],
   "source": [
    "string = \"prasad@gmail.com\"  # declaring sample email\n",
    "\n",
    "lst = string.split(\"@\")\n",
    "\n",
    "print(f\"the username is : {lst[0]}\")"
   ]
  },
  {
   "cell_type": "markdown",
   "metadata": {
    "id": "-4VMhVhLvACz"
   },
   "source": [
    "### 32. Extract the domain name from an email address string."
   ]
  },
  {
   "cell_type": "code",
   "execution_count": 34,
   "metadata": {
    "colab": {
     "base_uri": "https://localhost:8080/"
    },
    "id": "lwKf-GFcuRrC",
    "outputId": "5688b391-921a-4ac6-e27a-62702a62af8b"
   },
   "outputs": [
    {
     "name": "stdout",
     "output_type": "stream",
     "text": [
      "the domain name is : gmail.com\n"
     ]
    }
   ],
   "source": [
    "string = \"prasad@gmail.com\"  # declaring sample email\n",
    "\n",
    "lst = string.split(\"@\")\n",
    "\n",
    "print(f\"the domain name is : {lst[1]}\") # displaying the message\n"
   ]
  },
  {
   "cell_type": "markdown",
   "metadata": {
    "id": "ZDsOoRDMwT3P"
   },
   "source": [
    "### 33. Replace multiple spaces in a string with a single space."
   ]
  },
  {
   "cell_type": "code",
   "execution_count": 35,
   "metadata": {
    "colab": {
     "base_uri": "https://localhost:8080/"
    },
    "id": "G9HUvQAlv1z5",
    "outputId": "75fabe83-776d-4db9-dbbd-8094f1b931c0"
   },
   "outputs": [
    {
     "name": "stdout",
     "output_type": "stream",
     "text": [
      "Pw Skills is the best platform\n"
     ]
    }
   ],
   "source": [
    "string = \"Pw Skills    is       the best    platform  \"\n",
    "\n",
    "result = \" \".join(string.split()) # here i am using split function to create list of words and after that join using join() function\n",
    "\n",
    "print(result)\n"
   ]
  },
  {
   "cell_type": "markdown",
   "metadata": {
    "id": "9scTmx8N0dWX"
   },
   "source": [
    "### 34. Check if a string is a valid URL."
   ]
  },
  {
   "cell_type": "code",
   "execution_count": 36,
   "metadata": {
    "colab": {
     "base_uri": "https://localhost:8080/"
    },
    "id": "Xe-N0rNNv2gt",
    "outputId": "550536c4-8aee-4308-bb98-3a8ba244e01e"
   },
   "outputs": [
    {
     "name": "stdout",
     "output_type": "stream",
     "text": [
      "The given url is valid\n"
     ]
    }
   ],
   "source": [
    "url = \"https://www.example.com\"\n",
    "\n",
    "# Check if the URL starts with \"http://\", \"https://\", or \"ftp://\"\n",
    "if url.startswith(\"http://\") or url.startswith(\"https://\") or url.startswith(\"ftp://\"):\n",
    "\n",
    "    # Check if there are more than the protocol part (e.g., \"http://\")\n",
    "    if len(url) > 7:\n",
    "\n",
    "      print(\"The given url is valid\")"
   ]
  },
  {
   "cell_type": "markdown",
   "metadata": {
    "id": "99RaDaIZQwKw"
   },
   "source": [
    "### 35. Extract the protocol (http or https) from a URL string."
   ]
  },
  {
   "cell_type": "code",
   "execution_count": 37,
   "metadata": {
    "colab": {
     "base_uri": "https://localhost:8080/"
    },
    "id": "-HRT8myoFE6t",
    "outputId": "e8286326-ff73-41c5-f442-647dbc06e2b4"
   },
   "outputs": [
    {
     "name": "stdout",
     "output_type": "stream",
     "text": [
      "https\n"
     ]
    }
   ],
   "source": [
    "url = \"https://www.example.com\"\n",
    "\n",
    "# Check if the URL starts with \"http://\", \"https://\", or \"ftp://\"\n",
    "\n",
    "if url.startswith(\"http://\") :\n",
    "  print(\"http\")\n",
    "\n",
    "elif url.startswith(\"https://\"):\n",
    "  print(\"https\")\n",
    "\n",
    "elif url.startswith(\"utf://\"):\n",
    "  print(\"utf\")"
   ]
  },
  {
   "cell_type": "markdown",
   "metadata": {
    "id": "Kt-faWEyQ8Co"
   },
   "source": [
    "### 36. Find the frequency of each character in a string."
   ]
  },
  {
   "cell_type": "code",
   "execution_count": 38,
   "metadata": {
    "colab": {
     "base_uri": "https://localhost:8080/"
    },
    "id": "FWki6ZoeWADS",
    "outputId": "290eb5e3-80c2-434c-90dc-11ff774d9f16"
   },
   "outputs": [
    {
     "name": "stdout",
     "output_type": "stream",
     "text": [
      "Enter a string: prasad reddy\n",
      "The frequency of 'p' is 1\n",
      "The frequency of 'r' is 2\n",
      "The frequency of 'a' is 2\n",
      "The frequency of 's' is 1\n",
      "The frequency of 'd' is 3\n",
      "The frequency of ' ' is 1\n",
      "The frequency of 'e' is 1\n",
      "The frequency of 'y' is 1\n"
     ]
    }
   ],
   "source": [
    "string = input(\"Enter a string: \") # taking string from user\n",
    "\n",
    "dic = {}   # empty dictionary for key,value\n",
    "\n",
    "for char in string:\n",
    "\n",
    "    if char in dic:\n",
    "        dic[char] += 1\n",
    "\n",
    "    else:\n",
    "        dic[char] = 1\n",
    "\n",
    "for key,value in dic.items():\n",
    "  print(f\"The frequency of '{key}' is {value}\")\n",
    "\n",
    "\n"
   ]
  },
  {
   "cell_type": "markdown",
   "metadata": {
    "id": "jpUs2sQGX4nS"
   },
   "source": [
    "### 37. Remove all punctuation from a string."
   ]
  },
  {
   "cell_type": "code",
   "execution_count": 39,
   "metadata": {
    "colab": {
     "base_uri": "https://localhost:8080/"
    },
    "id": "JQQPfWHpWafe",
    "outputId": "f74fccd6-613e-455c-9370-07e803edfcdf"
   },
   "outputs": [
    {
     "name": "stdout",
     "output_type": "stream",
     "text": [
      "Hey prasad looking awesome is it college uniform\n"
     ]
    }
   ],
   "source": [
    "import string as s # importing strings module\n",
    "\n",
    "string = \"Hey, prasad looking awesome!, is it college uniform?\"\n",
    "\n",
    "cleaned_string = \"\"\n",
    "\n",
    "for char in string:\n",
    "\n",
    "  if char not in s.punctuation: # checking if it punctuation or not\n",
    "     cleaned_string+=char\n",
    "\n",
    "print(cleaned_string)"
   ]
  },
  {
   "cell_type": "markdown",
   "metadata": {
    "id": "9E4sjeJlct6D"
   },
   "source": [
    "### 38. Check if a string contains only digits."
   ]
  },
  {
   "cell_type": "code",
   "execution_count": 40,
   "metadata": {
    "colab": {
     "base_uri": "https://localhost:8080/"
    },
    "id": "FXZVjC4FcU01",
    "outputId": "358c9343-44b4-40b7-c8b3-97882d06af2f"
   },
   "outputs": [
    {
     "name": "stdout",
     "output_type": "stream",
     "text": [
      "the string not contains all are digits \n"
     ]
    }
   ],
   "source": [
    "string = \"122fgs\"  # declaring a string\n",
    "\n",
    "check = \"\"  # empty string\n",
    "\n",
    "for char in string :  # iterating\n",
    "\n",
    "  if char.isdigit():  # checking if it s digit or not\n",
    "    check+=char\n",
    "\n",
    "if check == string:\n",
    "  print(\"the string contains all are digits\")\n",
    "else:\n",
    "  print(\"the string not contains all are digits \")"
   ]
  },
  {
   "cell_type": "markdown",
   "metadata": {
    "id": "EVERiqhCeRyy"
   },
   "source": [
    "### 39. Check if a string contains only alphabets."
   ]
  },
  {
   "cell_type": "code",
   "execution_count": 41,
   "metadata": {
    "colab": {
     "base_uri": "https://localhost:8080/"
    },
    "id": "Ho4zATYvdmz5",
    "outputId": "1719d804-f6f2-4555-fd35-7c063e74e27e"
   },
   "outputs": [
    {
     "name": "stdout",
     "output_type": "stream",
     "text": [
      "the string not contains all are alphabets \n"
     ]
    }
   ],
   "source": [
    "string = \"122fgs\"  # declaring a string\n",
    "\n",
    "check = \"\"  # empty string\n",
    "\n",
    "for char in string :  # iterating\n",
    "\n",
    "  if char.isalpha():  # checking if it s alphabet or not\n",
    "    check+=char\n",
    "\n",
    "if check == string:\n",
    "  print(\"the string contains all are alphabets\")\n",
    "else:\n",
    "  print(\"the string not contains all are alphabets \")"
   ]
  },
  {
   "cell_type": "markdown",
   "metadata": {
    "id": "lnnoMWNaek6u"
   },
   "source": [
    "### 40. Convert a string to a list of characters."
   ]
  },
  {
   "cell_type": "code",
   "execution_count": 42,
   "metadata": {
    "colab": {
     "base_uri": "https://localhost:8080/"
    },
    "id": "0ibeZdzsedsf",
    "outputId": "04bd4aaa-535b-4292-f6b6-1130294fec91"
   },
   "outputs": [
    {
     "name": "stdout",
     "output_type": "stream",
     "text": [
      "['P', 'r', 'a', 's', 'a', 'd', ' ', 'r', 'e', 'd', 'd', 'y']\n"
     ]
    }
   ],
   "source": [
    "string = \"Prasad reddy\" # declaring a string\n",
    "\n",
    "lst= []  # empty list\n",
    "\n",
    "for char in string:  # iterating\n",
    "  lst.append(char)   # appending character to list\n",
    "\n",
    "print(lst)\n",
    "\n",
    "\n"
   ]
  },
  {
   "cell_type": "markdown",
   "metadata": {
    "id": "YYvBsKuzfIi1"
   },
   "source": [
    "### 41. Check if two strings are anagrams."
   ]
  },
  {
   "cell_type": "code",
   "execution_count": null,
   "metadata": {
    "colab": {
     "base_uri": "https://localhost:8080/"
    },
    "id": "lM4bI3Xye_3V",
    "outputId": "3aaa5912-6391-4958-c6ce-ab97209e63c4"
   },
   "outputs": [],
   "source": [
    "string1 = input(\"enter first string : \")\n",
    "string2 = input(\"enter second string : \")\n",
    "\n",
    "if sorted(string1) == sorted(string2) :\n",
    "  print(\"these strings are anagrams\")\n",
    "else:\n",
    "  print(\"these are not anagrams\")"
   ]
  },
  {
   "cell_type": "markdown",
   "metadata": {
    "id": "b9Kbnebmg97S"
   },
   "source": [
    "### 42. Encode a string using a Caesar cipher."
   ]
  },
  {
   "cell_type": "code",
   "execution_count": null,
   "metadata": {
    "colab": {
     "base_uri": "https://localhost:8080/"
    },
    "id": "UX8PUo29fb5E",
    "outputId": "e8bbc2a8-70e1-403a-c963-172108c68ddb"
   },
   "outputs": [],
   "source": [
    "plaintext = \"Hello, Caesar Cipher!\"\n",
    "shift = 3\n",
    "encrypted_text = \"\"\n",
    "\n",
    "for char in plaintext:\n",
    "    if char.isalpha():\n",
    "        is_upper = char.isupper()\n",
    "        char = char.lower()\n",
    "        char_code = ord(char) - 97\n",
    "        char_code = (char_code + shift) % 26\n",
    "        char_code = (char_code + 26) % 26  # Ensure it stays within the alphabet range\n",
    "        char_code = char_code + 97\n",
    "        if is_upper:\n",
    "            char_code = chr(char_code).upper()\n",
    "        else:\n",
    "            char_code = chr(char_code)\n",
    "    encrypted_text += char_code\n",
    "\n",
    "print(\"Encoded:\", encrypted_text)\n"
   ]
  },
  {
   "cell_type": "markdown",
   "metadata": {
    "id": "NRYGTp53iSVv"
   },
   "source": [
    "### 43. Decode a Caesar cipher encoded string."
   ]
  },
  {
   "cell_type": "code",
   "execution_count": null,
   "metadata": {
    "colab": {
     "base_uri": "https://localhost:8080/"
    },
    "id": "TYw-TZSMfgJi",
    "outputId": "0e8d2f13-bc4c-479b-b9e0-10945b75f100"
   },
   "outputs": [
    {
     "name": "stdout",
     "output_type": "stream",
     "text": [
      "Decoded: HelloooCaesarrCipherr\n"
     ]
    }
   ],
   "source": [
    "encrypted_text = \"KhoorrrFdhvduuFlskhuu\"\n",
    "shift = 3\n",
    "decrypted_text = \"\"\n",
    "\n",
    "for char in encrypted_text:\n",
    "\n",
    "    if char.isalpha():\n",
    "\n",
    "        is_upper = char.isupper()\n",
    "        char = char.lower()\n",
    "        char_code = ord(char) - 97\n",
    "        char_code = (char_code - shift) % 26\n",
    "        char_code = (char_code + 26) % 26  # Ensure it stays within the alphabet range\n",
    "        char_code = char_code + 97\n",
    "\n",
    "        if is_upper:\n",
    "            char_code = chr(char_code).upper()\n",
    "        else:\n",
    "            char_code = chr(char_code)\n",
    "\n",
    "    decrypted_text += char_code\n",
    "\n",
    "print(\"Decoded:\", decrypted_text)\n"
   ]
  },
  {
   "cell_type": "markdown",
   "metadata": {
    "id": "nnhSoMVJi7up"
   },
   "source": [
    "### 44. Find the most frequent word in a string."
   ]
  },
  {
   "cell_type": "code",
   "execution_count": null,
   "metadata": {
    "colab": {
     "base_uri": "https://localhost:8080/"
    },
    "id": "shfCnw2zirbv",
    "outputId": "c15f4878-ec50-43d5-be71-05625a9071ef"
   },
   "outputs": [
    {
     "name": "stdout",
     "output_type": "stream",
     "text": [
      "the most frequent word in strin is 'r' with the count of : 4\n"
     ]
    }
   ],
   "source": [
    "string = \"prasad reddy is from cse background\"  # declaring a string\n",
    "\n",
    "dic={}  # empty dictionary\n",
    "\n",
    "for char in string:\n",
    "\n",
    "  if char in dic:\n",
    "    dic[char] += 1\n",
    "\n",
    "  elif char == \" \":\n",
    "    pass\n",
    "\n",
    "  else:\n",
    "    dic[char] = 1\n",
    "\n",
    "max1=0\n",
    "key1=\"\"\n",
    "\n",
    "for key,val in dic.items():\n",
    "\n",
    "  if max1 < val:\n",
    "    max1=val    # assigning maximum value\n",
    "    key1=key   # assigning key\n",
    "\n",
    "print(f\"the most frequent word in strin is '{key1}' with the count of : {max1}\")"
   ]
  },
  {
   "cell_type": "markdown",
   "metadata": {
    "id": "hD2CSVDPoRNV"
   },
   "source": [
    "### 45. Find all unique words in a string."
   ]
  },
  {
   "cell_type": "code",
   "execution_count": null,
   "metadata": {
    "colab": {
     "base_uri": "https://localhost:8080/"
    },
    "id": "VLEzpOaVkFj3",
    "outputId": "551ecaac-a9c6-43d7-f5dc-66e61b65010d"
   },
   "outputs": [
    {
     "name": "stdout",
     "output_type": "stream",
     "text": [
      "enter string : prasad reddy\n",
      "The unique characters are : \n",
      "'p' 's' 'e' 'y' "
     ]
    }
   ],
   "source": [
    "string = input(\"enter string : \").lower()\n",
    "\n",
    "\n",
    "\n",
    "dic = {}\n",
    "dic1 = {}\n",
    "\n",
    "for char in string:\n",
    "  if char in dic:\n",
    "    dic[char]+=1\n",
    "  elif char == \" \":\n",
    "    pass\n",
    "  else:\n",
    "    dic[char]=1\n",
    "\n",
    "print(\"The unique characters are : \")\n",
    "for key,value in dic.items():\n",
    "  if value==1:\n",
    "    print(f\"'{key}'\",end=\" \")"
   ]
  },
  {
   "cell_type": "markdown",
   "metadata": {
    "id": "5wtyVWIFqxPd"
   },
   "source": [
    "### 46. Count the number of syllables in a string."
   ]
  },
  {
   "cell_type": "code",
   "execution_count": null,
   "metadata": {
    "colab": {
     "base_uri": "https://localhost:8080/"
    },
    "id": "JuvRe5DOpGdV",
    "outputId": "3db2a501-9ade-4cc1-9a7d-65ef7ca2b6c7"
   },
   "outputs": [
    {
     "name": "stdout",
     "output_type": "stream",
     "text": [
      "it contains '3' syllables\n"
     ]
    }
   ],
   "source": [
    "text = \"elephant\"\n",
    "text = text.lower()  # Convert the text to lowercase for consistency\n",
    "vowels = \"aeiou\"  # Common English vowels\n",
    "\n",
    "# Initialize variables for counting syllables and tracking consecutive vowels\n",
    "syllable_count = 0\n",
    "in_syllable = False  # To track if we're currently inside a syllable\n",
    "\n",
    "for char in text:\n",
    "    if char in vowels:\n",
    "        if not in_syllable:\n",
    "            syllable_count += 1\n",
    "        in_syllable = True\n",
    "    else:\n",
    "        in_syllable = False\n",
    "\n",
    "# Adjust for words ending in 'e' (usually not counted as a syllable)\n",
    "if text.endswith(\"e\") and syllable_count > 1:\n",
    "    syllable_count -= 1\n",
    "\n",
    "# Ensure at least one syllable is counted\n",
    "if syllable_count == 0:\n",
    "    syllable_count = 1\n",
    "\n",
    "print(f\"it contains '{syllable_count}' syllables\")"
   ]
  },
  {
   "cell_type": "markdown",
   "metadata": {
    "id": "cId4oUIZvYYt"
   },
   "source": [
    "### 47. Check if a string contains any special characters."
   ]
  },
  {
   "cell_type": "code",
   "execution_count": null,
   "metadata": {
    "colab": {
     "base_uri": "https://localhost:8080/"
    },
    "id": "Pu0_Qf4IzcX0",
    "outputId": "aeaf35ac-632e-4f69-b113-544bf66c0caa"
   },
   "outputs": [
    {
     "name": "stdout",
     "output_type": "stream",
     "text": [
      "The string contains special characters.\n"
     ]
    }
   ],
   "source": [
    "def contains_special_characters(input_string):\n",
    "    # Define a set of characters that are not considered special (letters and digits)\n",
    "    non_special_characters = set(\"abcdefghijklmnopqrstuvwxyzABCDEFGHIJKLMNOPQRSTUVWXYZ0123456789\")\n",
    "\n",
    "    # Check each character in the input string\n",
    "    for char in input_string:\n",
    "        if char not in non_special_characters:\n",
    "            return True  # If a character is not in the non-special set, it's considered special\n",
    "\n",
    "    return False  # If all characters are in the non-special set, there are no special characters\n",
    "\n",
    "# Test the function\n",
    "input_string = \"Hello123!\"  # Modify this string to test different cases\n",
    "contains_special = contains_special_characters(input_string)\n",
    "\n",
    "if contains_special:\n",
    "    print(\"The string contains special characters.\")\n",
    "else:\n",
    "    print(\"The string does not contain special characters.\")\n"
   ]
  },
  {
   "cell_type": "markdown",
   "metadata": {
    "id": "B0sghEik0Zil"
   },
   "source": [
    "### 48. Remove the nth word from a string."
   ]
  },
  {
   "cell_type": "code",
   "execution_count": null,
   "metadata": {
    "colab": {
     "base_uri": "https://localhost:8080/"
    },
    "id": "WQraZwii0TiS",
    "outputId": "60fef009-aff8-484a-cc1d-9c4c1ea5cc4c"
   },
   "outputs": [
    {
     "name": "stdout",
     "output_type": "stream",
     "text": [
      "enter number less than or equal to 2 : 2\n",
      "after removing of 2th word, the result is :  PRasad\n"
     ]
    }
   ],
   "source": [
    "string = \"PRasad reddy \"\n",
    "\n",
    "lst = string.split()\n",
    "\n",
    "n = int(input(f\"enter number less than or equal to {len(lst)} : \"))  # taking number for remove word at a particular place\n",
    "\n",
    "#lst = []  # empty list\n",
    "\n",
    "# for char in string:\n",
    "#   lst.append(char)  # each character adding into a list\n",
    "\n",
    "lst.pop(n-1)  # removing word\n",
    "\n",
    "result= \"\".join(lst)\n",
    "\n",
    "print(f\"after removing of {n}th word, the result is :  {result}\")"
   ]
  },
  {
   "cell_type": "markdown",
   "metadata": {
    "id": "eQsNIVTU6g5E"
   },
   "source": [
    "### 49. Insert a word at the nth position in a string."
   ]
  },
  {
   "cell_type": "code",
   "execution_count": null,
   "metadata": {
    "colab": {
     "base_uri": "https://localhost:8080/"
    },
    "id": "ROy9ZYbL1RxA",
    "outputId": "9294656d-4f5e-4a51-938b-fcd63b116abf"
   },
   "outputs": [
    {
     "name": "stdout",
     "output_type": "stream",
     "text": [
      "enter number below 2 : 2\n",
      "enter word for insert at a positon: hello\n",
      "after adding of 2th word, the result is :  PRasadreddyhello\n"
     ]
    }
   ],
   "source": [
    "string = \"PRasad reddy \"\n",
    "\n",
    "lst = string.split()  # splitting of string into a list\n",
    "\n",
    "n = int(input(f\"enter number below {len(lst)} : \"))  # taking  number to add word at a particular place\n",
    "\n",
    "word= input(\"enter word for insert at a positon: \")  # taking word for add\n",
    "\n",
    "\n",
    "# lst = []  #empty list\n",
    "\n",
    "# for char in string:\n",
    "#   lst.append(char)  # each character adding into a list\n",
    "\n",
    "lst.insert(n,word)  # adding a word at a particular place\n",
    "\n",
    "result= \"\".join(lst)   # joining characters into a string for output\n",
    "\n",
    "print(f\"after adding of {n}th word, the result is :  {result}\")  # displaying the result"
   ]
  },
  {
   "cell_type": "markdown",
   "metadata": {
    "id": "KsgaTlbX-vcg"
   },
   "source": [
    "### 50. Convert a CSV string to a list of lists."
   ]
  },
  {
   "cell_type": "code",
   "execution_count": null,
   "metadata": {
    "colab": {
     "base_uri": "https://localhost:8080/"
    },
    "id": "5R_txzK27oZV",
    "outputId": "b06e91f3-76aa-4b7d-c6a9-fdbba12b7652"
   },
   "outputs": [
    {
     "name": "stdout",
     "output_type": "stream",
     "text": [
      "[['Name', 'Age', 'Location'], ['Alice', '25', 'New York'], ['Bob', '30', 'Los Angeles'], ['Charlie', '22', 'San Francisco']]\n"
     ]
    }
   ],
   "source": [
    "import csv\n",
    "from io import StringIO\n",
    "\n",
    "csv_string = \"\"\"Name,Age,Location\n",
    "Alice,25,New York\n",
    "Bob,30,Los Angeles\n",
    "Charlie,22,San Francisco\"\"\"\n",
    "\n",
    "csv_data = []\n",
    "\n",
    "csv_reader = csv.reader(StringIO(csv_string))\n",
    "\n",
    "for row in csv_reader:\n",
    "    csv_data.append(row)\n",
    "\n",
    "print(csv_data)\n"
   ]
  },
  {
   "cell_type": "code",
   "execution_count": null,
   "metadata": {
    "id": "VScpEPrx_imn"
   },
   "outputs": [],
   "source": []
  },
  {
   "cell_type": "markdown",
   "metadata": {
    "id": "e8cblyZ6Az9Q"
   },
   "source": [
    "# **List Based Practice problem :**"
   ]
  },
  {
   "cell_type": "markdown",
   "metadata": {
    "id": "bzBpoZyEBSa8"
   },
   "source": [
    "### 1. Create a list with integers from 1 to 10."
   ]
  },
  {
   "cell_type": "code",
   "execution_count": null,
   "metadata": {
    "colab": {
     "base_uri": "https://localhost:8080/"
    },
    "id": "pey01a1tBQWu",
    "outputId": "692773f0-d156-4ea7-9d35-1fd26bb58865"
   },
   "outputs": [
    {
     "name": "stdout",
     "output_type": "stream",
     "text": [
      "[1, 2, 3, 4, 5, 6, 7, 8, 9]\n"
     ]
    }
   ],
   "source": [
    "lst=[i for i in range(1,10)]\n",
    "\n",
    "print(lst)"
   ]
  },
  {
   "cell_type": "markdown",
   "metadata": {
    "id": "poGVlI9ZB0Ry"
   },
   "source": [
    "### 2. Find the length of a list without using the `len()` function."
   ]
  },
  {
   "cell_type": "code",
   "execution_count": null,
   "metadata": {
    "colab": {
     "base_uri": "https://localhost:8080/"
    },
    "id": "l1w3GDEUBz2x",
    "outputId": "9516562b-b789-4fc8-de65-1519313d481d"
   },
   "outputs": [
    {
     "name": "stdout",
     "output_type": "stream",
     "text": [
      "the length of a list is : 7\n"
     ]
    }
   ],
   "source": [
    "lst = [\"prasad\",\" reddy\",1,2,3,4,6]\n",
    "\n",
    "length = len(lst)  # using len() function\n",
    "\n",
    "print(f\"the length of a list is : {length}\")"
   ]
  },
  {
   "cell_type": "markdown",
   "metadata": {
    "id": "CJFPmMMwCb8-"
   },
   "source": [
    "### 3. Append an element to the end of a list."
   ]
  },
  {
   "cell_type": "code",
   "execution_count": null,
   "metadata": {
    "colab": {
     "base_uri": "https://localhost:8080/"
    },
    "id": "z3sMbGHqCgKK",
    "outputId": "507d4822-e80d-4453-a0c9-80edea0b5281"
   },
   "outputs": [
    {
     "name": "stdout",
     "output_type": "stream",
     "text": [
      "After appending of element at the end of list  : ['prasad', ' reddy', 1, 2, 3, 4, 6, 'pwSkills']\n"
     ]
    }
   ],
   "source": [
    "lst = [\"prasad\",\" reddy\",1,2,3,4,6]\n",
    "\n",
    "lst.append(\"pwSkills\")  #using append() function\n",
    "\n",
    "print(f\"After appending of element at the end of list  : {lst}\")"
   ]
  },
  {
   "cell_type": "markdown",
   "metadata": {
    "id": "FKSrTypvDIC1"
   },
   "source": [
    "### 4. Insert an element at a specific index in a list."
   ]
  },
  {
   "cell_type": "code",
   "execution_count": null,
   "metadata": {
    "colab": {
     "base_uri": "https://localhost:8080/"
    },
    "id": "4kbImFU9DNSp",
    "outputId": "19b1a81d-171b-4e13-f439-7c19a1c88d81"
   },
   "outputs": [
    {
     "name": "stdout",
     "output_type": "stream",
     "text": [
      "enter index value at a particular position : 1\n",
      "enter element to add : ayithi\n",
      "['prasad ', 'ayithi', 'reddy']\n"
     ]
    }
   ],
   "source": [
    "lst = [\"prasad \",\"reddy\"]\n",
    "\n",
    "index = int(input(\"enter index value at a particular position : \"))\n",
    "\n",
    "element = input(\"enter element to add : \")\n",
    "\n",
    "\n",
    "lst.insert(index,element)\n",
    "\n",
    "print(lst)"
   ]
  },
  {
   "cell_type": "markdown",
   "metadata": {
    "id": "SoT39xvIFmXi"
   },
   "source": [
    "### 5. Remove an element from a list by its value.\n",
    "\n"
   ]
  },
  {
   "cell_type": "code",
   "execution_count": null,
   "metadata": {
    "colab": {
     "base_uri": "https://localhost:8080/"
    },
    "id": "YWAJG8mdF3fo",
    "outputId": "0e1c2111-216d-4a71-8bec-47f41f213117"
   },
   "outputs": [
    {
     "name": "stdout",
     "output_type": "stream",
     "text": [
      "[1, 2, 54, 'prasad', 'skills']\n"
     ]
    }
   ],
   "source": [
    "lst = [1,2,54,\"prasad\",\"pw\",\"skills\"]\n",
    "\n",
    "lst.remove(\"pw\")  #using remove function\n",
    "\n",
    "print(lst)"
   ]
  },
  {
   "cell_type": "markdown",
   "metadata": {
    "id": "bd7dEucxGySt"
   },
   "source": [
    "### 6. Remove an element from a list by its index."
   ]
  },
  {
   "cell_type": "code",
   "execution_count": null,
   "metadata": {
    "colab": {
     "base_uri": "https://localhost:8080/"
    },
    "id": "V36SZEf5FrOJ",
    "outputId": "ed27250a-5253-4cf9-f9ac-a32ae0db9a1c"
   },
   "outputs": [
    {
     "name": "stdout",
     "output_type": "stream",
     "text": [
      "[1, 2, 54, 'pw', 'skills']\n"
     ]
    }
   ],
   "source": [
    "lst = [1,2,54,\"prasad\",\"pw\",\"skills\"]\n",
    "\n",
    "lst.pop(3)  #using pop function\n",
    "\n",
    "print(lst)"
   ]
  },
  {
   "cell_type": "markdown",
   "metadata": {
    "id": "w5joOECeHNTe"
   },
   "source": [
    "### 7. Check if an element exists in a list."
   ]
  },
  {
   "cell_type": "code",
   "execution_count": null,
   "metadata": {
    "colab": {
     "base_uri": "https://localhost:8080/"
    },
    "id": "i95zqJg_HRjz",
    "outputId": "cb7184f4-ec47-4242-af48-82fc0539f897"
   },
   "outputs": [
    {
     "name": "stdout",
     "output_type": "stream",
     "text": [
      "enter element name to check  : data\n",
      "given element is in list\n"
     ]
    }
   ],
   "source": [
    "lst = [\"pw\",\"skills\",\"data\",\"science\"]\n",
    "\n",
    "element = input(\"enter element name to check  : \")\n",
    "\n",
    "if element in lst:\n",
    "  print(\"given element is in list\")\n",
    "else:\n",
    "  print(\"given element is not in list\")"
   ]
  },
  {
   "cell_type": "markdown",
   "metadata": {
    "id": "DxLbxYXzIJK4"
   },
   "source": [
    "### 8. Find the index of the first occurrence of an element in a list."
   ]
  },
  {
   "cell_type": "code",
   "execution_count": null,
   "metadata": {
    "colab": {
     "base_uri": "https://localhost:8080/"
    },
    "id": "NjMxNxKlIGl8",
    "outputId": "a4ccddf7-7e60-4d69-f0c0-94e5f11ed7e8"
   },
   "outputs": [
    {
     "name": "stdout",
     "output_type": "stream",
     "text": [
      "the first occurance of 'data' is at index : 2\n"
     ]
    }
   ],
   "source": [
    "lst = [\"pw\",\"skills\",\"data\",\"science\"]\n",
    "\n",
    "ind = \"data\"\n",
    "\n",
    "result = lst.index(ind)  # using index()\n",
    "\n",
    "print(f\"the first occurance of '{ind}' is at index : {result}\")"
   ]
  },
  {
   "cell_type": "markdown",
   "metadata": {
    "id": "fk764KpKJzMg"
   },
   "source": [
    "### 9. Count the occurrences of an element in a list."
   ]
  },
  {
   "cell_type": "code",
   "execution_count": null,
   "metadata": {
    "colab": {
     "base_uri": "https://localhost:8080/"
    },
    "id": "xmOmkIKtI7iW",
    "outputId": "75725f18-3ba4-4ef7-a900-fe427ec444d9"
   },
   "outputs": [
    {
     "name": "stdout",
     "output_type": "stream",
     "text": [
      "the count of '2' is : 3\n"
     ]
    }
   ],
   "source": [
    "lst = [2,6,32,76,34,2,3,65,2]\n",
    "\n",
    "element = 2\n",
    "\n",
    "count = 0\n",
    "\n",
    "for i in lst:\n",
    "  if i == element:\n",
    "    count+=1\n",
    "\n",
    "print(f\"the count of '{element}' is : {count}\")\n"
   ]
  },
  {
   "cell_type": "markdown",
   "metadata": {
    "id": "YLoYxSm4K7Zl"
   },
   "source": [
    "### 10. Reverse the order of elements in a list."
   ]
  },
  {
   "cell_type": "code",
   "execution_count": null,
   "metadata": {
    "colab": {
     "base_uri": "https://localhost:8080/"
    },
    "id": "PzjwujyYI8Ig",
    "outputId": "2674bcd7-0238-4057-83d1-fdd732200ee4"
   },
   "outputs": [
    {
     "name": "stdout",
     "output_type": "stream",
     "text": [
      "before : ['pw', 'skills', 'best', 'data science']\n",
      "after reversed : ['data science', 'best', 'skills', 'pw']\n"
     ]
    }
   ],
   "source": [
    "lst = [\"pw\",\"skills\",\"best\",\"data science\"]\n",
    "\n",
    "reverse_list = lst [::-1]  # using slicing\n",
    "\n",
    "print(f\"before : {lst}\")\n",
    "print(f\"after reversed : {reverse_list}\")"
   ]
  },
  {
   "cell_type": "markdown",
   "metadata": {
    "id": "-8L1VfhHLooJ"
   },
   "source": [
    "### 11. Sort a list in ascending order."
   ]
  },
  {
   "cell_type": "code",
   "execution_count": null,
   "metadata": {
    "colab": {
     "base_uri": "https://localhost:8080/"
    },
    "id": "Abyu6hL_LjkJ",
    "outputId": "2161a293-833b-41ea-b9eb-f6afe4f461cf"
   },
   "outputs": [
    {
     "name": "stdout",
     "output_type": "stream",
     "text": [
      "[2, 2, 2, 3, 6, 32, 34, 65, 76]\n"
     ]
    }
   ],
   "source": [
    "lst = [2,6,32,76,34,2,3,65,2]\n",
    "\n",
    "lst.sort(reverse=False)  # using sort function\n",
    "\n",
    "print(lst)"
   ]
  },
  {
   "cell_type": "markdown",
   "metadata": {
    "id": "-0fflHAiMjVR"
   },
   "source": [
    "### 12. Sort a list in descending order."
   ]
  },
  {
   "cell_type": "code",
   "execution_count": null,
   "metadata": {
    "colab": {
     "base_uri": "https://localhost:8080/"
    },
    "id": "KIoLrfIcMJqH",
    "outputId": "6b13431b-2e24-466b-e959-d7061da83019"
   },
   "outputs": [
    {
     "name": "stdout",
     "output_type": "stream",
     "text": [
      "[76, 65, 34, 32, 6, 3, 2, 2, 2]\n"
     ]
    }
   ],
   "source": [
    "lst = [2,6,32,76,34,2,3,65,2]\n",
    "\n",
    "lst.sort(reverse=True)  # using sort function\n",
    "\n",
    "print(lst)"
   ]
  },
  {
   "cell_type": "markdown",
   "metadata": {
    "id": "c_EDWfCqNFdc"
   },
   "source": [
    "### 13. Create a list of even numbers from 1 to 20."
   ]
  },
  {
   "cell_type": "code",
   "execution_count": null,
   "metadata": {
    "colab": {
     "base_uri": "https://localhost:8080/"
    },
    "id": "Df1shC-JNAgs",
    "outputId": "e89b78d0-7f3b-439c-d760-d1f9bd65f48f"
   },
   "outputs": [
    {
     "data": {
      "text/plain": [
       "[2, 4, 6, 8, 10, 12, 14, 16, 18]"
      ]
     },
     "execution_count": 109,
     "metadata": {},
     "output_type": "execute_result"
    }
   ],
   "source": [
    "lst = [i for i in range(1,20) if i%2==0] # using list comprehension\n",
    "lst\n"
   ]
  },
  {
   "cell_type": "markdown",
   "metadata": {
    "id": "Q3iAqwgUNuG5"
   },
   "source": [
    "### 14. Create a list of odd numbers from 1 to 20."
   ]
  },
  {
   "cell_type": "code",
   "execution_count": null,
   "metadata": {
    "colab": {
     "base_uri": "https://localhost:8080/"
    },
    "id": "i5p6HZ9NNP5-",
    "outputId": "a42b0154-7290-49d7-8b11-dd04da8c02e4"
   },
   "outputs": [
    {
     "data": {
      "text/plain": [
       "[1, 3, 5, 7, 9, 11, 13, 15, 17, 19]"
      ]
     },
     "execution_count": 110,
     "metadata": {},
     "output_type": "execute_result"
    }
   ],
   "source": [
    "lst = [i for i in range(1,20) if i%2!=0] # using list comprehension\n",
    "lst\n"
   ]
  },
  {
   "cell_type": "markdown",
   "metadata": {
    "id": "gcNlnkRtN4XI"
   },
   "source": [
    "### 15. Find the sum of all elements in a list."
   ]
  },
  {
   "cell_type": "code",
   "execution_count": null,
   "metadata": {
    "colab": {
     "base_uri": "https://localhost:8080/"
    },
    "id": "fbf3AYH2N0kW",
    "outputId": "1ce0eab9-6514-4a84-ade4-41b8f99c473d"
   },
   "outputs": [
    {
     "name": "stdout",
     "output_type": "stream",
     "text": [
      "the sum of list is : 100\n"
     ]
    }
   ],
   "source": [
    "lst = [1, 3, 5, 7, 9, 11, 13, 15, 17, 19]\n",
    "\n",
    "print(f\"the sum of list is : {sum(lst)}\")"
   ]
  },
  {
   "cell_type": "markdown",
   "metadata": {
    "id": "4sKLDSyoWgDM"
   },
   "source": [
    "### 16. Find the maximum value in a list."
   ]
  },
  {
   "cell_type": "code",
   "execution_count": null,
   "metadata": {
    "id": "zE8tOLBtN_2S"
   },
   "outputs": [],
   "source": [
    "lst = [1, 3, 5, 7, 9, 11, 13, 15, 17, 19]\n",
    "\n",
    "maximum = max(lst)\n",
    "\n",
    "print(f\"The maximum number of the list is: {maximum}\")\n"
   ]
  },
  {
   "cell_type": "markdown",
   "metadata": {
    "id": "_59lLGZLZFrE"
   },
   "source": [
    "### 17. Find the minimum value in a list."
   ]
  },
  {
   "cell_type": "code",
   "execution_count": null,
   "metadata": {
    "colab": {
     "base_uri": "https://localhost:8080/"
    },
    "id": "9zRgggPoWmsq",
    "outputId": "c374559d-abdd-406e-83ec-472da7bcf3f3"
   },
   "outputs": [
    {
     "name": "stdout",
     "output_type": "stream",
     "text": [
      "The maximum number of the list is: 1\n"
     ]
    }
   ],
   "source": [
    "lst = [1, 3, 5, 7, 9, 11, 13, 15, 17, 19]\n",
    "print(f\"The maximum number of the list is: {min(lst)}\")\n"
   ]
  },
  {
   "cell_type": "markdown",
   "metadata": {
    "id": "2EwW5s3Qf4L0"
   },
   "source": [
    "### 18. Create a list of squares of numbers from 1 to 10."
   ]
  },
  {
   "cell_type": "code",
   "execution_count": null,
   "metadata": {
    "colab": {
     "base_uri": "https://localhost:8080/"
    },
    "id": "guu9CH4fZMz0",
    "outputId": "dccbd88b-864b-4e32-e219-c1bc1df7ff82"
   },
   "outputs": [
    {
     "name": "stdout",
     "output_type": "stream",
     "text": [
      "[1, 4, 9, 16, 25, 36, 49, 64, 81]\n"
     ]
    }
   ],
   "source": [
    "lst = [i**2 for i in range(1,10)] # using list comprehension\n",
    "\n",
    "print(lst)"
   ]
  },
  {
   "cell_type": "markdown",
   "metadata": {
    "id": "5BatkoDugUVl"
   },
   "source": [
    "### 19. Create a list of random numbers."
   ]
  },
  {
   "cell_type": "code",
   "execution_count": null,
   "metadata": {
    "colab": {
     "base_uri": "https://localhost:8080/"
    },
    "id": "RKeKu2P0b67J",
    "outputId": "7aaf1b46-9c61-49fb-fc2f-9cb4d273e1a5"
   },
   "outputs": [
    {
     "name": "stdout",
     "output_type": "stream",
     "text": [
      "[54, 43, 7, 100, 97, 75, 43, 92, 58]\n"
     ]
    }
   ],
   "source": [
    "import random  # importing random module\n",
    "lst = [random.randint(1,100) for _ in range(1,10)]  #using list comrehension\n",
    "\n",
    "print(lst)"
   ]
  },
  {
   "cell_type": "markdown",
   "metadata": {
    "id": "B2uHU8OhhhJg"
   },
   "source": [
    "### 20. Remove duplicates from a list."
   ]
  },
  {
   "cell_type": "code",
   "execution_count": null,
   "metadata": {
    "id": "5lTLp1tfhIHm"
   },
   "outputs": [],
   "source": [
    "lst = [2,3,9,2,5,10,3,5,2] #list\n",
    "\n",
    "with_out_duplicates = set(lst) # converting into set due to set not allows duplicates\n",
    "\n",
    "result = list(with_out_duplicates)  # converting set into list\n",
    "\n",
    "print(result)  # displaying the result"
   ]
  },
  {
   "cell_type": "markdown",
   "metadata": {
    "id": "M8FSdvbbjMkD"
   },
   "source": [
    "### 21. Find the common elements between two lists."
   ]
  },
  {
   "cell_type": "code",
   "execution_count": null,
   "metadata": {
    "colab": {
     "base_uri": "https://localhost:8080/"
    },
    "id": "5LTMqY8xiPn8",
    "outputId": "f7ed5a6c-feb4-43b5-fa8b-c0bf2eea9b03"
   },
   "outputs": [
    {
     "name": "stdout",
     "output_type": "stream",
     "text": [
      "['prasad', 'mohit', 'dileep']\n"
     ]
    }
   ],
   "source": [
    "lst1 = [\"prasad\",\"reddy\",\"mohit\",\"dileep\"]\n",
    "lst2 = [\"mohit\",\"dinesh\",\"dileep\",\"prasad\",\"king\"]\n",
    "\n",
    "result_list=[]\n",
    "\n",
    "for i in lst1:\n",
    "  if i in lst2:\n",
    "\n",
    "    result_list.append(i) # appending common elements\n",
    "\n",
    "for i in lst2:\n",
    "  if i not in lst1:\n",
    "\n",
    "    result.append(i) # appending value to list\n",
    "\n",
    "print(result_list)\n"
   ]
  },
  {
   "cell_type": "markdown",
   "metadata": {
    "id": "F87lZwhYqbgH"
   },
   "source": [
    "### 22. Find the difference between two lists."
   ]
  },
  {
   "cell_type": "code",
   "execution_count": null,
   "metadata": {
    "colab": {
     "base_uri": "https://localhost:8080/"
    },
    "id": "7Zkb22k-qHrQ",
    "outputId": "e3d4d7c9-06ac-4528-faf0-d5bf2ef80bbb"
   },
   "outputs": [
    {
     "name": "stdout",
     "output_type": "stream",
     "text": [
      "['reddy', 'dinesh', 'king']\n"
     ]
    }
   ],
   "source": [
    "lst1 = [\"prasad\",\"reddy\",\"mohit\",\"dileep\"]\n",
    "lst2 = [\"mohit\",\"dinesh\",\"dileep\",\"prasad\",\"king\"]\n",
    "\n",
    "result = []  # empty list\n",
    "\n",
    "for i in lst1:\n",
    "  if i not in lst2:\n",
    "\n",
    "    result.append(i) # appending value to list\n",
    "\n",
    "for i in lst2:\n",
    "  if i not in lst1:\n",
    "\n",
    "    result.append(i) # appending value to list\n",
    "\n",
    "print(result)\n"
   ]
  },
  {
   "cell_type": "markdown",
   "metadata": {
    "id": "d3x6yAD_tODE"
   },
   "source": [
    "### 23. Merge two lists."
   ]
  },
  {
   "cell_type": "code",
   "execution_count": null,
   "metadata": {
    "colab": {
     "base_uri": "https://localhost:8080/"
    },
    "id": "1CK8p6Qkr7yy",
    "outputId": "f390ba13-a3a6-4739-d512-db71391ff878"
   },
   "outputs": [
    {
     "name": "stdout",
     "output_type": "stream",
     "text": [
      "['prasad', 'reddy', 'mohit', 'dileep', 'mohit', 'dinesh', 'dileep', 'prasad']\n"
     ]
    }
   ],
   "source": [
    "lst1 = [\"prasad\",\"reddy\",\"mohit\",\"dileep\"]\n",
    "lst2 = [\"mohit\",\"dinesh\",\"dileep\",\"prasad\"]\n",
    "\n",
    "result = lst1+lst2\n",
    "\n",
    "print(result)"
   ]
  },
  {
   "cell_type": "markdown",
   "metadata": {
    "id": "Om631-gXuQUM"
   },
   "source": [
    "### 24. Multiply all elements in a list by 2."
   ]
  },
  {
   "cell_type": "code",
   "execution_count": null,
   "metadata": {
    "colab": {
     "base_uri": "https://localhost:8080/"
    },
    "id": "dv7seW09t_cu",
    "outputId": "c93d233d-feb6-4edd-e397-409ea4e9b5e3"
   },
   "outputs": [
    {
     "name": "stdout",
     "output_type": "stream",
     "text": [
      "[4, 12, 10, 4, 10]\n"
     ]
    }
   ],
   "source": [
    "lst = [2,6,5,2,5]\n",
    "\n",
    "result = [i*2 for i in lst] # using list comprehension\n",
    "\n",
    "print(result)"
   ]
  },
  {
   "cell_type": "markdown",
   "metadata": {
    "id": "FBhR1DBtvH0f"
   },
   "source": [
    "### 25. Filter out all even numbers from a list."
   ]
  },
  {
   "cell_type": "code",
   "execution_count": null,
   "metadata": {
    "colab": {
     "base_uri": "https://localhost:8080/"
    },
    "id": "E2awdzDxu8pp",
    "outputId": "345bd0a0-2e80-4c72-b1fa-3ef49add993d"
   },
   "outputs": [
    {
     "name": "stdout",
     "output_type": "stream",
     "text": [
      "[2, 6, 2, 6, 8, 14]\n"
     ]
    }
   ],
   "source": [
    "lst = [2,6,5,2,5,6,8,14]\n",
    "\n",
    "result = [i for i in lst if i%2==0] # using list comprehension\n",
    "\n",
    "print(result)"
   ]
  },
  {
   "cell_type": "markdown",
   "metadata": {
    "id": "qj740bBQvpjJ"
   },
   "source": [
    "### 26. Convert a list of strings to a list of integers."
   ]
  },
  {
   "cell_type": "code",
   "execution_count": null,
   "metadata": {
    "colab": {
     "base_uri": "https://localhost:8080/"
    },
    "id": "Ad5ZbjnQvnjs",
    "outputId": "12ce3803-621d-4eda-d6ea-8b04639777ef"
   },
   "outputs": [
    {
     "name": "stdout",
     "output_type": "stream",
     "text": [
      "[1, 2, 3, 5]\n"
     ]
    }
   ],
   "source": [
    "lst = [\"1\",\"2\",\"3\",\"5\"]\n",
    "\n",
    "result = [int(i) for i in lst] # using list comprehension\n",
    "\n",
    "print(result)"
   ]
  },
  {
   "cell_type": "markdown",
   "metadata": {
    "id": "O-KVufj7wjVn"
   },
   "source": [
    "### 27. Convert a list of integers to a list of strings."
   ]
  },
  {
   "cell_type": "code",
   "execution_count": null,
   "metadata": {
    "colab": {
     "base_uri": "https://localhost:8080/"
    },
    "id": "TmFZPagBwOQM",
    "outputId": "c55be1c2-44ab-426e-8f29-94e1ada081b2"
   },
   "outputs": [
    {
     "name": "stdout",
     "output_type": "stream",
     "text": [
      "['1', '2', '3', '4', '5']\n"
     ]
    }
   ],
   "source": [
    "lst = [1,2,3,4,5]\n",
    "\n",
    "result = [str(i) for i in lst] # using list comprehension\n",
    "\n",
    "print(result)"
   ]
  },
  {
   "cell_type": "markdown",
   "metadata": {
    "id": "dYPXJesRxCxc"
   },
   "source": [
    "### 28. Flatten a nested list."
   ]
  },
  {
   "cell_type": "code",
   "execution_count": null,
   "metadata": {
    "id": "QBWN5Bdywwzl"
   },
   "outputs": [],
   "source": [
    "def flatten_list(nested_list):\n",
    "    flattened = []\n",
    "    for item in nested_list:\n",
    "        if isinstance(item, list):\n",
    "            flattened.extend(flatten_list(item))\n",
    "        else:\n",
    "            flattened.append(item)\n",
    "    return flattened\n",
    "\n",
    "# Example nested list\n",
    "nested_list = [1, [2, 3], [4, [5, 6]], 7]\n",
    "\n",
    "# Flatten the nested list\n",
    "flattened_list = flatten_list(nested_list)\n",
    "\n",
    "print(flattened_list)\n"
   ]
  },
  {
   "cell_type": "markdown",
   "metadata": {
    "id": "RGJ-mRo-0dEi"
   },
   "source": [
    "### 29. Create a list of the first 10 Fibonacci numbers."
   ]
  },
  {
   "cell_type": "code",
   "execution_count": null,
   "metadata": {
    "colab": {
     "base_uri": "https://localhost:8080/"
    },
    "id": "v90ukRnPyJcQ",
    "outputId": "b143be98-0d7c-4722-f861-20317d57c5b4"
   },
   "outputs": [
    {
     "name": "stdout",
     "output_type": "stream",
     "text": [
      "[0, 1, 1, 2, 3, 5, 8, 13, 21, 34]\n"
     ]
    }
   ],
   "source": [
    "n = 10\n",
    "\n",
    "lst = [0,1] #initially we have to declare first two fibonacci numbers in lst\n",
    "\n",
    "while True:\n",
    "  if len(lst)<n:\n",
    "    lst.append(lst[-1]+lst[-2]) # appending of sum of last two digits\n",
    "  else:\n",
    "    break    # when length is completed it will break the loop\n",
    "\n",
    "print(lst)"
   ]
  },
  {
   "cell_type": "markdown",
   "metadata": {
    "id": "dxwtAG4U29Di"
   },
   "source": [
    "### 30. Check if a list is sorted."
   ]
  },
  {
   "cell_type": "code",
   "execution_count": null,
   "metadata": {
    "colab": {
     "base_uri": "https://localhost:8080/"
    },
    "id": "wq5XukNI1p4A",
    "outputId": "ab93c82e-d12f-4a44-e5a9-59666a5c1404"
   },
   "outputs": [
    {
     "name": "stdout",
     "output_type": "stream",
     "text": [
      "This list is not sorted in ascending order.\n"
     ]
    }
   ],
   "source": [
    "lst = [2, 4, 5, 2, 1]\n",
    "sorted_flag = True  # initially declaring True\n",
    "\n",
    "for i in range(len(lst) - 1):\n",
    "    if lst[i] > lst[i + 1]:    # checking if the number is greaterthen or not\n",
    "        sorted_flag = False\n",
    "        break  # if it greater then loop will break\n",
    "\n",
    "if sorted_flag:\n",
    "    print(\"This list is sorted in ascending order.\")\n",
    "else:\n",
    "    print(\"This list is not sorted in ascending order.\")\n"
   ]
  },
  {
   "cell_type": "markdown",
   "metadata": {
    "id": "3AbwgDHd5oZ2"
   },
   "source": [
    "### 31. Rotate a list to the left by `n` positions."
   ]
  },
  {
   "cell_type": "code",
   "execution_count": null,
   "metadata": {
    "colab": {
     "base_uri": "https://localhost:8080/"
    },
    "id": "iKv1junF2sjI",
    "outputId": "88d2a670-5bb5-40f6-a196-1923419b66a1"
   },
   "outputs": [
    {
     "name": "stdout",
     "output_type": "stream",
     "text": [
      "enter n value for move the list towards left : 2\n",
      "[3, 4, 5, 1, 2]\n"
     ]
    }
   ],
   "source": [
    "n = int(input(\"enter n value for move the list towards left : \"))\n",
    "\n",
    "lst = [1,2,3,4,5]\n",
    "\n",
    "result = lst[n:]+lst[:n]  # using slicing\n",
    "\n",
    "print(result)"
   ]
  },
  {
   "cell_type": "markdown",
   "metadata": {
    "id": "lfz4TNC88H9N"
   },
   "source": [
    "### 32. Rotate a list to the right by `n` positions."
   ]
  },
  {
   "cell_type": "code",
   "execution_count": null,
   "metadata": {
    "colab": {
     "base_uri": "https://localhost:8080/"
    },
    "id": "HuhknDNC7vi4",
    "outputId": "5a4f70ac-9466-457c-d40b-cf7482c69a85"
   },
   "outputs": [
    {
     "name": "stdout",
     "output_type": "stream",
     "text": [
      "enter n value for move the list towards right : 2\n",
      "[4, 5, 1, 2, 3]\n"
     ]
    }
   ],
   "source": [
    "n = int(input(\"enter n value for move the list towards right : \"))\n",
    "\n",
    "lst = [1,2,3,4,5]\n",
    "\n",
    "result = lst[-n:]+lst[:-n]  # using slicing\n",
    "\n",
    "print(result)"
   ]
  },
  {
   "cell_type": "markdown",
   "metadata": {
    "id": "NCgDzlGf8sbQ"
   },
   "source": [
    "### 33. Create a list of prime numbers up to 50."
   ]
  },
  {
   "cell_type": "code",
   "execution_count": null,
   "metadata": {
    "colab": {
     "base_uri": "https://localhost:8080/"
    },
    "id": "i2fcKLwW-Ltx",
    "outputId": "44323ac4-2d19-43ed-ad21-c5b163f6cab8"
   },
   "outputs": [
    {
     "name": "stdout",
     "output_type": "stream",
     "text": [
      "[2, 3, 5, 7, 11, 13, 17, 19, 23, 29, 31, 37, 41, 43, 47]\n"
     ]
    }
   ],
   "source": [
    "lst = []\n",
    "\n",
    "for i in range(2, 51):  # Start from 2, as 0 and 1 are not prime.\n",
    "    is_prime = True\n",
    "    for j in range(2, i):\n",
    "        if i % j == 0:\n",
    "            is_prime = False\n",
    "            break\n",
    "    if is_prime:\n",
    "        lst.append(i)\n",
    "\n",
    "print(lst)\n"
   ]
  },
  {
   "cell_type": "markdown",
   "metadata": {
    "id": "QMDQ9s5-M54_"
   },
   "source": [
    "### 34. Split a list into chunks of size `n`."
   ]
  },
  {
   "cell_type": "code",
   "execution_count": null,
   "metadata": {
    "colab": {
     "base_uri": "https://localhost:8080/"
    },
    "id": "rtYMYv-2Kxf1",
    "outputId": "d71eae3d-dc45-46bb-d6a5-41b39c2aace6"
   },
   "outputs": [
    {
     "name": "stdout",
     "output_type": "stream",
     "text": [
      "enter number  for chunk size  : 3\n",
      "[[1, 2, 3], [4, 5, 6], [7, 7, 9]]\n"
     ]
    }
   ],
   "source": [
    "lst = [1,2,3,4,5,6,7,7,9]\n",
    "\n",
    "n = int(input(\"enter number  for chunk size  : \"))  # taking chunk size from the user\n",
    "\n",
    "whole_list = []   # empty list\n",
    "\n",
    "nested_list = []   # empty list\n",
    "\n",
    "while lst:\n",
    "  nested_list = lst[:n]   # storing first n number s\n",
    "\n",
    "  whole_list.append(nested_list)  # adding that first numbers into whole_list\n",
    "\n",
    "  lst = lst [n:]   # removing first n numbers from original list using list\n",
    "\n",
    "\n",
    "print(whole_list)"
   ]
  },
  {
   "cell_type": "markdown",
   "metadata": {
    "id": "u8Wx0Z0cS-F-"
   },
   "source": [
    "### 35. Find the second largest number in a list."
   ]
  },
  {
   "cell_type": "code",
   "execution_count": null,
   "metadata": {
    "colab": {
     "base_uri": "https://localhost:8080/"
    },
    "id": "pyJ7ktvCNnEv",
    "outputId": "a5d1b9fb-e8af-4362-9b34-707c5571aeb4"
   },
   "outputs": [
    {
     "name": "stdout",
     "output_type": "stream",
     "text": [
      "The second largest number is : 88\n"
     ]
    }
   ],
   "source": [
    "lst = [2,5,10,65,88,98]\n",
    "\n",
    "lst.sort(reverse = False)  # sorting using sort function\n",
    "\n",
    "print(f\"The second largest number is : {lst[-2]}\")  # getting result using reverse index\n"
   ]
  },
  {
   "cell_type": "markdown",
   "metadata": {
    "id": "rpfEE8zUVQLX"
   },
   "source": [
    "### 36. Replace every element in a list with its square."
   ]
  },
  {
   "cell_type": "code",
   "execution_count": null,
   "metadata": {
    "colab": {
     "base_uri": "https://localhost:8080/"
    },
    "id": "MZ-BQOqvVE1L",
    "outputId": "180488df-8958-49da-bb76-f8bf05257b94"
   },
   "outputs": [
    {
     "name": "stdout",
     "output_type": "stream",
     "text": [
      "[4, 16, 36, 4, 25, 49]\n"
     ]
    }
   ],
   "source": [
    "lst = [2,4,6,2,5,7]\n",
    "\n",
    "count = 0  # initializing 0 for further use\n",
    "\n",
    "for i in lst:\n",
    "\n",
    "  lst[count] = i ** 2  # squarring of count index value\n",
    "  count+=1  # incrementing\n",
    "\n",
    "print(lst)"
   ]
  },
  {
   "cell_type": "markdown",
   "metadata": {
    "id": "wJhnIbcYWN67"
   },
   "source": [
    "### 37. Convert a list to a dictionary where list elements become keys and their indices become values."
   ]
  },
  {
   "cell_type": "code",
   "execution_count": null,
   "metadata": {
    "colab": {
     "base_uri": "https://localhost:8080/"
    },
    "id": "8_E0MhYyVoyS",
    "outputId": "27dac553-9667-48fa-cb60-1bd01fb409c0"
   },
   "outputs": [
    {
     "name": "stdout",
     "output_type": "stream",
     "text": [
      "{'Prasad': 0, 'reddy': 1, 'mohit': 2, 'dileep': 3, 'pavan': 4, 'jogi': 5, 'dinesh': 6, 'shannnu': 7}\n"
     ]
    }
   ],
   "source": [
    "lst = [\"Prasad\",\"reddy\",\"mohit\",\"dileep\",\"pavan\",\"jogi\",\"dinesh\",\"shannnu\"]\n",
    "\n",
    "dictionary = {} # creating empty dictionary\n",
    "count = 0\n",
    "\n",
    "for i in lst:\n",
    "\n",
    "  dictionary[i] = count  # assing index as value to key\n",
    "  count += 1  # incrementing\n",
    "\n",
    "print(dictionary)"
   ]
  },
  {
   "cell_type": "markdown",
   "metadata": {
    "id": "QE4mXvWUXhvL"
   },
   "source": [
    "### 38. Shuffle the elements of a list randomly."
   ]
  },
  {
   "cell_type": "code",
   "execution_count": null,
   "metadata": {
    "colab": {
     "base_uri": "https://localhost:8080/"
    },
    "id": "DD3PzUDeW5j_",
    "outputId": "b1be4c26-4677-4fdf-dca4-47fa49a57ddb"
   },
   "outputs": [
    {
     "name": "stdout",
     "output_type": "stream",
     "text": [
      "['d', 'c', 'a', 'b', 'e']\n"
     ]
    }
   ],
   "source": [
    "import random  # importing random\n",
    "\n",
    "lst = [\"a\",\"b\",\"c\",\"d\",\"e\"]\n",
    "\n",
    "random.shuffle(lst)  # using random module\n",
    "\n",
    "print(lst)"
   ]
  },
  {
   "cell_type": "markdown",
   "metadata": {
    "id": "BxqHgzEKZJL-"
   },
   "source": [
    "### 39. Create a list of the first 10 factorial numbers."
   ]
  },
  {
   "cell_type": "code",
   "execution_count": null,
   "metadata": {
    "colab": {
     "base_uri": "https://localhost:8080/"
    },
    "id": "kM_4EInSYnLa",
    "outputId": "69343d26-313b-481b-c36c-2f2cd04c9eaf"
   },
   "outputs": [
    {
     "name": "stdout",
     "output_type": "stream",
     "text": [
      "[1, 1, 2, 6, 24, 120, 720, 5040, 40320, 362880]\n"
     ]
    }
   ],
   "source": [
    "lst = []   #empty list\n",
    "\n",
    "for i in range(10): # iterating till 10 numbers\n",
    "\n",
    "  ans = 1  # initiallize  1 for multiplication\n",
    "\n",
    "  for j in range(1,i+1):  # iterating 1 to current value\n",
    "    ans*=j\n",
    "\n",
    "  lst.append(ans)\n",
    "  ans = 1\n",
    "\n",
    "print(lst)\n",
    "\n"
   ]
  },
  {
   "cell_type": "markdown",
   "metadata": {
    "id": "gL7eepzxen-E"
   },
   "source": [
    "### 40. Check if two lists have at least one element in common."
   ]
  },
  {
   "cell_type": "code",
   "execution_count": null,
   "metadata": {
    "colab": {
     "base_uri": "https://localhost:8080/"
    },
    "id": "Ezd-T69NdmvB",
    "outputId": "85f61f8a-0234-4b09-ff97-8a28a9c4c570"
   },
   "outputs": [
    {
     "name": "stdout",
     "output_type": "stream",
     "text": [
      "these lists dont have common elements\n"
     ]
    }
   ],
   "source": [
    "lst1 = [\"prasad\",2,4,5,6,\"dileep\"]\n",
    "lst2 = [1,7,3]\n",
    "\n",
    "common_elements = set(lst1).intersection(set(lst2))\n",
    "\n",
    "if common_elements :\n",
    "  print(\"these lists lists have common elements\")\n",
    "else:\n",
    "  print(\"these lists dont have common elements\")\n"
   ]
  },
  {
   "cell_type": "markdown",
   "metadata": {
    "id": "4p6Rtk1cj7a9"
   },
   "source": [
    "### 41. Remove all elements from a list."
   ]
  },
  {
   "cell_type": "code",
   "execution_count": null,
   "metadata": {
    "colab": {
     "base_uri": "https://localhost:8080/"
    },
    "id": "r4H-qjRTjj21",
    "outputId": "20e2fc8e-192e-41d3-9752-a15e39cede6b"
   },
   "outputs": [
    {
     "name": "stdout",
     "output_type": "stream",
     "text": [
      "[]\n"
     ]
    }
   ],
   "source": [
    "lst = [1,23,5,6,3]\n",
    "\n",
    "lst.clear()  # clearing list using clear function\n",
    "\n",
    "print(lst)"
   ]
  },
  {
   "cell_type": "markdown",
   "metadata": {
    "id": "1lQwu3BWkRMm"
   },
   "source": [
    "### 42. Replace negative numbers in a list with 0."
   ]
  },
  {
   "cell_type": "code",
   "execution_count": null,
   "metadata": {
    "colab": {
     "base_uri": "https://localhost:8080/"
    },
    "id": "hdg7xVZ4kIDu",
    "outputId": "45804bba-74d0-4d23-fcf1-cd78ba670cbe"
   },
   "outputs": [
    {
     "name": "stdout",
     "output_type": "stream",
     "text": [
      "before converting : [1, 3, -5, 7, -2]\n",
      "after convering : [1, 3, 0, 7, 0]\n"
     ]
    }
   ],
   "source": [
    "lst1= [1,3,-5,7,-2]\n",
    "count= 0\n",
    "result=[1,3,-5,7,-2]\n",
    "\n",
    "for i in result:\n",
    "\n",
    "  if i<0:  # checking if the number is negetive or not\n",
    "    result[count]=0    # assigning 0 to that index\n",
    "  count+=1\n",
    "\n",
    "print(f\"before converting : {lst1}\")\n",
    "print(f\"after convering : {result}\")"
   ]
  },
  {
   "cell_type": "markdown",
   "metadata": {
    "id": "vYFhGFCd7o0k"
   },
   "source": [
    "### 43. Convert a string into a list of words."
   ]
  },
  {
   "cell_type": "code",
   "execution_count": null,
   "metadata": {
    "colab": {
     "base_uri": "https://localhost:8080/"
    },
    "id": "fu-EL0cOlMdT",
    "outputId": "e7c79962-899d-428d-b74a-a506315d7e08"
   },
   "outputs": [
    {
     "name": "stdout",
     "output_type": "stream",
     "text": [
      "['Prasad', 'took', 'data', 'science', 'course', 'in', 'pw', 'skills']\n"
     ]
    }
   ],
   "source": [
    "string = \"Prasad took data science course in pw skills\"\n",
    "\n",
    "lst = string.split()  # splitting string using split function\n",
    "\n",
    "print(lst)"
   ]
  },
  {
   "cell_type": "markdown",
   "metadata": {
    "id": "VWswVL3-8tdT"
   },
   "source": [
    "### 44. Convert a list of words into a string."
   ]
  },
  {
   "cell_type": "code",
   "execution_count": null,
   "metadata": {
    "colab": {
     "base_uri": "https://localhost:8080/"
    },
    "id": "unawzRaOlN2u",
    "outputId": "64d67b38-46c2-4033-c995-85cc7656f76e"
   },
   "outputs": [
    {
     "name": "stdout",
     "output_type": "stream",
     "text": [
      "Prasad took data science course in pw skills\n"
     ]
    }
   ],
   "source": [
    "lst = ['Prasad', 'took', 'data', 'science', 'course', 'in', 'pw', 'skills']\n",
    "\n",
    "string = \" \".join(lst)  # using join function\n",
    "\n",
    "print(string)"
   ]
  },
  {
   "cell_type": "markdown",
   "metadata": {
    "id": "e00aqJFw-IQB"
   },
   "source": [
    "### 45. Create a list of the first `n` powers of 2."
   ]
  },
  {
   "cell_type": "code",
   "execution_count": null,
   "metadata": {
    "colab": {
     "base_uri": "https://localhost:8080/"
    },
    "id": "xLtfDLKO9Yv9",
    "outputId": "ec8f7554-7a8d-4634-f84b-eaab6c629a41"
   },
   "outputs": [
    {
     "name": "stdout",
     "output_type": "stream",
     "text": [
      "enter n value : 10\n",
      "[4, 8, 16, 32, 64, 128, 256, 512]\n"
     ]
    }
   ],
   "source": [
    "lst = []\n",
    "\n",
    "n=int(input(\"enter n value : \"))\n",
    "\n",
    "for i in range(2,n):\n",
    "  lst.append(2**i)  # appending square of each value\n",
    "\n",
    "print(lst)\n",
    "\n"
   ]
  },
  {
   "cell_type": "markdown",
   "metadata": {
    "id": "iyeJn_Ry_s1T"
   },
   "source": [
    "### 46. Find the longest string in a list of strings."
   ]
  },
  {
   "cell_type": "code",
   "execution_count": null,
   "metadata": {
    "colab": {
     "base_uri": "https://localhost:8080/"
    },
    "id": "UK-VRdTh_bgv",
    "outputId": "e42482a8-2a46-488a-f555-f0c48aa68001"
   },
   "outputs": [
    {
     "name": "stdout",
     "output_type": "stream",
     "text": [
      "Longest string(s): ['dileep kumar']\n"
     ]
    }
   ],
   "source": [
    "lst = [\"prasad\", \"mohit\", \"dileep kumar\", \"dinesh\", \"pavan\", \"jogi naidu\"]\n",
    "\n",
    "longest_strings = []  # A list to store all the longest strings\n",
    "maximum_length = 0\n",
    "\n",
    "for string in lst:\n",
    "    if len(string) > maximum_length:\n",
    "        longest_strings = [string]  # New longest string found\n",
    "        maximum_length = len(string)\n",
    "    elif len(string) == maximum_length:\n",
    "        longest_strings.append(string)  # Another string with the same maximum length\n",
    "\n",
    "print(\"Longest string(s):\", longest_strings)\n"
   ]
  },
  {
   "cell_type": "markdown",
   "metadata": {
    "id": "tzMvMa4uGawU"
   },
   "source": [
    "### 47. Find the shortest string in a list of strings."
   ]
  },
  {
   "cell_type": "code",
   "execution_count": null,
   "metadata": {
    "colab": {
     "base_uri": "https://localhost:8080/"
    },
    "id": "nDpPizEJB_io",
    "outputId": "0f6faf95-2fc8-464c-ad4d-d14df1cea7ce"
   },
   "outputs": [
    {
     "name": "stdout",
     "output_type": "stream",
     "text": [
      "shortest strings(s):  ['mohit', 'pavan']\n"
     ]
    }
   ],
   "source": [
    "lst = [\"prasad\", \"mohit\", \"dileep kumar\", \"dinesh\", \"pavan\", \"jogi naidu\"]\n",
    "\n",
    "minimum_string = []    # empty list\n",
    "\n",
    "minimum = len(lst[0])   # storing first string because comparing\n",
    "\n",
    "for string in lst :\n",
    "\n",
    "  if len(string) < minimum :  # checking length\n",
    "\n",
    "    minimum_string = [string]\n",
    "    minimum = len(string)\n",
    "\n",
    "  elif len(string) == minimum:   # checking if more than one string at same length\n",
    "\n",
    "    minimum_string.append(string)\n",
    "\n",
    "print(\"shortest strings(s): \",minimum_string)\n",
    "\n",
    "\n"
   ]
  },
  {
   "cell_type": "markdown",
   "metadata": {
    "id": "HC8RwHnlL_nR"
   },
   "source": [
    "### 48. Create a list of the first `n` triangular numbers."
   ]
  },
  {
   "cell_type": "code",
   "execution_count": null,
   "metadata": {
    "colab": {
     "base_uri": "https://localhost:8080/"
    },
    "id": "Z4ntdEjOKcjn",
    "outputId": "cce39c8a-f984-4c45-f3e4-390115a9472d"
   },
   "outputs": [
    {
     "name": "stdout",
     "output_type": "stream",
     "text": [
      "[1, 3, 6, 10, 15]\n"
     ]
    }
   ],
   "source": [
    "n = 5  # You can change 'n' to the number of triangular numbers you want\n",
    "triangular_numbers = [i * (i + 1) // 2 for i in range(1, n + 1)]\n",
    "\n",
    "print(triangular_numbers)\n"
   ]
  },
  {
   "cell_type": "markdown",
   "metadata": {
    "id": "Fl0YoZSvNU-u"
   },
   "source": [
    "### 49. Check if a list contains another list as a subsequence."
   ]
  },
  {
   "cell_type": "code",
   "execution_count": null,
   "metadata": {
    "colab": {
     "base_uri": "https://localhost:8080/"
    },
    "id": "UWpGve_LM5ih",
    "outputId": "78665898-d0cf-4737-f6c1-de06e62b88c4"
   },
   "outputs": [
    {
     "name": "stdout",
     "output_type": "stream",
     "text": [
      "list not contains another list as a subsequence.\n"
     ]
    }
   ],
   "source": [
    "lst1 = [1,2,4,5,2,5]\n",
    "\n",
    "lst2 = [2,4,6]\n",
    "\n",
    "flag =True\n",
    "\n",
    "for i in lst2:\n",
    "  if i not in lst1:\n",
    "    flag = False\n",
    "    break\n",
    "if flag:\n",
    "  print(\"list contains another list as a subsequence.\")\n",
    "\n",
    "else:\n",
    "  print(\"list not contains another list as a subsequence.\")\n",
    "\n",
    "\n",
    "\n"
   ]
  },
  {
   "cell_type": "markdown",
   "metadata": {
    "id": "uESrteVakNXV"
   },
   "source": [
    "### 50. Swap two elements in a list by their indices."
   ]
  },
  {
   "cell_type": "code",
   "execution_count": null,
   "metadata": {
    "colab": {
     "base_uri": "https://localhost:8080/"
    },
    "id": "N0BbztROSAvh",
    "outputId": "3900dc5d-5d0a-4de4-e802-17c78376c605"
   },
   "outputs": [
    {
     "name": "stdout",
     "output_type": "stream",
     "text": [
      "['Ayithireddy', 'Prasad', 'bpt']\n"
     ]
    }
   ],
   "source": [
    "lst = [\"Prasad\", \"Ayithireddy\",\"bpt\"]\n",
    "\n",
    "index1 = 0   # swapping element of first index\n",
    "index2 = 1   # swapping element of second index\n",
    "\n",
    "lst[index1] , lst[index2] = lst[index2] , lst[index1]   # swapping elements by using index\n",
    "\n",
    "print(lst)"
   ]
  },
  {
   "cell_type": "markdown",
   "metadata": {
    "id": "S4Slya-5lz-Y"
   },
   "source": [
    "## **Tuple Based Practice Problem :**"
   ]
  },
  {
   "cell_type": "markdown",
   "metadata": {
    "id": "vqC8EN_xmKFA"
   },
   "source": [
    "### 1. Create a tuple with integers from 1 to 5."
   ]
  },
  {
   "cell_type": "code",
   "execution_count": null,
   "metadata": {
    "colab": {
     "base_uri": "https://localhost:8080/"
    },
    "id": "yhEv0U04k8Zb",
    "outputId": "fb7778e0-fb9a-424d-c0a1-380ea7ceca81"
   },
   "outputs": [
    {
     "name": "stdout",
     "output_type": "stream",
     "text": [
      "(1, 2, 3, 4, 5)\n"
     ]
    }
   ],
   "source": [
    "tup = tuple(range(1,6))   # arranging 1 to 5 numbers using range()\n",
    "\n",
    "print(tup)"
   ]
  },
  {
   "cell_type": "markdown",
   "metadata": {
    "id": "SfUlqcHVnINw"
   },
   "source": [
    "### 2. Access the third element of a tuple."
   ]
  },
  {
   "cell_type": "code",
   "execution_count": null,
   "metadata": {
    "colab": {
     "base_uri": "https://localhost:8080/"
    },
    "id": "cXb7egVKmgsP",
    "outputId": "36786143-2886-46ea-a73c-01970819a077"
   },
   "outputs": [
    {
     "name": "stdout",
     "output_type": "stream",
     "text": [
      "the third element of tuple is : 4\n"
     ]
    }
   ],
   "source": [
    "tup = (1,3,4,5,2,8)\n",
    "\n",
    "n=3   # assigning number to access the element\n",
    "\n",
    "print(f\"the third element of tuple is : {tup[n-1]}\")  # displaying using result index"
   ]
  },
  {
   "cell_type": "markdown",
   "metadata": {
    "id": "dDNXB-Ftnxoj"
   },
   "source": [
    "### 3. Find the length of a tuple without using the `len()` function."
   ]
  },
  {
   "cell_type": "code",
   "execution_count": null,
   "metadata": {
    "colab": {
     "base_uri": "https://localhost:8080/"
    },
    "id": "RqjItjyBnYEd",
    "outputId": "032b8919-165b-4b45-91f8-5e49e328a154"
   },
   "outputs": [
    {
     "name": "stdout",
     "output_type": "stream",
     "text": [
      "the length of the tuple is : 6\n"
     ]
    }
   ],
   "source": [
    "tup = (1,4,3,7,9,10)\n",
    "count = 0\n",
    "\n",
    "for i in tup:  # iterating tup to count of the length\n",
    "  count+=1\n",
    "\n",
    "print(f\"the length of the tuple is : {count}\")"
   ]
  },
  {
   "cell_type": "markdown",
   "metadata": {
    "id": "YnOyNBYsq1Bk"
   },
   "source": [
    "### 4. Count the occurrences of an element in a tuple."
   ]
  },
  {
   "cell_type": "code",
   "execution_count": null,
   "metadata": {
    "colab": {
     "base_uri": "https://localhost:8080/"
    },
    "id": "0v2dxNabqMGR",
    "outputId": "9b478a34-e3f9-4d07-e7d0-80fc49750272"
   },
   "outputs": [
    {
     "name": "stdout",
     "output_type": "stream",
     "text": [
      "enter the element to search : 3\n",
      "'3' occurs : '2' times\n"
     ]
    }
   ],
   "source": [
    "tup = (1,3,7,4,2,1,7,10,1,3)\n",
    "\n",
    "element = int(input(\"enter the element to search : \"))\n",
    "\n",
    "count = 0\n",
    "\n",
    "for i in tup:\n",
    "  if i == element:  # checking if the element and current element\n",
    "    count += 1\n",
    "\n",
    "print(f\"'{element}' occurs : '{count}' times\")"
   ]
  },
  {
   "cell_type": "markdown",
   "metadata": {
    "id": "cmAEdYM8ss16"
   },
   "source": [
    "### 5. Find the index of the first occurrence of an element in a tuple."
   ]
  },
  {
   "cell_type": "code",
   "execution_count": null,
   "metadata": {
    "colab": {
     "base_uri": "https://localhost:8080/"
    },
    "id": "NWB4MYp2qPoG",
    "outputId": "6a010a5b-e647-4067-9c23-a2d361f053ac"
   },
   "outputs": [
    {
     "name": "stdout",
     "output_type": "stream",
     "text": [
      "Enter the element to search: 7\n",
      "'7' first occurs at the 2 nd index position.\n"
     ]
    }
   ],
   "source": [
    "tup = (1, 3, 7, 4, 2, 1, 7, 10, 1, 3)\n",
    "\n",
    "element = int(input(\"Enter the element to search: \"))\n",
    "\n",
    "count = 0\n",
    "\n",
    "for i in tup:\n",
    "    if i == element:  # Check if the element matches the current element\n",
    "        break\n",
    "    count += 1\n",
    "\n",
    "print(f\"'{element}' first occurs at the {count} nd index position.\")\n"
   ]
  },
  {
   "cell_type": "markdown",
   "metadata": {
    "id": "msg9hsVHu2L0"
   },
   "source": [
    "### 6. Check if an element exists in a tuple."
   ]
  },
  {
   "cell_type": "code",
   "execution_count": null,
   "metadata": {
    "colab": {
     "base_uri": "https://localhost:8080/"
    },
    "id": "nwtTCup2t6Ep",
    "outputId": "43804dd9-ba7a-4be5-d978-705951313db1"
   },
   "outputs": [
    {
     "name": "stdout",
     "output_type": "stream",
     "text": [
      "enter element to check : 11\n",
      "'11' is not exists in this tuple\n"
     ]
    }
   ],
   "source": [
    "tup = (1, 3, 7, 4, 2, 1, 7, 10, 1, 3)\n",
    "\n",
    "element = int(input(\"enter element to check : \"))\n",
    "\n",
    "if element in tup :\n",
    "  print(f\"'{element}' is exists in this tuple\")\n",
    "else:\n",
    "  print(f\"'{element}' is not exists in this tuple\")"
   ]
  },
  {
   "cell_type": "markdown",
   "metadata": {
    "id": "DOETQoh0wmYb"
   },
   "source": [
    "### 7. Convert a tuple to a list."
   ]
  },
  {
   "cell_type": "code",
   "execution_count": null,
   "metadata": {
    "colab": {
     "base_uri": "https://localhost:8080/"
    },
    "id": "NpKQnkd2wTEo",
    "outputId": "cb29e174-1608-4bc9-d55c-0e3813f84e18"
   },
   "outputs": [
    {
     "name": "stdout",
     "output_type": "stream",
     "text": [
      "[1, 3, 7, 4, 2, 1, 7, 10, 1, 3]\n"
     ]
    }
   ],
   "source": [
    "tup = (1, 3, 7, 4, 2, 1, 7, 10, 1, 3)\n",
    "\n",
    "lst = list(tup)  # convert using list()\n",
    "\n",
    "print(lst)"
   ]
  },
  {
   "cell_type": "markdown",
   "metadata": {
    "id": "ho7EZjfWxxZN"
   },
   "source": [
    "### 8. Convert a list to a tuple."
   ]
  },
  {
   "cell_type": "code",
   "execution_count": null,
   "metadata": {
    "colab": {
     "base_uri": "https://localhost:8080/"
    },
    "id": "w-mbUiC1xU3X",
    "outputId": "e2a4a2d6-b0a7-45bb-86e1-4d04fa6d4af5"
   },
   "outputs": [
    {
     "name": "stdout",
     "output_type": "stream",
     "text": [
      "(1, 3, 7, 4, 2, 1, 7, 10, 1, 3)\n"
     ]
    }
   ],
   "source": [
    "lst = [1, 3, 7, 4, 2, 1, 7, 10, 1, 3]\n",
    "\n",
    "tup = tuple(lst)  # convert using tuple ()\n",
    "\n",
    "print(tup)"
   ]
  },
  {
   "cell_type": "markdown",
   "metadata": {
    "id": "eK_-0G72yJYJ"
   },
   "source": [
    "### 9. Unpack the elements of a tuple into variables."
   ]
  },
  {
   "cell_type": "code",
   "execution_count": null,
   "metadata": {
    "colab": {
     "base_uri": "https://localhost:8080/"
    },
    "id": "peTzKJvUyHt1",
    "outputId": "1ee79d18-4c74-437a-b298-179f8e68803b"
   },
   "outputs": [
    {
     "name": "stdout",
     "output_type": "stream",
     "text": [
      "first variable : 1\n",
      "second variable : 3\n",
      "third variable : 6\n",
      "fourth variable : 7\n"
     ]
    }
   ],
   "source": [
    "tup = (1,3,6,7)\n",
    "\n",
    "v1 , v2 , v3 , v4 = tup\n",
    "\n",
    "print(f\"first variable : {v1}\")\n",
    "print(f\"second variable : {v2}\")\n",
    "print(f\"third variable : {v3}\")\n",
    "print(f\"fourth variable : {v4}\")"
   ]
  },
  {
   "cell_type": "markdown",
   "metadata": {
    "id": "-UsUdmRU0ub2"
   },
   "source": [
    "### 10. Create a tuple of even numbers from 1 to 10."
   ]
  },
  {
   "cell_type": "code",
   "execution_count": null,
   "metadata": {
    "colab": {
     "base_uri": "https://localhost:8080/"
    },
    "id": "FOa20Jrx0sTz",
    "outputId": "b2158e19-0cf6-410b-b1f7-f487dfbfd631"
   },
   "outputs": [
    {
     "name": "stdout",
     "output_type": "stream",
     "text": [
      "the tuple of even numbers from 1 to 10 : (2, 4, 6, 8)\n"
     ]
    }
   ],
   "source": [
    "tup = tuple(i for i in range(1,10) if i%2==0)\n",
    "\n",
    "print(f\"the tuple of even numbers from 1 to 10 : {tup}\")"
   ]
  },
  {
   "cell_type": "markdown",
   "metadata": {
    "id": "tJFNbM-01N8P"
   },
   "source": [
    "### 11. Create a tuple of odd numbers from 1 to 10."
   ]
  },
  {
   "cell_type": "code",
   "execution_count": null,
   "metadata": {
    "colab": {
     "base_uri": "https://localhost:8080/"
    },
    "id": "NUN8LVPD1Dda",
    "outputId": "61a1a9c7-cf3d-4ed9-87d7-6381207063b8"
   },
   "outputs": [
    {
     "name": "stdout",
     "output_type": "stream",
     "text": [
      "the tuple of even numbers from 1 to 10 : (1, 3, 5, 7, 9)\n"
     ]
    }
   ],
   "source": [
    "tup = tuple(i for i in range(1,10) if i%2 != 0)\n",
    "\n",
    "print(f\"the tuple of even numbers from 1 to 10 : {tup}\")"
   ]
  },
  {
   "cell_type": "markdown",
   "metadata": {
    "id": "nzYzTVkA1ZOd"
   },
   "source": [
    "### 12. Concatenate two tuples."
   ]
  },
  {
   "cell_type": "code",
   "execution_count": null,
   "metadata": {
    "colab": {
     "base_uri": "https://localhost:8080/"
    },
    "id": "vFNVIyhO1EFg",
    "outputId": "61a575c2-5529-44e6-86db-49b035edc48a"
   },
   "outputs": [
    {
     "name": "stdout",
     "output_type": "stream",
     "text": [
      "(2, 4, 6, 8, 1, 3, 5, 7, 9)\n"
     ]
    }
   ],
   "source": [
    "tup1 = (2, 4, 6, 8)\n",
    "tup2 = (1, 3, 5, 7, 9)\n",
    "\n",
    "print(tup1+tup2)  # concatenate using + operator"
   ]
  },
  {
   "cell_type": "markdown",
   "metadata": {
    "id": "EaMcNZio2Eav"
   },
   "source": [
    "### 13. Repeat a tuple three times."
   ]
  },
  {
   "cell_type": "code",
   "execution_count": null,
   "metadata": {
    "colab": {
     "base_uri": "https://localhost:8080/"
    },
    "id": "-bD4wn3b18vs",
    "outputId": "aa8e15ab-1057-444a-d77d-b3bf2f4b5624"
   },
   "outputs": [
    {
     "name": "stdout",
     "output_type": "stream",
     "text": [
      "(2, 4, 6, 8, 2, 4, 6, 8, 2, 4, 6, 8)\n"
     ]
    }
   ],
   "source": [
    "tup = (2, 4, 6, 8)\n",
    "\n",
    "print(tup * 3)  # using * operator"
   ]
  },
  {
   "cell_type": "markdown",
   "metadata": {
    "id": "NRaf1TB82ZtO"
   },
   "source": [
    "### 14. Check if a tuple is empty."
   ]
  },
  {
   "cell_type": "code",
   "execution_count": null,
   "metadata": {
    "colab": {
     "base_uri": "https://localhost:8080/"
    },
    "id": "6XFBbuun2Nvd",
    "outputId": "4fe77ca7-0d7b-4fc1-a27b-8e20c136fbd4"
   },
   "outputs": [
    {
     "name": "stdout",
     "output_type": "stream",
     "text": [
      "The tuple is not empty.\n"
     ]
    }
   ],
   "source": [
    "tup = (1, 23)\n",
    "\n",
    "if len(tup) == 0:  # by checking of its length\n",
    "    print(\"The tuple is empty.\")\n",
    "\n",
    "else:\n",
    "    print(\"The tuple is not empty.\")\n"
   ]
  },
  {
   "cell_type": "markdown",
   "metadata": {
    "id": "8jSUWqL84Pqu"
   },
   "source": [
    "### 15. Create a nested tuple."
   ]
  },
  {
   "cell_type": "code",
   "execution_count": null,
   "metadata": {
    "colab": {
     "base_uri": "https://localhost:8080/"
    },
    "id": "Pvxi52e22uMN",
    "outputId": "06ffaa89-eda2-417a-cfa0-3d063ae02bfb"
   },
   "outputs": [
    {
     "name": "stdout",
     "output_type": "stream",
     "text": [
      "((1, 2), (3, 4, 5), (6,))\n"
     ]
    }
   ],
   "source": [
    "nested_tuple = ((1, 2), (3, 4, 5), (6,))\n",
    "\n",
    "print(nested_tuple)\n"
   ]
  },
  {
   "cell_type": "markdown",
   "metadata": {
    "id": "ht00u6l45Vvt"
   },
   "source": [
    "### 16. Access the first element of a nested tuple."
   ]
  },
  {
   "cell_type": "code",
   "execution_count": null,
   "metadata": {
    "colab": {
     "base_uri": "https://localhost:8080/"
    },
    "id": "NVSfWglf5GT8",
    "outputId": "cf8fb6a3-6816-4ac4-9edf-c76927890aba"
   },
   "outputs": [
    {
     "name": "stdout",
     "output_type": "stream",
     "text": [
      "The first element of nested tuple : 3\n"
     ]
    }
   ],
   "source": [
    "nested_tuple = (1, 2, (3, 4, 5), (6,))\n",
    "results = 0\n",
    "\n",
    "for item in nested_tuple:\n",
    "    if isinstance(item, tuple):\n",
    "        results=item[0]\n",
    "        break\n",
    "\n",
    "print(f\"The first element of nested tuple : {results}\")\n"
   ]
  },
  {
   "cell_type": "markdown",
   "metadata": {
    "id": "MjeZOqxVGzy-"
   },
   "source": [
    "### 18. Compare two tuples."
   ]
  },
  {
   "cell_type": "code",
   "execution_count": null,
   "metadata": {
    "colab": {
     "base_uri": "https://localhost:8080/"
    },
    "id": "kYn8eB3I5rs3",
    "outputId": "806f99ab-1d67-4ff6-8a24-1da63c26d588"
   },
   "outputs": [
    {
     "name": "stdout",
     "output_type": "stream",
     "text": [
      "Tuples are not equal\n",
      "Tuples are not equal\n",
      "tuple1 is less than tuple2\n",
      "tuple1 is not greater than tuple2\n"
     ]
    }
   ],
   "source": [
    "tuple1 = (1, 2, 3)\n",
    "tuple2 = (1, 2, 4)\n",
    "\n",
    "# Compare for equality\n",
    "if tuple1 == tuple2:\n",
    "    print(\"Tuples are equal\")\n",
    "else:\n",
    "    print(\"Tuples are not equal\")\n",
    "\n",
    "# Compare for inequality\n",
    "if tuple1 != tuple2:\n",
    "    print(\"Tuples are not equal\")\n",
    "else:\n",
    "    print(\"Tuples are equal\")\n",
    "\n",
    "# Compare for greater than or less than\n",
    "if tuple1 < tuple2:\n",
    "    print(\"tuple1 is less than tuple2\")\n",
    "else:\n",
    "    print(\"tuple1 is not less than tuple2\")\n",
    "\n",
    "if tuple1 > tuple2:\n",
    "    print(\"tuple1 is greater than tuple2\")\n",
    "else:\n",
    "    print(\"tuple1 is not greater than tuple2\")\n"
   ]
  },
  {
   "cell_type": "markdown",
   "metadata": {
    "id": "zW57uNJtLnTB"
   },
   "source": [
    "### 19. Delete a tuple."
   ]
  },
  {
   "cell_type": "code",
   "execution_count": null,
   "metadata": {
    "colab": {
     "base_uri": "https://localhost:8080/"
    },
    "id": "w4Ujfm8qKzTC",
    "outputId": "aa18c3c3-61ca-488a-aab4-5b7d0fe480f1"
   },
   "outputs": [
    {
     "name": "stdout",
     "output_type": "stream",
     "text": [
      "The tuple does not exist anymore.\n"
     ]
    }
   ],
   "source": [
    "tuple_for_delete = (1,4,5,6,7)\n",
    "\n",
    "del tuple_for_delete   # deleting tuple using del\n",
    "\n",
    "try:\n",
    "    # Attempt to print the tuple\n",
    "    print(tuple_for_delete)\n",
    "except NameError:\n",
    "\n",
    "    print(\"The tuple does not exist anymore.\")  # this statement was printed due to it was deleted"
   ]
  },
  {
   "cell_type": "markdown",
   "metadata": {
    "id": "OIgeUw-mN5jH"
   },
   "source": [
    "### 20. Slice a tuple."
   ]
  },
  {
   "cell_type": "code",
   "execution_count": null,
   "metadata": {
    "colab": {
     "base_uri": "https://localhost:8080/"
    },
    "id": "D7_LBkrnMfB3",
    "outputId": "da4cfff0-240c-4ef2-c6d4-ebfd4abd897b"
   },
   "outputs": [
    {
     "name": "stdout",
     "output_type": "stream",
     "text": [
      "(6, 7, 3, 23)\n"
     ]
    }
   ],
   "source": [
    "tuple1 = (2,6,7,3,23)\n",
    "\n",
    "print(tuple1[1:6])  # displaying using slicing"
   ]
  },
  {
   "cell_type": "markdown",
   "metadata": {
    "id": "iH0ZbMFfQQqW"
   },
   "source": [
    "### 21. Find the maximum value in a tuple."
   ]
  },
  {
   "cell_type": "code",
   "execution_count": null,
   "metadata": {
    "colab": {
     "base_uri": "https://localhost:8080/"
    },
    "id": "pjE8navcQH5S",
    "outputId": "0d46e779-f165-40f6-944a-bf6704130c4c"
   },
   "outputs": [
    {
     "name": "stdout",
     "output_type": "stream",
     "text": [
      "the maximum value in a tuple is : 23\n"
     ]
    }
   ],
   "source": [
    "tup = (2,6,7,3,23)\n",
    "\n",
    "maximum = max(tup)\n",
    "\n",
    "print(f\"the maximum value in a tuple is : {maximum}\")"
   ]
  },
  {
   "cell_type": "markdown",
   "metadata": {
    "id": "KOgIi128RH5v"
   },
   "source": [
    "### 22. Find the minimum value in a tuple."
   ]
  },
  {
   "cell_type": "code",
   "execution_count": null,
   "metadata": {
    "colab": {
     "base_uri": "https://localhost:8080/"
    },
    "id": "5QEvYCSAQ16-",
    "outputId": "c4db16f0-7802-498e-8875-6f5d1773b22b"
   },
   "outputs": [
    {
     "name": "stdout",
     "output_type": "stream",
     "text": [
      "the minimum value in a tuple is : 2\n"
     ]
    }
   ],
   "source": [
    "tup = (2,6,7,3,23)\n",
    "\n",
    "minimum = min(tup)\n",
    "\n",
    "print(f\"the minimum value in a tuple is : {minimum}\")"
   ]
  },
  {
   "cell_type": "markdown",
   "metadata": {
    "id": "sx4MmJRQRW9v"
   },
   "source": [
    "### 23. Convert a string to a tuple of characters."
   ]
  },
  {
   "cell_type": "code",
   "execution_count": null,
   "metadata": {
    "colab": {
     "base_uri": "https://localhost:8080/"
    },
    "id": "B90NFVCtRU3C",
    "outputId": "5a8b95cf-dc55-4e20-da21-0aee02f72634"
   },
   "outputs": [
    {
     "name": "stdout",
     "output_type": "stream",
     "text": [
      "('P', 'w', 'S', 'k', 'i', 'l', 'l', 's')\n"
     ]
    }
   ],
   "source": [
    "string = \"PwSkills\"\n",
    "\n",
    "tup = tuple(i for i in string )\n",
    "\n",
    "print(tup)"
   ]
  },
  {
   "cell_type": "markdown",
   "metadata": {
    "id": "eUo4Ha-pSSx3"
   },
   "source": [
    "### 24. Convert a tuple of characters to a string."
   ]
  },
  {
   "cell_type": "code",
   "execution_count": null,
   "metadata": {
    "colab": {
     "base_uri": "https://localhost:8080/"
    },
    "id": "rP7qSovrSCfe",
    "outputId": "51a10c43-2438-4477-c756-6b85fa5d0365"
   },
   "outputs": [
    {
     "name": "stdout",
     "output_type": "stream",
     "text": [
      "PwSkills\n"
     ]
    }
   ],
   "source": [
    "tup = ('P', 'w', 'S', 'k', 'i', 'l', 'l', 's')\n",
    "\n",
    "string = \"\".join(tup)\n",
    "\n",
    "print(string)"
   ]
  },
  {
   "cell_type": "markdown",
   "metadata": {
    "id": "igNLQw_4SkXN"
   },
   "source": [
    "### 25. Create a tuple from multiple data types."
   ]
  },
  {
   "cell_type": "code",
   "execution_count": null,
   "metadata": {
    "colab": {
     "base_uri": "https://localhost:8080/"
    },
    "id": "gplULGdvSh3q",
    "outputId": "afa64ded-8e8e-4d59-fc4c-63c01c6b9641"
   },
   "outputs": [
    {
     "name": "stdout",
     "output_type": "stream",
     "text": [
      "<class 'tuple'>\n",
      "(1, 'apple', 3.14, [4, 5, 6], {'name': 'prasad', 'age': 20})\n"
     ]
    }
   ],
   "source": [
    "mixed_tuple = (1, \"skills\", 3.14, [4, 5, 6], {\"name\": \"prasad\", \"age\": 20})\n",
    "\n",
    "# You can check the type of the tuple\n",
    "print(type(mixed_tuple))\n",
    "\n",
    "# You can also print the tuple\n",
    "print(mixed_tuple)\n"
   ]
  },
  {
   "cell_type": "markdown",
   "metadata": {
    "id": "7YOrXnuerTAE"
   },
   "source": [
    "## 26. Check if two tuples are identical."
   ]
  },
  {
   "cell_type": "code",
   "execution_count": null,
   "metadata": {
    "colab": {
     "base_uri": "https://localhost:8080/"
    },
    "id": "wmmgMZuDT0d9",
    "outputId": "b4b0c110-1f47-4d88-f3bd-14ad3a3fd7a8"
   },
   "outputs": [
    {
     "name": "stdout",
     "output_type": "stream",
     "text": [
      "Tuples are identical\n"
     ]
    }
   ],
   "source": [
    "tuple1 = (1, 2, 3)\n",
    "tuple2 = (1, 2, 3)\n",
    "\n",
    "if tuple1 == tuple2:   #checking if the two tuples are same or not\n",
    "    print(\"Tuples are identical\")\n",
    "else:\n",
    "    print(\"Tuples are not identical\")\n"
   ]
  },
  {
   "cell_type": "markdown",
   "metadata": {
    "id": "ypTo4_JiuToR"
   },
   "source": [
    "### 27. Sort the elements of a tuple."
   ]
  },
  {
   "cell_type": "code",
   "execution_count": null,
   "metadata": {
    "colab": {
     "base_uri": "https://localhost:8080/"
    },
    "id": "YVYTowRduNOj",
    "outputId": "9cad265b-8376-41f6-beef-363780f4dd6c"
   },
   "outputs": [
    {
     "name": "stdout",
     "output_type": "stream",
     "text": [
      "(2, 5, 7, 9)\n"
     ]
    }
   ],
   "source": [
    "tup = (5,7,2,9)\n",
    "\n",
    "lst = list(tup)\n",
    "\n",
    "lst.sort()\n",
    "\n",
    "print(tuple(lst))"
   ]
  },
  {
   "cell_type": "markdown",
   "metadata": {
    "id": "fYS9-d3bvkS6"
   },
   "source": [
    "### 28. Convert a tuple of integers to a tuple of strings."
   ]
  },
  {
   "cell_type": "code",
   "execution_count": null,
   "metadata": {
    "colab": {
     "base_uri": "https://localhost:8080/"
    },
    "id": "EwlNGH-mun6B",
    "outputId": "f4d5f1de-3807-4d16-dd33-f1b070f18159"
   },
   "outputs": [
    {
     "name": "stdout",
     "output_type": "stream",
     "text": [
      "('1', '2', '3', '5', '6')\n"
     ]
    }
   ],
   "source": [
    "tup = (1,2,3,5,6)\n",
    "\n",
    "tup_of_strings = []\n",
    "\n",
    "for i in tup:\n",
    "  tup_of_strings.append(str(i))\n",
    "\n",
    "print(tuple(tup_of_strings))"
   ]
  },
  {
   "cell_type": "markdown",
   "metadata": {
    "id": "V-YKKpNczuRn"
   },
   "source": [
    "### 29. Convert a tuple of strings to a tuple of integers.\n"
   ]
  },
  {
   "cell_type": "code",
   "execution_count": null,
   "metadata": {
    "colab": {
     "base_uri": "https://localhost:8080/"
    },
    "id": "upoaMsBQzr_l",
    "outputId": "16d362c7-ca8c-4c9d-aa57-3c6e156013f1"
   },
   "outputs": [
    {
     "name": "stdout",
     "output_type": "stream",
     "text": [
      "(1, 2, 3, 5, 6)\n"
     ]
    }
   ],
   "source": [
    "tup_of_strings = ('1', '2', '3', '5', '6')\n",
    "\n",
    "tup_of_integers = []\n",
    "\n",
    "for i in tup_of_strings:\n",
    "  tup_of_integers.append(int(i))\n",
    "print(tuple(tup_of_integers))"
   ]
  },
  {
   "cell_type": "markdown",
   "metadata": {
    "id": "n4D4FUXG0cRp"
   },
   "source": [
    "### 30. Merge two tuples."
   ]
  },
  {
   "cell_type": "code",
   "execution_count": null,
   "metadata": {
    "colab": {
     "base_uri": "https://localhost:8080/"
    },
    "id": "KRVH6v3g0XSS",
    "outputId": "39869898-a336-415a-dbd9-1bfbf0311ee2"
   },
   "outputs": [
    {
     "name": "stdout",
     "output_type": "stream",
     "text": [
      "(1, 3, 47, 8, 5, 7, 4, 2)\n"
     ]
    }
   ],
   "source": [
    "tup1 = (1,3,47,8)\n",
    "tup2 = (5,7,4,2)\n",
    "\n",
    "result = tup1+tup2  #merging using + operator\n",
    "\n",
    "print(result)"
   ]
  },
  {
   "cell_type": "markdown",
   "metadata": {
    "id": "SCgtbh5NHlEC"
   },
   "source": [
    "### 31. Flatten a nested tuple."
   ]
  },
  {
   "cell_type": "code",
   "execution_count": null,
   "metadata": {
    "colab": {
     "base_uri": "https://localhost:8080/"
    },
    "id": "jqHVP3XQHgP4",
    "outputId": "824443f6-7f46-476e-8303-b9b0d79b3fd9"
   },
   "outputs": [
    {
     "name": "stdout",
     "output_type": "stream",
     "text": [
      "(2, 3, 5, 'Prasad', 2, 4, (5, 7, 8), 6, 7, 90)\n"
     ]
    }
   ],
   "source": [
    "tup = (2,(3,5),\"Prasad\",((2,4,5,7,8,6),(7)),90)\n",
    "\n",
    "lst = []  #empty list\n",
    "\n",
    "for element in tup:    # iterating tuple\n",
    "\n",
    "  if isinstance(element,tuple):   #checking if it is tuple\n",
    "\n",
    "    for item in element:    # if its tuple then iterates it\n",
    "\n",
    "      if isinstance(item,tuple):  # again it checks tuple or not\n",
    "        lst.extend(item)   # if its tuple then extending each element to the empty list\n",
    "      else:\n",
    "        lst.append(item)   # if its tuple then appending each element to the empty list\n",
    "\n",
    "  else:\n",
    "    lst.append(element)    # if its tuple then appending each element to the empty list\n",
    "\n",
    "result = tuple(lst)  #converting lst into tuple using tuple function\n",
    "\n",
    "print(result)"
   ]
  },
  {
   "cell_type": "markdown",
   "metadata": {
    "id": "GSPt6VJKLMgz"
   },
   "source": [
    "### 32. Create a tuple of the first 5 prime numbers."
   ]
  },
  {
   "cell_type": "code",
   "execution_count": null,
   "metadata": {
    "colab": {
     "base_uri": "https://localhost:8080/"
    },
    "id": "uN0vWRimIQm_",
    "outputId": "fbec80ca-d1f0-42dc-ef44-33c260029661"
   },
   "outputs": [
    {
     "name": "stdout",
     "output_type": "stream",
     "text": [
      "the first 5 prime numbers : (2, 3, 5, 7, 11)\n"
     ]
    }
   ],
   "source": [
    "lst = []   # empty list\n",
    "\n",
    "n = 2\n",
    "\n",
    "while len(lst) < 5:  #checking if the length of list is 5 or not\n",
    "\n",
    "    prime = True\n",
    "    for i in range(2, n):\n",
    "        if n % i == 0:  # if it is true then this iteration will break\n",
    "            prime = False\n",
    "            break   # breaking the loop\n",
    "    if prime:\n",
    "        lst.append(n)\n",
    "    n += 1\n",
    "\n",
    "tup = tuple(lst)\n",
    "print(f\"the first 5 prime numbers : {tup}\")\n"
   ]
  },
  {
   "cell_type": "markdown",
   "metadata": {
    "id": "BRk4pFcLn7r0"
   },
   "source": [
    "### 33. Check if a tuple is a palindrome."
   ]
  },
  {
   "cell_type": "code",
   "execution_count": null,
   "metadata": {
    "colab": {
     "base_uri": "https://localhost:8080/"
    },
    "id": "rQKVFag9lyfR",
    "outputId": "15e350bb-603d-49c0-ce2c-b586cf279340"
   },
   "outputs": [
    {
     "name": "stdout",
     "output_type": "stream",
     "text": [
      "this (2, 4, 4, 2) is palindrome \n"
     ]
    }
   ],
   "source": [
    "tup = (2,4,4,2)\n",
    "\n",
    "if tup[::-1] == tup :   # reversing a tuple using slicing\n",
    "  print(f\"this tuple is palindrome \")\n",
    "else:\n",
    "  print(f\"this tuple is not palindrome\")"
   ]
  },
  {
   "cell_type": "markdown",
   "metadata": {
    "id": "TIMybL-1oiqb"
   },
   "source": [
    "### 34. Create a tuple of squares of numbers from 1 to 5."
   ]
  },
  {
   "cell_type": "code",
   "execution_count": null,
   "metadata": {
    "colab": {
     "base_uri": "https://localhost:8080/"
    },
    "id": "rY-ZOHLVoVU4",
    "outputId": "44682be0-5ea2-477b-ea48-bf97d0cfc150"
   },
   "outputs": [
    {
     "name": "stdout",
     "output_type": "stream",
     "text": [
      "(1, 4, 9, 16, 25)\n"
     ]
    }
   ],
   "source": [
    "lst = [] # creating empty list\n",
    "\n",
    "n1  = 1 # starting number\n",
    "n2 = 5  # ending number\n",
    "\n",
    "for i in range(n1,n2+1):\n",
    "  lst.append(i**2)  # squarring and appending to the list\n",
    "\n",
    "lst = tuple(lst)\n",
    "\n",
    "print(lst)\n"
   ]
  },
  {
   "cell_type": "markdown",
   "metadata": {
    "id": "OPu89gu3p_G0"
   },
   "source": [
    "### 35. Filter out all even numbers from a tuple."
   ]
  },
  {
   "cell_type": "code",
   "execution_count": null,
   "metadata": {
    "colab": {
     "base_uri": "https://localhost:8080/"
    },
    "id": "hKy2wvQfoxWB",
    "outputId": "5bf9a6a7-2d97-4d52-bb2b-bb3f990c7405"
   },
   "outputs": [
    {
     "name": "stdout",
     "output_type": "stream",
     "text": [
      "these all even numbers from this tuple : (2, 6, 12, 60)\n"
     ]
    }
   ],
   "source": [
    "tup = (2,6,3,9,12,60)\n",
    "\n",
    "lst = []\n",
    "\n",
    "for i in tup :\n",
    "  if i % 2 == 0:\n",
    "    lst.append(i)\n",
    "\n",
    "result = tuple(lst)\n",
    "\n",
    "print(f\"these all even numbers from this tuple : {result}\")\n"
   ]
  },
  {
   "cell_type": "markdown",
   "metadata": {
    "id": "XCxrzlDHqpiy"
   },
   "source": [
    "### 36. Multiply all elements in a tuple by 2."
   ]
  },
  {
   "cell_type": "code",
   "execution_count": null,
   "metadata": {
    "colab": {
     "base_uri": "https://localhost:8080/"
    },
    "id": "p9a7-My8qTNp",
    "outputId": "c1d842e5-78dd-4e74-f049-0aed2a683e23"
   },
   "outputs": [
    {
     "name": "stdout",
     "output_type": "stream",
     "text": [
      "(4, 12, 68, 12, 24)\n"
     ]
    }
   ],
   "source": [
    "tup = (2,6,34,6,12)\n",
    "\n",
    "result = tuple(i*2 for i in tup )   # by using comprehension\n",
    "\n",
    "print(result)\n"
   ]
  },
  {
   "cell_type": "markdown",
   "metadata": {
    "id": "yOcxezoUr3zl"
   },
   "source": [
    "### 37. Create a tuple of random numbers."
   ]
  },
  {
   "cell_type": "code",
   "execution_count": null,
   "metadata": {
    "colab": {
     "base_uri": "https://localhost:8080/"
    },
    "id": "BiazW9I4rFn2",
    "outputId": "88216805-09d3-41c4-8e23-0b46cfb9bfad"
   },
   "outputs": [
    {
     "name": "stdout",
     "output_type": "stream",
     "text": [
      "(12, 7, 19, 17, 13, 3, 4, 7, 5)\n"
     ]
    }
   ],
   "source": [
    "import random\n",
    "\n",
    "tup = tuple(random.randint(1,20) for _ in range(1,10))\n",
    "\n",
    "print(tup)"
   ]
  },
  {
   "cell_type": "markdown",
   "metadata": {
    "id": "foQWCcc-uxLx"
   },
   "source": [
    "### 38. Check if a tuple is sorted."
   ]
  },
  {
   "cell_type": "code",
   "execution_count": null,
   "metadata": {
    "colab": {
     "base_uri": "https://localhost:8080/"
    },
    "id": "JIfqlZ4Bt5xi",
    "outputId": "3c389207-6786-4ad0-ba2c-a8b5a3bfbe23"
   },
   "outputs": [
    {
     "name": "stdout",
     "output_type": "stream",
     "text": [
      "This tuple is sorted\n"
     ]
    }
   ],
   "source": [
    "tup = (0,3,6,9)\n",
    "lst = list(tup)\n",
    "lst.sort()\n",
    "\n",
    "\n",
    "if tuple(lst) == tup :\n",
    "  print(\"This tuple is sorted\")\n",
    "\n",
    "else:\n",
    "  print(\"This tuple is not started\")\n"
   ]
  },
  {
   "cell_type": "markdown",
   "metadata": {
    "id": "vJY4nJbFygLF"
   },
   "source": [
    "### 39. Rotate a tuple to the left by `n` positions."
   ]
  },
  {
   "cell_type": "code",
   "execution_count": null,
   "metadata": {
    "colab": {
     "base_uri": "https://localhost:8080/"
    },
    "id": "AhKMDwDkvijg",
    "outputId": "a1e8db69-7583-4c00-f98c-1aab0d0f6b77"
   },
   "outputs": [
    {
     "name": "stdout",
     "output_type": "stream",
     "text": [
      "enter n value to position move towards left : 3\n",
      "('Prasad', 4, 6, 3, 5, 6, 7)\n"
     ]
    }
   ],
   "source": [
    "tup = (5,6,7,\"Prasad\",4,6,3)\n",
    "\n",
    "n = int(input(\"enter n value to position move towards left : \"))\n",
    "\n",
    "result = tup[n:]+tup[:n]\n",
    "\n",
    "print(result)"
   ]
  },
  {
   "cell_type": "markdown",
   "metadata": {
    "id": "C09KKqLv0-Uk"
   },
   "source": [
    "### 40. Rotate a tuple to the right by `n` positions."
   ]
  },
  {
   "cell_type": "code",
   "execution_count": null,
   "metadata": {
    "colab": {
     "base_uri": "https://localhost:8080/"
    },
    "id": "5sz3JmfW03LM",
    "outputId": "769e865f-61e4-41b4-d3d7-8c2ef1e850a9"
   },
   "outputs": [
    {
     "name": "stdout",
     "output_type": "stream",
     "text": [
      "Enter n value to rotate the tuple to the right: 3\n",
      "(4, 6, 3, 5, 6, 7, 'Prasad')\n"
     ]
    }
   ],
   "source": [
    "tup = (5, 6, 7, \"Prasad\", 4, 6, 3)\n",
    "\n",
    "n = int(input(\"Enter n value to rotate the tuple to the right: \"))\n",
    "\n",
    "n = n % len(tup)  # Use modulo to ensure n stays within the valid range\n",
    "\n",
    "result = tup[-n:] + tup[:-n]\n",
    "\n",
    "print(result)\n"
   ]
  },
  {
   "cell_type": "markdown",
   "metadata": {
    "id": "RmW4meBH4Q8P"
   },
   "source": [
    "### 41. Create a tuple of the first 5 Fibonacci numbers."
   ]
  },
  {
   "cell_type": "code",
   "execution_count": null,
   "metadata": {
    "colab": {
     "base_uri": "https://localhost:8080/"
    },
    "id": "59F42QJ92LQe",
    "outputId": "cc28aa11-6e23-48d9-b52e-cd183117737f"
   },
   "outputs": [
    {
     "name": "stdout",
     "output_type": "stream",
     "text": [
      "(0, 1, 1, 2, 3)\n"
     ]
    }
   ],
   "source": [
    "lst = [0,1]\n",
    "\n",
    "for i in lst:\n",
    "\n",
    "  if len(lst)<5:\n",
    "    lst.append(lst[-1]+lst[-2])   # adding last two digits and appending to the list\n",
    "\n",
    "  else:\n",
    "    break  # out of 5 digits then break the loop\n",
    "\n",
    "result = tuple(lst)  # converting the list into tuple\n",
    "\n",
    "print(result)"
   ]
  },
  {
   "cell_type": "markdown",
   "metadata": {
    "id": "dDPhUC2Q6KEO"
   },
   "source": [
    "### 42. Create a tuple from user input."
   ]
  },
  {
   "cell_type": "code",
   "execution_count": null,
   "metadata": {
    "colab": {
     "base_uri": "https://localhost:8080/"
    },
    "id": "1WTWdrUF5jr1",
    "outputId": "1b9e3a40-6291-4380-8124-8c2a0fae8034"
   },
   "outputs": [
    {
     "name": "stdout",
     "output_type": "stream",
     "text": [
      "enter input give spaces to each element : prasad reddy mohit dileep dinesh\n",
      "('prasad', 'reddy', 'mohit', 'dileep', 'dinesh')\n"
     ]
    }
   ],
   "source": [
    "tup = input(\"enter input give spaces to each element : \")\n",
    "\n",
    "result = tuple(tup.split())\n",
    "\n",
    "print(result)"
   ]
  },
  {
   "cell_type": "markdown",
   "metadata": {
    "id": "IIcStatO736u"
   },
   "source": [
    "### 43. Swap two elements in a tuple."
   ]
  },
  {
   "cell_type": "code",
   "execution_count": null,
   "metadata": {
    "colab": {
     "base_uri": "https://localhost:8080/"
    },
    "id": "67HXzyQ07Rnj",
    "outputId": "678fdf5b-d531-4138-a8e2-ebb34d31d6c0"
   },
   "outputs": [
    {
     "name": "stdout",
     "output_type": "stream",
     "text": [
      "(3, 4, 8, 6, 5, 9)\n"
     ]
    }
   ],
   "source": [
    "tup = (3,4,5,6,8,9)\n",
    "lst = list(tup)\n",
    "\n",
    "lst[2],lst[4] = lst[4],lst[2]\n",
    "\n",
    "result = tuple(lst)\n",
    "\n",
    "print(result)"
   ]
  },
  {
   "cell_type": "markdown",
   "metadata": {
    "id": "o10NwomB9zjc"
   },
   "source": [
    "### 44. Reverse the elements of a tuple."
   ]
  },
  {
   "cell_type": "code",
   "execution_count": null,
   "metadata": {
    "colab": {
     "base_uri": "https://localhost:8080/"
    },
    "id": "38Ec8Bxl8xZL",
    "outputId": "eb7febe9-ea14-4d39-f95c-d759bcd95db3"
   },
   "outputs": [
    {
     "name": "stdout",
     "output_type": "stream",
     "text": [
      "the reverse of tuple is : (8, 2, 6, 4, 'prasad')\n"
     ]
    }
   ],
   "source": [
    "tup = (\"prasad\",4,6,2,8)\n",
    "\n",
    "print(f\"the reverse of tuple is : {tup[::-1]}\")"
   ]
  },
  {
   "cell_type": "markdown",
   "metadata": {
    "id": "evpgyLqJ-Fw4"
   },
   "source": [
    "### 45. Create a tuple of the first `n` powers of 2."
   ]
  },
  {
   "cell_type": "code",
   "execution_count": null,
   "metadata": {
    "colab": {
     "base_uri": "https://localhost:8080/"
    },
    "id": "zU5JJKVX99uV",
    "outputId": "27c108c2-f671-4b66-bace-131b5b8f6d7d"
   },
   "outputs": [
    {
     "name": "stdout",
     "output_type": "stream",
     "text": [
      "enter 'n' value for first 'n' powers : 5\n",
      "(1, 2, 4, 8, 16)\n"
     ]
    }
   ],
   "source": [
    "n = int(input(\"enter 'n' value for first 'n' powers : \"))\n",
    "tup = tuple(2**i for i in range(n))\n",
    "\n",
    "print(tup)"
   ]
  },
  {
   "cell_type": "markdown",
   "metadata": {
    "id": "PslUMsJF_N8f"
   },
   "source": [
    "### 46. Find the longest string in a tuple of strings."
   ]
  },
  {
   "cell_type": "code",
   "execution_count": null,
   "metadata": {
    "colab": {
     "base_uri": "https://localhost:8080/"
    },
    "id": "E3ijlKEb-3fQ",
    "outputId": "dae33582-483f-46a6-8a6e-3b895dbe0f21"
   },
   "outputs": [
    {
     "name": "stdout",
     "output_type": "stream",
     "text": [
      "the longest string is : shanmukha rao\n"
     ]
    }
   ],
   "source": [
    "tup = (\"Prasad\",(\"dileep kumar\",\"mohit\"),\"dinesh\",(\"jogi\",\"pavan\",\"shanmukha rao\"))\n",
    "\n",
    "string = \"\"\n",
    "\n",
    "for i in tup:\n",
    "  if isinstance(i,tuple):\n",
    "    for j in i:\n",
    "      if len(j)>len(string):\n",
    "        string = j\n",
    "      else:\n",
    "        pass\n",
    "  else:\n",
    "    if len(i)>len(string):\n",
    "      string = i\n",
    "print(f\"the longest string is : {string}\")\n",
    "\n"
   ]
  },
  {
   "cell_type": "markdown",
   "metadata": {
    "id": "10Ni7VKQBfxw"
   },
   "source": [
    "### 47. Find the shortest string in a tuple of strings."
   ]
  },
  {
   "cell_type": "code",
   "execution_count": null,
   "metadata": {
    "colab": {
     "base_uri": "https://localhost:8080/"
    },
    "id": "ixMGmVek-5pl",
    "outputId": "66b70fad-2f65-47fc-d5ff-57becf707112"
   },
   "outputs": [
    {
     "name": "stdout",
     "output_type": "stream",
     "text": [
      "the longest string is : raj\n"
     ]
    }
   ],
   "source": [
    "tup = ((\"raj\",\"Prasad\"),(\"dileep kumar\",\"mohit\"),\"dinesh\",(\"jogi\",\"pavan\",\"shanmukha rao\"))\n",
    "\n",
    "string = tup[0]\n",
    "if isinstance(tup[0],tuple):\n",
    "  string = tup[0][0]\n",
    "\n",
    "else:\n",
    "  string = tup [0]\n",
    "\n",
    "\n",
    "for i in tup:\n",
    "  if isinstance(i,tuple):\n",
    "    for j in i:\n",
    "      if len(j)<len(string):\n",
    "        string = j\n",
    "      else:\n",
    "        pass\n",
    "  else:\n",
    "    if len(i)<len(string):\n",
    "      string = i\n",
    "print(f\"the longest string is : {string}\")\n",
    "\n"
   ]
  },
  {
   "cell_type": "markdown",
   "metadata": {
    "id": "DAvBoebICZKU"
   },
   "source": [
    "### 48. Create a tuple of the first `n` triangular numbers."
   ]
  },
  {
   "cell_type": "code",
   "execution_count": null,
   "metadata": {
    "colab": {
     "base_uri": "https://localhost:8080/"
    },
    "id": "GSiDOH-eBx8M",
    "outputId": "0bca7078-aecd-4206-baeb-83079b128226"
   },
   "outputs": [
    {
     "name": "stdout",
     "output_type": "stream",
     "text": [
      "Enter the number of triangular numbers you want: 6\n",
      "(1, 3, 6, 10, 15, 21)\n"
     ]
    }
   ],
   "source": [
    "n = int(input(\"Enter the number of triangular numbers you want: \"))\n",
    "\n",
    "triangular_numbers = tuple((i * (i + 1)) // 2 for i in range(1, n + 1))\n",
    "\n",
    "print(triangular_numbers)\n",
    "\n"
   ]
  },
  {
   "cell_type": "markdown",
   "metadata": {
    "id": "08QXaBbFWoq9"
   },
   "source": [
    "### 49. Check if a tuple contains another tuple as a subsequence."
   ]
  },
  {
   "cell_type": "code",
   "execution_count": null,
   "metadata": {
    "colab": {
     "base_uri": "https://localhost:8080/"
    },
    "id": "TOdbHhapCzsI",
    "outputId": "8a732510-2be5-47c6-8e43-a8f6a94e1718"
   },
   "outputs": [
    {
     "name": "stdout",
     "output_type": "stream",
     "text": [
      "this tuple contains another tuple as a subsequence\n"
     ]
    }
   ],
   "source": [
    "tup =  (1,3,(5,8,9),\"prasad\")\n",
    "result = False\n",
    "\n",
    "for i in tup:\n",
    "  if isinstance(i,tuple):   # checking if the tuple is there or not\n",
    "    result=True\n",
    "    break\n",
    "\n",
    "\n",
    "if result:\n",
    "  print(\"this tuple contains another tuple as a subsequence\")\n",
    "\n",
    "else:\n",
    "  print(\"this tuple doesnot contains tuple as a subsequence\")\n",
    "\n",
    "\n"
   ]
  },
  {
   "cell_type": "markdown",
   "metadata": {
    "id": "FmgiD9-tY1Az"
   },
   "source": [
    "### 50. Create a tuple of alternating 1s and 0s of length `n`."
   ]
  },
  {
   "cell_type": "code",
   "execution_count": null,
   "metadata": {
    "colab": {
     "base_uri": "https://localhost:8080/"
    },
    "id": "LAwluRy4YiEh",
    "outputId": "d0a4438e-19fa-4dd9-a46c-9bddacf1ddd2"
   },
   "outputs": [
    {
     "name": "stdout",
     "output_type": "stream",
     "text": [
      "enter n value : 9\n",
      "(0, 1, 0, 1, 0, 1, 0, 1, 0)\n"
     ]
    }
   ],
   "source": [
    "lst = []\n",
    "n = int(input(\"enter n value : \"))\n",
    "\n",
    "for i in range(n):\n",
    "  if count % 2 ==0:\n",
    "\n",
    "    lst.append(0)\n",
    "  else:\n",
    "    lst.append(1)\n",
    "\n",
    "result = tuple(lst)\n",
    "\n",
    "print(result)"
   ]
  },
  {
   "cell_type": "markdown",
   "metadata": {
    "id": "si7Maq2-igIl"
   },
   "source": [
    "## Set Based Practice Problem :"
   ]
  },
  {
   "cell_type": "markdown",
   "metadata": {
    "id": "yt9el7hQjRtr"
   },
   "source": [
    "### 1. Create a set with integers from 1 to 5."
   ]
  },
  {
   "cell_type": "code",
   "execution_count": null,
   "metadata": {
    "colab": {
     "base_uri": "https://localhost:8080/"
    },
    "id": "gDk8K4FZeevN",
    "outputId": "4997a43c-9a18-471f-a831-ce6fb7e5f15d"
   },
   "outputs": [
    {
     "name": "stdout",
     "output_type": "stream",
     "text": [
      "{1, 2, 3, 4, 5}\n"
     ]
    }
   ],
   "source": [
    "s1 = {i for i in range(1,6)}\n",
    "\n",
    "print(s1)"
   ]
  },
  {
   "cell_type": "markdown",
   "metadata": {
    "id": "PukAzKeDkbPq"
   },
   "source": [
    "### 2. Add an element to a set."
   ]
  },
  {
   "cell_type": "code",
   "execution_count": null,
   "metadata": {
    "colab": {
     "base_uri": "https://localhost:8080/"
    },
    "id": "x7ziKxeTkK_J",
    "outputId": "b09d2de5-9297-4bba-f845-a9b8447b8868"
   },
   "outputs": [
    {
     "name": "stdout",
     "output_type": "stream",
     "text": [
      "{1, 2, 3, 4, 5, 6}\n"
     ]
    }
   ],
   "source": [
    "s1 = {1,2,3,4,5}\n",
    "\n",
    "s1.add(6) # adding element using add function\n",
    "\n",
    "print(s1)"
   ]
  },
  {
   "cell_type": "markdown",
   "metadata": {
    "id": "a1cf04VRksW_"
   },
   "source": [
    "### 3. Remove an element from a set."
   ]
  },
  {
   "cell_type": "code",
   "execution_count": null,
   "metadata": {
    "colab": {
     "base_uri": "https://localhost:8080/"
    },
    "id": "CN8Xgk4CkljA",
    "outputId": "7afd9807-4f8d-47bc-e6b3-2eeba07631b6"
   },
   "outputs": [
    {
     "name": "stdout",
     "output_type": "stream",
     "text": [
      "{1, 2, 3, 4, 5}\n"
     ]
    }
   ],
   "source": [
    "s1 = {1,2,3,4,5,6}\n",
    "\n",
    "s1.remove(6)  # removing element using remove function\n",
    "\n",
    "print(s1)"
   ]
  },
  {
   "cell_type": "markdown",
   "metadata": {
    "id": "JC_Ay0Wzk_AK"
   },
   "source": [
    "### 4. Check if an element exists in a set."
   ]
  },
  {
   "cell_type": "code",
   "execution_count": null,
   "metadata": {
    "colab": {
     "base_uri": "https://localhost:8080/"
    },
    "id": "viK8bMCCk3oD",
    "outputId": "ec1368d9-e7b8-47bb-9723-82a15e754b4b"
   },
   "outputs": [
    {
     "name": "stdout",
     "output_type": "stream",
     "text": [
      "enter element to check : 2\n",
      "element not exists\n"
     ]
    }
   ],
   "source": [
    "s1 = {3,5,6,7,8}\n",
    "\n",
    "num = int(input(\"enter element to check : \"))\n",
    "\n",
    "if num in s1:\n",
    "  print(\"Yes , this element exists\")\n",
    "\n",
    "else:\n",
    "  print(\"element not exists\")"
   ]
  },
  {
   "cell_type": "markdown",
   "metadata": {
    "id": "KteNuFA3luuS"
   },
   "source": [
    "### 5. Find the length of a set without using the `len()` function."
   ]
  },
  {
   "cell_type": "code",
   "execution_count": null,
   "metadata": {
    "colab": {
     "base_uri": "https://localhost:8080/"
    },
    "id": "QAUI3HpMlnsJ",
    "outputId": "1f53c2c7-280c-42de-fd52-fdc213890e44"
   },
   "outputs": [
    {
     "name": "stdout",
     "output_type": "stream",
     "text": [
      "The length is : 8\n"
     ]
    }
   ],
   "source": [
    "s1 = {4,5,6,7,8,9,1,2}\n",
    "count = 0\n",
    "\n",
    "for i in s1:\n",
    "  count += 1  # incrementing using count variable for each iteration\n",
    "\n",
    "print(f\"The length is : {count}\")"
   ]
  },
  {
   "cell_type": "markdown",
   "metadata": {
    "id": "-0f3kEddmVpT"
   },
   "source": [
    "### 6. Clear all elements from a set."
   ]
  },
  {
   "cell_type": "code",
   "execution_count": null,
   "metadata": {
    "colab": {
     "base_uri": "https://localhost:8080/"
    },
    "id": "QgLX9vcdmTHT",
    "outputId": "8270a3dd-9e81-47e7-c600-9644449da782"
   },
   "outputs": [
    {
     "name": "stdout",
     "output_type": "stream",
     "text": [
      "set()\n"
     ]
    }
   ],
   "source": [
    "s1 = {2,4,5,7,8}\n",
    "\n",
    "s1.clear()  # clearing set using clear()\n",
    "\n",
    "print(s1)"
   ]
  },
  {
   "cell_type": "markdown",
   "metadata": {
    "id": "RbyxCNhZmvLt"
   },
   "source": [
    "### 7. Create a set of even numbers from 1 to 10."
   ]
  },
  {
   "cell_type": "code",
   "execution_count": null,
   "metadata": {
    "colab": {
     "base_uri": "https://localhost:8080/"
    },
    "id": "ECk3xpH_mfDq",
    "outputId": "ecd00c8e-f6af-4812-9614-6f739fb21101"
   },
   "outputs": [
    {
     "name": "stdout",
     "output_type": "stream",
     "text": [
      "{2, 4, 6, 8, 10}\n"
     ]
    }
   ],
   "source": [
    "s1 = {i for i in range(1,11) if i%2==0}\n",
    "\n",
    "print(s1)"
   ]
  },
  {
   "cell_type": "markdown",
   "metadata": {
    "id": "DV3rbzDsndfR"
   },
   "source": [
    "### 8. Create a set of odd numbers from 1 to 10."
   ]
  },
  {
   "cell_type": "code",
   "execution_count": null,
   "metadata": {
    "colab": {
     "base_uri": "https://localhost:8080/"
    },
    "id": "ePY6G1IgnO1L",
    "outputId": "cf74c165-0a88-4688-ff9c-898498e97db1"
   },
   "outputs": [
    {
     "name": "stdout",
     "output_type": "stream",
     "text": [
      "{1, 3, 5, 7, 9}\n"
     ]
    }
   ],
   "source": [
    "s1 = {i for i in range(1,11) if i%2!=0}\n",
    "\n",
    "print(s1)"
   ]
  },
  {
   "cell_type": "markdown",
   "metadata": {
    "id": "muJxXdvkoJci"
   },
   "source": [
    "### 9. Find the union of two sets."
   ]
  },
  {
   "cell_type": "code",
   "execution_count": null,
   "metadata": {
    "colab": {
     "base_uri": "https://localhost:8080/"
    },
    "id": "PQBGTkn7oH_x",
    "outputId": "bdbf4f33-ba48-4a10-fc1f-44ca51cab89e"
   },
   "outputs": [
    {
     "name": "stdout",
     "output_type": "stream",
     "text": [
      "{1, 2, 4, 5, 6, 9}\n"
     ]
    }
   ],
   "source": [
    "s1 = {1,4,5,2}\n",
    "s2 = {5,2,6,9}\n",
    "\n",
    "result = s1.union(s2)\n",
    "\n",
    "print(result)\n",
    "\n"
   ]
  },
  {
   "cell_type": "markdown",
   "metadata": {
    "id": "ghDveoc0o_xG"
   },
   "source": [
    "### 10. Find the intersection of two sets."
   ]
  },
  {
   "cell_type": "code",
   "execution_count": null,
   "metadata": {
    "colab": {
     "base_uri": "https://localhost:8080/"
    },
    "id": "3lJwRc8Yonp9",
    "outputId": "9b2cffac-936b-4d17-d385-ca8a4ea7c2f5"
   },
   "outputs": [
    {
     "name": "stdout",
     "output_type": "stream",
     "text": [
      "{2, 5}\n"
     ]
    }
   ],
   "source": [
    "s1 = {1,4,5,2}\n",
    "s2 = {5,2,6,9}\n",
    "\n",
    "result = s1.intersection(s2)\n",
    "\n",
    "print(result)\n",
    "\n"
   ]
  },
  {
   "cell_type": "markdown",
   "metadata": {
    "id": "DyGXtV1NpTwM"
   },
   "source": [
    "### 11. Find the difference between two sets."
   ]
  },
  {
   "cell_type": "code",
   "execution_count": null,
   "metadata": {
    "colab": {
     "base_uri": "https://localhost:8080/"
    },
    "id": "9mesDi9vpNgT",
    "outputId": "ebaf7ca7-74cb-4bf8-d20b-e119cda883c2"
   },
   "outputs": [
    {
     "name": "stdout",
     "output_type": "stream",
     "text": [
      "{1, 4}\n"
     ]
    }
   ],
   "source": [
    "s1 = {1,4,5,2}\n",
    "s2 = {5,2,6,9}\n",
    "\n",
    "result = s1-s2\n",
    "\n",
    "print(result)\n",
    "\n"
   ]
  },
  {
   "cell_type": "markdown",
   "metadata": {
    "id": "ml0YY8ocp6J_"
   },
   "source": [
    "### 12. Check if a set is a subset of another set."
   ]
  },
  {
   "cell_type": "code",
   "execution_count": null,
   "metadata": {
    "colab": {
     "base_uri": "https://localhost:8080/"
    },
    "id": "NOENJvDHp0Hf",
    "outputId": "c277ed64-2dba-46cc-bf4f-7ed22a3ef35b"
   },
   "outputs": [
    {
     "name": "stdout",
     "output_type": "stream",
     "text": [
      "True\n"
     ]
    }
   ],
   "source": [
    "s1 = {1,4,5,2}\n",
    "s2 = {5,2,1,4,5,7}\n",
    "\n",
    "result = s1.issubset(s2)  # checking if subset or not\n",
    "\n",
    "print(result)\n",
    "\n"
   ]
  },
  {
   "cell_type": "markdown",
   "metadata": {
    "id": "9YdH39p7siAU"
   },
   "source": [
    "### 13. Check if a set is a superset of another set."
   ]
  },
  {
   "cell_type": "code",
   "execution_count": null,
   "metadata": {
    "colab": {
     "base_uri": "https://localhost:8080/"
    },
    "id": "0TlRa274sWig",
    "outputId": "4abe0b91-c9fc-4d1c-9be1-253fd2c27e24"
   },
   "outputs": [
    {
     "name": "stdout",
     "output_type": "stream",
     "text": [
      "True\n"
     ]
    }
   ],
   "source": [
    "s1 = {1,4,5,2,5,7,8,9}\n",
    "s2 = {5,2,1,4,5,7}\n",
    "\n",
    "result = s1.issuperset(s2)  # checking if superset or not\n",
    "\n",
    "print(result)\n",
    "\n"
   ]
  },
  {
   "cell_type": "markdown",
   "metadata": {
    "id": "MwjAcnFgs1v1"
   },
   "source": [
    "### 14. Create a set from a list."
   ]
  },
  {
   "cell_type": "code",
   "execution_count": null,
   "metadata": {
    "colab": {
     "base_uri": "https://localhost:8080/"
    },
    "id": "j2ZW4KhJspvB",
    "outputId": "6e80b9aa-3060-451b-cd58-a53b5dbe7c13"
   },
   "outputs": [
    {
     "name": "stdout",
     "output_type": "stream",
     "text": [
      "{2, 3, 4, 5}\n"
     ]
    }
   ],
   "source": [
    "lst = [2,3,4,5]\n",
    "\n",
    "s1 = set(lst)\n",
    "\n",
    "print(s1)"
   ]
  },
  {
   "cell_type": "markdown",
   "metadata": {
    "id": "_WjSgOEkHSrR"
   },
   "source": [
    "### 15. Convert a set to a list."
   ]
  },
  {
   "cell_type": "code",
   "execution_count": null,
   "metadata": {
    "colab": {
     "base_uri": "https://localhost:8080/"
    },
    "id": "bTzjDjJuHDra",
    "outputId": "670c063a-cc48-4771-80bf-23f54bc8b9b1"
   },
   "outputs": [
    {
     "name": "stdout",
     "output_type": "stream",
     "text": [
      "[8, 3, 45, 6]\n"
     ]
    }
   ],
   "source": [
    "s1 = {3,45,6,8}\n",
    "\n",
    "lst = list(s1)\n",
    "\n",
    "print(lst)"
   ]
  },
  {
   "cell_type": "markdown",
   "metadata": {
    "id": "gyUxPOyuHd8a"
   },
   "source": [
    "### 16. Remove a random element from a set."
   ]
  },
  {
   "cell_type": "code",
   "execution_count": 6,
   "metadata": {
    "colab": {
     "base_uri": "https://localhost:8080/"
    },
    "id": "5MulMU4eHcWE",
    "outputId": "15335712-e5b9-4e93-86c2-13758d57dcaa"
   },
   "outputs": [
    {
     "name": "stdout",
     "output_type": "stream",
     "text": [
      "{89, 3, 45}\n"
     ]
    }
   ],
   "source": [
    "import random\n",
    "s1 = {3, 45, 78, 89}\n",
    "lst = list(s1)\n",
    "\n",
    "index_to_remove = random.randint(0, len(lst) - 1)    # assigning random number to index_to_remove\n",
    "lst.pop(index_to_remove)    #deleting that index number in that set\n",
    "\n",
    "s1 = set(lst)\n",
    "\n",
    "print(s1)\n"
   ]
  },
  {
   "cell_type": "markdown",
   "metadata": {
    "id": "rSlagM7QEqzA"
   },
   "source": [
    "### 17. Pop an element from a set.\n"
   ]
  },
  {
   "cell_type": "code",
   "execution_count": 12,
   "metadata": {
    "colab": {
     "base_uri": "https://localhost:8080/"
    },
    "id": "mKuQPyLWKTn0",
    "outputId": "61e96752-c0a0-4fba-c8e7-c7dfdcabd1ef"
   },
   "outputs": [
    {
     "name": "stdout",
     "output_type": "stream",
     "text": [
      "{5, 6, 7, 8}\n"
     ]
    }
   ],
   "source": [
    "s1 = {2,5,6,7,8}\n",
    "\n",
    "s1.pop()  # poping of an element using pop function\n",
    "\n",
    "print(s1)"
   ]
  },
  {
   "cell_type": "markdown",
   "metadata": {
    "id": "TvIETvpVljkn"
   },
   "source": [
    "### 18. Check if two sets have no elements in common."
   ]
  },
  {
   "cell_type": "code",
   "execution_count": 15,
   "metadata": {
    "colab": {
     "base_uri": "https://localhost:8080/"
    },
    "id": "rdhRzAyqlE16",
    "outputId": "63a95f3d-efda-4b22-f3ac-6fcec8bbe5b7"
   },
   "outputs": [
    {
     "name": "stdout",
     "output_type": "stream",
     "text": [
      "There is no common elements\n"
     ]
    }
   ],
   "source": [
    "s1 = {2,6,8,9}\n",
    "s2 = {7,1,5,3}\n",
    "\n",
    "flag = True\n",
    "\n",
    "for i in s1:\n",
    "  if i in s2:  # checking if the element are in second set\n",
    "    flag = False\n",
    "    break   # terminating the loop\n",
    "\n",
    "if flag:\n",
    "  print(\"There is no common elements\")\n",
    "\n",
    "else:\n",
    "  print(\"some elements are common between these sets\")\n"
   ]
  },
  {
   "cell_type": "markdown",
   "metadata": {
    "id": "MdwU7BC4mxQ3"
   },
   "source": [
    "### 19. Find the symmetric difference between two sets."
   ]
  },
  {
   "cell_type": "code",
   "execution_count": 16,
   "metadata": {
    "colab": {
     "base_uri": "https://localhost:8080/"
    },
    "id": "Zmal5iSjmUQ7",
    "outputId": "a728bea1-31e3-43db-c24e-16d6dd624ec4"
   },
   "outputs": [
    {
     "name": "stdout",
     "output_type": "stream",
     "text": [
      "{1, 2, 6, 7}\n"
     ]
    }
   ],
   "source": [
    "set1 = {1, 2, 3, 4, 5}\n",
    "set2 = {3, 4, 5, 6, 7}\n",
    "\n",
    "symmetric_diff = set1.symmetric_difference(set2)   #\n",
    "print(symmetric_diff)\n"
   ]
  },
  {
   "cell_type": "markdown",
   "metadata": {
    "id": "T0Ftj0efq6fz"
   },
   "source": [
    "### 20. Update a set with elements from another set."
   ]
  },
  {
   "cell_type": "code",
   "execution_count": 24,
   "metadata": {
    "colab": {
     "base_uri": "https://localhost:8080/"
    },
    "id": "t1tTHCSKobY0",
    "outputId": "e4bf60cc-a946-44f6-ef6d-39f562f1327e"
   },
   "outputs": [
    {
     "name": "stdout",
     "output_type": "stream",
     "text": [
      "{2, 5, 7, 8, 9}\n"
     ]
    }
   ],
   "source": [
    "s1 = {2,5,7,9,2,7}\n",
    "s2 = {2,8,9}   # creating empty set\n",
    "\n",
    "s2.update(s1)   # updating s2 by using of update() from s1\n",
    "\n",
    "print(s2)"
   ]
  },
  {
   "cell_type": "markdown",
   "metadata": {
    "id": "hCuWR2PXr5JT"
   },
   "source": [
    "### 21. Create a set of the first 5 prime numbers."
   ]
  },
  {
   "cell_type": "code",
   "execution_count": 39,
   "metadata": {
    "colab": {
     "base_uri": "https://localhost:8080/"
    },
    "id": "Sutcs5BgrTKt",
    "outputId": "37524744-f7a8-437d-d1c8-b430933c4bdb"
   },
   "outputs": [
    {
     "name": "stdout",
     "output_type": "stream",
     "text": [
      "enter n value : 7\n",
      "set of first 7 prime numbers are : {2, 3, 5, 7, 11, 13, 17}\n"
     ]
    }
   ],
   "source": [
    "s1 = set()\n",
    "\n",
    "n = int(input(\"enter n value : \"))\n",
    "\n",
    "prime_number = 0\n",
    "\n",
    "while len(s1) < n:\n",
    "\n",
    "  isPrime = True\n",
    "  if prime_number < 2 :   # checking if the prime number is less than 2\n",
    "    isPrime = False\n",
    "\n",
    "  for i in range(2,prime_number):\n",
    "\n",
    "    if prime_number % i == 0 :\n",
    "      isPrime = False\n",
    "      break\n",
    "\n",
    "  if isPrime:\n",
    "    s1.add(prime_number)\n",
    "\n",
    "  prime_number += 1  # incrementing 1 for each iteration\n",
    "\n",
    "print(f\"set of first {n} prime numbers are : {s1}\")\n",
    "\n",
    "\n",
    "\n"
   ]
  },
  {
   "cell_type": "markdown",
   "metadata": {
    "id": "Fdbe2_I-zF-P"
   },
   "source": [
    "### 22. Check if two sets are identical."
   ]
  },
  {
   "cell_type": "code",
   "execution_count": 40,
   "metadata": {
    "colab": {
     "base_uri": "https://localhost:8080/"
    },
    "id": "hLeZ6NbCvl9B",
    "outputId": "5fdfb224-872f-499e-9568-441d9821caf4"
   },
   "outputs": [
    {
     "name": "stdout",
     "output_type": "stream",
     "text": [
      "these are not identical\n"
     ]
    }
   ],
   "source": [
    "s1 = {2,5,6,8}\n",
    "s2 = {5,8,9,2}\n",
    "\n",
    "if s1 == s2:\n",
    "  print(\"these two sets are identical\")\n",
    "\n",
    "else:\n",
    "  print(\"these are not identical\")\n"
   ]
  },
  {
   "cell_type": "markdown",
   "metadata": {
    "id": "N7NaGJwb01F4"
   },
   "source": [
    "### 23. Create a frozen set."
   ]
  },
  {
   "cell_type": "code",
   "execution_count": 50,
   "metadata": {
    "id": "nvj6tjgGx9wL"
   },
   "outputs": [],
   "source": [
    "my_set = {1, 2, 3, 4, 5}\n",
    "frozen_set = frozenset(my_set)\n"
   ]
  },
  {
   "cell_type": "markdown",
   "metadata": {
    "id": "rVYLgbPW3rQI"
   },
   "source": [
    "### 24. Check if a set is disjoint with another set."
   ]
  },
  {
   "cell_type": "code",
   "execution_count": 52,
   "metadata": {
    "colab": {
     "base_uri": "https://localhost:8080/"
    },
    "id": "9CJ0OfKD115J",
    "outputId": "5ff5cfab-09c6-4702-9288-2bf72109990f"
   },
   "outputs": [
    {
     "name": "stdout",
     "output_type": "stream",
     "text": [
      "The sets are disjoint (no common elements).\n"
     ]
    }
   ],
   "source": [
    "s1 = {1, 2, 3}\n",
    "s2 = {4, 5, 6}\n",
    "\n",
    "if s1.isdisjoint(s2):\n",
    "    print(\"The sets are disjoint (no common elements).\")\n",
    "else:\n",
    "    print(\"The sets are not disjoint (they have common elements).\")\n"
   ]
  },
  {
   "cell_type": "markdown",
   "metadata": {
    "id": "IhwoCuIv4dp-"
   },
   "source": [
    "### 25. Create a set of squares of numbers from 1 to 5."
   ]
  },
  {
   "cell_type": "code",
   "execution_count": 53,
   "metadata": {
    "colab": {
     "base_uri": "https://localhost:8080/"
    },
    "id": "DDaPv5ML13DH",
    "outputId": "038d056a-b3e4-492d-a956-12a940ef8c4e"
   },
   "outputs": [
    {
     "name": "stdout",
     "output_type": "stream",
     "text": [
      "{1, 4, 9, 16, 25}\n"
     ]
    }
   ],
   "source": [
    "s1 = {i**2 for i in range(1,6)}  # using comprehension\n",
    "\n",
    "print(s1)"
   ]
  },
  {
   "cell_type": "markdown",
   "metadata": {
    "id": "MohhBV_o5BZQ"
   },
   "source": [
    "### 26. Filter out all even numbers from a set."
   ]
  },
  {
   "cell_type": "code",
   "execution_count": 55,
   "metadata": {
    "colab": {
     "base_uri": "https://localhost:8080/"
    },
    "id": "6OkWuXK_4tEy",
    "outputId": "0b653918-2bc6-4e00-b838-f97ad2ac33de"
   },
   "outputs": [
    {
     "name": "stdout",
     "output_type": "stream",
     "text": [
      "these are even numbers in this set : {16, 4}\n"
     ]
    }
   ],
   "source": [
    "s1 = {1, 4, 9, 16, 25}\n",
    "result = set()\n",
    "\n",
    "for i in s1:\n",
    "  if i % 2 == 0 :\n",
    "    result.add(i)\n",
    "\n",
    "print(f\"these are even numbers in this set : {result}\")"
   ]
  },
  {
   "cell_type": "markdown",
   "metadata": {
    "id": "E1WHtiGg5gcm"
   },
   "source": [
    "### 27. Multiply all elements in a set by 2."
   ]
  },
  {
   "cell_type": "code",
   "execution_count": 58,
   "metadata": {
    "colab": {
     "base_uri": "https://localhost:8080/"
    },
    "id": "7HVEC3A05U16",
    "outputId": "9d3e685e-6db6-41de-f386-a818e25a459d"
   },
   "outputs": [
    {
     "name": "stdout",
     "output_type": "stream",
     "text": [
      "{4, 12, 14, 16, 18}\n"
     ]
    }
   ],
   "source": [
    "s1 = {2,6,7,8,9}\n",
    "lst = []\n",
    "\n",
    "for i in s1:\n",
    "\n",
    "  lst.append(i * 2)\n",
    "\n",
    "result = set(lst)\n",
    "\n",
    "print(result)"
   ]
  },
  {
   "cell_type": "markdown",
   "metadata": {
    "id": "Pgjdy0Kh7H5o"
   },
   "source": [
    "### 28. Create a set of random numbers."
   ]
  },
  {
   "cell_type": "code",
   "execution_count": 59,
   "metadata": {
    "colab": {
     "base_uri": "https://localhost:8080/"
    },
    "id": "NgjeLSXZ6Izh",
    "outputId": "cb35c2c1-85be-431a-c2e0-1d813fda9c98"
   },
   "outputs": [
    {
     "name": "stdout",
     "output_type": "stream",
     "text": [
      "{66, 3, 35, 45, 80, 84, 52, 22, 23, 56}\n"
     ]
    }
   ],
   "source": [
    "import random\n",
    "\n",
    "# Define the range and size of the set\n",
    "min_value = 1\n",
    "max_value = 100\n",
    "set_size = 10\n",
    "\n",
    "# Create an empty set to store random numbers\n",
    "random_set = set()\n",
    "\n",
    "# Generate random numbers and add them to the set\n",
    "while len(random_set) < set_size:\n",
    "    random_number = random.randint(min_value, max_value)\n",
    "    random_set.add(random_number)\n",
    "\n",
    "print(random_set)\n"
   ]
  },
  {
   "cell_type": "markdown",
   "metadata": {
    "id": "XceiUJR898gU"
   },
   "source": [
    "### 29. Check if a set is empty."
   ]
  },
  {
   "cell_type": "code",
   "execution_count": 63,
   "metadata": {
    "colab": {
     "base_uri": "https://localhost:8080/"
    },
    "id": "mGZnXviN96hA",
    "outputId": "9375a7ac-14fd-4381-afc2-2e1dc0ee76c8"
   },
   "outputs": [
    {
     "name": "stdout",
     "output_type": "stream",
     "text": [
      "the set is empty\n"
     ]
    }
   ],
   "source": [
    "s1 = set()\n",
    "\n",
    "if len(s1) == 0:\n",
    "  print(\"the set is empty\")\n",
    "\n",
    "else:\n",
    "  print(\"the set is not empty\")"
   ]
  },
  {
   "cell_type": "markdown",
   "metadata": {
    "id": "AWtIN4qN-ieg"
   },
   "source": [
    "### 30. Create a nested set (hint: use frozenset)."
   ]
  },
  {
   "cell_type": "code",
   "execution_count": 64,
   "metadata": {
    "colab": {
     "base_uri": "https://localhost:8080/"
    },
    "id": "VxwFGTC0-SQC",
    "outputId": "32feb8a1-a916-4781-ccf5-88b63368797b"
   },
   "outputs": [
    {
     "name": "stdout",
     "output_type": "stream",
     "text": [
      "{frozenset({1, 2, 3}), frozenset({4, 5, 6}), frozenset({8, 9, 7})}\n"
     ]
    }
   ],
   "source": [
    "nested_set = {frozenset({1, 2, 3}), frozenset({4, 5, 6}), frozenset({7, 8, 9})}\n",
    "\n",
    "print(nested_set)\n"
   ]
  },
  {
   "cell_type": "markdown",
   "metadata": {
    "id": "MKX2wWWZ_LFq"
   },
   "source": [
    "### 31. Remove an element from a set using the discard method."
   ]
  },
  {
   "cell_type": "code",
   "execution_count": 65,
   "metadata": {
    "colab": {
     "base_uri": "https://localhost:8080/"
    },
    "id": "NRqjgrRR_DyX",
    "outputId": "b1430f28-a553-4da1-f9dd-238359027d5c"
   },
   "outputs": [
    {
     "name": "stdout",
     "output_type": "stream",
     "text": [
      "{8, 2, 7}\n"
     ]
    }
   ],
   "source": [
    "s1 = {2,5,7,8}\n",
    "\n",
    "s1.discard(5)\n",
    "\n",
    "print(s1)"
   ]
  },
  {
   "cell_type": "markdown",
   "metadata": {
    "id": "gWrKfFuT_V66"
   },
   "source": [
    "### 32. Compare two sets."
   ]
  },
  {
   "cell_type": "code",
   "execution_count": 66,
   "metadata": {
    "colab": {
     "base_uri": "https://localhost:8080/"
    },
    "id": "dDiHQ-tK_TMs",
    "outputId": "b58b07a2-0f9c-4278-c060-ae74c842a9b9"
   },
   "outputs": [
    {
     "name": "stdout",
     "output_type": "stream",
     "text": [
      "s1 and s2 are not equal\n",
      "s1 and s2 are disjoint (have no common elements)\n",
      "Union of s1 and s2: {1, 3, 4, 5, 6, 7, 8, 9}\n",
      "Intersection of s1 and s2: set()\n",
      "Symmetric difference between s1 and s2: {1, 3, 4, 5, 6, 7, 8, 9}\n"
     ]
    }
   ],
   "source": [
    "s1 = {3,5,6,7}\n",
    "s2 = {4,8,9,1}\n",
    "\n",
    "if s1 == s2:\n",
    "    print(\"s1 and s2 are equal\")\n",
    "else:\n",
    "    print(\"s1 and s2 are not equal\")\n",
    "\n",
    "\n",
    "if s1.isdisjoint(s2):\n",
    "    print(\"s1 and s2 are disjoint (have no common elements)\")\n",
    "else:\n",
    "    print(\"s1 and s2 are not disjoint (they have common elements)\")\n",
    "\n",
    "\n",
    "union_set = s1 | s2  # Using the | operator\n",
    "print(\"Union of s1 and s2:\", union_set)\n",
    "\n",
    "\n",
    "intersection_set = s1 & s2  # Using the & operator\n",
    "print(\"Intersection of s1 and s2:\", intersection_set)\n",
    "\n",
    "symmetric_difference_set = s1 ^ s2  # Using the ^ operator\n",
    "print(\"Symmetric difference between s1 and s2:\", symmetric_difference_set)\n"
   ]
  },
  {
   "cell_type": "markdown",
   "metadata": {
    "id": "5Xz_UydNAQwa"
   },
   "source": [
    "### 33. Create a set from a string."
   ]
  },
  {
   "cell_type": "code",
   "execution_count": 67,
   "metadata": {
    "colab": {
     "base_uri": "https://localhost:8080/"
    },
    "id": "C-2zi2pNAPYm",
    "outputId": "00b72b53-3cad-40a4-fd24-38ec9c49b80d"
   },
   "outputs": [
    {
     "name": "stdout",
     "output_type": "stream",
     "text": [
      "{'a', 'r', '1', 'p', 's', '3', '2', '@', 'd'}\n"
     ]
    }
   ],
   "source": [
    "string = \"prasad@123\"\n",
    "s1 = set()  # creating empty set\n",
    "\n",
    "for i in string:\n",
    "  s1.add(i)\n",
    "\n",
    "print(s1)\n"
   ]
  },
  {
   "cell_type": "markdown",
   "metadata": {
    "id": "UAKWP5oGA02_"
   },
   "source": [
    "### 34. Convert a set of strings to a set of integers."
   ]
  },
  {
   "cell_type": "code",
   "execution_count": 68,
   "metadata": {
    "colab": {
     "base_uri": "https://localhost:8080/"
    },
    "id": "sFihTAdqAlvo",
    "outputId": "f43f7ffd-f033-43ae-eaec-64885a5d050f"
   },
   "outputs": [
    {
     "name": "stdout",
     "output_type": "stream",
     "text": [
      "{1, 2, 3, 4, 5}\n"
     ]
    }
   ],
   "source": [
    "string_set = {\"1\", \"2\", \"3\", \"4\", \"5\"}\n",
    "integer_set = set()\n",
    "\n",
    "for string in string_set:\n",
    "    integer = int(string)\n",
    "    integer_set.add(integer)\n",
    "\n",
    "print(integer_set)\n"
   ]
  },
  {
   "cell_type": "markdown",
   "metadata": {
    "id": "R0ecyuIfBtRu"
   },
   "source": [
    "### 35. Convert a set of integers to a set of strings."
   ]
  },
  {
   "cell_type": "code",
   "execution_count": 74,
   "metadata": {
    "colab": {
     "base_uri": "https://localhost:8080/"
    },
    "id": "bM8XpTSUBrrV",
    "outputId": "b1aa49b0-87b3-4352-e85d-99644ce1c53f"
   },
   "outputs": [
    {
     "name": "stdout",
     "output_type": "stream",
     "text": [
      "{'4', '1', '3', '2', '5'}\n"
     ]
    }
   ],
   "source": [
    "integer_set = {1, 2, 3, 4, 5}\n",
    "string_set = set()\n",
    "\n",
    "for integer in integer_set:\n",
    "    string = str(integer)\n",
    "    string_set.add(string)\n",
    "\n",
    "print(string_set)\n"
   ]
  },
  {
   "cell_type": "markdown",
   "metadata": {
    "id": "hTrL00QWDXQ0"
   },
   "source": [
    "### 36. Create a set from a tuple."
   ]
  },
  {
   "cell_type": "code",
   "execution_count": 75,
   "metadata": {
    "colab": {
     "base_uri": "https://localhost:8080/"
    },
    "id": "l7nVxeMFCDay",
    "outputId": "f4a8bf6b-8112-459a-94f6-4243c3a79165"
   },
   "outputs": [
    {
     "name": "stdout",
     "output_type": "stream",
     "text": [
      "{1, 2, 3, 4, 5}\n"
     ]
    }
   ],
   "source": [
    "my_tuple = (1, 2, 3, 4, 5)\n",
    "my_set = set(my_tuple)\n",
    "\n",
    "print(my_set)\n"
   ]
  },
  {
   "cell_type": "markdown",
   "metadata": {
    "id": "7K7JvD9RDyk7"
   },
   "source": [
    "### 37. Convert a set to a tuple."
   ]
  },
  {
   "cell_type": "code",
   "execution_count": 77,
   "metadata": {
    "colab": {
     "base_uri": "https://localhost:8080/"
    },
    "id": "dyVjO880CgWC",
    "outputId": "a3be9c3f-6d41-4a34-f67a-04907dd7e137"
   },
   "outputs": [
    {
     "name": "stdout",
     "output_type": "stream",
     "text": [
      "(1, 2, 3, 4, 5)\n"
     ]
    }
   ],
   "source": [
    "my_set = {1, 2, 3, 4, 5}\n",
    "\n",
    "my_tuple = tuple(my_set)\n",
    "\n",
    "print(my_tuple)\n"
   ]
  },
  {
   "cell_type": "markdown",
   "metadata": {
    "id": "bT9QFJasEGxL"
   },
   "source": [
    "### 38. Find the maximum value in a set."
   ]
  },
  {
   "cell_type": "code",
   "execution_count": 79,
   "metadata": {
    "colab": {
     "base_uri": "https://localhost:8080/"
    },
    "id": "FX6V22iPECgY",
    "outputId": "df7d34a2-a138-4e0f-8b9f-d3260e45ce82"
   },
   "outputs": [
    {
     "name": "stdout",
     "output_type": "stream",
     "text": [
      "the maximum value in set : 16\n"
     ]
    }
   ],
   "source": [
    "s1 = {3,5,16,8}\n",
    "\n",
    "maximum = max(s1)\n",
    "\n",
    "print(f\"the maximum value in set : {maximum}\")\n",
    "\n"
   ]
  },
  {
   "cell_type": "markdown",
   "metadata": {
    "id": "z5zWgxQKEaGE"
   },
   "source": [
    "### 39. Find the minimum value in a set."
   ]
  },
  {
   "cell_type": "code",
   "execution_count": 80,
   "metadata": {
    "colab": {
     "base_uri": "https://localhost:8080/"
    },
    "id": "uAhciJ7EEXFR",
    "outputId": "d0777954-b386-4c93-add3-1f828644eb8c"
   },
   "outputs": [
    {
     "name": "stdout",
     "output_type": "stream",
     "text": [
      "the minimum value in set : 3\n"
     ]
    }
   ],
   "source": [
    "s1 = {3,5,16,8}\n",
    "\n",
    "minimum = min(s1)\n",
    "\n",
    "print(f\"the minimum value in set : {minimum}\")\n",
    "\n"
   ]
  },
  {
   "cell_type": "markdown",
   "metadata": {
    "id": "Ymj1yRhJEpCq"
   },
   "source": [
    "### 40. Create a set from user input."
   ]
  },
  {
   "cell_type": "code",
   "execution_count": 82,
   "metadata": {
    "colab": {
     "base_uri": "https://localhost:8080/"
    },
    "id": "MEkBw2EPEn9a",
    "outputId": "f633dd69-11d7-46b1-db4d-9556b4b6bc8f"
   },
   "outputs": [
    {
     "name": "stdout",
     "output_type": "stream",
     "text": [
      "enter set elements : 3 reddy 54 prasad\n",
      "{'prasad', 'reddy', '3', '54'}\n"
     ]
    }
   ],
   "source": [
    "s1 = input(\"enter set elements leave a space between each element : \")\n",
    "\n",
    "lst = list(s1.split())\n",
    "\n",
    "result = set(lst)\n",
    "\n",
    "print(result)"
   ]
  },
  {
   "cell_type": "markdown",
   "metadata": {
    "id": "WXm25CjbFZXI"
   },
   "source": [
    "### 41. Check if the intersection of two sets is empty."
   ]
  },
  {
   "cell_type": "code",
   "execution_count": 84,
   "metadata": {
    "colab": {
     "base_uri": "https://localhost:8080/"
    },
    "id": "UdqK8XWtE-qb",
    "outputId": "4ae510d6-ae6a-4042-e66c-777f31d888a6"
   },
   "outputs": [
    {
     "name": "stdout",
     "output_type": "stream",
     "text": [
      "the intersection of two sets is not empty.\n"
     ]
    }
   ],
   "source": [
    "s1 = {3,6,7,8}\n",
    "s2 = {5,8,9,10}\n",
    "\n",
    "intersection_of_sets = s1.intersection(s2)\n",
    "\n",
    "if len(intersection_of_sets) == 0:\n",
    "  print(\"the intersection of two sets is empty.\")\n",
    "else:\n",
    "  print(\"the intersection of two sets is not empty.\")"
   ]
  },
  {
   "cell_type": "markdown",
   "metadata": {
    "id": "OlPadKsxOeiQ"
   },
   "source": [
    "### 42. Create a set of the first 5 Fibonacci numbers."
   ]
  },
  {
   "cell_type": "code",
   "execution_count": 95,
   "metadata": {
    "colab": {
     "base_uri": "https://localhost:8080/"
    },
    "id": "6jBUJnZ8GG6x",
    "outputId": "9519acb4-bc8d-4243-fe18-ed26cd3020b9"
   },
   "outputs": [
    {
     "name": "stdout",
     "output_type": "stream",
     "text": [
      "enter n value : 5\n",
      "{0, 1, 2, 3, 5}\n"
     ]
    }
   ],
   "source": [
    "\n",
    "lst = [0,1]\n",
    "\n",
    "n = int(input(\"enter n value : \"))\n",
    "\n",
    "for i in range(n):\n",
    "  lst.append(lst[-1]+lst[-2])\n",
    "\n",
    "  if len(lst) > n :\n",
    "    break\n",
    "\n",
    "result = set(lst)   # while converting a lst into set then it removes duplicate values because set doesnot allows duplicate values\n",
    "\n",
    "print(result)"
   ]
  },
  {
   "cell_type": "markdown",
   "metadata": {
    "id": "Jek3_VFWTRAn"
   },
   "source": [
    "### 43. Remove duplicates from a list using sets."
   ]
  },
  {
   "cell_type": "code",
   "execution_count": 97,
   "metadata": {
    "colab": {
     "base_uri": "https://localhost:8080/"
    },
    "id": "cdTkHKVzS0vP",
    "outputId": "92cab0b4-59cb-4296-cbbb-e359929b81e4"
   },
   "outputs": [
    {
     "name": "stdout",
     "output_type": "stream",
     "text": [
      "[0, 1, 2, 3]\n"
     ]
    }
   ],
   "source": [
    "lst = [0, 1, 1, 2, 3, 2]\n",
    "lst_without_duplicates = set(lst)\n",
    "\n",
    "unique_lst = list(lst_without_duplicates)\n",
    "\n",
    "print(unique_lst)"
   ]
  },
  {
   "cell_type": "markdown",
   "metadata": {
    "id": "VDBomXkHUA_l"
   },
   "source": [
    "### 44. Check if two sets have the same elements, regardless of their count."
   ]
  },
  {
   "cell_type": "code",
   "execution_count": 99,
   "metadata": {
    "colab": {
     "base_uri": "https://localhost:8080/"
    },
    "id": "8Nz1WUaZTwXz",
    "outputId": "70c483bd-a4f3-44b1-dfbc-f32919d991c3"
   },
   "outputs": [
    {
     "name": "stdout",
     "output_type": "stream",
     "text": [
      "The sets have the same elements, regardless of their count.\n"
     ]
    }
   ],
   "source": [
    "s1 = {1,1,2,3}\n",
    "s2 = {1,2,3,3}\n",
    "\n",
    "if s1==s2:\n",
    "  print(\"The sets have the same elements, regardless of their count.\")\n",
    "\n",
    "else:\n",
    "  print(\"The sets dont have the same elements, regardless of their count.\")"
   ]
  },
  {
   "cell_type": "markdown",
   "metadata": {
    "id": "ClkWcPucWa1C"
   },
   "source": [
    "### 45. Create a set of the first `n` powers of 2."
   ]
  },
  {
   "cell_type": "code",
   "execution_count": 103,
   "metadata": {
    "colab": {
     "base_uri": "https://localhost:8080/"
    },
    "id": "Pt4DT_8bWNXX",
    "outputId": "1e862550-2fa0-433a-8baf-343cf1fca552"
   },
   "outputs": [
    {
     "name": "stdout",
     "output_type": "stream",
     "text": [
      "enter the value of n  : 10\n",
      "{32, 1, 2, 64, 4, 128, 256, 512, 8, 16}\n"
     ]
    }
   ],
   "source": [
    "s1 = set()\n",
    "n = int(input(\"enter the value of n  : \"))\n",
    "\n",
    "for i in range(n):\n",
    "  s1.add(2**i)\n",
    "\n",
    "print(s1)"
   ]
  },
  {
   "cell_type": "markdown",
   "metadata": {
    "id": "_rnQ1AXQWiR8"
   },
   "source": [
    "### 46. Find the common elements between a set and a list."
   ]
  },
  {
   "cell_type": "code",
   "execution_count": 107,
   "metadata": {
    "colab": {
     "base_uri": "https://localhost:8080/"
    },
    "id": "xUiBIRHsWlZV",
    "outputId": "14ce9ea3-7a34-442f-e8a6-32b32ad5deb7"
   },
   "outputs": [
    {
     "name": "stdout",
     "output_type": "stream",
     "text": [
      "common elements are: {8, 2, 5}\n"
     ]
    }
   ],
   "source": [
    "Set = {2,5,7,8,9,3,5}\n",
    "List = [5,8,2,10,15]\n",
    "\n",
    "result = []\n",
    "\n",
    "for i in Set:\n",
    "  if i in List :\n",
    "    result.append(i)\n",
    "\n",
    "print(f\"common elements are: {set(result)}\")"
   ]
  },
  {
   "cell_type": "markdown",
   "metadata": {
    "id": "P068j7R_Wob1"
   },
   "source": [
    "### 47. Create a set of the first `n` triangular numbers."
   ]
  },
  {
   "cell_type": "code",
   "execution_count": 108,
   "metadata": {
    "colab": {
     "base_uri": "https://localhost:8080/"
    },
    "id": "WhTbWIUyWpgj",
    "outputId": "41841e08-dc88-4136-ecbb-06a9fabe70b0"
   },
   "outputs": [
    {
     "name": "stdout",
     "output_type": "stream",
     "text": [
      "Enter the value of n: 5\n",
      "{1, 3, 6, 10, 15}\n"
     ]
    }
   ],
   "source": [
    "n = int(input(\"Enter the value of n: \"))\n",
    "\n",
    "triangular_numbers_set = set()\n",
    "sum_natural_numbers = 0\n",
    "\n",
    "for i in range(1, n + 1):\n",
    "    sum_natural_numbers += i\n",
    "    triangular_numbers_set.add(sum_natural_numbers)\n",
    "\n",
    "print(triangular_numbers_set)\n"
   ]
  },
  {
   "cell_type": "markdown",
   "metadata": {
    "id": "UDWOq2zEWqGD"
   },
   "source": [
    "### 48. Check if a set contains another set as a subset."
   ]
  },
  {
   "cell_type": "code",
   "execution_count": 115,
   "metadata": {
    "colab": {
     "base_uri": "https://localhost:8080/"
    },
    "id": "prwIXb4Naru-",
    "outputId": "65d542b1-01b8-488d-ff81-2f81dcf7dd94"
   },
   "outputs": [
    {
     "name": "stdout",
     "output_type": "stream",
     "text": [
      "This set contains another subset.\n"
     ]
    }
   ],
   "source": [
    "my_set = {2, 5, 6, frozenset({5, 7, 8}), 10}\n",
    "flag = False\n",
    "\n",
    "for i in my_set:\n",
    "    if isinstance(i, set) or isinstance(i,frozenset):\n",
    "        flag = True\n",
    "        break\n",
    "\n",
    "if flag:\n",
    "    print(\"This set contains another subset.\")\n",
    "else:\n",
    "    print(\"This set doesn't contain another subset.\")\n"
   ]
  },
  {
   "cell_type": "markdown",
   "metadata": {
    "id": "fM_GHwV8Wuh3"
   },
   "source": [
    "### 49. Create a set of alternating 1s and 0s of length `n`."
   ]
  },
  {
   "cell_type": "code",
   "execution_count": 123,
   "metadata": {
    "colab": {
     "base_uri": "https://localhost:8080/"
    },
    "id": "-VXJWEKoWysL",
    "outputId": "da9b602e-b86e-494f-fd1f-f4d16856a085"
   },
   "outputs": [
    {
     "name": "stdout",
     "output_type": "stream",
     "text": [
      "enter n value : 10\n",
      "with duplicates list : [1, 0, 1, 0, 1, 0, 1, 0, 1, 0]\n",
      "the set of alternating 1's and 0's :  {0, 1}\n"
     ]
    }
   ],
   "source": [
    "lst = []\n",
    "\n",
    "n=int(input(\"enter n value : \"))\n",
    "\n",
    "for i in range(n):\n",
    "  if i % 2 == 0:\n",
    "    lst.append(1)\n",
    "  else:\n",
    "    lst.append(0)\n",
    "\n",
    "print(f\"with duplicates list : {lst}\")\n",
    "\n",
    "result = set(lst)  # here i am converting list into set\n",
    "\n",
    "print(\"the set of alternating 1's and 0's : \",result)  # it displays only 0,1 due to set does not allows duplicates\n"
   ]
  },
  {
   "cell_type": "markdown",
   "metadata": {
    "id": "PjzkNVeOWzu9"
   },
   "source": [
    "### 50. Merge multiple sets into one."
   ]
  },
  {
   "cell_type": "code",
   "execution_count": 125,
   "metadata": {
    "colab": {
     "base_uri": "https://localhost:8080/"
    },
    "id": "Md1Xu2SVW2kh",
    "outputId": "0efe7aab-7dcc-4265-eec0-2767d2ebac74"
   },
   "outputs": [
    {
     "name": "stdout",
     "output_type": "stream",
     "text": [
      "{1, 2, 3, 4, 65, 6, 7, 8, 9, 10, 11, 12, 23}\n"
     ]
    }
   ],
   "source": [
    "s1 = {2,6,8,9}\n",
    "s2 = {4,7,2,1}\n",
    "s3 = {6,3,23,12}\n",
    "s4 = {10,23,11,65}\n",
    "\n",
    "result = s1 | s2 | s3 | s4   # merging using union ('|') operator\n",
    "\n",
    "print(result)"
   ]
  },
  {
   "cell_type": "code",
   "execution_count": null,
   "metadata": {
    "id": "jEwIbX20diKH"
   },
   "outputs": [],
   "source": []
  }
 ],
 "metadata": {
  "colab": {
   "provenance": []
  },
  "kernelspec": {
   "display_name": "Python 3 (ipykernel)",
   "language": "python",
   "name": "python3"
  },
  "language_info": {
   "codemirror_mode": {
    "name": "ipython",
    "version": 3
   },
   "file_extension": ".py",
   "mimetype": "text/x-python",
   "name": "python",
   "nbconvert_exporter": "python",
   "pygments_lexer": "ipython3",
   "version": "3.11.4"
  }
 },
 "nbformat": 4,
 "nbformat_minor": 1
}
